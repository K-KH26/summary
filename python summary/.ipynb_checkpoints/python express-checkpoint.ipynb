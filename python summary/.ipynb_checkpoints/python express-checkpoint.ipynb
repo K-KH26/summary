{
 "cells": [
  {
   "cell_type": "code",
   "execution_count": 1,
   "id": "ee6a31de",
   "metadata": {},
   "outputs": [
    {
     "data": {
      "text/plain": [
       "9323421342342348"
      ]
     },
     "execution_count": 1,
     "metadata": {},
     "output_type": "execute_result"
    }
   ],
   "source": [
    "12309871294861298476129847831209323421342342348 % (10 ** 16)"
   ]
  },
  {
   "cell_type": "code",
   "execution_count": 2,
   "id": "47a7f073",
   "metadata": {},
   "outputs": [
    {
     "data": {
      "text/plain": [
       "57"
      ]
     },
     "execution_count": 2,
     "metadata": {},
     "output_type": "execute_result"
    }
   ],
   "source": [
    "91054657 % 100"
   ]
  },
  {
   "cell_type": "code",
   "execution_count": 3,
   "id": "f4b8a0cf",
   "metadata": {},
   "outputs": [],
   "source": [
    "num = 12345678901234567890"
   ]
  },
  {
   "cell_type": "code",
   "execution_count": 4,
   "id": "e687ab37",
   "metadata": {},
   "outputs": [
    {
     "data": {
      "text/plain": [
       "90"
      ]
     },
     "execution_count": 4,
     "metadata": {},
     "output_type": "execute_result"
    }
   ],
   "source": [
    "num % 100"
   ]
  },
  {
   "cell_type": "code",
   "execution_count": 5,
   "id": "900ae0a0",
   "metadata": {},
   "outputs": [
    {
     "data": {
      "text/plain": [
       "7890"
      ]
     },
     "execution_count": 5,
     "metadata": {},
     "output_type": "execute_result"
    }
   ],
   "source": [
    "num % 10 ** 4"
   ]
  },
  {
   "cell_type": "code",
   "execution_count": 6,
   "id": "f4a52f4c",
   "metadata": {},
   "outputs": [
    {
     "data": {
      "text/plain": [
       "12345678901234567890"
      ]
     },
     "execution_count": 6,
     "metadata": {},
     "output_type": "execute_result"
    }
   ],
   "source": [
    "num % 10 ** 23"
   ]
  },
  {
   "cell_type": "code",
   "execution_count": 7,
   "id": "f5f2f329",
   "metadata": {},
   "outputs": [],
   "source": [
    "strNum = str(num)"
   ]
  },
  {
   "cell_type": "code",
   "execution_count": null,
   "id": "150c45b2",
   "metadata": {},
   "outputs": [],
   "source": []
  },
  {
   "cell_type": "code",
   "execution_count": 8,
   "id": "31aebe36",
   "metadata": {},
   "outputs": [
    {
     "data": {
      "text/plain": [
       "20"
      ]
     },
     "execution_count": 8,
     "metadata": {},
     "output_type": "execute_result"
    }
   ],
   "source": [
    "len(strNum)"
   ]
  },
  {
   "cell_type": "code",
   "execution_count": 9,
   "id": "fddae3ac",
   "metadata": {},
   "outputs": [],
   "source": [
    "while len(strNum) < 23 :\n",
    "    strNum = \"0\" + strNum"
   ]
  },
  {
   "cell_type": "code",
   "execution_count": 10,
   "id": "3d31111c",
   "metadata": {},
   "outputs": [
    {
     "data": {
      "text/plain": [
       "'00012345678901234567890'"
      ]
     },
     "execution_count": 10,
     "metadata": {},
     "output_type": "execute_result"
    }
   ],
   "source": [
    "strNum"
   ]
  },
  {
   "cell_type": "code",
   "execution_count": 11,
   "id": "f8b8149f",
   "metadata": {},
   "outputs": [
    {
     "data": {
      "text/plain": [
       "23"
      ]
     },
     "execution_count": 11,
     "metadata": {},
     "output_type": "execute_result"
    }
   ],
   "source": [
    "len(strNum)"
   ]
  },
  {
   "cell_type": "code",
   "execution_count": 12,
   "id": "811e096d",
   "metadata": {},
   "outputs": [
    {
     "data": {
      "text/plain": [
       "2"
      ]
     },
     "execution_count": 12,
     "metadata": {},
     "output_type": "execute_result"
    }
   ],
   "source": [
    "int(strNum[0:4]) % 7 + 1"
   ]
  },
  {
   "cell_type": "code",
   "execution_count": 13,
   "id": "49e65ef1",
   "metadata": {},
   "outputs": [
    {
     "data": {
      "text/plain": [
       "201.60000000000002"
      ]
     },
     "execution_count": 13,
     "metadata": {},
     "output_type": "execute_result"
    }
   ],
   "source": [
    "int(strNum[-6:-4])/ 100* 360"
   ]
  },
  {
   "cell_type": "code",
   "execution_count": 14,
   "id": "4c00c935",
   "metadata": {},
   "outputs": [
    {
     "data": {
      "text/plain": [
       "72.0"
      ]
     },
     "execution_count": 14,
     "metadata": {},
     "output_type": "execute_result"
    }
   ],
   "source": [
    "20 / 100* 360"
   ]
  },
  {
   "cell_type": "code",
   "execution_count": 15,
   "id": "95a3f055",
   "metadata": {},
   "outputs": [
    {
     "data": {
      "text/plain": [
       "72.0"
      ]
     },
     "execution_count": 15,
     "metadata": {},
     "output_type": "execute_result"
    }
   ],
   "source": [
    "20 / 100* 360"
   ]
  },
  {
   "cell_type": "code",
   "execution_count": 16,
   "id": "b627d7f2",
   "metadata": {},
   "outputs": [
    {
     "data": {
      "text/plain": [
       "133.2"
      ]
     },
     "execution_count": 16,
     "metadata": {},
     "output_type": "execute_result"
    }
   ],
   "source": [
    "37 / 100* 360"
   ]
  },
  {
   "cell_type": "code",
   "execution_count": 17,
   "id": "2c2291c7",
   "metadata": {},
   "outputs": [
    {
     "data": {
      "text/plain": [
       "115.2"
      ]
     },
     "execution_count": 17,
     "metadata": {},
     "output_type": "execute_result"
    }
   ],
   "source": [
    "32 / 100* 360"
   ]
  },
  {
   "cell_type": "code",
   "execution_count": 18,
   "id": "d815ee0c",
   "metadata": {},
   "outputs": [
    {
     "data": {
      "text/plain": [
       "277.2"
      ]
     },
     "execution_count": 18,
     "metadata": {},
     "output_type": "execute_result"
    }
   ],
   "source": [
    "77 / 100* 360"
   ]
  },
  {
   "cell_type": "code",
   "execution_count": 19,
   "id": "222d5d82",
   "metadata": {},
   "outputs": [
    {
     "data": {
      "text/plain": [
       "295.2"
      ]
     },
     "execution_count": 19,
     "metadata": {},
     "output_type": "execute_result"
    }
   ],
   "source": [
    "82 / 100* 360"
   ]
  },
  {
   "cell_type": "code",
   "execution_count": 20,
   "id": "5a6b2310",
   "metadata": {},
   "outputs": [
    {
     "data": {
      "text/plain": [
       "356"
      ]
     },
     "execution_count": 20,
     "metadata": {},
     "output_type": "execute_result"
    }
   ],
   "source": [
    "int (99 / 100* 360)"
   ]
  },
  {
   "cell_type": "code",
   "execution_count": 21,
   "id": "36e46311",
   "metadata": {},
   "outputs": [],
   "source": [
    "number_list = [1,2,3,4,5,6,7,8,9,10]"
   ]
  },
  {
   "cell_type": "code",
   "execution_count": 22,
   "id": "6034b5b0",
   "metadata": {},
   "outputs": [
    {
     "data": {
      "text/plain": [
       "[4, 8]"
      ]
     },
     "execution_count": 22,
     "metadata": {},
     "output_type": "execute_result"
    }
   ],
   "source": [
    " number_list[3:8:4]"
   ]
  },
  {
   "cell_type": "code",
   "execution_count": 23,
   "id": "b2a79bc4",
   "metadata": {},
   "outputs": [
    {
     "data": {
      "text/plain": [
       "[10, 9, 8, 7, 6, 5, 4, 3, 2, 1]"
      ]
     },
     "execution_count": 23,
     "metadata": {},
     "output_type": "execute_result"
    }
   ],
   "source": [
    "number_list[::-1]"
   ]
  },
  {
   "cell_type": "code",
   "execution_count": 24,
   "id": "206f75fb",
   "metadata": {},
   "outputs": [],
   "source": [
    "number_list = [5, 6, 7, 8, 9, 10]"
   ]
  },
  {
   "cell_type": "code",
   "execution_count": 26,
   "id": "cbe49809",
   "metadata": {},
   "outputs": [
    {
     "data": {
      "text/plain": [
       "[7, 6, 5]"
      ]
     },
     "execution_count": 26,
     "metadata": {},
     "output_type": "execute_result"
    }
   ],
   "source": [
    "number_list[2::-1]"
   ]
  },
  {
   "cell_type": "code",
   "execution_count": null,
   "id": "08f02942",
   "metadata": {},
   "outputs": [],
   "source": []
  }
 ],
 "metadata": {
  "kernelspec": {
   "display_name": "Python 3",
   "language": "python",
   "name": "python3"
  },
  "language_info": {
   "codemirror_mode": {
    "name": "ipython",
    "version": 3
   },
   "file_extension": ".py",
   "mimetype": "text/x-python",
   "name": "python",
   "nbconvert_exporter": "python",
   "pygments_lexer": "ipython3",
   "version": "3.8.8"
  }
 },
 "nbformat": 4,
 "nbformat_minor": 5
}
