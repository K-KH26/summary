{
 "cells": [
  {
   "cell_type": "code",
   "execution_count": 1,
   "id": "ee6a31de",
   "metadata": {},
   "outputs": [
    {
     "data": {
      "text/plain": [
       "9323421342342348"
      ]
     },
     "execution_count": 1,
     "metadata": {},
     "output_type": "execute_result"
    }
   ],
   "source": [
    "12309871294861298476129847831209323421342342348 % (10 ** 16)"
   ]
  },
  {
   "cell_type": "code",
   "execution_count": 2,
   "id": "47a7f073",
   "metadata": {},
   "outputs": [
    {
     "data": {
      "text/plain": [
       "57"
      ]
     },
     "execution_count": 2,
     "metadata": {},
     "output_type": "execute_result"
    }
   ],
   "source": [
    "91054657 % 100"
   ]
  },
  {
   "cell_type": "code",
   "execution_count": 3,
   "id": "f4b8a0cf",
   "metadata": {},
   "outputs": [],
   "source": [
    "num = 12345678901234567890"
   ]
  },
  {
   "cell_type": "code",
   "execution_count": 4,
   "id": "e687ab37",
   "metadata": {},
   "outputs": [
    {
     "data": {
      "text/plain": [
       "90"
      ]
     },
     "execution_count": 4,
     "metadata": {},
     "output_type": "execute_result"
    }
   ],
   "source": [
    "num % 100"
   ]
  },
  {
   "cell_type": "code",
   "execution_count": 5,
   "id": "900ae0a0",
   "metadata": {},
   "outputs": [
    {
     "data": {
      "text/plain": [
       "7890"
      ]
     },
     "execution_count": 5,
     "metadata": {},
     "output_type": "execute_result"
    }
   ],
   "source": [
    "num % 10 ** 4"
   ]
  },
  {
   "cell_type": "code",
   "execution_count": 6,
   "id": "f4a52f4c",
   "metadata": {},
   "outputs": [
    {
     "data": {
      "text/plain": [
       "12345678901234567890"
      ]
     },
     "execution_count": 6,
     "metadata": {},
     "output_type": "execute_result"
    }
   ],
   "source": [
    "num % 10 ** 23"
   ]
  },
  {
   "cell_type": "code",
   "execution_count": 7,
   "id": "f5f2f329",
   "metadata": {},
   "outputs": [],
   "source": [
    "strNum = str(num)"
   ]
  },
  {
   "cell_type": "code",
   "execution_count": 8,
   "id": "150c45b2",
   "metadata": {},
   "outputs": [
    {
     "data": {
      "text/plain": [
       "['__add__',\n",
       " '__class__',\n",
       " '__contains__',\n",
       " '__delattr__',\n",
       " '__dir__',\n",
       " '__doc__',\n",
       " '__eq__',\n",
       " '__format__',\n",
       " '__ge__',\n",
       " '__getattribute__',\n",
       " '__getitem__',\n",
       " '__getnewargs__',\n",
       " '__gt__',\n",
       " '__hash__',\n",
       " '__init__',\n",
       " '__init_subclass__',\n",
       " '__iter__',\n",
       " '__le__',\n",
       " '__len__',\n",
       " '__lt__',\n",
       " '__mod__',\n",
       " '__mul__',\n",
       " '__ne__',\n",
       " '__new__',\n",
       " '__reduce__',\n",
       " '__reduce_ex__',\n",
       " '__repr__',\n",
       " '__rmod__',\n",
       " '__rmul__',\n",
       " '__setattr__',\n",
       " '__sizeof__',\n",
       " '__str__',\n",
       " '__subclasshook__',\n",
       " 'capitalize',\n",
       " 'casefold',\n",
       " 'center',\n",
       " 'count',\n",
       " 'encode',\n",
       " 'endswith',\n",
       " 'expandtabs',\n",
       " 'find',\n",
       " 'format',\n",
       " 'format_map',\n",
       " 'index',\n",
       " 'isalnum',\n",
       " 'isalpha',\n",
       " 'isascii',\n",
       " 'isdecimal',\n",
       " 'isdigit',\n",
       " 'isidentifier',\n",
       " 'islower',\n",
       " 'isnumeric',\n",
       " 'isprintable',\n",
       " 'isspace',\n",
       " 'istitle',\n",
       " 'isupper',\n",
       " 'join',\n",
       " 'ljust',\n",
       " 'lower',\n",
       " 'lstrip',\n",
       " 'maketrans',\n",
       " 'partition',\n",
       " 'replace',\n",
       " 'rfind',\n",
       " 'rindex',\n",
       " 'rjust',\n",
       " 'rpartition',\n",
       " 'rsplit',\n",
       " 'rstrip',\n",
       " 'split',\n",
       " 'splitlines',\n",
       " 'startswith',\n",
       " 'strip',\n",
       " 'swapcase',\n",
       " 'title',\n",
       " 'translate',\n",
       " 'upper',\n",
       " 'zfill']"
      ]
     },
     "execution_count": 8,
     "metadata": {},
     "output_type": "execute_result"
    }
   ],
   "source": []
  },
  {
   "cell_type": "code",
   "execution_count": 9,
   "id": "31aebe36",
   "metadata": {},
   "outputs": [
    {
     "data": {
      "text/plain": [
       "20"
      ]
     },
     "execution_count": 9,
     "metadata": {},
     "output_type": "execute_result"
    }
   ],
   "source": [
    "len(strNum)"
   ]
  },
  {
   "cell_type": "code",
   "execution_count": 10,
   "id": "fddae3ac",
   "metadata": {},
   "outputs": [],
   "source": [
    "while len(strNum) < 23 :\n",
    "    strNum = \"0\" + strNum"
   ]
  },
  {
   "cell_type": "code",
   "execution_count": 11,
   "id": "3d31111c",
   "metadata": {},
   "outputs": [
    {
     "data": {
      "text/plain": [
       "'00012345678901234567890'"
      ]
     },
     "execution_count": 11,
     "metadata": {},
     "output_type": "execute_result"
    }
   ],
   "source": [
    "strNum"
   ]
  },
  {
   "cell_type": "code",
   "execution_count": 12,
   "id": "f8b8149f",
   "metadata": {},
   "outputs": [
    {
     "data": {
      "text/plain": [
       "23"
      ]
     },
     "execution_count": 12,
     "metadata": {},
     "output_type": "execute_result"
    }
   ],
   "source": [
    "len(strNum)"
   ]
  },
  {
   "cell_type": "code",
   "execution_count": 20,
   "id": "811e096d",
   "metadata": {},
   "outputs": [
    {
     "data": {
      "text/plain": [
       "2"
      ]
     },
     "execution_count": 20,
     "metadata": {},
     "output_type": "execute_result"
    }
   ],
   "source": [
    "int(strNum[0:4]) % 7 + 1"
   ]
  },
  {
   "cell_type": "code",
   "execution_count": 27,
   "id": "49e65ef1",
   "metadata": {},
   "outputs": [
    {
     "data": {
      "text/plain": [
       "201.60000000000002"
      ]
     },
     "execution_count": 27,
     "metadata": {},
     "output_type": "execute_result"
    }
   ],
   "source": [
    "int(strNum[-6:-4])/ 100* 360"
   ]
  },
  {
   "cell_type": "code",
   "execution_count": 28,
   "id": "4c00c935",
   "metadata": {},
   "outputs": [
    {
     "data": {
      "text/plain": [
       "72.0"
      ]
     },
     "execution_count": 28,
     "metadata": {},
     "output_type": "execute_result"
    }
   ],
   "source": [
    "20 / 100* 360"
   ]
  },
  {
   "cell_type": "code",
   "execution_count": 29,
   "id": "95a3f055",
   "metadata": {},
   "outputs": [
    {
     "data": {
      "text/plain": [
       "7213.400000000001"
      ]
     },
     "execution_count": 29,
     "metadata": {},
     "output_type": "execute_result"
    }
   ],
   "source": [
    "20 / 100* 360"
   ]
  },
  {
   "cell_type": "code",
   "execution_count": 32,
   "id": "b627d7f2",
   "metadata": {},
   "outputs": [
    {
     "data": {
      "text/plain": [
       "133.2"
      ]
     },
     "execution_count": 32,
     "metadata": {},
     "output_type": "execute_result"
    }
   ],
   "source": [
    "37 / 100* 360"
   ]
  },
  {
   "cell_type": "code",
   "execution_count": 33,
   "id": "2c2291c7",
   "metadata": {},
   "outputs": [
    {
     "data": {
      "text/plain": [
       "115.2"
      ]
     },
     "execution_count": 33,
     "metadata": {},
     "output_type": "execute_result"
    }
   ],
   "source": [
    "32 / 100* 360"
   ]
  },
  {
   "cell_type": "code",
   "execution_count": 34,
   "id": "d815ee0c",
   "metadata": {},
   "outputs": [
    {
     "data": {
      "text/plain": [
       "277.2"
      ]
     },
     "execution_count": 34,
     "metadata": {},
     "output_type": "execute_result"
    }
   ],
   "source": [
    "77 / 100* 360"
   ]
  },
  {
   "cell_type": "code",
   "execution_count": 35,
   "id": "222d5d82",
   "metadata": {},
   "outputs": [
    {
     "data": {
      "text/plain": [
       "295.2"
      ]
     },
     "execution_count": 35,
     "metadata": {},
     "output_type": "execute_result"
    }
   ],
   "source": [
    "82 / 100* 360"
   ]
  },
  {
   "cell_type": "code",
   "execution_count": 37,
   "id": "5a6b2310",
   "metadata": {},
   "outputs": [
    {
     "data": {
      "text/plain": [
       "356"
      ]
     },
     "execution_count": 37,
     "metadata": {},
     "output_type": "execute_result"
    }
   ],
   "source": [
    "int (99 / 100* 360)"
   ]
  },
  {
   "cell_type": "code",
   "execution_count": 41,
   "id": "2eda6dfd",
   "metadata": {},
   "outputs": [
    {
     "ename": "SyntaxError",
     "evalue": "leading zeros in decimal integer literals are not permitted; use an 0o prefix for octal integers (<ipython-input-41-4e46f1d06662>, line 1)",
     "output_type": "error",
     "traceback": [
      "\u001b[1;36m  File \u001b[1;32m\"<ipython-input-41-4e46f1d06662>\"\u001b[1;36m, line \u001b[1;32m1\u001b[0m\n\u001b[1;33m    06 / 100\u001b[0m\n\u001b[1;37m     ^\u001b[0m\n\u001b[1;31mSyntaxError\u001b[0m\u001b[1;31m:\u001b[0m leading zeros in decimal integer literals are not permitted; use an 0o prefix for octal integers\n"
     ]
    }
   ],
   "source": []
  },
  {
   "cell_type": "code",
   "execution_count": null,
   "id": "36e46311",
   "metadata": {},
   "outputs": [],
   "source": []
  }
 ],
 "metadata": {
  "kernelspec": {
   "display_name": "Python 3",
   "language": "python",
   "name": "python3"
  },
  "language_info": {
   "codemirror_mode": {
    "name": "ipython",
    "version": 3
   },
   "file_extension": ".py",
   "mimetype": "text/x-python",
   "name": "python",
   "nbconvert_exporter": "python",
   "pygments_lexer": "ipython3",
   "version": "3.8.8"
  }
 },
 "nbformat": 4,
 "nbformat_minor": 5
}
