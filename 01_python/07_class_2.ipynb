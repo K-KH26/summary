{
 "cells": [
  {
   "cell_type": "markdown",
   "id": "84a19c35",
   "metadata": {},
   "source": [
    "### summary\n",
    "- function\n",
    "    - docstring\n",
    "    - scope : 전역, 지역 : global\n",
    "    - inner function : 함수안에 함수를 선언\n",
    "    - lambda function : 간략한 함수를 한줄의 코드로 작성\n",
    "    - decorator : 특정 기능을 데코레이터 함수로 만들어 함수에 특정 기능을 적용하는 방법\n",
    "- class\n",
    "    - 변수와 함수들이 모여있는 집합\n",
    "        - 기본 클래스 사용법 : 클래스 선언 -> 객체로 만듦 -> 객체에 함수를 호출\n",
    "    - 생성자 함수 `__init__`\n",
    "        - 클래스가 객체로 만들어질때 객체에 선언되는 변수를 설정하는 방법"
   ]
  },
  {
   "cell_type": "code",
   "execution_count": 1,
   "id": "c05affca",
   "metadata": {},
   "outputs": [],
   "source": [
    "user_datas = [\n",
    "    {\"id\": \"test\", \"pw\" : \"1234\", \"count\" : 0},\n",
    "    {\"id\": \"python\", \"pw\" : \"5678\", \"count\" : 0}\n",
    "]"
   ]
  },
  {
   "cell_type": "code",
   "execution_count": 2,
   "id": "abd39e1a",
   "metadata": {},
   "outputs": [],
   "source": [
    "# user data 를 입력받아서 아이디와 패스워드를 체크하는 데코레이터 함수를 코드로 작성\n",
    "# 로그인 될 때마다 count 1씩 증가"
   ]
  },
  {
   "cell_type": "code",
   "execution_count": 3,
   "id": "5d0e90a1",
   "metadata": {},
   "outputs": [],
   "source": [
    "# 내가 작성\n",
    "def check_user(func) :\n",
    "    \n",
    "    def wrapper(*args, **kwagrs) :\n",
    "        input_id  = input(\"id : \")\n",
    "        input_pw = input(\"pw : \")\n",
    "        \n",
    "        result = False\n",
    "        for data in user_datas :  \n",
    "            if input_id == data.get(\"id\") :\n",
    "                # 패스워드 확인\n",
    "                if input_pw == data.get(\"pw\") :\n",
    "                    data[\"count\"] += 1\n",
    "                    result = True\n",
    "                    break\n",
    "                else :\n",
    "                    continue\n",
    "            else :\n",
    "                continue\n",
    "                \n",
    "        if result :\n",
    "            result = func(*args, **kwagrs)\n",
    "            return result\n",
    "        else :\n",
    "            return print(\"아이디, 비밀번호 불일치\")\n",
    "    return wrapper\n"
   ]
  },
  {
   "cell_type": "code",
   "execution_count": 4,
   "id": "59f00a36",
   "metadata": {},
   "outputs": [],
   "source": [
    "def check_user(func) :\n",
    "    def wrapper(*args, **kwagrs) :\n",
    "        # 아이디 패스워드 입력\n",
    "        user, pw = tuple(input(\"insert user pw : \").split(\" \"))\n",
    "        \n",
    "        # 존재하는 아이디인지 확인\n",
    "        # 존재하는 패스워드 확인 # 하나로 묶는게 좋다고한다.\n",
    "        # for idx, user_data in zip(range(len(user_datas)),user_datas):\n",
    "        for idx, user_data in enumerate(user_datas) :\n",
    "            if (user_data[\"id\"] == user) and (user_data[\"pw\"] == pw) :\n",
    "                \n",
    "                # count 데이터 추가\n",
    "                # user_data[\"count\"] += 1\n",
    "                user_data[idx][\"count\"] += 1\n",
    "                \n",
    "                # 함수 실행\n",
    "                return func(*args, **kwagrs)\n",
    "        return \"wrong login data!\"\n",
    "    \n",
    "    return wrapper\n"
   ]
  },
  {
   "cell_type": "code",
   "execution_count": 5,
   "id": "1158ffe5",
   "metadata": {},
   "outputs": [
    {
     "data": {
      "text/plain": [
       "[(0, {'id': 'test', 'pw': '1234', 'count': 0}),\n",
       " (1, {'id': 'python', 'pw': '5678', 'count': 0})]"
      ]
     },
     "execution_count": 5,
     "metadata": {},
     "output_type": "execute_result"
    }
   ],
   "source": [
    "list(enumerate(user_datas))"
   ]
  },
  {
   "cell_type": "code",
   "execution_count": 6,
   "id": "2e546f53",
   "metadata": {},
   "outputs": [],
   "source": [
    "@check_user\n",
    "def plus(num1, num2) :\n",
    "    return num1 + num2"
   ]
  },
  {
   "cell_type": "code",
   "execution_count": 7,
   "id": "5e6ac2d3",
   "metadata": {},
   "outputs": [
    {
     "name": "stdout",
     "output_type": "stream",
     "text": [
      "insert user pw : ddd ddd\n"
     ]
    },
    {
     "data": {
      "text/plain": [
       "'wrong login data!'"
      ]
     },
     "execution_count": 7,
     "metadata": {},
     "output_type": "execute_result"
    }
   ],
   "source": [
    "plus(1, 2)"
   ]
  },
  {
   "cell_type": "code",
   "execution_count": 8,
   "id": "ee850229",
   "metadata": {},
   "outputs": [
    {
     "data": {
      "text/plain": [
       "[{'id': 'test', 'pw': '1234', 'count': 0},\n",
       " {'id': 'python', 'pw': '5678', 'count': 0}]"
      ]
     },
     "execution_count": 8,
     "metadata": {},
     "output_type": "execute_result"
    }
   ],
   "source": [
    "user_datas"
   ]
  },
  {
   "cell_type": "code",
   "execution_count": 9,
   "id": "15d4377c",
   "metadata": {},
   "outputs": [],
   "source": [
    "# 스타크래프트의 마린을 클래스로 설계\n",
    "# 체력(health : 40), 공격력(attack_pow : 5), 공격(attack())\n",
    "# 마린 클래스로 마린 객체 2개를 생성해서 마린 1이 마린 2를 공격하는 코드를 작성\n",
    "# attack(self, unit)"
   ]
  },
  {
   "cell_type": "code",
   "execution_count": 10,
   "id": "cf4f5e92",
   "metadata": {},
   "outputs": [],
   "source": [
    "class Marine :\n",
    "    \n",
    "    def __init__(self, name, health = 40, attack_pow=5) :\n",
    "        self.name = name\n",
    "        self.health = health\n",
    "        self.attack_pow = attack_pow\n",
    "        \n",
    "    def attack(self, unit) :\n",
    "        print(\"{self}가 {unit} 을 공격했습니다.\".format(self = self.name, unit=unit.name))\n",
    "        unit.health -= self.attack_pow\n",
    "        if unit.health < 0 :\n",
    "            unit.health = 0\n",
    "            print(\"사망\")\n",
    "        print(\"{unit}의 남은 체력 : {health}\".format(unit=unit.name, health = unit.health))"
   ]
  },
  {
   "cell_type": "code",
   "execution_count": 11,
   "id": "8d5368e7",
   "metadata": {},
   "outputs": [],
   "source": [
    "marine_1 = Marine(\"마린1\")"
   ]
  },
  {
   "cell_type": "code",
   "execution_count": 12,
   "id": "49764507",
   "metadata": {},
   "outputs": [],
   "source": [
    "marine_2 = Marine(\"마린2\")"
   ]
  },
  {
   "cell_type": "code",
   "execution_count": 13,
   "id": "8374c4dc",
   "metadata": {},
   "outputs": [
    {
     "name": "stdout",
     "output_type": "stream",
     "text": [
      "마린1가 마린2 을 공격했습니다.\n",
      "마린2의 남은 체력 : 35\n"
     ]
    }
   ],
   "source": [
    "marine_1.attack(marine_2)"
   ]
  },
  {
   "cell_type": "code",
   "execution_count": 14,
   "id": "63c46d84",
   "metadata": {},
   "outputs": [
    {
     "data": {
      "text/plain": [
       "(40, 35)"
      ]
     },
     "execution_count": 14,
     "metadata": {},
     "output_type": "execute_result"
    }
   ],
   "source": [
    "marine_1.health, marine_2.health # 40, 35"
   ]
  },
  {
   "cell_type": "code",
   "execution_count": 15,
   "id": "789860ff",
   "metadata": {},
   "outputs": [],
   "source": [
    "# 메딕 : heal_pow, heal(unit)\n",
    "class Medic :\n",
    "    \n",
    "    def __init__(self, health=40, heal_pow=6) :\n",
    "        self.health = health\n",
    "        self.heal_pow = heal_pow\n",
    "    \n",
    "    def heal(self, unit) :\n",
    "        if unit.health > 0 :\n",
    "            unit.health += self.heal_pow\n",
    "            if unit.health >= 40 :\n",
    "                unit.health = 40\n",
    "        else :\n",
    "            print(\"이미 사망\")"
   ]
  },
  {
   "cell_type": "code",
   "execution_count": 16,
   "id": "1c52478c",
   "metadata": {},
   "outputs": [],
   "source": [
    "medic = Medic()"
   ]
  },
  {
   "cell_type": "code",
   "execution_count": 17,
   "id": "a4331b6f",
   "metadata": {},
   "outputs": [
    {
     "data": {
      "text/plain": [
       "(40, 35)"
      ]
     },
     "execution_count": 17,
     "metadata": {},
     "output_type": "execute_result"
    }
   ],
   "source": [
    "marine_1.health, marine_2.health "
   ]
  },
  {
   "cell_type": "code",
   "execution_count": 18,
   "id": "3d5d9ddf",
   "metadata": {},
   "outputs": [],
   "source": [
    "medic.heal(marine_2)"
   ]
  },
  {
   "cell_type": "code",
   "execution_count": 19,
   "id": "350a2d8d",
   "metadata": {},
   "outputs": [
    {
     "data": {
      "text/plain": [
       "(40, 40)"
      ]
     },
     "execution_count": 19,
     "metadata": {},
     "output_type": "execute_result"
    }
   ],
   "source": [
    "marine_1.health, marine_2.health "
   ]
  },
  {
   "cell_type": "code",
   "execution_count": 20,
   "id": "5493d3b8",
   "metadata": {},
   "outputs": [],
   "source": [
    "marine_3 = Marine(\"마린3\",attack_pow = 25)"
   ]
  },
  {
   "cell_type": "code",
   "execution_count": 21,
   "id": "bf26a262",
   "metadata": {},
   "outputs": [
    {
     "name": "stdout",
     "output_type": "stream",
     "text": [
      "마린3가 마린1 을 공격했습니다.\n",
      "마린1의 남은 체력 : 15\n"
     ]
    }
   ],
   "source": [
    "marine_3.attack(marine_1)"
   ]
  },
  {
   "cell_type": "markdown",
   "id": "5ec2f8b6",
   "metadata": {},
   "source": [
    "### 1. 상속\n",
    "- 클래스의 기능을 가져다가 기능을 수정하거나 추가할 때 사용하는 방법\n"
   ]
  },
  {
   "cell_type": "code",
   "execution_count": 22,
   "id": "40aa6fb5",
   "metadata": {},
   "outputs": [],
   "source": [
    "class Calculator:\n",
    "    def __init__(self, num1, num2) :\n",
    "        self.num1 = num1\n",
    "        self.num2 = num2 \n",
    "    \n",
    "    def plus(self) :\n",
    "        return self.num1 + self.num2"
   ]
  },
  {
   "cell_type": "code",
   "execution_count": 23,
   "id": "f01aeef9",
   "metadata": {},
   "outputs": [
    {
     "data": {
      "text/plain": [
       "3"
      ]
     },
     "execution_count": 23,
     "metadata": {},
     "output_type": "execute_result"
    }
   ],
   "source": [
    "calc = Calculator(1, 2)\n",
    "calc.plus()"
   ]
  },
  {
   "cell_type": "code",
   "execution_count": 24,
   "id": "b5bd8631",
   "metadata": {},
   "outputs": [],
   "source": [
    "# 마이너스 기능을 추가한 계산기"
   ]
  },
  {
   "cell_type": "code",
   "execution_count": 25,
   "id": "a65df6b0",
   "metadata": {},
   "outputs": [],
   "source": [
    "class Calculator2:\n",
    "    def __init__(self, num1, num2) :\n",
    "        self.num1 = num1\n",
    "        self.num2 = num2 \n",
    "    \n",
    "    def plus(self) :\n",
    "        return self.num1 + self.num2\n",
    "    \n",
    "    def minus(self) :\n",
    "        return self.num1 - self.num2"
   ]
  },
  {
   "cell_type": "code",
   "execution_count": 26,
   "id": "3442106a",
   "metadata": {},
   "outputs": [
    {
     "data": {
      "text/plain": [
       "(3, -1)"
      ]
     },
     "execution_count": 26,
     "metadata": {},
     "output_type": "execute_result"
    }
   ],
   "source": [
    "calc2 = Calculator2(1,2)\n",
    "calc2.plus(), calc2.minus()"
   ]
  },
  {
   "cell_type": "code",
   "execution_count": 27,
   "id": "6f270363",
   "metadata": {},
   "outputs": [],
   "source": [
    "# 상속을 사용하여 minus 함수 추가\n",
    "class Calculator3(Calculator) :\n",
    "    def minus(self) :\n",
    "        return self.num1 - self.num2"
   ]
  },
  {
   "cell_type": "code",
   "execution_count": 28,
   "id": "46185f7d",
   "metadata": {},
   "outputs": [],
   "source": [
    "calc3 = Calculator3(1, 2)"
   ]
  },
  {
   "cell_type": "code",
   "execution_count": 29,
   "id": "6e1a8a0f",
   "metadata": {},
   "outputs": [
    {
     "data": {
      "text/plain": [
       "(3, -1)"
      ]
     },
     "execution_count": 29,
     "metadata": {},
     "output_type": "execute_result"
    }
   ],
   "source": [
    "calc3.plus(), calc3.minus()"
   ]
  },
  {
   "cell_type": "code",
   "execution_count": 30,
   "id": "164715bf",
   "metadata": {},
   "outputs": [],
   "source": [
    "# 메서드 오버라이딩 (덮어 써짐)\n",
    "class Calculator4(Calculator3) :\n",
    "    def plus(self) :\n",
    "        return self.num1**2 + self.num2**2"
   ]
  },
  {
   "cell_type": "code",
   "execution_count": 31,
   "id": "f02f6528",
   "metadata": {},
   "outputs": [
    {
     "data": {
      "text/plain": [
       "5"
      ]
     },
     "execution_count": 31,
     "metadata": {},
     "output_type": "execute_result"
    }
   ],
   "source": [
    "calc4 = Calculator4(1, 2)\n",
    "calc4.plus()"
   ]
  },
  {
   "cell_type": "code",
   "execution_count": 32,
   "id": "729abdbc",
   "metadata": {},
   "outputs": [],
   "source": [
    "# 아이폰 1, 2, 3\n",
    "# 아이폰 1 : calling : print(\"calling\")\n",
    "# 아이폰 2 : + send msg \n",
    "# 아이폰 3 : + internet"
   ]
  },
  {
   "cell_type": "code",
   "execution_count": 33,
   "id": "da1762e1",
   "metadata": {},
   "outputs": [],
   "source": [
    "class Iphone1 :\n",
    "    def calling(self) :\n",
    "        print(\"calling!\") "
   ]
  },
  {
   "cell_type": "code",
   "execution_count": 34,
   "id": "bc2d943e",
   "metadata": {},
   "outputs": [],
   "source": [
    "class Iphone2(Iphone1) :\n",
    "    def send(self):\n",
    "        print(\"send msg!\")"
   ]
  },
  {
   "cell_type": "code",
   "execution_count": 35,
   "id": "2878d96b",
   "metadata": {},
   "outputs": [],
   "source": [
    "class Iphone3(Iphone2) :\n",
    "    def internet(self) :\n",
    "        print(\"connect internet!\")"
   ]
  },
  {
   "cell_type": "code",
   "execution_count": 36,
   "id": "1c6f0494",
   "metadata": {},
   "outputs": [],
   "source": [
    "iphone3 = Iphone3()"
   ]
  },
  {
   "cell_type": "code",
   "execution_count": 37,
   "id": "f6fcf7b1",
   "metadata": {},
   "outputs": [
    {
     "name": "stdout",
     "output_type": "stream",
     "text": [
      "calling!\n",
      "send msg!\n",
      "connect internet!\n"
     ]
    },
    {
     "data": {
      "text/plain": [
       "(None, None, None)"
      ]
     },
     "execution_count": 37,
     "metadata": {},
     "output_type": "execute_result"
    }
   ],
   "source": [
    "iphone3.calling(), iphone3.send(), iphone3.internet()"
   ]
  },
  {
   "cell_type": "markdown",
   "id": "5817e90f",
   "metadata": {},
   "source": [
    "### 다중상속"
   ]
  },
  {
   "cell_type": "code",
   "execution_count": 38,
   "id": "9d0737d9",
   "metadata": {},
   "outputs": [],
   "source": [
    "class Galuxy : \n",
    "    def show_img(self) :\n",
    "        print(\"show_img\")"
   ]
  },
  {
   "cell_type": "code",
   "execution_count": 39,
   "id": "808dce82",
   "metadata": {},
   "outputs": [],
   "source": [
    "class DssPhone(Iphone3, Galuxy) : \n",
    "    def camera(self) :\n",
    "        print(\"camera\")"
   ]
  },
  {
   "cell_type": "code",
   "execution_count": 40,
   "id": "3cf9932f",
   "metadata": {},
   "outputs": [],
   "source": [
    "dss_phone = DssPhone()"
   ]
  },
  {
   "cell_type": "code",
   "execution_count": 41,
   "id": "6159950a",
   "metadata": {},
   "outputs": [
    {
     "data": {
      "text/plain": [
       "['calling', 'camera', 'internet', 'send', 'show_img']"
      ]
     },
     "execution_count": 41,
     "metadata": {},
     "output_type": "execute_result"
    }
   ],
   "source": [
    "[func for func in dir(dss_phone) if func[:2] != \"__\"]"
   ]
  },
  {
   "cell_type": "markdown",
   "id": "2ca05b72",
   "metadata": {},
   "source": [
    "### 2.super\n",
    "- 부모 클래스에서 사용된 함수의 코드를 가져다가 자식 클래스의 함수에서 재사용할때 사용\n",
    "\n",
    "```\n",
    "class A:\n",
    "    def plus(self):\n",
    "        code1\n",
    "\n",
    "class B(A):\n",
    "    def minus(self):\n",
    "        code1 # =super().plus()\n",
    "        code2\n",
    "```"
   ]
  },
  {
   "cell_type": "code",
   "execution_count": 42,
   "id": "d2ca6b0d",
   "metadata": {},
   "outputs": [],
   "source": [
    "class Marine :\n",
    "    \n",
    "    def __init__(self) :\n",
    "        self.health = 40\n",
    "        self.attack_pow = 5\n",
    "        \n",
    "    def attack(self, unit) :\n",
    "        unit.health -= self.attack_pow\n",
    "        if unit.health < 0 :\n",
    "            unit.health = 0"
   ]
  },
  {
   "cell_type": "code",
   "execution_count": 43,
   "id": "580d100d",
   "metadata": {},
   "outputs": [],
   "source": [
    "# super 사용\n",
    "\n",
    "class Marine2(Marine) :\n",
    "    \n",
    "    def __init__(self) :\n",
    "#         self.health = 40\n",
    "#         self.attack_pow = 5\n",
    "        super().__init__()\n",
    "        self.max_health = 40\n",
    "        \n",
    "    def attack(self, unit) :\n",
    "        unit.health -= self.attack_pow\n",
    "        if unit.health < 0 :\n",
    "            unit.health = 0"
   ]
  },
  {
   "cell_type": "code",
   "execution_count": 44,
   "id": "4aa35385",
   "metadata": {},
   "outputs": [],
   "source": [
    "marine = Marine2()"
   ]
  },
  {
   "cell_type": "code",
   "execution_count": 45,
   "id": "b615a526",
   "metadata": {},
   "outputs": [
    {
     "data": {
      "text/plain": [
       "(40, 40, 5)"
      ]
     },
     "execution_count": 45,
     "metadata": {},
     "output_type": "execute_result"
    }
   ],
   "source": [
    "marine.health, marine.max_health, marine.attack_pow"
   ]
  },
  {
   "cell_type": "markdown",
   "id": "9b673949",
   "metadata": {},
   "source": [
    "### 3. class의 getter, setter\n",
    "- 객체의 내부 변수에 접근할 때 특정 로직을 거쳐서 접근시키는 방법"
   ]
  },
  {
   "cell_type": "code",
   "execution_count": 46,
   "id": "d68fb097",
   "metadata": {},
   "outputs": [],
   "source": [
    "class User :\n",
    "    \n",
    "    def __init__(self, first_name) :\n",
    "        self.first_name = first_name\n",
    "\n",
    "    def setter(self, first_name) :\n",
    "        if len(first_name) >= 3:\n",
    "            self.first_name = first_name\n",
    "        else :\n",
    "            print(\"error\")\n",
    "        \n",
    "    def getter(self) :\n",
    "        print(\"getter\")\n",
    "        return self.first_name.upper()\n",
    "    \n",
    "    def disp(self) :\n",
    "        print(self.first_name, self.last_name)\n",
    "        \n",
    "    name = property(getter, setter)\n",
    "    "
   ]
  },
  {
   "cell_type": "code",
   "execution_count": 47,
   "id": "91d59abc",
   "metadata": {},
   "outputs": [],
   "source": [
    "user1 = User(\"andy\")"
   ]
  },
  {
   "cell_type": "code",
   "execution_count": 48,
   "id": "8675ca7e",
   "metadata": {},
   "outputs": [
    {
     "data": {
      "text/plain": [
       "'andy'"
      ]
     },
     "execution_count": 48,
     "metadata": {},
     "output_type": "execute_result"
    }
   ],
   "source": [
    "user1.first_name "
   ]
  },
  {
   "cell_type": "code",
   "execution_count": 49,
   "id": "ce3cf9e4",
   "metadata": {},
   "outputs": [
    {
     "name": "stdout",
     "output_type": "stream",
     "text": [
      "getter\n"
     ]
    },
    {
     "data": {
      "text/plain": [
       "'ANDY'"
      ]
     },
     "execution_count": 49,
     "metadata": {},
     "output_type": "execute_result"
    }
   ],
   "source": [
    "# getter 함수 실행\n",
    "user1.name"
   ]
  },
  {
   "cell_type": "code",
   "execution_count": 50,
   "id": "9dcb84ce",
   "metadata": {},
   "outputs": [],
   "source": [
    "# setter 함수 실행\n",
    "user1.name = \"jone\""
   ]
  },
  {
   "cell_type": "code",
   "execution_count": 51,
   "id": "c36a0354",
   "metadata": {},
   "outputs": [
    {
     "data": {
      "text/plain": [
       "'jone'"
      ]
     },
     "execution_count": 51,
     "metadata": {},
     "output_type": "execute_result"
    }
   ],
   "source": [
    "user1.first_name"
   ]
  },
  {
   "cell_type": "markdown",
   "id": "59558b91",
   "metadata": {},
   "source": [
    "### 4. non public\n",
    "- mangling 이라는 방법으로 다이렉트로 객체의 변수에 접근하지 못하게 하는 방법\n",
    "- 변수나 메서드 앞에 `__` 를 붙임"
   ]
  },
  {
   "cell_type": "code",
   "execution_count": 52,
   "id": "3214b22a",
   "metadata": {},
   "outputs": [],
   "source": [
    "class Calculator :\n",
    "    \n",
    "    def __init__(self, num1, num2) :\n",
    "        self.num1 = num1\n",
    "        self.__num2 = num2\n",
    "        \n",
    "    # num2 에 0이 들어가지 않도록 함\n",
    "    def setter(self, num2) :\n",
    "        num2 = 1 if num2 == 0 else num2\n",
    "        self.num2 = num2\n",
    "        \n",
    "    def getter(self) :\n",
    "        return self.__num2\n",
    "    \n",
    "    def __disp(self) :\n",
    "        print(self.num1, self.__num2)\n",
    "    \n",
    "    def div(self):\n",
    "        self.__disp()\n",
    "        return self.num1 / self.__num2\n",
    "        \n",
    "    number2 = property(getter, setter)\n",
    "        "
   ]
  },
  {
   "cell_type": "code",
   "execution_count": 53,
   "id": "b079ca32",
   "metadata": {},
   "outputs": [],
   "source": [
    "calc = Calculator(1, 2)"
   ]
  },
  {
   "cell_type": "code",
   "execution_count": 54,
   "id": "33c6a246",
   "metadata": {},
   "outputs": [
    {
     "name": "stdout",
     "output_type": "stream",
     "text": [
      "1 2\n"
     ]
    },
    {
     "data": {
      "text/plain": [
       "0.5"
      ]
     },
     "execution_count": 54,
     "metadata": {},
     "output_type": "execute_result"
    }
   ],
   "source": [
    "calc.div()"
   ]
  },
  {
   "cell_type": "code",
   "execution_count": 55,
   "id": "0c2f52a6",
   "metadata": {},
   "outputs": [
    {
     "data": {
      "text/plain": [
       "2"
      ]
     },
     "execution_count": 55,
     "metadata": {},
     "output_type": "execute_result"
    }
   ],
   "source": [
    "calc.number2"
   ]
  },
  {
   "cell_type": "code",
   "execution_count": 56,
   "id": "5b643203",
   "metadata": {},
   "outputs": [],
   "source": [
    "calc.number2 = 0"
   ]
  },
  {
   "cell_type": "code",
   "execution_count": 57,
   "id": "90f6273d",
   "metadata": {},
   "outputs": [],
   "source": [
    "calc.num2 = 0"
   ]
  },
  {
   "cell_type": "code",
   "execution_count": 58,
   "id": "8e33f7d5",
   "metadata": {},
   "outputs": [
    {
     "data": {
      "text/plain": [
       "0"
      ]
     },
     "execution_count": 58,
     "metadata": {},
     "output_type": "execute_result"
    }
   ],
   "source": [
    "calc.num2"
   ]
  },
  {
   "cell_type": "code",
   "execution_count": 59,
   "id": "2c2630bf",
   "metadata": {},
   "outputs": [
    {
     "name": "stdout",
     "output_type": "stream",
     "text": [
      "1 2\n"
     ]
    },
    {
     "data": {
      "text/plain": [
       "0.5"
      ]
     },
     "execution_count": 59,
     "metadata": {},
     "output_type": "execute_result"
    }
   ],
   "source": [
    "calc.div()"
   ]
  },
  {
   "cell_type": "code",
   "execution_count": 61,
   "id": "f32e539d",
   "metadata": {},
   "outputs": [],
   "source": [
    "# calc.__disp()"
   ]
  },
  {
   "cell_type": "code",
   "execution_count": 62,
   "id": "a7700e20",
   "metadata": {},
   "outputs": [
    {
     "name": "stdout",
     "output_type": "stream",
     "text": [
      "1 2\n"
     ]
    }
   ],
   "source": [
    "calc._Calculator__disp()"
   ]
  },
  {
   "cell_type": "markdown",
   "id": "c2af33fd",
   "metadata": {},
   "source": [
    "### 5. is  & has a\n",
    "- 클래스를 설계하는 개념\n",
    "- A is a B \n",
    "    - A는 B이다. 상속을 이용해서 클래스를 만드는 방법\n",
    "- A has a B\n",
    "    - A는 B를 가진다. A가 B객체를 가지고 클래스를 만드는 방법"
   ]
  },
  {
   "cell_type": "code",
   "execution_count": 63,
   "id": "14be3b4b",
   "metadata": {},
   "outputs": [],
   "source": [
    "# 사람 : 이름, 이메일, 정보출력()"
   ]
  },
  {
   "cell_type": "code",
   "execution_count": 78,
   "id": "7cce8187",
   "metadata": {},
   "outputs": [],
   "source": [
    "# is a \n",
    "# class Person :\n",
    "#     def __init__(self, name, email) :\n",
    "#         self.name = name\n",
    "#         self.email = email"
   ]
  },
  {
   "cell_type": "code",
   "execution_count": 79,
   "id": "71a098df",
   "metadata": {},
   "outputs": [],
   "source": [
    "# Person2 is a Person\n",
    "\n",
    "class Person2(Person) :\n",
    "    def info(self) :\n",
    "        print(self.name, self.email)"
   ]
  },
  {
   "cell_type": "code",
   "execution_count": 80,
   "id": "2121fb2e",
   "metadata": {},
   "outputs": [],
   "source": [
    "p = Person2(\"andy\", \"andy@email.com\")"
   ]
  },
  {
   "cell_type": "code",
   "execution_count": 82,
   "id": "31ffeed4",
   "metadata": {},
   "outputs": [],
   "source": [
    "# p.info()"
   ]
  },
  {
   "cell_type": "code",
   "execution_count": 83,
   "id": "bdb91c16",
   "metadata": {},
   "outputs": [],
   "source": [
    "# has a\n",
    "class Name333:\n",
    "    def __init__(self, name1) :\n",
    "        self.name_str = name1\n",
    "        \n",
    "class Email:\n",
    "    def __init__(self, email) :\n",
    "        self.email_str = email"
   ]
  },
  {
   "cell_type": "code",
   "execution_count": 139,
   "id": "fb0ac642",
   "metadata": {},
   "outputs": [],
   "source": [
    "class Person:\n",
    "    def __init__(self, name_obj, email_obj) :\n",
    "        self.name = name_obj\n",
    "        self.email = email_obj\n",
    "    \n",
    "    def info(self):\n",
    "        print(aaannn.name_str, self.email.email_str)"
   ]
  },
  {
   "cell_type": "code",
   "execution_count": 140,
   "id": "d784221c",
   "metadata": {},
   "outputs": [],
   "source": [
    "aaannn = Name333(\"andy\")\n",
    "email1 = Email(\"andy@gmail.com\")"
   ]
  },
  {
   "cell_type": "code",
   "execution_count": 141,
   "id": "973e643d",
   "metadata": {},
   "outputs": [],
   "source": [
    "p = Person(aaannn, email1)"
   ]
  },
  {
   "cell_type": "code",
   "execution_count": 142,
   "id": "1d95ac67",
   "metadata": {},
   "outputs": [
    {
     "name": "stdout",
     "output_type": "stream",
     "text": [
      "andy andy@gmail.com\n"
     ]
    }
   ],
   "source": [
    "p.info()"
   ]
  },
  {
   "cell_type": "markdown",
   "id": "b57d5acd",
   "metadata": {},
   "source": [
    "### Magic(Spacial) Method\n",
    "- compare\n",
    "    - `__eq__` : ==\n",
    "    - `__ne__` : !=\n",
    "    - `__lt__` : <\n",
    "- calculate\n",
    "    - `__add__` : +\n",
    "    - `__sub__` : -\n",
    "- `__repr__` : 객체의 내용을 출력(개발자용)\n",
    "- `__str__` : 객체의 내용을 출력"
   ]
  },
  {
   "cell_type": "code",
   "execution_count": 146,
   "id": "cc969514",
   "metadata": {},
   "outputs": [
    {
     "data": {
      "text/plain": [
       "True"
      ]
     },
     "execution_count": 146,
     "metadata": {},
     "output_type": "execute_result"
    }
   ],
   "source": [
    "\"test\" == \"test\""
   ]
  },
  {
   "cell_type": "code",
   "execution_count": 147,
   "id": "efda1a34",
   "metadata": {},
   "outputs": [
    {
     "data": {
      "text/plain": [
       "True"
      ]
     },
     "execution_count": 147,
     "metadata": {},
     "output_type": "execute_result"
    }
   ],
   "source": [
    "\"test\".__eq__(\"test\")"
   ]
  },
  {
   "cell_type": "code",
   "execution_count": 148,
   "id": "cbeddbbd",
   "metadata": {},
   "outputs": [],
   "source": [
    "a = 1"
   ]
  },
  {
   "cell_type": "code",
   "execution_count": 149,
   "id": "61d0ec8c",
   "metadata": {},
   "outputs": [
    {
     "data": {
      "text/plain": [
       "3"
      ]
     },
     "execution_count": 149,
     "metadata": {},
     "output_type": "execute_result"
    }
   ],
   "source": [
    "a.__add__(2)"
   ]
  },
  {
   "cell_type": "code",
   "execution_count": 150,
   "id": "385168d3",
   "metadata": {},
   "outputs": [
    {
     "data": {
      "text/plain": [
       "3"
      ]
     },
     "execution_count": 150,
     "metadata": {},
     "output_type": "execute_result"
    }
   ],
   "source": [
    "1 + 2"
   ]
  },
  {
   "cell_type": "code",
   "execution_count": 151,
   "id": "af27b939",
   "metadata": {},
   "outputs": [
    {
     "data": {
      "text/plain": [
       "'12'"
      ]
     },
     "execution_count": 151,
     "metadata": {},
     "output_type": "execute_result"
    }
   ],
   "source": [
    "\"1\" + \"2\""
   ]
  },
  {
   "cell_type": "code",
   "execution_count": 160,
   "id": "c5b6ceac",
   "metadata": {},
   "outputs": [],
   "source": [
    "class Txt:\n",
    "    def __init__(self,txt) :\n",
    "        self.txt = txt\n",
    "    \n",
    "    def __eq__(self, txt_obj) :\n",
    "        return self.txt.lower() == txt_obj.txt.lower()\n",
    "    \n",
    "    def __repr__(self) :\n",
    "        return \"Txt(txt={}).\".format(self.txt)\n",
    "    \n",
    "    def __str__(self) :\n",
    "        return self.txt"
   ]
  },
  {
   "cell_type": "code",
   "execution_count": 161,
   "id": "76bd9a94",
   "metadata": {},
   "outputs": [],
   "source": [
    "t1 = Txt(\"python\")\n",
    "t2 = Txt(\"PYTHON\")\n",
    "t3 = t1"
   ]
  },
  {
   "cell_type": "code",
   "execution_count": 162,
   "id": "3b3c82f1",
   "metadata": {},
   "outputs": [
    {
     "data": {
      "text/plain": [
       "(True, True, True)"
      ]
     },
     "execution_count": 162,
     "metadata": {},
     "output_type": "execute_result"
    }
   ],
   "source": [
    "t1 == t2, t1 == t3, t2 == t3"
   ]
  },
  {
   "cell_type": "code",
   "execution_count": 163,
   "id": "726ea396",
   "metadata": {},
   "outputs": [
    {
     "data": {
      "text/plain": [
       "<bound method Txt.__eq__ of Txt(txt=python).>"
      ]
     },
     "execution_count": 163,
     "metadata": {},
     "output_type": "execute_result"
    }
   ],
   "source": [
    "t1.__eq__"
   ]
  },
  {
   "cell_type": "code",
   "execution_count": 164,
   "id": "4dd225d9",
   "metadata": {},
   "outputs": [
    {
     "data": {
      "text/plain": [
       "Txt(txt=python)."
      ]
     },
     "execution_count": 164,
     "metadata": {},
     "output_type": "execute_result"
    }
   ],
   "source": [
    "t1"
   ]
  },
  {
   "cell_type": "code",
   "execution_count": 165,
   "id": "77b6ad61",
   "metadata": {},
   "outputs": [
    {
     "name": "stdout",
     "output_type": "stream",
     "text": [
      "python\n"
     ]
    }
   ],
   "source": [
    "print(t1)"
   ]
  },
  {
   "cell_type": "code",
   "execution_count": 166,
   "id": "a6ee9860",
   "metadata": {},
   "outputs": [
    {
     "data": {
      "text/plain": [
       "range(0, 5)"
      ]
     },
     "execution_count": 166,
     "metadata": {},
     "output_type": "execute_result"
    }
   ],
   "source": [
    "range(5)"
   ]
  },
  {
   "cell_type": "code",
   "execution_count": null,
   "id": "2ba22869",
   "metadata": {},
   "outputs": [],
   "source": []
  }
 ],
 "metadata": {
  "kernelspec": {
   "display_name": "Python 3",
   "language": "python",
   "name": "python3"
  },
  "language_info": {
   "codemirror_mode": {
    "name": "ipython",
    "version": 3
   },
   "file_extension": ".py",
   "mimetype": "text/x-python",
   "name": "python",
   "nbconvert_exporter": "python",
   "pygments_lexer": "ipython3",
   "version": "3.8.8"
  }
 },
 "nbformat": 4,
 "nbformat_minor": 5
}
