{
 "cells": [
  {
   "cell_type": "markdown",
   "id": "2c91e101",
   "metadata": {},
   "source": [
    "### Jupyter Notebook\n",
    "- mode\n",
    "    - 명령모드(esc) : 셀을 수정할때 사용\n",
    "    - 편집모드(enter) : 셀 안의 내요을 수정할때 사용\n",
    "        \n",
    "- style\n",
    "    - markdown(명령모드 + m) : 셀 안의 설명을 작성할때 사용\n",
    "    - code(명령모드 + y) 파이썬 코드를 작성할때 사용\n",
    "- 단축기 \n",
    "    - 셀 실행 : shift + enter\n",
    "    - 셀 삭제 : (명령모드) x\n",
    "    - 되돌리기 : (명령모드) z\n",
    "    - 셀 생성 : (명령모드) a(위), b(아래)\n"
   ]
  },
  {
   "cell_type": "code",
   "execution_count": 10,
   "id": "568bfed7",
   "metadata": {},
   "outputs": [
    {
     "data": {
      "text/plain": [
       "5"
      ]
     },
     "execution_count": 10,
     "metadata": {},
     "output_type": "execute_result"
    }
   ],
   "source": [
    "2+3 "
   ]
  },
  {
   "cell_type": "code",
   "execution_count": null,
   "id": "ff8ef477",
   "metadata": {},
   "outputs": [],
   "source": [
    "1 + 2"
   ]
  },
  {
   "cell_type": "markdown",
   "id": "863725c8",
   "metadata": {},
   "source": [
    "#### magic command\n",
    "- 셀 내부에서 특별하게 동작하는 커맨드\n",
    "- % : 한줄의 magic comand를 동작\n",
    "- %% : 셀 단위의 magic command 를 동작\n",
    "- 주요 magic command\n",
    "    - pwd 현재 주피터 노트북 파일의 경로\n",
    "    - ls : 현재 디렉토리의 파일 리스트\n",
    "    - whos : 현재 선언된 변수를 출력\n",
    "    - reset : 현재 선언된 변수를 모두 삭제"
   ]
  },
  {
   "cell_type": "code",
   "execution_count": 11,
   "id": "e604bff9",
   "metadata": {},
   "outputs": [
    {
     "data": {
      "text/plain": [
       "'C:\\\\Code\\\\01_python'"
      ]
     },
     "execution_count": 11,
     "metadata": {},
     "output_type": "execute_result"
    }
   ],
   "source": [
    "%pwd"
   ]
  },
  {
   "cell_type": "code",
   "execution_count": 22,
   "id": "27db10cd",
   "metadata": {},
   "outputs": [],
   "source": [
    "a = 1\n",
    "b = 2\n",
    "c = \"hi\""
   ]
  },
  {
   "cell_type": "code",
   "execution_count": 25,
   "id": "efe4cd2c",
   "metadata": {},
   "outputs": [
    {
     "name": "stdout",
     "output_type": "stream",
     "text": [
      "Variable   Type    Data/Info\n",
      "----------------------------\n",
      "a          int     1\n",
      "b          int     2\n",
      "c          str     hi\n"
     ]
    }
   ],
   "source": [
    "%whos"
   ]
  },
  {
   "cell_type": "code",
   "execution_count": 14,
   "id": "ff6c3a8d",
   "metadata": {},
   "outputs": [
    {
     "name": "stdout",
     "output_type": "stream",
     "text": [
      "Once deleted, variables cannot be recovered. Proceed (y/[n])? y\n"
     ]
    }
   ],
   "source": [
    "%reset"
   ]
  },
  {
   "cell_type": "code",
   "execution_count": 15,
   "id": "68816bc8",
   "metadata": {},
   "outputs": [
    {
     "name": "stdout",
     "output_type": "stream",
     "text": [
      "Interactive namespace is empty.\n"
     ]
    }
   ],
   "source": [
    "%whos"
   ]
  },
  {
   "cell_type": "markdown",
   "id": "e5505944",
   "metadata": {},
   "source": [
    "#### shell Command\n",
    "- 주피터 노트북을 실행 쉘 환경의 명령을 사용\n",
    "- 명령어 앞에 !를 붙여서 실행\n",
    "- 주요 명령어\n",
    "    - ls, cat, echo ..."
   ]
  },
  {
   "cell_type": "code",
   "execution_count": 16,
   "id": "81405d33",
   "metadata": {},
   "outputs": [
    {
     "name": "stdout",
     "output_type": "stream",
     "text": [
      "python\n"
     ]
    }
   ],
   "source": [
    "!echo python"
   ]
  },
  {
   "cell_type": "code",
   "execution_count": 17,
   "id": "e99fa3f2",
   "metadata": {},
   "outputs": [
    {
     "name": "stdout",
     "output_type": "stream",
     "text": [
      "01_jupyter_notebook.ipynb\n"
     ]
    }
   ],
   "source": [
    "!ls"
   ]
  },
  {
   "cell_type": "code",
   "execution_count": 1,
   "id": "72729387",
   "metadata": {},
   "outputs": [
    {
     "name": "stdout",
     "output_type": "stream",
     "text": [
      "01_jupyter_notebook.ipynb\n",
      "02_basic_syntax.ipynb\n"
     ]
    }
   ],
   "source": [
    "!ls"
   ]
  },
  {
   "cell_type": "code",
   "execution_count": null,
   "id": "125bfa06",
   "metadata": {},
   "outputs": [],
   "source": []
  }
 ],
 "metadata": {
  "kernelspec": {
   "display_name": "Python 3",
   "language": "python",
   "name": "python3"
  },
  "language_info": {
   "codemirror_mode": {
    "name": "ipython",
    "version": 3
   },
   "file_extension": ".py",
   "mimetype": "text/x-python",
   "name": "python",
   "nbconvert_exporter": "python",
   "pygments_lexer": "ipython3",
   "version": "3.8.8"
  }
 },
 "nbformat": 4,
 "nbformat_minor": 5
}
