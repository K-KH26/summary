{
 "cells": [
  {
   "cell_type": "markdown",
   "id": "63c270b0",
   "metadata": {},
   "source": [
    "### summary\n",
    "- 상속 : 다른 클래스를 받아서 기능을 추가해서 새로운 클래스를 만드는 방법\n",
    "- super : 부모클래스에서 특정 함수의 코드를 가져오는 방법\n",
    "- getter, setter : 클래스로 만들어진 객체에 변수값을 수정하거나 출력할 때 특정 함수를 통해서 수정하고 출력하는 방법\n",
    "- non public(private) : mangling`__` `_(클래스명)`이 붙은 변수로 객체를 생성할때 변경이 되어서 생성\n",
    "- is a / has a : 클래스를 설계하는 방법\n",
    "- magic(special) method \n",
    "    - 비교 :\n",
    "        - `__eq__`(==), `__ne__`(!=), \n",
    "        - `__lt__`(<), `__gt__`(>), `__le__`(<=), `__ge__`(>=)\n",
    "    - 연산 : \n",
    "        - `__add__`(+),`__sub__`(-),`__mul__`(*),`__truediv__`(/)\n",
    "        - `__floordiv__`(//),`__mod__`(%),`__pow__`(**),\n",
    "    - 그외 : `__repr__`, `__str__`"
   ]
  },
  {
   "cell_type": "code",
   "execution_count": 1,
   "id": "ef3b3c1d",
   "metadata": {},
   "outputs": [],
   "source": [
    "# Integer 객체\n",
    "class Integer:\n",
    "    \n",
    "    def __init__(self, number):\n",
    "        self.number = number\n",
    "    \n",
    "    def __add__(self, obj) :\n",
    "        return self.number + obj.number\n",
    "    \n",
    "    def __str__(self):\n",
    "        return str(self.number)\n",
    "    \n",
    "    def __repr__(self) :\n",
    "        return str(self.number)\n",
    "    "
   ]
  },
  {
   "cell_type": "code",
   "execution_count": 2,
   "id": "84de72d7",
   "metadata": {},
   "outputs": [],
   "source": [
    "num1 = Integer(1)\n",
    "num2 = Integer(2)"
   ]
  },
  {
   "cell_type": "code",
   "execution_count": 3,
   "id": "d45eb8f6",
   "metadata": {},
   "outputs": [
    {
     "data": {
      "text/plain": [
       "3"
      ]
     },
     "execution_count": 3,
     "metadata": {},
     "output_type": "execute_result"
    }
   ],
   "source": [
    "num1 + num2"
   ]
  },
  {
   "cell_type": "code",
   "execution_count": 4,
   "id": "568cd873",
   "metadata": {},
   "outputs": [
    {
     "data": {
      "text/plain": [
       "1"
      ]
     },
     "execution_count": 4,
     "metadata": {},
     "output_type": "execute_result"
    }
   ],
   "source": [
    "num1"
   ]
  },
  {
   "cell_type": "code",
   "execution_count": 5,
   "id": "20e34bd1",
   "metadata": {},
   "outputs": [
    {
     "name": "stdout",
     "output_type": "stream",
     "text": [
      "1\n"
     ]
    }
   ],
   "source": [
    "print(num1)"
   ]
  },
  {
   "cell_type": "code",
   "execution_count": 7,
   "id": "aa3dda62",
   "metadata": {},
   "outputs": [],
   "source": [
    "# 계좌 클래스 만들기\n",
    "# 변수 : 자산(asset), 이자율(interest)\n",
    "# 함수 : 인출(draw), 입금(insert), 이자추가(add_interest)\n",
    "# 인출시 자산이상의 돈을 인출 할 수 없다."
   ]
  },
  {
   "cell_type": "code",
   "execution_count": 8,
   "id": "234a2137",
   "metadata": {},
   "outputs": [],
   "source": [
    "class Account:\n",
    "    def __init__(self, asset=0, interest=1.05) :\n",
    "        self.asset = asset\n",
    "        self.interest = interest\n",
    "    \n",
    "    def draw(self, money) :\n",
    "        if money <= self.asset :\n",
    "            self.asset -= money\n",
    "            print(\"현재 잔액 : \", self.asset)\n",
    "        else :\n",
    "            print(\"인출 금액 초과\")\n",
    "            print(\"현재 잔액 : \", self.asset)\n",
    "            \n",
    "    def insert(self, money) :\n",
    "        self.asset += money\n",
    "        print(\"현재 잔액 : \", self.asset)\n",
    "        \n",
    "    def add_interest(self) :\n",
    "        self.asset *= self.interest\n",
    "        print(\"현재 잔액 : \", self.asset)\n",
    "    \n",
    "    def __repr__(self) :\n",
    "        return \"Account(asset:{}, interest:{})\".format(self.asset, self.interest)\n",
    "        "
   ]
  },
  {
   "cell_type": "code",
   "execution_count": 9,
   "id": "c6accc0f",
   "metadata": {},
   "outputs": [],
   "source": [
    "account1 = Account(10000)"
   ]
  },
  {
   "cell_type": "code",
   "execution_count": 10,
   "id": "533f563a",
   "metadata": {},
   "outputs": [
    {
     "data": {
      "text/plain": [
       "(10000, 1.05)"
      ]
     },
     "execution_count": 10,
     "metadata": {},
     "output_type": "execute_result"
    }
   ],
   "source": [
    "account1.asset, account1.interest # 이렇게 정보를 보는게 불편할때, __repr__를 사용"
   ]
  },
  {
   "cell_type": "code",
   "execution_count": 11,
   "id": "aec82955",
   "metadata": {},
   "outputs": [
    {
     "data": {
      "text/plain": [
       "Account(asset:10000, interest:1.05)"
      ]
     },
     "execution_count": 11,
     "metadata": {},
     "output_type": "execute_result"
    }
   ],
   "source": [
    "account1"
   ]
  },
  {
   "cell_type": "code",
   "execution_count": 12,
   "id": "f65c5999",
   "metadata": {},
   "outputs": [
    {
     "name": "stdout",
     "output_type": "stream",
     "text": [
      "인출 금액 초과\n",
      "현재 잔액 :  10000\n"
     ]
    }
   ],
   "source": [
    "account1.draw(12000)"
   ]
  },
  {
   "cell_type": "code",
   "execution_count": 13,
   "id": "448dbc83",
   "metadata": {},
   "outputs": [
    {
     "name": "stdout",
     "output_type": "stream",
     "text": [
      "현재 잔액 :  7000\n"
     ]
    }
   ],
   "source": [
    "account1.draw(3000)"
   ]
  },
  {
   "cell_type": "code",
   "execution_count": 14,
   "id": "c59f1dfc",
   "metadata": {
    "scrolled": true
   },
   "outputs": [
    {
     "name": "stdout",
     "output_type": "stream",
     "text": [
      "현재 잔액 :  12000\n"
     ]
    }
   ],
   "source": [
    "account1.insert(5000)"
   ]
  },
  {
   "cell_type": "code",
   "execution_count": 15,
   "id": "ebd09ee5",
   "metadata": {},
   "outputs": [
    {
     "data": {
      "text/plain": [
       "Account(asset:12000, interest:1.05)"
      ]
     },
     "execution_count": 15,
     "metadata": {},
     "output_type": "execute_result"
    }
   ],
   "source": [
    "account1"
   ]
  },
  {
   "cell_type": "code",
   "execution_count": 17,
   "id": "77c6a0c8",
   "metadata": {},
   "outputs": [
    {
     "name": "stdout",
     "output_type": "stream",
     "text": [
      "현재 잔액 :  12600.0\n"
     ]
    }
   ],
   "source": [
    "account1.add_interest()"
   ]
  },
  {
   "cell_type": "code",
   "execution_count": 18,
   "id": "a242bba6",
   "metadata": {},
   "outputs": [
    {
     "data": {
      "text/plain": [
       "Account(asset:12600.0, interest:1.05)"
      ]
     },
     "execution_count": 18,
     "metadata": {},
     "output_type": "execute_result"
    }
   ],
   "source": [
    "account1"
   ]
  },
  {
   "cell_type": "code",
   "execution_count": 35,
   "id": "af31a01c",
   "metadata": {},
   "outputs": [],
   "source": [
    "class Tet :\n",
    "    def __init__(self, str1, str2) :\n",
    "        self.str1 = str1\n",
    "        self.str2 = str2\n",
    "    \n",
    "    def say(self):\n",
    "        print(self.str1, self,str2)\n",
    "        \n",
    "    def __repr__(self):\n",
    "        return \"{}, {}\".format(self.str1,self.str2)"
   ]
  },
  {
   "cell_type": "code",
   "execution_count": 36,
   "id": "9c38f457",
   "metadata": {},
   "outputs": [],
   "source": [
    "tet = Tet(1, 2)"
   ]
  },
  {
   "cell_type": "code",
   "execution_count": 37,
   "id": "0eaa2e1c",
   "metadata": {},
   "outputs": [
    {
     "data": {
      "text/plain": [
       "1, 2"
      ]
     },
     "execution_count": 37,
     "metadata": {},
     "output_type": "execute_result"
    }
   ],
   "source": [
    "tet"
   ]
  },
  {
   "cell_type": "code",
   "execution_count": 22,
   "id": "862cd034",
   "metadata": {},
   "outputs": [
    {
     "name": "stdout",
     "output_type": "stream",
     "text": [
      "Once deleted, variables cannot be recovered. Proceed (y/[n])? y\n"
     ]
    }
   ],
   "source": [
    "%reset"
   ]
  },
  {
   "cell_type": "code",
   "execution_count": 23,
   "id": "1144ea94",
   "metadata": {},
   "outputs": [
    {
     "name": "stdout",
     "output_type": "stream",
     "text": [
      "Interactive namespace is empty.\n"
     ]
    }
   ],
   "source": [
    "%whos"
   ]
  },
  {
   "cell_type": "markdown",
   "id": "c94e17a9",
   "metadata": {},
   "source": [
    "### Module Package\n",
    "- 모듈 : 변수 , 함수, 클래스를 모아놓은 (.py) 확장자를 가진 파일\n",
    "- 패키지 : 모듈의 기능을 디렉토리별로 정리해 놓은 개념\n"
   ]
  },
  {
   "cell_type": "markdown",
   "id": "b419a319",
   "metadata": {},
   "source": [
    "### 1.모듈\n",
    "- 모듈 생성\n",
    "- 모듈 호출"
   ]
  },
  {
   "cell_type": "code",
   "execution_count": 107,
   "id": "dfe5652e",
   "metadata": {},
   "outputs": [
    {
     "name": "stdout",
     "output_type": "stream",
     "text": [
      "01_jupyter_notebook.ipynb\n",
      "02_basic_syntax.ipynb\n",
      "03_condition_loop.ipynb\n",
      "04_function.ipynb\n",
      "05_function_2.ipynb\n",
      "06_class_1.ipynb\n",
      "07_class_2.ipynb\n",
      "08_module_package.ipynb\n",
      "mission_01.ipynb\n",
      "summary_09_29.ipynb\n",
      "summary_09_30.ipynb\n",
      "summary_10_04.ipynb\n"
     ]
    }
   ],
   "source": [
    "!ls"
   ]
  },
  {
   "cell_type": "code",
   "execution_count": 108,
   "id": "94a8ed79",
   "metadata": {},
   "outputs": [],
   "source": [
    "# %%writefile dss.py < 이 셀의 코드들을 dss.py라는 파일을 생성"
   ]
  },
  {
   "cell_type": "code",
   "execution_count": 130,
   "id": "2f8dbe7d",
   "metadata": {},
   "outputs": [
    {
     "name": "stdout",
     "output_type": "stream",
     "text": [
      "Overwriting dss.py\n"
     ]
    }
   ],
   "source": [
    "%%writefile dss.py \n",
    "\n",
    "num = 1234\n",
    "\n",
    "def disp1(msg) :\n",
    "    print(\"disp1\", msg)\n",
    "    \n",
    "def disp2(msg) :\n",
    "    print(\"disp2\" , msg)\n",
    "\n",
    "class Calc :\n",
    "    def plus(self, *args) :\n",
    "        return sum(args)"
   ]
  },
  {
   "cell_type": "code",
   "execution_count": 131,
   "id": "6ce2b6d2",
   "metadata": {
    "scrolled": false
   },
   "outputs": [
    {
     "name": "stdout",
     "output_type": "stream",
     "text": [
      "01_jupyter_notebook.ipynb\n",
      "02_basic_syntax.ipynb\n",
      "03_condition_loop.ipynb\n",
      "04_function.ipynb\n",
      "05_function_2.ipynb\n",
      "06_class_1.ipynb\n",
      "07_class_2.ipynb\n",
      "08_module_package.ipynb\n",
      "__pycache__\n",
      "dss.py\n",
      "mission_01.ipynb\n",
      "summary_09_29.ipynb\n",
      "summary_09_30.ipynb\n",
      "summary_10_04.ipynb\n"
     ]
    }
   ],
   "source": [
    "!ls"
   ]
  },
  {
   "cell_type": "code",
   "execution_count": 144,
   "id": "691e6eb9",
   "metadata": {},
   "outputs": [
    {
     "name": "stdout",
     "output_type": "stream",
     "text": [
      "Once deleted, variables cannot be recovered. Proceed (y/[n])? y\n"
     ]
    }
   ],
   "source": [
    "%reset"
   ]
  },
  {
   "cell_type": "code",
   "execution_count": 145,
   "id": "4ae431db",
   "metadata": {},
   "outputs": [
    {
     "name": "stdout",
     "output_type": "stream",
     "text": [
      "Interactive namespace is empty.\n"
     ]
    }
   ],
   "source": [
    "%whos"
   ]
  },
  {
   "cell_type": "code",
   "execution_count": 146,
   "id": "8e8fc451",
   "metadata": {},
   "outputs": [
    {
     "data": {
      "text/plain": [
       "<module 'dss' from 'C:\\\\Code\\\\01_python\\\\dss.py'>"
      ]
     },
     "execution_count": 146,
     "metadata": {},
     "output_type": "execute_result"
    }
   ],
   "source": [
    "# 모듈 호출 : import\n",
    "import dss\n",
    "# import importlib\n",
    "# importlib.reload(dss)"
   ]
  },
  {
   "cell_type": "code",
   "execution_count": 147,
   "id": "b28f82b5",
   "metadata": {},
   "outputs": [
    {
     "name": "stdout",
     "output_type": "stream",
     "text": [
      "Variable    Type      Data/Info\n",
      "-------------------------------\n",
      "dss         module    <module 'dss' from 'C:\\\\Code\\\\01_python\\\\dss.py'>\n",
      "importlib   module    <module 'importlib' from <...>\\importlib\\\\__init__.py'>\n"
     ]
    }
   ],
   "source": [
    "%whos"
   ]
  },
  {
   "cell_type": "code",
   "execution_count": 148,
   "id": "c83ced14",
   "metadata": {},
   "outputs": [
    {
     "data": {
      "text/plain": [
       "1234"
      ]
     },
     "execution_count": 148,
     "metadata": {},
     "output_type": "execute_result"
    }
   ],
   "source": [
    "dss.num"
   ]
  },
  {
   "cell_type": "code",
   "execution_count": 149,
   "id": "a8a84cb3",
   "metadata": {},
   "outputs": [
    {
     "name": "stdout",
     "output_type": "stream",
     "text": [
      "disp1 python\n"
     ]
    }
   ],
   "source": [
    "dss.disp1(\"python\")"
   ]
  },
  {
   "cell_type": "code",
   "execution_count": 150,
   "id": "8415a812",
   "metadata": {},
   "outputs": [],
   "source": [
    "calc = dss.Calc()"
   ]
  },
  {
   "cell_type": "code",
   "execution_count": 151,
   "id": "918947cf",
   "metadata": {},
   "outputs": [
    {
     "data": {
      "text/plain": [
       "10"
      ]
     },
     "execution_count": 151,
     "metadata": {},
     "output_type": "execute_result"
    }
   ],
   "source": [
    "calc.plus(1, 2, 3, 4)"
   ]
  },
  {
   "cell_type": "code",
   "execution_count": 152,
   "id": "c1c29a8f",
   "metadata": {},
   "outputs": [],
   "source": [
    "import random"
   ]
  },
  {
   "cell_type": "code",
   "execution_count": 153,
   "id": "eb1ead47",
   "metadata": {},
   "outputs": [
    {
     "data": {
      "text/plain": [
       "3"
      ]
     },
     "execution_count": 153,
     "metadata": {},
     "output_type": "execute_result"
    }
   ],
   "source": [
    "random.randint(1, 5)"
   ]
  },
  {
   "cell_type": "code",
   "execution_count": 154,
   "id": "12139a08",
   "metadata": {},
   "outputs": [],
   "source": [
    "# 모듈 안에 특정함수 , 변수 , 클래스 호출"
   ]
  },
  {
   "cell_type": "code",
   "execution_count": 155,
   "id": "d7b398b2",
   "metadata": {},
   "outputs": [],
   "source": [
    "from dss import num, disp2"
   ]
  },
  {
   "cell_type": "code",
   "execution_count": 156,
   "id": "1a5d4fe5",
   "metadata": {},
   "outputs": [
    {
     "name": "stdout",
     "output_type": "stream",
     "text": [
      "Variable    Type        Data/Info\n",
      "---------------------------------\n",
      "calc        Calc        <dss.Calc object at 0x000001C11EE22B50>\n",
      "disp2       function    <function disp2 at 0x000001C11EDEDC10>\n",
      "dss         module      <module 'dss' from 'C:\\\\Code\\\\01_python\\\\dss.py'>\n",
      "importlib   module      <module 'importlib' from <...>\\importlib\\\\__init__.py'>\n",
      "num         int         1234\n",
      "random      module      <module 'random' from 'C:<...>aconda3\\\\lib\\\\random.py'>\n"
     ]
    }
   ],
   "source": [
    "%whos"
   ]
  },
  {
   "cell_type": "code",
   "execution_count": 157,
   "id": "4dc170b9",
   "metadata": {},
   "outputs": [
    {
     "data": {
      "text/plain": [
       "1234"
      ]
     },
     "execution_count": 157,
     "metadata": {},
     "output_type": "execute_result"
    }
   ],
   "source": [
    "dss.num"
   ]
  },
  {
   "cell_type": "code",
   "execution_count": 158,
   "id": "2ff86a2c",
   "metadata": {},
   "outputs": [
    {
     "data": {
      "text/plain": [
       "1234"
      ]
     },
     "execution_count": 158,
     "metadata": {},
     "output_type": "execute_result"
    }
   ],
   "source": [
    "num"
   ]
  },
  {
   "cell_type": "code",
   "execution_count": 159,
   "id": "b9f24e2f",
   "metadata": {},
   "outputs": [
    {
     "name": "stdout",
     "output_type": "stream",
     "text": [
      "Once deleted, variables cannot be recovered. Proceed (y/[n])? y\n"
     ]
    }
   ],
   "source": [
    "%reset"
   ]
  },
  {
   "cell_type": "code",
   "execution_count": 160,
   "id": "20a03e5a",
   "metadata": {},
   "outputs": [],
   "source": [
    "# 모듈의 모든 변수를 가져옴\n",
    "from dss import *"
   ]
  },
  {
   "cell_type": "code",
   "execution_count": 161,
   "id": "a219e3a1",
   "metadata": {
    "scrolled": true
   },
   "outputs": [
    {
     "name": "stdout",
     "output_type": "stream",
     "text": [
      "Variable   Type        Data/Info\n",
      "--------------------------------\n",
      "Calc       type        <class 'dss.Calc'>\n",
      "disp       function    <function disp at 0x000001C11EDEDD30>\n",
      "disp1      function    <function disp1 at 0x000001C11A9663A0>\n",
      "disp2      function    <function disp2 at 0x000001C11EDEDC10>\n",
      "num        int         1234\n"
     ]
    }
   ],
   "source": [
    "%whos"
   ]
  },
  {
   "cell_type": "markdown",
   "id": "aeff1710",
   "metadata": {},
   "source": [
    "### 2. 패키지\n",
    "- 패키지 생성\n",
    "- 패키지 호출\n",
    "- setup.py 패키지 설치 파일 만들기"
   ]
  },
  {
   "cell_type": "code",
   "execution_count": 162,
   "id": "b78ae35e",
   "metadata": {},
   "outputs": [],
   "source": [
    "# 디렉토리 생성"
   ]
  },
  {
   "cell_type": "code",
   "execution_count": 164,
   "id": "7fcfe72b",
   "metadata": {},
   "outputs": [
    {
     "name": "stderr",
     "output_type": "stream",
     "text": [
      "The syntax of the command is incorrect.\n"
     ]
    }
   ],
   "source": [
    "# !mkdir -p school/dss\n",
    "# !mkdir -p school/web"
   ]
  },
  {
   "cell_type": "markdown",
   "id": "5dbb8500",
   "metadata": {},
   "source": [
    "- tree 설치 mac\n",
    "    - homebrew : https://brew.sh/\n",
    "    - homebrew : osx 패키지 설치 관리툴\n",
    "    -/bin/bash -c \"$(curl -fsSL https://raw.githubusercontent.com/Homebrew/install/HEAD/install.sh)\"\n",
    "    - brew install tree\n",
    "    \n"
   ]
  },
  {
   "cell_type": "code",
   "execution_count": 167,
   "id": "f92b3b59",
   "metadata": {},
   "outputs": [
    {
     "name": "stdout",
     "output_type": "stream",
     "text": [
      "Folder PATH listing\n",
      "Volume serial number is 000000E0 EAAE:42F3\n",
      "C:\\CODE\\01_PYTHON\\SCHOOL\n",
      "├───dss\n",
      "└───web\n"
     ]
    }
   ],
   "source": [
    "!tree school"
   ]
  },
  {
   "cell_type": "code",
   "execution_count": 168,
   "id": "16c580c1",
   "metadata": {},
   "outputs": [],
   "source": [
    "# 패키지 사용시 디렉토리에 __init__.py 파일을 추가\n",
    "# 파이썬 3.3 버전 이상에서는 필요 없음"
   ]
  },
  {
   "cell_type": "code",
   "execution_count": 169,
   "id": "051bf643",
   "metadata": {},
   "outputs": [],
   "source": [
    "!touch school/dss/__init__.py\n",
    "!touch school/web/__init__.py"
   ]
  },
  {
   "cell_type": "code",
   "execution_count": 170,
   "id": "a830b557",
   "metadata": {},
   "outputs": [
    {
     "name": "stdout",
     "output_type": "stream",
     "text": [
      "Folder PATH listing\n",
      "Volume serial number is 000000D6 EAAE:42F3\n",
      "C:\\CODE\\01_PYTHON\\SCHOOL\n",
      "├───dss\n",
      "└───web\n"
     ]
    }
   ],
   "source": [
    "!tree school"
   ]
  },
  {
   "cell_type": "code",
   "execution_count": 172,
   "id": "c312e527",
   "metadata": {},
   "outputs": [
    {
     "name": "stdout",
     "output_type": "stream",
     "text": [
      "Folder PATH listing\n",
      "Volume serial number is 000000C0 EAAE:42F3\n",
      "C:\\CODE\\01_PYTHON\\SCHOOL\n",
      "├───dss\n",
      "│       __init__.py\n",
      "│       \n",
      "└───web\n",
      "        __init__.py\n",
      "        \n"
     ]
    }
   ],
   "source": [
    "!tree school /f"
   ]
  },
  {
   "cell_type": "code",
   "execution_count": 174,
   "id": "3f620da8",
   "metadata": {},
   "outputs": [
    {
     "name": "stdout",
     "output_type": "stream",
     "text": [
      "Overwriting school/dss/data1.py\n"
     ]
    }
   ],
   "source": [
    "%%writefile school/dss/data1.py\n",
    "\n",
    "def plus(*args):\n",
    "    print(\"data1\")\n",
    "    return sum(args)"
   ]
  },
  {
   "cell_type": "code",
   "execution_count": 175,
   "id": "39049fae",
   "metadata": {},
   "outputs": [
    {
     "name": "stdout",
     "output_type": "stream",
     "text": [
      "Writing school/dss/data2.py\n"
     ]
    }
   ],
   "source": [
    "%%writefile school/dss/data2.py\n",
    "\n",
    "def plus2(*args):\n",
    "    print(\"data2\")\n",
    "    return sum(args)"
   ]
  },
  {
   "cell_type": "code",
   "execution_count": 176,
   "id": "4f40452a",
   "metadata": {},
   "outputs": [
    {
     "name": "stdout",
     "output_type": "stream",
     "text": [
      "Writing school/web/url.py\n"
     ]
    }
   ],
   "source": [
    "%%writefile school/web/url.py\n",
    "\n",
    "def make(url):\n",
    "    return url if url[:7] == \"http://\" else \"http://\" + url"
   ]
  },
  {
   "cell_type": "code",
   "execution_count": 178,
   "id": "00c201cf",
   "metadata": {},
   "outputs": [
    {
     "name": "stdout",
     "output_type": "stream",
     "text": [
      "Folder PATH listing\n",
      "Volume serial number is 000000A8 EAAE:42F3\n",
      "C:\\CODE\\01_PYTHON\\SCHOOL\n",
      "├───dss\n",
      "│       data1.py\n",
      "│       data2.py\n",
      "│       __init__.py\n",
      "│       \n",
      "└───web\n",
      "        url.py\n",
      "        __init__.py\n",
      "        \n"
     ]
    }
   ],
   "source": [
    "!tree school /f"
   ]
  },
  {
   "cell_type": "code",
   "execution_count": 179,
   "id": "24dac225",
   "metadata": {},
   "outputs": [
    {
     "name": "stdout",
     "output_type": "stream",
     "text": [
      "Once deleted, variables cannot be recovered. Proceed (y/[n])? y\n"
     ]
    }
   ],
   "source": [
    "%reset"
   ]
  },
  {
   "cell_type": "code",
   "execution_count": 180,
   "id": "d498d0e1",
   "metadata": {},
   "outputs": [],
   "source": [
    "import school.dss.data1"
   ]
  },
  {
   "cell_type": "code",
   "execution_count": 181,
   "id": "08d59a48",
   "metadata": {},
   "outputs": [
    {
     "name": "stdout",
     "output_type": "stream",
     "text": [
      "Variable   Type      Data/Info\n",
      "------------------------------\n",
      "school     module    <module 'school' (namespace)>\n"
     ]
    }
   ],
   "source": [
    "%whos"
   ]
  },
  {
   "cell_type": "code",
   "execution_count": 182,
   "id": "b39b307d",
   "metadata": {},
   "outputs": [
    {
     "name": "stdout",
     "output_type": "stream",
     "text": [
      "data1\n"
     ]
    },
    {
     "data": {
      "text/plain": [
       "6"
      ]
     },
     "execution_count": 182,
     "metadata": {},
     "output_type": "execute_result"
    }
   ],
   "source": [
    "school.dss.data1.plus(1,2,3)"
   ]
  },
  {
   "cell_type": "code",
   "execution_count": 184,
   "id": "58e62cd5",
   "metadata": {},
   "outputs": [],
   "source": [
    "import school.dss.data1 as dss"
   ]
  },
  {
   "cell_type": "code",
   "execution_count": 185,
   "id": "3e19ea47",
   "metadata": {},
   "outputs": [
    {
     "name": "stdout",
     "output_type": "stream",
     "text": [
      "data1\n"
     ]
    },
    {
     "data": {
      "text/plain": [
       "3"
      ]
     },
     "execution_count": 185,
     "metadata": {},
     "output_type": "execute_result"
    }
   ],
   "source": [
    "dss.plus(1,2)"
   ]
  },
  {
   "cell_type": "code",
   "execution_count": 187,
   "id": "a93e9159",
   "metadata": {},
   "outputs": [
    {
     "name": "stdout",
     "output_type": "stream",
     "text": [
      "Variable   Type      Data/Info\n",
      "------------------------------\n",
      "dss        module    <module 'school.dss.data1<...>\\\\school\\\\dss\\\\data1.py'>\n",
      "school     module    <module 'school' (namespace)>\n"
     ]
    }
   ],
   "source": [
    "%whos"
   ]
  },
  {
   "cell_type": "code",
   "execution_count": 188,
   "id": "a1172705",
   "metadata": {},
   "outputs": [],
   "source": [
    "# school.web : 디렉토리\n",
    "# url : 모듈\n",
    "# from 다음에는 디렉토리 폴더가 온다\n",
    "# import 뒤에는 .py(모듈) 아니면 변수 이름만 올수 있음.\n",
    "from school.web import url"
   ]
  },
  {
   "cell_type": "code",
   "execution_count": 189,
   "id": "a63c4c6c",
   "metadata": {},
   "outputs": [
    {
     "data": {
      "text/plain": [
       "'http://google.com'"
      ]
     },
     "execution_count": 189,
     "metadata": {},
     "output_type": "execute_result"
    }
   ],
   "source": [
    "url.make(\"google.com\")"
   ]
  },
  {
   "cell_type": "code",
   "execution_count": 191,
   "id": "e4513fb2",
   "metadata": {},
   "outputs": [
    {
     "data": {
      "text/plain": [
       "'http://naver.com'"
      ]
     },
     "execution_count": 191,
     "metadata": {},
     "output_type": "execute_result"
    }
   ],
   "source": [
    "url.make(\"http://naver.com\")"
   ]
  },
  {
   "cell_type": "code",
   "execution_count": 196,
   "id": "cc2078a3",
   "metadata": {},
   "outputs": [],
   "source": [
    "# 패키지의 위치 : 특정 디렉토리에 있는 패키지는 어디에서나 import 가능"
   ]
  },
  {
   "cell_type": "code",
   "execution_count": 197,
   "id": "f13c14f7",
   "metadata": {},
   "outputs": [],
   "source": [
    "import random"
   ]
  },
  {
   "cell_type": "code",
   "execution_count": 198,
   "id": "f6869237",
   "metadata": {},
   "outputs": [
    {
     "name": "stdout",
     "output_type": "stream",
     "text": [
      "01_jupyter_notebook.ipynb\n",
      "02_basic_syntax.ipynb\n",
      "03_condition_loop.ipynb\n",
      "04_function.ipynb\n",
      "05_function_2.ipynb\n",
      "06_class_1.ipynb\n",
      "07_class_2.ipynb\n",
      "08_module_package.ipynb\n",
      "__pycache__\n",
      "dss.py\n",
      "mission_01.ipynb\n",
      "school\n",
      "summary_09_29.ipynb\n",
      "summary_09_30.ipynb\n",
      "summary_10_04.ipynb\n"
     ]
    }
   ],
   "source": [
    "!ls"
   ]
  },
  {
   "cell_type": "code",
   "execution_count": 199,
   "id": "07e458f0",
   "metadata": {
    "scrolled": true
   },
   "outputs": [
    {
     "name": "stdout",
     "output_type": "stream",
     "text": [
      "C:\\Code\\01_python\n",
      "C:\\Anaconda3\\python38.zip\n",
      "C:\\Anaconda3\\DLLs\n",
      "C:\\Anaconda3\\lib\n",
      "C:\\Anaconda3\n",
      "\n",
      "C:\\Users\\kimkh\\AppData\\Roaming\\Python\\Python38\\site-packages\n",
      "C:\\Anaconda3\\lib\\site-packages\n",
      "C:\\Anaconda3\\lib\\site-packages\\locket-0.2.1-py3.8.egg\n",
      "C:\\Anaconda3\\lib\\site-packages\\win32\n",
      "C:\\Anaconda3\\lib\\site-packages\\win32\\lib\n",
      "C:\\Anaconda3\\lib\\site-packages\\Pythonwin\n",
      "C:\\Anaconda3\\lib\\site-packages\\IPython\\extensions\n",
      "C:\\Users\\kimkh\\.ipython\n"
     ]
    }
   ],
   "source": [
    "import sys\n",
    "\n",
    "for path in sys.path:\n",
    "    print(path)"
   ]
  },
  {
   "cell_type": "code",
   "execution_count": 38,
   "id": "803ba0cc",
   "metadata": {
    "scrolled": false
   },
   "outputs": [
    {
     "data": {
      "text/plain": [
       "['__future__.py',\n",
       " '__phello__.foo.py',\n",
       " '__pycache__',\n",
       " '_bootlocale.py',\n",
       " '_collections_abc.py',\n",
       " '_compat_pickle.py',\n",
       " '_compression.py',\n",
       " '_dummy_thread.py',\n",
       " '_markupbase.py',\n",
       " '_nsis.py',\n",
       " '_osx_support.py',\n",
       " '_py_abc.py',\n",
       " '_pydecimal.py',\n",
       " '_pyio.py',\n",
       " '_sitebuiltins.py',\n",
       " '_strptime.py',\n",
       " '_system_path.py',\n",
       " '_threading_local.py',\n",
       " '_weakrefset.py',\n",
       " 'abc.py',\n",
       " 'aifc.py',\n",
       " 'antigravity.py',\n",
       " 'argparse.py',\n",
       " 'ast.py',\n",
       " 'asynchat.py',\n",
       " 'asyncio',\n",
       " 'asyncore.py',\n",
       " 'base64.py',\n",
       " 'bdb.py',\n",
       " 'binhex.py',\n",
       " 'bisect.py',\n",
       " 'bz2.py',\n",
       " 'cProfile.py',\n",
       " 'calendar.py',\n",
       " 'cgi.py',\n",
       " 'cgitb.py',\n",
       " 'chunk.py',\n",
       " 'cmd.py',\n",
       " 'code.py',\n",
       " 'codecs.py',\n",
       " 'codeop.py',\n",
       " 'collections',\n",
       " 'colorsys.py',\n",
       " 'compileall.py',\n",
       " 'concurrent',\n",
       " 'configparser.py',\n",
       " 'contextlib.py',\n",
       " 'contextvars.py',\n",
       " 'copy.py',\n",
       " 'copyreg.py',\n",
       " 'crypt.py',\n",
       " 'csv.py',\n",
       " 'ctypes',\n",
       " 'curses',\n",
       " 'dataclasses.py',\n",
       " 'datetime.py',\n",
       " 'dbm',\n",
       " 'decimal.py',\n",
       " 'difflib.py',\n",
       " 'dis.py',\n",
       " 'distutils',\n",
       " 'doctest.py',\n",
       " 'dummy_threading.py',\n",
       " 'email',\n",
       " 'encodings',\n",
       " 'ensurepip',\n",
       " 'enum.py',\n",
       " 'filecmp.py',\n",
       " 'fileinput.py',\n",
       " 'fnmatch.py',\n",
       " 'formatter.py',\n",
       " 'fractions.py',\n",
       " 'ftplib.py',\n",
       " 'functools.py',\n",
       " 'genericpath.py',\n",
       " 'getopt.py',\n",
       " 'getpass.py',\n",
       " 'gettext.py',\n",
       " 'glob.py',\n",
       " 'gzip.py',\n",
       " 'hashlib.py',\n",
       " 'heapq.py',\n",
       " 'hmac.py',\n",
       " 'html',\n",
       " 'http',\n",
       " 'idlelib',\n",
       " 'imaplib.py',\n",
       " 'imghdr.py',\n",
       " 'imp.py',\n",
       " 'importlib',\n",
       " 'inspect.py',\n",
       " 'io.py',\n",
       " 'ipaddress.py',\n",
       " 'json',\n",
       " 'keyword.py',\n",
       " 'lib2to3',\n",
       " 'libLIEF.dll',\n",
       " 'libLIEF.lib',\n",
       " 'linecache.py',\n",
       " 'locale.py',\n",
       " 'logging',\n",
       " 'lzma.py',\n",
       " 'mailbox.py',\n",
       " 'mailcap.py',\n",
       " 'mimetypes.py',\n",
       " 'modulefinder.py',\n",
       " 'msilib',\n",
       " 'multiprocessing',\n",
       " 'netrc.py',\n",
       " 'nntplib.py',\n",
       " 'ntpath.py',\n",
       " 'nturl2path.py',\n",
       " 'numbers.py',\n",
       " 'opcode.py',\n",
       " 'operator.py',\n",
       " 'optparse.py',\n",
       " 'os.py',\n",
       " 'pathlib.py',\n",
       " 'pdb.py',\n",
       " 'pickle.py',\n",
       " 'pickletools.py',\n",
       " 'pipes.py',\n",
       " 'pkgutil.py',\n",
       " 'platform.py',\n",
       " 'plistlib.py',\n",
       " 'poplib.py',\n",
       " 'posixpath.py',\n",
       " 'pprint.py',\n",
       " 'profile.py',\n",
       " 'pstats.py',\n",
       " 'pty.py',\n",
       " 'py_compile.py',\n",
       " 'pyclbr.py',\n",
       " 'pydoc.py',\n",
       " 'pydoc_data',\n",
       " 'queue.py',\n",
       " 'quopri.py',\n",
       " 'random.py',\n",
       " 're.py',\n",
       " 'reprlib.py',\n",
       " 'rlcompleter.py',\n",
       " 'runpy.py',\n",
       " 'sched.py',\n",
       " 'secrets.py',\n",
       " 'selectors.py',\n",
       " 'shelve.py',\n",
       " 'shlex.py',\n",
       " 'shutil.py',\n",
       " 'signal.py',\n",
       " 'site-packages',\n",
       " 'site.py',\n",
       " 'smtpd.py',\n",
       " 'smtplib.py',\n",
       " 'sndhdr.py',\n",
       " 'socket.py',\n",
       " 'socketserver.py',\n",
       " 'sqlite3',\n",
       " 'sre_compile.py',\n",
       " 'sre_constants.py',\n",
       " 'sre_parse.py',\n",
       " 'ssl.py',\n",
       " 'stat.py',\n",
       " 'statistics.py',\n",
       " 'string.py',\n",
       " 'stringprep.py',\n",
       " 'struct.py',\n",
       " 'subprocess.py',\n",
       " 'sunau.py',\n",
       " 'symbol.py',\n",
       " 'symtable.py',\n",
       " 'sysconfig.py',\n",
       " 'tabnanny.py',\n",
       " 'tarfile.py',\n",
       " 'telnetlib.py',\n",
       " 'tempfile.py',\n",
       " 'test',\n",
       " 'textwrap.py',\n",
       " 'this.py',\n",
       " 'threading.py',\n",
       " 'timeit.py',\n",
       " 'tkinter',\n",
       " 'token.py',\n",
       " 'tokenize.py',\n",
       " 'trace.py',\n",
       " 'traceback.py',\n",
       " 'tracemalloc.py',\n",
       " 'tty.py',\n",
       " 'turtle.py',\n",
       " 'turtledemo',\n",
       " 'types.py',\n",
       " 'typing.py',\n",
       " 'unittest',\n",
       " 'urllib',\n",
       " 'uu.py',\n",
       " 'uuid.py',\n",
       " 'venv',\n",
       " 'warnings.py',\n",
       " 'wave.py',\n",
       " 'weakref.py',\n",
       " 'webbrowser.py',\n",
       " 'wsgiref',\n",
       " 'xdrlib.py',\n",
       " 'xml',\n",
       " 'xmlrpc',\n",
       " 'zipapp.py',\n",
       " 'zipfile.py',\n",
       " 'zipimport.py']"
      ]
     },
     "execution_count": 38,
     "metadata": {},
     "output_type": "execute_result"
    }
   ],
   "source": [
    "packages = !ls C:\\Anaconda3\\lib\n",
    "packages"
   ]
  },
  {
   "cell_type": "code",
   "execution_count": 211,
   "id": "0f3679bc",
   "metadata": {},
   "outputs": [
    {
     "data": {
      "text/plain": [
       "['xml', 'xmlrpc', 'zipapp.py', 'zipfile.py', 'zipimport.py']"
      ]
     },
     "execution_count": 211,
     "metadata": {},
     "output_type": "execute_result"
    }
   ],
   "source": [
    "packages[-5:]"
   ]
  },
  {
   "cell_type": "code",
   "execution_count": 212,
   "id": "0df2d784",
   "metadata": {},
   "outputs": [
    {
     "name": "stdout",
     "output_type": "stream",
     "text": [
      "Folder PATH listing\n",
      "Volume serial number is EAAE-42F3\n",
      "C:\\CODE\\01_PYTHON\\SCHOOL\n",
      "├───dss\n",
      "│   │   data1.py\n",
      "│   │   data2.py\n",
      "│   │   __init__.py\n",
      "│   │   \n",
      "│   └───__pycache__\n",
      "│           data1.cpython-38.pyc\n",
      "│           __init__.cpython-38.pyc\n",
      "│           \n",
      "└───web\n",
      "    │   url.py\n",
      "    │   __init__.py\n",
      "    │   \n",
      "    └───__pycache__\n",
      "            url.cpython-38.pyc\n",
      "            __init__.cpython-38.pyc\n",
      "            \n"
     ]
    }
   ],
   "source": [
    "# setup.py 를 작성해서 패키지를 설치해서 사용\n",
    "\n",
    "!tree school /f"
   ]
  },
  {
   "cell_type": "code",
   "execution_count": 18,
   "id": "8edff3b8",
   "metadata": {},
   "outputs": [
    {
     "name": "stdout",
     "output_type": "stream",
     "text": [
      "Overwriting school/dss/__init__.py\n"
     ]
    }
   ],
   "source": [
    "%%writefile school/dss/__init__.py\n",
    "\n",
    "__all__ = [\"data1\", \"data2\"]"
   ]
  },
  {
   "cell_type": "code",
   "execution_count": 8,
   "id": "c9ac0a6a",
   "metadata": {},
   "outputs": [],
   "source": [
    "# setuptools를 이용해서 설치해서 사용"
   ]
  },
  {
   "cell_type": "code",
   "execution_count": 42,
   "id": "3a35693f",
   "metadata": {},
   "outputs": [
    {
     "name": "stdout",
     "output_type": "stream",
     "text": [
      "Overwriting school/setup.py\n"
     ]
    }
   ],
   "source": [
    "%%writefile school/setup.py\n",
    "\n",
    "from setuptools import setup, find_packages\n",
    "\n",
    "setup(\n",
    "    name=\"rrr\",\n",
    "    packages=find_packages(),\n",
    "    include_package_data = True,\n",
    "    version=\"0.0.1\",\n",
    "    author_email =\"kimkh1517@gmail.com\",\n",
    "    zip_safe=False\n",
    ")"
   ]
  },
  {
   "cell_type": "code",
   "execution_count": 7,
   "id": "cdd072d6",
   "metadata": {},
   "outputs": [
    {
     "name": "stdout",
     "output_type": "stream",
     "text": [
      "Folder PATH listing\n",
      "Volume serial number is 00000068 EAAE:42F3\n",
      "C:\\CODE\\01_PYTHON\\SCHOOL\n",
      "│   setup.py\n",
      "│   \n",
      "├───dss\n",
      "│   │   data1.py\n",
      "│   │   data2.py\n",
      "│   │   __init__.py\n",
      "│   │   \n",
      "│   └───__pycache__\n",
      "│           data1.cpython-38.pyc\n",
      "│           data2.cpython-38.pyc\n",
      "│           __init__.cpython-38.pyc\n",
      "│           \n",
      "├───dss.egg-info\n",
      "│       dependency_links.txt\n",
      "│       not-zip-safe\n",
      "│       PKG-INFO\n",
      "│       SOURCES.txt\n",
      "│       top_level.txt\n",
      "│       \n",
      "├───rrr.egg-info\n",
      "│       dependency_links.txt\n",
      "│       not-zip-safe\n",
      "│       PKG-INFO\n",
      "│       SOURCES.txt\n",
      "│       top_level.txt\n",
      "│       \n",
      "└───web\n",
      "    │   url.py\n",
      "    │   __init__.py\n",
      "    │   \n",
      "    └───__pycache__\n",
      "            url.cpython-38.pyc\n",
      "            __init__.cpython-38.pyc\n",
      "            \n"
     ]
    }
   ],
   "source": [
    "!tree school /f"
   ]
  },
  {
   "cell_type": "code",
   "execution_count": 12,
   "id": "a8ba51c8",
   "metadata": {},
   "outputs": [],
   "source": [
    "# 패키치 설치 확인"
   ]
  },
  {
   "cell_type": "code",
   "execution_count": 41,
   "id": "e48df197",
   "metadata": {},
   "outputs": [],
   "source": [
    "!pip list | grep dss"
   ]
  },
  {
   "cell_type": "code",
   "execution_count": 14,
   "id": "223c1c79",
   "metadata": {},
   "outputs": [],
   "source": [
    "# 패키지 설치\n",
    "# 터미널에서.\n",
    "# shcool $ python setup.py develop\n",
    "# 커널 리스타트\n",
    "# develop : 개발자 모드, 코드를 수정하면 설치된 패키지도 같이 수정\n",
    "# build : 일반모드, 코드를 수정하면 다시 설치해야 수정된 코드가 적용"
   ]
  },
  {
   "cell_type": "code",
   "execution_count": 8,
   "id": "752b80e9",
   "metadata": {},
   "outputs": [
    {
     "name": "stdout",
     "output_type": "stream",
     "text": [
      "dss                                0.0.1\n"
     ]
    }
   ],
   "source": [
    "!pip list | grep dss"
   ]
  },
  {
   "cell_type": "code",
   "execution_count": 4,
   "id": "6f9e5d3e",
   "metadata": {},
   "outputs": [],
   "source": [
    "from dss import *"
   ]
  },
  {
   "cell_type": "code",
   "execution_count": 5,
   "id": "95555548",
   "metadata": {},
   "outputs": [
    {
     "name": "stdout",
     "output_type": "stream",
     "text": [
      "Variable   Type      Data/Info\n",
      "------------------------------\n",
      "data1      module    <module 'dss.data1' from <...>\\\\school\\\\dss\\\\data1.py'>\n",
      "data2      module    <module 'dss.data2' from <...>\\\\school\\\\dss\\\\data2.py'>\n"
     ]
    }
   ],
   "source": [
    "%whos"
   ]
  },
  {
   "cell_type": "code",
   "execution_count": 4,
   "id": "dd5111bb",
   "metadata": {},
   "outputs": [
    {
     "name": "stdout",
     "output_type": "stream",
     "text": [
      "data1\n"
     ]
    },
    {
     "data": {
      "text/plain": [
       "3"
      ]
     },
     "execution_count": 4,
     "metadata": {},
     "output_type": "execute_result"
    }
   ],
   "source": [
    "data1.plus(1, 2)"
   ]
  },
  {
   "cell_type": "code",
   "execution_count": 8,
   "id": "38ff22fa",
   "metadata": {},
   "outputs": [],
   "source": [
    "# uninstall \n",
    "# pip uninstall dss < 터미널 입력."
   ]
  },
  {
   "cell_type": "code",
   "execution_count": 9,
   "id": "b30b897f",
   "metadata": {},
   "outputs": [],
   "source": [
    "!pip list | grep dss"
   ]
  }
 ],
 "metadata": {
  "kernelspec": {
   "display_name": "Python 3",
   "language": "python",
   "name": "python3"
  },
  "language_info": {
   "codemirror_mode": {
    "name": "ipython",
    "version": 3
   },
   "file_extension": ".py",
   "mimetype": "text/x-python",
   "name": "python",
   "nbconvert_exporter": "python",
   "pygments_lexer": "ipython3",
   "version": "3.8.8"
  }
 },
 "nbformat": 4,
 "nbformat_minor": 5
}
