{
 "cells": [
  {
   "cell_type": "markdown",
   "id": "8467d753",
   "metadata": {},
   "source": [
    "### magic command error\n",
    "- %reset\n",
    "- %time\n",
    "\n",
    "```\n",
    "jupyter notebook error : root:invalid alias: the name man can't be aliased because it is another magic command\n",
    "```\n",
    "- ipython 버전을 downgrade\n",
    "    - conda uninstall ipython\n",
    "    - conda install ipython=7.2.0\n",
    "    - conda install jupyter"
   ]
  },
  {
   "cell_type": "markdown",
   "id": "c0732871",
   "metadata": {},
   "source": [
    "### summary\n",
    "- 조건문\n",
    "    - if, else, elif\n",
    "    - 특정 조건에 따라서 코드를 실행하고 싶을 때 사용\n",
    "- 반복문\n",
    "    - while, for\n",
    "    - 특정 코드를 반복적으로 실행 시키고 싶을 때 사용\n",
    "    - continue, break"
   ]
  },
  {
   "cell_type": "code",
   "execution_count": 1,
   "id": "d52ff0ed",
   "metadata": {
    "scrolled": true
   },
   "outputs": [
    {
     "name": "stdout",
     "output_type": "stream",
     "text": [
      "input sentence : python language IS the best Language\n"
     ]
    },
    {
     "data": {
      "text/plain": [
       "'Python language is the best language.'"
      ]
     },
     "execution_count": 1,
     "metadata": {},
     "output_type": "execute_result"
    }
   ],
   "source": [
    "# 문장을 입력받아서 문법에 맞도록 결과를 출력하는 코드를 작성\n",
    "# 마지막 문자는 .이 있을 수도 있고 없을 수도 있습니다.\n",
    "# 논리적인 문제 해결 순서 -> 코드를 변경\n",
    "\n",
    "# python language IS the best Language / python IS the best language.\n",
    "# Python is the best language.\n",
    "\n",
    "# 입력받기\n",
    "sentence = input(\"input sentence : \") \n",
    "\n",
    "# 문자 필터링 하기 : 첫글자 대문자,이후 모두 소문자, \n",
    "def filltering(sentence) :\n",
    "    modified_sentence = \"\"\n",
    "    first = sentence[0].upper() # 첫글자 대문자\n",
    "    middle = sentence[1:].lower() # 모두 소문자\n",
    "    modified_sentence = first + middle\n",
    "    if sentence[-1] != \".\" : # 마지막. 찍기\n",
    "        modified_sentence += \".\"\n",
    "    return modified_sentence\n",
    "\n",
    "# 결과 출력하기\n",
    "result = filltering(sentence)\n",
    "result"
   ]
  },
  {
   "cell_type": "code",
   "execution_count": 2,
   "id": "478af1ec",
   "metadata": {},
   "outputs": [
    {
     "name": "stdout",
     "output_type": "stream",
     "text": [
      "[29, 41, 21, 18, 11, 25]\n"
     ]
    }
   ],
   "source": [
    "# 6자리의 로또번호를 생성하는 코드를 작성하세요.\n",
    "# 6자리의 번호는 중복이 X\n",
    "# 문자열 , 숫자 , 리스트  아무타입으로 출력\n",
    "\n",
    "import random\n",
    "\n",
    "# random.randint(1,45)\n",
    "\n",
    "# 6번을 반복해서 뽑아 리스트에 저장\n",
    "\n",
    "ls = []\n",
    "while len(ls) < 6:\n",
    "    num = random.randint(1,45)\n",
    "    if len(ls) == 0 :\n",
    "        ls.append(num)\n",
    "    else :\n",
    "        result = False\n",
    "        for n in range(len(ls)) :\n",
    "            if ls[n] == num : # 같은 숫자면 패스\n",
    "                result = False\n",
    "                break\n",
    "            else :\n",
    "                result = True\n",
    "        if result == True :\n",
    "            ls.append(num)\n",
    "                \n",
    "        \n",
    "print(ls)"
   ]
  },
  {
   "cell_type": "code",
   "execution_count": 3,
   "id": "02ee1d16",
   "metadata": {},
   "outputs": [
    {
     "data": {
      "text/plain": [
       "[5, 12, 14, 19, 21, 25]"
      ]
     },
     "execution_count": 3,
     "metadata": {},
     "output_type": "execute_result"
    }
   ],
   "source": [
    "# 먼저 6개의 랜덤함수 뽑는다\n",
    "\n",
    "lotto = []\n",
    "\n",
    "while True :\n",
    "    number = random.randint(1, 45)\n",
    "    # 리스트에 추가 / 리스트에 같은 숫자가 없을 때 추가한다.\n",
    "    if number not in lotto :\n",
    "        lotto.append(number)\n",
    "    \n",
    "    if len(lotto) >= 6 :\n",
    "        lotto.sort()\n",
    "        break\n",
    "    \n",
    "lotto"
   ]
  },
  {
   "cell_type": "markdown",
   "id": "b199cd91",
   "metadata": {},
   "source": [
    "### 함수 2\n",
    "- docstring\n",
    "- scope\n",
    "- inner function\n",
    "- lambda function\n",
    "- map, filter, reduce,\n",
    "- decorater"
   ]
  },
  {
   "cell_type": "markdown",
   "id": "6ea58f36",
   "metadata": {},
   "source": [
    "### 1. dcostring\n",
    "- 함수의 설명을 작성"
   ]
  },
  {
   "cell_type": "code",
   "execution_count": 4,
   "id": "070d88d9",
   "metadata": {},
   "outputs": [],
   "source": [
    "def echo(msg) :\n",
    "    \"echo print msg\" # docstring\n",
    "    print(msg)"
   ]
  },
  {
   "cell_type": "code",
   "execution_count": 5,
   "id": "b3d4d002",
   "metadata": {},
   "outputs": [],
   "source": [
    "def echo(msg):\n",
    "    \"\"\"\n",
    "    echo return its input agument\n",
    "    The opration is:\n",
    "        1. print msg parameter\n",
    "        2. return msg parameter\n",
    "    param : msg : str\n",
    "    return : str\n",
    "    \"\"\"\n",
    "    print(msg)\n",
    "    return msg"
   ]
  },
  {
   "cell_type": "code",
   "execution_count": 6,
   "id": "f675ddb1",
   "metadata": {},
   "outputs": [],
   "source": [
    "echo??"
   ]
  },
  {
   "cell_type": "code",
   "execution_count": 7,
   "id": "2c19754e",
   "metadata": {},
   "outputs": [
    {
     "name": "stdout",
     "output_type": "stream",
     "text": [
      "Help on function echo in module __main__:\n",
      "\n",
      "echo(msg)\n",
      "    echo return its input agument\n",
      "    The opration is:\n",
      "        1. print msg parameter\n",
      "        2. return msg parameter\n",
      "    param : msg : str\n",
      "    return : str\n",
      "\n"
     ]
    }
   ],
   "source": [
    "help(echo)"
   ]
  },
  {
   "cell_type": "code",
   "execution_count": 8,
   "id": "61c45347",
   "metadata": {},
   "outputs": [
    {
     "name": "stdout",
     "output_type": "stream",
     "text": [
      "\n",
      "    echo return its input agument\n",
      "    The opration is:\n",
      "        1. print msg parameter\n",
      "        2. return msg parameter\n",
      "    param : msg : str\n",
      "    return : str\n",
      "    \n"
     ]
    }
   ],
   "source": [
    "print(echo.__doc__)"
   ]
  },
  {
   "cell_type": "markdown",
   "id": "633f34c9",
   "metadata": {},
   "source": [
    "### 2. scope 범위\n",
    "- 함수 안에서 선언되는 변수와 함수 밖에서 선언되는 변수의 범위가 다름\n",
    "- global(전역), local(지역)"
   ]
  },
  {
   "cell_type": "code",
   "execution_count": 9,
   "id": "de6ea0fb",
   "metadata": {},
   "outputs": [
    {
     "name": "stdout",
     "output_type": "stream",
     "text": [
      "10\n"
     ]
    }
   ],
   "source": [
    "# global\n",
    "\n",
    "gv = 10\n",
    "\n",
    "def echo():\n",
    "    print(gv)\n",
    "\n",
    "echo()"
   ]
  },
  {
   "cell_type": "code",
   "execution_count": 10,
   "id": "1faed42f",
   "metadata": {},
   "outputs": [
    {
     "name": "stdout",
     "output_type": "stream",
     "text": [
      "100\n"
     ]
    }
   ],
   "source": [
    "#local\n",
    "gv = 10\n",
    "\n",
    "def echo():\n",
    "    gv = 100\n",
    "    print(gv)\n",
    "\n",
    "echo()"
   ]
  },
  {
   "cell_type": "code",
   "execution_count": 11,
   "id": "83e5eaec",
   "metadata": {},
   "outputs": [
    {
     "data": {
      "text/plain": [
       "10"
      ]
     },
     "execution_count": 11,
     "metadata": {},
     "output_type": "execute_result"
    }
   ],
   "source": [
    "gv"
   ]
  },
  {
   "cell_type": "code",
   "execution_count": 12,
   "id": "cdce3e1e",
   "metadata": {},
   "outputs": [
    {
     "name": "stdout",
     "output_type": "stream",
     "text": [
      "100\n"
     ]
    },
    {
     "data": {
      "text/plain": [
       "100"
      ]
     },
     "execution_count": 12,
     "metadata": {},
     "output_type": "execute_result"
    }
   ],
   "source": [
    "gv = 10\n",
    "\n",
    "def echo():\n",
    "    global gv\n",
    "    gv = 100\n",
    "    print(gv)\n",
    "\n",
    "echo()\n",
    "gv # 100"
   ]
  },
  {
   "cell_type": "markdown",
   "id": "d02921db",
   "metadata": {},
   "source": [
    "### 3. inner function\n",
    "- 함수가 지역 영역에 선언, 함수안에 함수가 선언"
   ]
  },
  {
   "cell_type": "code",
   "execution_count": 13,
   "id": "d80f90b5",
   "metadata": {},
   "outputs": [],
   "source": [
    "def outer(a, b) :\n",
    "    \n",
    "    def inner(c, d) :\n",
    "        return c + d\n",
    "    \n",
    "    return inner(a, b)\n"
   ]
  },
  {
   "cell_type": "code",
   "execution_count": 14,
   "id": "68f6bf10",
   "metadata": {},
   "outputs": [
    {
     "data": {
      "text/plain": [
       "3"
      ]
     },
     "execution_count": 14,
     "metadata": {},
     "output_type": "execute_result"
    }
   ],
   "source": [
    "outer(1, 2)"
   ]
  },
  {
   "cell_type": "code",
   "execution_count": 15,
   "id": "de01b85e",
   "metadata": {},
   "outputs": [
    {
     "ename": "NameError",
     "evalue": "name 'inner' is not defined",
     "output_type": "error",
     "traceback": [
      "\u001b[1;31m---------------------------------------------------------------------------\u001b[0m",
      "\u001b[1;31mNameError\u001b[0m                                 Traceback (most recent call last)",
      "\u001b[1;32m<ipython-input-15-9e0c46b3ac78>\u001b[0m in \u001b[0;36m<module>\u001b[1;34m\u001b[0m\n\u001b[0;32m      1\u001b[0m \u001b[1;31m# 지역함수는 전역 영역에서 사용이 불가\u001b[0m\u001b[1;33m\u001b[0m\u001b[1;33m\u001b[0m\u001b[1;33m\u001b[0m\u001b[0m\n\u001b[1;32m----> 2\u001b[1;33m \u001b[0minner\u001b[0m\u001b[1;33m(\u001b[0m\u001b[1;36m2\u001b[0m\u001b[1;33m,\u001b[0m \u001b[1;36m3\u001b[0m\u001b[1;33m)\u001b[0m\u001b[1;33m\u001b[0m\u001b[1;33m\u001b[0m\u001b[0m\n\u001b[0m",
      "\u001b[1;31mNameError\u001b[0m: name 'inner' is not defined"
     ]
    }
   ],
   "source": [
    "# 지역함수는 전역 영역에서 사용이 불가\n",
    "inner(2, 3)"
   ]
  },
  {
   "cell_type": "code",
   "execution_count": 16,
   "id": "2db01b13",
   "metadata": {},
   "outputs": [],
   "source": [
    "def outer(a, b) :\n",
    "    \n",
    "    def inner(c, d) :\n",
    "        print(a, b)\n",
    "        return c + d\n",
    "    \n",
    "    return inner # 지역 함수자체를 리턴하면 전역에서도 사용이 가능"
   ]
  },
  {
   "cell_type": "code",
   "execution_count": 17,
   "id": "12feecee",
   "metadata": {},
   "outputs": [
    {
     "name": "stdout",
     "output_type": "stream",
     "text": [
      "1 2\n"
     ]
    },
    {
     "data": {
      "text/plain": [
       "7"
      ]
     },
     "execution_count": 17,
     "metadata": {},
     "output_type": "execute_result"
    }
   ],
   "source": [
    "outer(1,2)(3,4)"
   ]
  },
  {
   "cell_type": "code",
   "execution_count": 18,
   "id": "2b5808c7",
   "metadata": {},
   "outputs": [],
   "source": [
    "# callback function : 함수를 아규먼트 파라미터로 설정해서 사용\n",
    "\n",
    "def calc(func, a, b) :\n",
    "    # code..\n",
    "    a **= 2\n",
    "    b **= 2\n",
    "    return func(a,b)"
   ]
  },
  {
   "cell_type": "code",
   "execution_count": 19,
   "id": "c54a339d",
   "metadata": {},
   "outputs": [],
   "source": [
    "def plus(a, b) :\n",
    "    return a + b"
   ]
  },
  {
   "cell_type": "code",
   "execution_count": 20,
   "id": "dcf4c0bc",
   "metadata": {},
   "outputs": [],
   "source": [
    "def minus(a, b) :\n",
    "    return a - b"
   ]
  },
  {
   "cell_type": "code",
   "execution_count": 21,
   "id": "436c74d8",
   "metadata": {},
   "outputs": [
    {
     "data": {
      "text/plain": [
       "5"
      ]
     },
     "execution_count": 21,
     "metadata": {},
     "output_type": "execute_result"
    }
   ],
   "source": [
    "calc(plus, 1, 2) # 덧셈"
   ]
  },
  {
   "cell_type": "code",
   "execution_count": 22,
   "id": "1c788280",
   "metadata": {},
   "outputs": [
    {
     "data": {
      "text/plain": [
       "-3"
      ]
     },
     "execution_count": 22,
     "metadata": {},
     "output_type": "execute_result"
    }
   ],
   "source": [
    "calc(minus, 1, 2) # 뺄셈"
   ]
  },
  {
   "cell_type": "markdown",
   "id": "102a968f",
   "metadata": {},
   "source": [
    "### 4.람다 함수\n",
    "- 파라미터를 간단한 계산으로 리턴되는 함수 : 삼항연산"
   ]
  },
  {
   "cell_type": "code",
   "execution_count": 23,
   "id": "cd9d003c",
   "metadata": {},
   "outputs": [],
   "source": [
    "def plus(a, b) :\n",
    "    return a + b"
   ]
  },
  {
   "cell_type": "code",
   "execution_count": 24,
   "id": "5201d0e3",
   "metadata": {},
   "outputs": [
    {
     "data": {
      "text/plain": [
       "3"
      ]
     },
     "execution_count": 24,
     "metadata": {},
     "output_type": "execute_result"
    }
   ],
   "source": [
    "plus(1,2)"
   ]
  },
  {
   "cell_type": "code",
   "execution_count": 25,
   "id": "85a74d65",
   "metadata": {},
   "outputs": [],
   "source": [
    "plus2 = lambda a, b : a + b"
   ]
  },
  {
   "cell_type": "code",
   "execution_count": 26,
   "id": "45051b33",
   "metadata": {},
   "outputs": [
    {
     "data": {
      "text/plain": [
       "5"
      ]
     },
     "execution_count": 26,
     "metadata": {},
     "output_type": "execute_result"
    }
   ],
   "source": [
    "plus2(2,3)"
   ]
  },
  {
   "cell_type": "code",
   "execution_count": 27,
   "id": "6cbf38d0",
   "metadata": {},
   "outputs": [
    {
     "data": {
      "text/plain": [
       "144"
      ]
     },
     "execution_count": 27,
     "metadata": {},
     "output_type": "execute_result"
    }
   ],
   "source": [
    "# calc(func, a, b)\n",
    "calc(lambda a,b : a*b, 3,4)"
   ]
  },
  {
   "cell_type": "markdown",
   "id": "548f39b2",
   "metadata": {},
   "source": [
    "### 5. map, filter, reduce\n",
    "- map : 순서가 있는 데이터 집합에서 모든 값에 함수를 적용시킨 결과를 출력"
   ]
  },
  {
   "cell_type": "code",
   "execution_count": null,
   "id": "487e4f46",
   "metadata": {},
   "outputs": [],
   "source": []
  },
  {
   "cell_type": "code",
   "execution_count": 1,
   "id": "63e825e8",
   "metadata": {},
   "outputs": [
    {
     "data": {
      "text/plain": [
       "('odd', 'even')"
      ]
     },
     "execution_count": 1,
     "metadata": {},
     "output_type": "execute_result"
    }
   ],
   "source": [
    "ls = [1, 2, 3, 4]\n",
    "ls2 = [5, 6, 7, 8]\n",
    "def odd_even(num):\n",
    "    return \"odd\" if num % 2 else \"even\" \n",
    "odd_even(3), odd_even(4)"
   ]
  },
  {
   "cell_type": "code",
   "execution_count": 3,
   "id": "102c4645",
   "metadata": {},
   "outputs": [
    {
     "data": {
      "text/plain": [
       "['odd', 'even', 'odd', 'even']"
      ]
     },
     "execution_count": 3,
     "metadata": {},
     "output_type": "execute_result"
    }
   ],
   "source": [
    "# map\n",
    "\n",
    "list(map(odd_even, ls))"
   ]
  },
  {
   "cell_type": "code",
   "execution_count": 30,
   "id": "62e15022",
   "metadata": {},
   "outputs": [],
   "source": [
    "# input 함수로 구분자는 \" \" 으로 여러개의 숫자를 입력 받습니다.\n",
    "# str.split(\" \") 리스트로 만들고\n",
    "# 만들어진 리스트의 값들을 int 형변환"
   ]
  },
  {
   "cell_type": "code",
   "execution_count": 62,
   "id": "d5ed69a7",
   "metadata": {
    "scrolled": true
   },
   "outputs": [
    {
     "name": "stdout",
     "output_type": "stream",
     "text": [
      "insert numbers : 305 50 55 66 77\n"
     ]
    }
   ],
   "source": [
    "datas = input(\"insert numbers : \")"
   ]
  },
  {
   "cell_type": "code",
   "execution_count": 63,
   "id": "9a5fd0a1",
   "metadata": {},
   "outputs": [
    {
     "data": {
      "text/plain": [
       "['305', '50', '55', '66', '77']"
      ]
     },
     "execution_count": 63,
     "metadata": {},
     "output_type": "execute_result"
    }
   ],
   "source": [
    "result = datas.split(\" \")\n",
    "result"
   ]
  },
  {
   "cell_type": "code",
   "execution_count": 64,
   "id": "c89539f6",
   "metadata": {},
   "outputs": [
    {
     "data": {
      "text/plain": [
       "[305, 50, 55, 66, 77]"
      ]
     },
     "execution_count": 64,
     "metadata": {},
     "output_type": "execute_result"
    }
   ],
   "source": [
    "result = list(map(int,result))\n",
    "result"
   ]
  },
  {
   "cell_type": "code",
   "execution_count": 65,
   "id": "7dd9484a",
   "metadata": {},
   "outputs": [
    {
     "data": {
      "text/plain": [
       "(5,)"
      ]
     },
     "execution_count": 65,
     "metadata": {},
     "output_type": "execute_result"
    }
   ],
   "source": [
    "# 멀티라인 수정 crtl + alt + 드래그\n",
    "\n",
    "1,\n",
    "2,\n",
    "3,\n",
    "4,\n",
    "5,"
   ]
  },
  {
   "cell_type": "markdown",
   "id": "c0174d2b",
   "metadata": {},
   "source": [
    "#### Filter\n",
    "- 리스트 데이터에서 특정 조건에 맞는 value 만 남기는 함수"
   ]
  },
  {
   "cell_type": "code",
   "execution_count": 35,
   "id": "c4d99c6c",
   "metadata": {},
   "outputs": [],
   "source": [
    "ls = range(10)"
   ]
  },
  {
   "cell_type": "code",
   "execution_count": 36,
   "id": "d16bc83d",
   "metadata": {},
   "outputs": [
    {
     "data": {
      "text/plain": [
       "[1, 3, 5, 7, 9]"
      ]
     },
     "execution_count": 36,
     "metadata": {},
     "output_type": "execute_result"
    }
   ],
   "source": [
    "# 홀수만 출력\n",
    "list(filter(lambda data : True if data % 2 else False , ls))"
   ]
  },
  {
   "cell_type": "markdown",
   "id": "f1a8ed5d",
   "metadata": {},
   "source": [
    "#### Reduce\n",
    "- 리스트 데이터를 처음부터 순서대로 특정함수를 실행하여 결과를 누적시켜 주는 함수"
   ]
  },
  {
   "cell_type": "code",
   "execution_count": 66,
   "id": "8aa6d314",
   "metadata": {},
   "outputs": [],
   "source": [
    "from functools import reduce # <로 사용가능"
   ]
  },
  {
   "cell_type": "code",
   "execution_count": 38,
   "id": "a82638a6",
   "metadata": {},
   "outputs": [
    {
     "data": {
      "text/plain": [
       "15"
      ]
     },
     "execution_count": 38,
     "metadata": {},
     "output_type": "execute_result"
    }
   ],
   "source": [
    "ls = [3, 1, 2, 4, 5]\n",
    "reduce(lambda x, y : x + y , ls) #함수의 파라미터가 두개여야한다"
   ]
  },
  {
   "cell_type": "markdown",
   "id": "be488260",
   "metadata": {},
   "source": [
    "### 6. Decorator\n",
    "- 함수에서 코드를 바꾸지 않고 기능을 추가하거나 수정하고 싶을 때 사용하는 문법\n",
    "\n",
    "```\n",
    "def a() :\n",
    "    code_1\n",
    "    code_2\n",
    "    code_3\n",
    "    \n",
    "def b():\n",
    "    code_1\n",
    "    code_4\n",
    "    code_3\n",
    "```"
   ]
  },
  {
   "cell_type": "markdown",
   "id": "b20dbeaf",
   "metadata": {},
   "source": [
    "- 데코레이터의 사용\n",
    "\n",
    "```\n",
    "def c(func) :\n",
    "    def wrapper(*args, **kwargs):\n",
    "        code_1\n",
    "        result = func(*args, **kwargs)\n",
    "        code_3\n",
    "        return result\n",
    "        \n",
    "    return wrapper\n",
    "\n",
    "@c\n",
    "def a():\n",
    "    code_2\n",
    "@c\n",
    "def b():\n",
    "    code_4\n",
    "    \n",
    "```"
   ]
  },
  {
   "cell_type": "code",
   "execution_count": 39,
   "id": "ce745044",
   "metadata": {},
   "outputs": [],
   "source": [
    "# a\n",
    "def plus(a, b) :\n",
    "    print(\"start\")                      # code 1\n",
    "    result = a + b                      # code 2\n",
    "    print(\"result : {}\".format(result)) # code 3\n",
    "    return result"
   ]
  },
  {
   "cell_type": "code",
   "execution_count": 40,
   "id": "ecf3f140",
   "metadata": {},
   "outputs": [],
   "source": [
    "# b\n",
    "def minus(a, b) :\n",
    "    print(\"start\")                      # code 1\n",
    "    result = a - b                      # code 4\n",
    "    print(\"result : {}\".format(result)) # code 3\n",
    "    return result"
   ]
  },
  {
   "cell_type": "code",
   "execution_count": 41,
   "id": "ef5220ba",
   "metadata": {},
   "outputs": [],
   "source": [
    "# c\n",
    "def disp(func):\n",
    "    def wrapper(*args, **kwargs) :\n",
    "        print(\"start\")                      # code 1\n",
    "        result = func(*args, **kwargs)               # code 2 or 4\n",
    "        print(\"result : {}\".format(result)) # code 3\n",
    "        return result\n",
    "    return wrapper"
   ]
  },
  {
   "cell_type": "code",
   "execution_count": 42,
   "id": "d46ef9ab",
   "metadata": {},
   "outputs": [
    {
     "name": "stdout",
     "output_type": "stream",
     "text": [
      "start\n",
      "result : 3\n"
     ]
    },
    {
     "data": {
      "text/plain": [
       "3"
      ]
     },
     "execution_count": 42,
     "metadata": {},
     "output_type": "execute_result"
    }
   ],
   "source": [
    "plus(1, 2)"
   ]
  },
  {
   "cell_type": "code",
   "execution_count": 43,
   "id": "c57a6a3e",
   "metadata": {},
   "outputs": [],
   "source": [
    "def plus(a, b) : \n",
    "    result = a + b                      # code 2\n",
    "    return result"
   ]
  },
  {
   "cell_type": "code",
   "execution_count": 44,
   "id": "b8b52f95",
   "metadata": {},
   "outputs": [
    {
     "data": {
      "text/plain": [
       "3"
      ]
     },
     "execution_count": 44,
     "metadata": {},
     "output_type": "execute_result"
    }
   ],
   "source": [
    "plus(1, 2)"
   ]
  },
  {
   "cell_type": "code",
   "execution_count": 45,
   "id": "1af731d9",
   "metadata": {},
   "outputs": [],
   "source": [
    "@disp\n",
    "def plus(a, b) :\n",
    "    result = a + b                      # code 2\n",
    "    return result"
   ]
  },
  {
   "cell_type": "code",
   "execution_count": 46,
   "id": "ff4e4d4d",
   "metadata": {},
   "outputs": [
    {
     "name": "stdout",
     "output_type": "stream",
     "text": [
      "start\n",
      "result : 3\n"
     ]
    },
    {
     "data": {
      "text/plain": [
       "3"
      ]
     },
     "execution_count": 46,
     "metadata": {},
     "output_type": "execute_result"
    }
   ],
   "source": [
    "plus(1, 2)"
   ]
  },
  {
   "cell_type": "code",
   "execution_count": 47,
   "id": "3e7c6836",
   "metadata": {},
   "outputs": [],
   "source": [
    "# 함수의 실행시간을 출력하는 데코레이터 함수를 작성하세요."
   ]
  },
  {
   "cell_type": "code",
   "execution_count": 48,
   "id": "8fbd2073",
   "metadata": {},
   "outputs": [],
   "source": [
    "# @timer\n",
    "# def test() :\n",
    "#     # code..\n",
    "# @timer\n",
    "# def test2() :\n",
    "#     # code.."
   ]
  },
  {
   "cell_type": "code",
   "execution_count": 49,
   "id": "f32e13ac",
   "metadata": {},
   "outputs": [],
   "source": [
    "import time"
   ]
  },
  {
   "cell_type": "code",
   "execution_count": 50,
   "id": "0dbd7699",
   "metadata": {},
   "outputs": [],
   "source": [
    "def timer(func) :\n",
    "    def wrapper(*args, **kwargs) :\n",
    "        start_time = time.time()       # code1\n",
    "        result = func(*args, **kwargs) # code2, code4\n",
    "        end_time = time.time()         # code3\n",
    "        print(\"running time: {}\".format(end_time - start_time)) #code3\n",
    "        return result\n",
    "    return wrapper\n"
   ]
  },
  {
   "cell_type": "code",
   "execution_count": 51,
   "id": "b3d21f6b",
   "metadata": {},
   "outputs": [],
   "source": [
    "@timer\n",
    "def test1(num1, num2) :\n",
    "    data = range(num1, num2+1)\n",
    "    return sum(data)"
   ]
  },
  {
   "cell_type": "code",
   "execution_count": 52,
   "id": "ba5c415c",
   "metadata": {},
   "outputs": [],
   "source": [
    "@timer\n",
    "def test2(num1, num2) :\n",
    "    result = 0\n",
    "    for num in range(num1, num2+1) :\n",
    "        result += num\n",
    "    return result"
   ]
  },
  {
   "cell_type": "code",
   "execution_count": 53,
   "id": "02f46c9b",
   "metadata": {},
   "outputs": [
    {
     "name": "stdout",
     "output_type": "stream",
     "text": [
      "running time: 0.003996610641479492\n"
     ]
    },
    {
     "data": {
      "text/plain": [
       "5000050000"
      ]
     },
     "execution_count": 53,
     "metadata": {},
     "output_type": "execute_result"
    }
   ],
   "source": [
    "test1(1, 100000)"
   ]
  },
  {
   "cell_type": "code",
   "execution_count": 54,
   "id": "2cf7a558",
   "metadata": {},
   "outputs": [
    {
     "name": "stdout",
     "output_type": "stream",
     "text": [
      "running time: 0.004952192306518555\n"
     ]
    },
    {
     "data": {
      "text/plain": [
       "5000050000"
      ]
     },
     "execution_count": 54,
     "metadata": {},
     "output_type": "execute_result"
    }
   ],
   "source": [
    "test2(1, 100000)"
   ]
  },
  {
   "cell_type": "code",
   "execution_count": 55,
   "id": "5ab17752",
   "metadata": {},
   "outputs": [],
   "source": [
    "# 패스워드를 입력 받아야 함수가 실행되도록 하는 데코레이터 작성"
   ]
  },
  {
   "cell_type": "code",
   "execution_count": 56,
   "id": "e4568e6a",
   "metadata": {},
   "outputs": [],
   "source": [
    "def check_password(func) :\n",
    "    def wrapper(*args, **kwargs) :\n",
    "        pw = \"dss11\"\n",
    "#         datas = [\n",
    "#             {\"id\" : \"test\", \"pw\" : \"1234\"},\n",
    "#             {\"id\" : \"test2\", \"pw\" : \"4321\"},\n",
    "#         ]\n",
    "        # check password\n",
    "        input_pw = input(\"insert pw : \")\n",
    "        \n",
    "        if input_pw == pw :\n",
    "            result = func(*args, **kwargs)\n",
    "        else :\n",
    "            result = \"not allow!\"\n",
    "        return result\n",
    "    \n",
    "    return wrapper"
   ]
  },
  {
   "cell_type": "code",
   "execution_count": 57,
   "id": "77735077",
   "metadata": {},
   "outputs": [],
   "source": [
    "@check_password\n",
    "def plus(a, b) :\n",
    "    return a + b"
   ]
  },
  {
   "cell_type": "code",
   "execution_count": 58,
   "id": "7acdf10b",
   "metadata": {},
   "outputs": [
    {
     "name": "stdout",
     "output_type": "stream",
     "text": [
      "insert pw : dss11\n"
     ]
    },
    {
     "data": {
      "text/plain": [
       "3"
      ]
     },
     "execution_count": 58,
     "metadata": {},
     "output_type": "execute_result"
    }
   ],
   "source": [
    "plus(1,2)"
   ]
  },
  {
   "cell_type": "code",
   "execution_count": 60,
   "id": "a47bceab",
   "metadata": {},
   "outputs": [],
   "source": [
    "@check_password\n",
    "def lotto_func():\n",
    "    lotto = []\n",
    "    while True :\n",
    "        number = random.randint(1, 45)\n",
    "        if number not in lotto :\n",
    "            lotto.append(number)\n",
    "\n",
    "        if len(lotto) >= 6 :\n",
    "            lotto.sort()\n",
    "            break\n",
    "    return lotto"
   ]
  },
  {
   "cell_type": "code",
   "execution_count": 61,
   "id": "8e65a1d6",
   "metadata": {},
   "outputs": [
    {
     "name": "stdout",
     "output_type": "stream",
     "text": [
      "insert pw : dss11\n"
     ]
    },
    {
     "data": {
      "text/plain": [
       "[2, 5, 10, 23, 32, 38]"
      ]
     },
     "execution_count": 61,
     "metadata": {},
     "output_type": "execute_result"
    }
   ],
   "source": [
    "lotto_func()"
   ]
  },
  {
   "cell_type": "code",
   "execution_count": null,
   "id": "390568da",
   "metadata": {},
   "outputs": [],
   "source": []
  }
 ],
 "metadata": {
  "kernelspec": {
   "display_name": "Python 3",
   "language": "python",
   "name": "python3"
  },
  "language_info": {
   "codemirror_mode": {
    "name": "ipython",
    "version": 3
   },
   "file_extension": ".py",
   "mimetype": "text/x-python",
   "name": "python",
   "nbconvert_exporter": "python",
   "pygments_lexer": "ipython3",
   "version": "3.8.8"
  }
 },
 "nbformat": 4,
 "nbformat_minor": 5
}
