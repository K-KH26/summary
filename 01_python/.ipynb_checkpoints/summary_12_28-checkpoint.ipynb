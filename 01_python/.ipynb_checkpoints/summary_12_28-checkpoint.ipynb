{
 "cells": [
  {
   "cell_type": "code",
   "execution_count": 1,
   "id": "ab3cfc74",
   "metadata": {},
   "outputs": [
    {
     "name": "stdout",
     "output_type": "stream",
     "text": [
      "Variable   Type      Data/Info\n",
      "------------------------------\n",
      "autopep8   module    <module 'autopep8' from '<...>e-packages\\\\autopep8.py'>\n",
      "json       module    <module 'json' from 'C:\\\\<...>\\lib\\\\json\\\\__init__.py'>\n"
     ]
    }
   ],
   "source": [
    "%whos"
   ]
  },
  {
   "cell_type": "code",
   "execution_count": 2,
   "id": "e1b320db",
   "metadata": {},
   "outputs": [
    {
     "data": {
      "text/plain": [
       "'C:\\\\Code\\\\01_python'"
      ]
     },
     "execution_count": 2,
     "metadata": {},
     "output_type": "execute_result"
    }
   ],
   "source": [
    "%pwd"
   ]
  },
  {
   "cell_type": "code",
   "execution_count": 3,
   "id": "10c6348c",
   "metadata": {},
   "outputs": [],
   "source": [
    "a = 1\n",
    "b = 2"
   ]
  },
  {
   "cell_type": "code",
   "execution_count": 4,
   "id": "2487daee",
   "metadata": {},
   "outputs": [
    {
     "data": {
      "text/plain": [
       "(1, 2)"
      ]
     },
     "execution_count": 4,
     "metadata": {},
     "output_type": "execute_result"
    }
   ],
   "source": [
    "a, b"
   ]
  },
  {
   "cell_type": "code",
   "execution_count": 5,
   "id": "e109b98f",
   "metadata": {},
   "outputs": [
    {
     "name": "stdout",
     "output_type": "stream",
     "text": [
      "Variable   Type      Data/Info\n",
      "------------------------------\n",
      "a          int       1\n",
      "autopep8   module    <module 'autopep8' from '<...>e-packages\\\\autopep8.py'>\n",
      "b          int       2\n",
      "json       module    <module 'json' from 'C:\\\\<...>\\lib\\\\json\\\\__init__.py'>\n"
     ]
    }
   ],
   "source": [
    "%whos"
   ]
  },
  {
   "cell_type": "markdown",
   "id": "d62eb957",
   "metadata": {},
   "source": [
    "#### 쉘 커맨드\n",
    "- 명령어 앞에 !\n",
    "    - 주요 명령어 : ls, cat, echo .."
   ]
  },
  {
   "cell_type": "code",
   "execution_count": 6,
   "id": "6c831830",
   "metadata": {},
   "outputs": [
    {
     "name": "stdout",
     "output_type": "stream",
     "text": [
      "python\n"
     ]
    }
   ],
   "source": [
    "!echo python"
   ]
  },
  {
   "cell_type": "code",
   "execution_count": 7,
   "id": "cf0f4b52",
   "metadata": {},
   "outputs": [
    {
     "name": "stdout",
     "output_type": "stream",
     "text": [
      "01_jupyter_notebook.ipynb\n",
      "02_basic_syntax.ipynb\n",
      "03_condition_loop.ipynb\n",
      "04_function.ipynb\n",
      "05_function_2.ipynb\n",
      "06_class_1.ipynb\n",
      "07_class_2.ipynb\n",
      "08_module_package.ipynb\n",
      "09_try_except.ipynb\n",
      "Untitled.ipynb\n",
      "__pycache__\n",
      "mission_01.ipynb\n",
      "playground\n",
      "school\n",
      "summary_09_29.ipynb\n",
      "summary_09_30.ipynb\n",
      "summary_10_04.ipynb\n",
      "summary_10_06.ipynb\n"
     ]
    }
   ],
   "source": [
    "!ls"
   ]
  },
  {
   "cell_type": "markdown",
   "id": "bbc85a1d",
   "metadata": {},
   "source": [
    "## 파이썬 문법"
   ]
  },
  {
   "cell_type": "code",
   "execution_count": 10,
   "id": "f454dc6e",
   "metadata": {},
   "outputs": [
    {
     "name": "stdout",
     "output_type": "stream",
     "text": [
      "hi\n"
     ]
    }
   ],
   "source": [
    "print(\"hi\")"
   ]
  },
  {
   "cell_type": "code",
   "execution_count": 11,
   "id": "7cc18ab1",
   "metadata": {},
   "outputs": [
    {
     "name": "stdout",
     "output_type": "stream",
     "text": [
      "1\n"
     ]
    }
   ],
   "source": [
    "a = 1\n",
    "print(a)"
   ]
  },
  {
   "cell_type": "code",
   "execution_count": 13,
   "id": "af2525a4",
   "metadata": {},
   "outputs": [
    {
     "name": "stdout",
     "output_type": "stream",
     "text": [
      "1-2\t3\n"
     ]
    }
   ],
   "source": [
    "print(1, 2, sep='-', end='\\t')\n",
    "print(3)"
   ]
  },
  {
   "cell_type": "code",
   "execution_count": 14,
   "id": "b5ef58f3",
   "metadata": {},
   "outputs": [],
   "source": [
    "# docstring 함수에 대한 설명 : 단축키 shift + tab\n",
    "# 자동완성 : tab"
   ]
  },
  {
   "cell_type": "markdown",
   "id": "94538d5d",
   "metadata": {},
   "source": [
    "### 식별자 규칙\n",
    "- 가장 앞에 숫자 불가\n",
    "- 예약어 사용 불가\n",
    "- 컨벤션\n",
    "    - 변수, 함수명 : snake_case\n",
    "    - 클래스명 : CamelCase"
   ]
  },
  {
   "cell_type": "markdown",
   "id": "ff0f2bf3",
   "metadata": {},
   "source": [
    "#### 파이썬 데이터 타입\n",
    "- 동적 타이핑\n",
    "    - 변수 선언시 저장되는 값에 따라서 자동으로 데이터 타입, 저장공간 할당(설정)"
   ]
  },
  {
   "cell_type": "code",
   "execution_count": 16,
   "id": "558fd518",
   "metadata": {},
   "outputs": [
    {
     "data": {
      "text/plain": [
       "(int, str)"
      ]
     },
     "execution_count": 16,
     "metadata": {},
     "output_type": "execute_result"
    }
   ],
   "source": [
    "a = 1\n",
    "b = \"python\"\n",
    "\n",
    "type(a), type(b)"
   ]
  },
  {
   "cell_type": "code",
   "execution_count": 18,
   "id": "286deec8",
   "metadata": {},
   "outputs": [],
   "source": [
    "c = True"
   ]
  },
  {
   "cell_type": "code",
   "execution_count": 19,
   "id": "bb6bc028",
   "metadata": {},
   "outputs": [],
   "source": [
    "d = \"data\""
   ]
  },
  {
   "cell_type": "code",
   "execution_count": 20,
   "id": "c84c807d",
   "metadata": {},
   "outputs": [],
   "source": [
    "e = d.upper()"
   ]
  },
  {
   "cell_type": "code",
   "execution_count": 21,
   "id": "e72ae758",
   "metadata": {},
   "outputs": [
    {
     "data": {
      "text/plain": [
       "('data', 'DATA')"
      ]
     },
     "execution_count": 21,
     "metadata": {},
     "output_type": "execute_result"
    }
   ],
   "source": [
    "d, e"
   ]
  },
  {
   "cell_type": "code",
   "execution_count": 22,
   "id": "1c4d91de",
   "metadata": {},
   "outputs": [],
   "source": [
    "# 오프셋 인덱스\n",
    "# 문자열은 순서가있는 문자들의 집합"
   ]
  },
  {
   "cell_type": "code",
   "execution_count": 25,
   "id": "a50a8d08",
   "metadata": {},
   "outputs": [],
   "source": [
    "g = \"abcdefg\""
   ]
  },
  {
   "cell_type": "code",
   "execution_count": 26,
   "id": "5b7d245f",
   "metadata": {},
   "outputs": [
    {
     "data": {
      "text/plain": [
       "('c', 'f', 'cde', 'defg', 'fg', 'gfedcba')"
      ]
     },
     "execution_count": 26,
     "metadata": {},
     "output_type": "execute_result"
    }
   ],
   "source": [
    "g[2], g[-2], g[2:5], g[3:], g[-2:], g[::-1] # c, f, cde, defg, fg, gfedcba"
   ]
  },
  {
   "cell_type": "code",
   "execution_count": 30,
   "id": "5baec852",
   "metadata": {},
   "outputs": [
    {
     "data": {
      "text/plain": [
       "'ab'"
      ]
     },
     "execution_count": 30,
     "metadata": {},
     "output_type": "execute_result"
    }
   ],
   "source": [
    "g[0:2]"
   ]
  },
  {
   "cell_type": "code",
   "execution_count": 45,
   "id": "cbf3a5a3",
   "metadata": {},
   "outputs": [],
   "source": [
    "numbers = \"123456789\" # 짝수 거꾸로 출력"
   ]
  },
  {
   "cell_type": "code",
   "execution_count": 46,
   "id": "1be86f53",
   "metadata": {},
   "outputs": [
    {
     "data": {
      "text/plain": [
       "'8642'"
      ]
     },
     "execution_count": 46,
     "metadata": {},
     "output_type": "execute_result"
    }
   ],
   "source": [
    "result = numbers[1::2]\n",
    "result[::-1]"
   ]
  },
  {
   "cell_type": "code",
   "execution_count": 50,
   "id": "2d685781",
   "metadata": {},
   "outputs": [
    {
     "data": {
      "text/plain": [
       "'8642'"
      ]
     },
     "execution_count": 50,
     "metadata": {},
     "output_type": "execute_result"
    }
   ],
   "source": [
    "numbers[1::2][::-1]"
   ]
  },
  {
   "cell_type": "code",
   "execution_count": 51,
   "id": "bcad11d6",
   "metadata": {},
   "outputs": [],
   "source": [
    "# list"
   ]
  },
  {
   "cell_type": "code",
   "execution_count": 52,
   "id": "6d90e941",
   "metadata": {},
   "outputs": [],
   "source": [
    "ls = [1, 2, 3, \"four\", [5, 6], True, 1.2]"
   ]
  },
  {
   "cell_type": "code",
   "execution_count": 53,
   "id": "bd844d6b",
   "metadata": {},
   "outputs": [
    {
     "data": {
      "text/plain": [
       "list"
      ]
     },
     "execution_count": 53,
     "metadata": {},
     "output_type": "execute_result"
    }
   ],
   "source": [
    "type(ls)"
   ]
  },
  {
   "cell_type": "code",
   "execution_count": 58,
   "id": "51b1e89f",
   "metadata": {},
   "outputs": [],
   "source": [
    "ls = [1, 5, 2, 3]"
   ]
  },
  {
   "cell_type": "code",
   "execution_count": 59,
   "id": "cf110de4",
   "metadata": {},
   "outputs": [
    {
     "data": {
      "text/plain": [
       "[1, 5, 2, 3, 1]"
      ]
     },
     "execution_count": 59,
     "metadata": {},
     "output_type": "execute_result"
    }
   ],
   "source": [
    "ls.append(1)\n",
    "ls"
   ]
  },
  {
   "cell_type": "code",
   "execution_count": 64,
   "id": "83f4a08e",
   "metadata": {},
   "outputs": [
    {
     "data": {
      "text/plain": [
       "['__add__',\n",
       " '__class__',\n",
       " '__contains__',\n",
       " '__delattr__',\n",
       " '__delitem__',\n",
       " '__dir__',\n",
       " '__doc__',\n",
       " '__eq__',\n",
       " '__format__',\n",
       " '__ge__',\n",
       " '__getattribute__',\n",
       " '__getitem__',\n",
       " '__gt__',\n",
       " '__hash__',\n",
       " '__iadd__',\n",
       " '__imul__',\n",
       " '__init__',\n",
       " '__init_subclass__',\n",
       " '__iter__',\n",
       " '__le__',\n",
       " '__len__',\n",
       " '__lt__',\n",
       " '__mul__',\n",
       " '__ne__',\n",
       " '__new__',\n",
       " '__reduce__',\n",
       " '__reduce_ex__',\n",
       " '__repr__',\n",
       " '__reversed__',\n",
       " '__rmul__',\n",
       " '__setattr__',\n",
       " '__setitem__',\n",
       " '__sizeof__',\n",
       " '__str__',\n",
       " '__subclasshook__',\n",
       " 'append',\n",
       " 'clear',\n",
       " 'copy',\n",
       " 'count',\n",
       " 'extend',\n",
       " 'index',\n",
       " 'insert',\n",
       " 'pop',\n",
       " 'remove',\n",
       " 'reverse',\n",
       " 'sort']"
      ]
     },
     "execution_count": 64,
     "metadata": {},
     "output_type": "execute_result"
    }
   ],
   "source": [
    "dir(ls)"
   ]
  },
  {
   "cell_type": "code",
   "execution_count": 66,
   "id": "30344fa1",
   "metadata": {},
   "outputs": [
    {
     "data": {
      "text/plain": [
       "1"
      ]
     },
     "execution_count": 66,
     "metadata": {},
     "output_type": "execute_result"
    }
   ],
   "source": [
    "ls.pop()"
   ]
  },
  {
   "cell_type": "code",
   "execution_count": 67,
   "id": "c7886a71",
   "metadata": {},
   "outputs": [
    {
     "data": {
      "text/plain": [
       "[1, 5, 2, 3]"
      ]
     },
     "execution_count": 67,
     "metadata": {},
     "output_type": "execute_result"
    }
   ],
   "source": [
    "ls"
   ]
  },
  {
   "cell_type": "code",
   "execution_count": 69,
   "id": "19546cff",
   "metadata": {},
   "outputs": [
    {
     "data": {
      "text/plain": [
       "[1, 2, 3, 5]"
      ]
     },
     "execution_count": 69,
     "metadata": {},
     "output_type": "execute_result"
    }
   ],
   "source": [
    "ls.sort()\n",
    "ls"
   ]
  },
  {
   "cell_type": "code",
   "execution_count": 70,
   "id": "022082f3",
   "metadata": {},
   "outputs": [],
   "source": [
    "ls.reverse()"
   ]
  },
  {
   "cell_type": "code",
   "execution_count": 71,
   "id": "349d19ca",
   "metadata": {},
   "outputs": [
    {
     "data": {
      "text/plain": [
       "[5, 3, 2, 1]"
      ]
     },
     "execution_count": 71,
     "metadata": {},
     "output_type": "execute_result"
    }
   ],
   "source": [
    "ls"
   ]
  },
  {
   "cell_type": "code",
   "execution_count": 72,
   "id": "85709d83",
   "metadata": {},
   "outputs": [],
   "source": [
    "ls1 = [1, 2, 3]\n",
    "ls2 = ls1 # 주소값 복사 : 얕은 복사"
   ]
  },
  {
   "cell_type": "code",
   "execution_count": 73,
   "id": "29c7f99a",
   "metadata": {},
   "outputs": [
    {
     "data": {
      "text/plain": [
       "([1, 2, 3], [1, 2, 3])"
      ]
     },
     "execution_count": 73,
     "metadata": {},
     "output_type": "execute_result"
    }
   ],
   "source": [
    "ls1, ls2"
   ]
  },
  {
   "cell_type": "code",
   "execution_count": 74,
   "id": "5b5f5972",
   "metadata": {},
   "outputs": [],
   "source": [
    "ls1[2] = 5"
   ]
  },
  {
   "cell_type": "code",
   "execution_count": 75,
   "id": "ff2e2707",
   "metadata": {},
   "outputs": [
    {
     "data": {
      "text/plain": [
       "5"
      ]
     },
     "execution_count": 75,
     "metadata": {},
     "output_type": "execute_result"
    }
   ],
   "source": [
    "ls2[2]"
   ]
  },
  {
   "cell_type": "code",
   "execution_count": 76,
   "id": "7c8044cb",
   "metadata": {},
   "outputs": [],
   "source": [
    "ls3 = ls1.copy() #값을 복사할때 copy()함수를 사용"
   ]
  },
  {
   "cell_type": "code",
   "execution_count": 77,
   "id": "6f15e7a3",
   "metadata": {},
   "outputs": [],
   "source": [
    "ls1[2] = 3"
   ]
  },
  {
   "cell_type": "code",
   "execution_count": 78,
   "id": "93943447",
   "metadata": {},
   "outputs": [
    {
     "data": {
      "text/plain": [
       "([1, 2, 3], [1, 2, 5])"
      ]
     },
     "execution_count": 78,
     "metadata": {},
     "output_type": "execute_result"
    }
   ],
   "source": [
    "ls1, ls3"
   ]
  },
  {
   "cell_type": "code",
   "execution_count": 82,
   "id": "c61d6430",
   "metadata": {},
   "outputs": [
    {
     "name": "stdout",
     "output_type": "stream",
     "text": [
      "80 64\n"
     ]
    }
   ],
   "source": [
    "import sys\n",
    "\n",
    "ls = [1, 2, 3]\n",
    "tp = (1, 2, 3)\n",
    "print(sys.getsizeof(ls), sys.getsizeof(tp))"
   ]
  },
  {
   "cell_type": "code",
   "execution_count": 86,
   "id": "a949fe2a",
   "metadata": {},
   "outputs": [],
   "source": [
    "data = {\n",
    "    \"서울\" : 123,\n",
    "    \"인천\" : 456,\n",
    "    \"오산\" : 444,   \n",
    "}"
   ]
  },
  {
   "cell_type": "code",
   "execution_count": 87,
   "id": "c0607e0e",
   "metadata": {},
   "outputs": [
    {
     "data": {
      "text/plain": [
       "123"
      ]
     },
     "execution_count": 87,
     "metadata": {},
     "output_type": "execute_result"
    }
   ],
   "source": [
    "data[\"서울\"]"
   ]
  },
  {
   "cell_type": "code",
   "execution_count": 88,
   "id": "af073b3b",
   "metadata": {},
   "outputs": [
    {
     "data": {
      "text/plain": [
       "1023"
      ]
     },
     "execution_count": 88,
     "metadata": {},
     "output_type": "execute_result"
    }
   ],
   "source": [
    "sum(data.values())"
   ]
  },
  {
   "cell_type": "code",
   "execution_count": 92,
   "id": "92dfe949",
   "metadata": {},
   "outputs": [
    {
     "data": {
      "text/plain": [
       "[('서울', 123), ('인천', 456), ('오산', 444)]"
      ]
     },
     "execution_count": 92,
     "metadata": {},
     "output_type": "execute_result"
    }
   ],
   "source": [
    "# zip() 같은 인덱스 데이터끼리 묶어주는 함수\n",
    "city = [\"서울\", \"인천\", \"오산\"]\n",
    "num = [123, 456, 444]\n",
    "\n",
    "list(zip(city, num))"
   ]
  },
  {
   "cell_type": "code",
   "execution_count": 95,
   "id": "174e825b",
   "metadata": {},
   "outputs": [
    {
     "data": {
      "text/plain": [
       "{'서울': 123, '인천': 456, '오산': 444}"
      ]
     },
     "execution_count": 95,
     "metadata": {},
     "output_type": "execute_result"
    }
   ],
   "source": [
    "result = list(zip(city, num))\n",
    "dict(result)"
   ]
  },
  {
   "cell_type": "code",
   "execution_count": 96,
   "id": "2e1426ea",
   "metadata": {},
   "outputs": [
    {
     "data": {
      "text/plain": [
       "(['서울', '인천', '오산'], [123, 456, 444])"
      ]
     },
     "execution_count": 96,
     "metadata": {},
     "output_type": "execute_result"
    }
   ],
   "source": [
    "result = dict(result)\n",
    "data1 = list(result.keys())\n",
    "data2 = list(result.values())\n",
    "\n",
    "data1, data2"
   ]
  },
  {
   "cell_type": "code",
   "execution_count": 97,
   "id": "3dd95970",
   "metadata": {},
   "outputs": [],
   "source": [
    "ls = [\"jin\", \"andy\", \"jhon\"]"
   ]
  },
  {
   "cell_type": "code",
   "execution_count": 101,
   "id": "1d776fa6",
   "metadata": {},
   "outputs": [
    {
     "data": {
      "text/plain": [
       "(True, True, False)"
      ]
     },
     "execution_count": 101,
     "metadata": {},
     "output_type": "execute_result"
    }
   ],
   "source": [
    "\"andy\" in ls, \"jhon\" in ls and \"andy\" in ls, \"boby\" in ls"
   ]
  },
  {
   "cell_type": "code",
   "execution_count": 102,
   "id": "5bfffac0",
   "metadata": {},
   "outputs": [],
   "source": [
    "# 랜덤함수"
   ]
  },
  {
   "cell_type": "code",
   "execution_count": 155,
   "id": "0c09ebc6",
   "metadata": {},
   "outputs": [
    {
     "data": {
      "text/plain": [
       "2"
      ]
     },
     "execution_count": 155,
     "metadata": {},
     "output_type": "execute_result"
    }
   ],
   "source": [
    "import random\n",
    "random.randint(1, 5) # 1, 2, 3, 4, 5"
   ]
  },
  {
   "cell_type": "code",
   "execution_count": 158,
   "id": "20c1e84e",
   "metadata": {},
   "outputs": [
    {
     "name": "stdout",
     "output_type": "stream",
     "text": [
      "입력해주세요 : ㅎㅇㅎㅇ\n",
      "ㅎㅇㅎㅇ\n"
     ]
    }
   ],
   "source": [
    "data = input(\"입력해주세요 : \")\n",
    "\n",
    "print(data)"
   ]
  },
  {
   "cell_type": "code",
   "execution_count": null,
   "id": "4d78d332",
   "metadata": {},
   "outputs": [],
   "source": [
    "# 해결의 책 : 질문을 하면 질문에 대한 답변을 해주는 책"
   ]
  },
  {
   "cell_type": "code",
   "execution_count": 159,
   "id": "e3cc54f6",
   "metadata": {},
   "outputs": [],
   "source": [
    "# 솔루션을 리스트로 작성\n",
    "# 질문 입력 받음\n",
    "# 솔루션의 갯수에 맞게 랜덤한 index 정수 값을 생성\n",
    "# index 해당하는 솔루션 리스트의 데이터를 출력"
   ]
  },
  {
   "cell_type": "code",
   "execution_count": 162,
   "id": "2eb07ae3",
   "metadata": {},
   "outputs": [
    {
     "name": "stdout",
     "output_type": "stream",
     "text": [
      "질문을 입력하세요 : 잘 될까요?\n",
      "생각지도 않게 좋은 일이 생길 것이다.\n"
     ]
    }
   ],
   "source": [
    "# 솔루션을 리스트로 작성\n",
    "solutions = [\n",
    "    \"무엇을 하던 잘 안될 것이다.\",\n",
    "    \"생각지도 않게 좋은 일이 생길 것이다.\", \n",
    "    \"무엇을 상상하던 그 이상이다.\",\n",
    "]\n",
    "\n",
    "# 질문 입력 받음\n",
    "input(\"질문을 입력하세요 : \")\n",
    "\n",
    "# 솔루션의 갯수에 맞게 랜덤한 index 정수 값을 생성\n",
    "idx = random.randint(0, len(solutions)-1)\n",
    "\n",
    "# index 해당하는 솔루션 리스트의 데이터를 출력\n",
    "print(solutions[idx])"
   ]
  },
  {
   "cell_type": "code",
   "execution_count": 163,
   "id": "512cc2f7",
   "metadata": {},
   "outputs": [],
   "source": [
    "# 조건문"
   ]
  },
  {
   "cell_type": "code",
   "execution_count": 164,
   "id": "27be15e1",
   "metadata": {},
   "outputs": [
    {
     "name": "stdout",
     "output_type": "stream",
     "text": [
      "done\n"
     ]
    }
   ],
   "source": [
    "if False :\n",
    "    print(\"python\")\n",
    "print(\"done\")"
   ]
  },
  {
   "cell_type": "code",
   "execution_count": 165,
   "id": "fbf90863",
   "metadata": {},
   "outputs": [
    {
     "name": "stdout",
     "output_type": "stream",
     "text": [
      "python\n",
      "done\n"
     ]
    }
   ],
   "source": [
    "if True :\n",
    "    print (\"python\")\n",
    "print(\"done\")"
   ]
  },
  {
   "cell_type": "code",
   "execution_count": 168,
   "id": "8aa04375",
   "metadata": {},
   "outputs": [
    {
     "name": "stdout",
     "output_type": "stream",
     "text": [
      "false\n",
      "true\n"
     ]
    }
   ],
   "source": [
    "number = 0.0 # float 형 - 0.0을 제외한 나머지 true\n",
    "\n",
    "if number :\n",
    "    print(\"true\")\n",
    "else :\n",
    "    print(\"false\")\n",
    "    \n",
    "number = 0.0001\n",
    "if number :\n",
    "    print(\"true\")\n",
    "else :\n",
    "    print(\"false\")"
   ]
  },
  {
   "cell_type": "code",
   "execution_count": 174,
   "id": "902a7522",
   "metadata": {},
   "outputs": [],
   "source": [
    "# 삼항 연산자\n",
    "# (True) if (condition) else (False)"
   ]
  },
  {
   "cell_type": "code",
   "execution_count": 170,
   "id": "0191c869",
   "metadata": {},
   "outputs": [
    {
     "name": "stdout",
     "output_type": "stream",
     "text": [
      "not zero\n"
     ]
    }
   ],
   "source": [
    "data = 1\n",
    "\n",
    "if data:\n",
    "    print(\"not zero\")\n",
    "else :\n",
    "    print(\"zero\")"
   ]
  },
  {
   "cell_type": "code",
   "execution_count": 172,
   "id": "4c1b8088",
   "metadata": {},
   "outputs": [
    {
     "data": {
      "text/plain": [
       "'not zero'"
      ]
     },
     "execution_count": 172,
     "metadata": {},
     "output_type": "execute_result"
    }
   ],
   "source": [
    "result = \"not zero\" if data else \"zero\"\n",
    "result"
   ]
  },
  {
   "cell_type": "code",
   "execution_count": 173,
   "id": "fa65d7ce",
   "metadata": {},
   "outputs": [],
   "source": [
    "# 반복문"
   ]
  },
  {
   "cell_type": "code",
   "execution_count": 175,
   "id": "cfe448ce",
   "metadata": {},
   "outputs": [
    {
     "name": "stdout",
     "output_type": "stream",
     "text": [
      "3\n",
      "2\n",
      "1\n"
     ]
    }
   ],
   "source": [
    "data = 3\n",
    "\n",
    "while data :\n",
    "    print(data)\n",
    "    data -= 1\n"
   ]
  },
  {
   "cell_type": "code",
   "execution_count": 176,
   "id": "29861bd3",
   "metadata": {},
   "outputs": [],
   "source": [
    "a = 1\n",
    "b = 2"
   ]
  },
  {
   "cell_type": "code",
   "execution_count": 181,
   "id": "0158bffb",
   "metadata": {},
   "outputs": [
    {
     "name": "stdout",
     "output_type": "stream",
     "text": [
      "a : 1, b : 2\n"
     ]
    }
   ],
   "source": [
    "print(\"a : {}, b : {}\".format(a, b))"
   ]
  },
  {
   "cell_type": "markdown",
   "id": "eb4998e3",
   "metadata": {},
   "source": [
    "### for\n",
    "```\n",
    "for <variable> in <iterables> :\n",
    "    <code>\n",
    "```"
   ]
  },
  {
   "cell_type": "code",
   "execution_count": 185,
   "id": "b75794c5",
   "metadata": {},
   "outputs": [
    {
     "name": "stdout",
     "output_type": "stream",
     "text": [
      "2\n",
      "4\n"
     ]
    }
   ],
   "source": [
    "ls = [1, 2, 3, 4]\n",
    "\n",
    "for num in ls :\n",
    "    if num % 2 :\n",
    "        continue\n",
    "    print(num)"
   ]
  },
  {
   "cell_type": "code",
   "execution_count": 200,
   "id": "29d44e62",
   "metadata": {},
   "outputs": [
    {
     "data": {
      "text/plain": [
       "4950"
      ]
     },
     "execution_count": 200,
     "metadata": {},
     "output_type": "execute_result"
    }
   ],
   "source": [
    "result = 0\n",
    "for data in range(100) :\n",
    "    result += data\n",
    "result"
   ]
  },
  {
   "cell_type": "code",
   "execution_count": 202,
   "id": "09ed731a",
   "metadata": {},
   "outputs": [
    {
     "data": {
      "text/plain": [
       "([0, 1, 2, 3, 4], [1, 2, 3], [0, 2, 4])"
      ]
     },
     "execution_count": 202,
     "metadata": {},
     "output_type": "execute_result"
    }
   ],
   "source": [
    "list(range(5)), list(range(1,4)), list(range(0,5,2))"
   ]
  },
  {
   "cell_type": "code",
   "execution_count": 206,
   "id": "8da83978",
   "metadata": {},
   "outputs": [
    {
     "name": "stdout",
     "output_type": "stream",
     "text": [
      "30\n"
     ]
    }
   ],
   "source": [
    "# 0 ~ 10 까지 짝수를 더한 총합\n",
    "\n",
    "result = 0\n",
    "\n",
    "for num in range(0,11,2):\n",
    "    result += num\n",
    "\n",
    "print(result)"
   ]
  },
  {
   "cell_type": "markdown",
   "id": "fce1773b",
   "metadata": {},
   "source": [
    "### 3. List  Comprehention\n",
    "- 리스트 데이터를 만들어 주는 방법\n",
    "- for문 보다 빠르게 동작한다 약 2/3 속도"
   ]
  },
  {
   "cell_type": "code",
   "execution_count": 209,
   "id": "71c8aa27",
   "metadata": {},
   "outputs": [
    {
     "data": {
      "text/plain": [
       "[0, 1, 4, 9]"
      ]
     },
     "execution_count": 209,
     "metadata": {},
     "output_type": "execute_result"
    }
   ],
   "source": [
    "ls = [0, 1, 2, 3]\n",
    "result = []\n",
    "\n",
    "for data in ls :\n",
    "    result.append(data**2)\n",
    "result"
   ]
  },
  {
   "cell_type": "code",
   "execution_count": 211,
   "id": "955ecb24",
   "metadata": {},
   "outputs": [
    {
     "data": {
      "text/plain": [
       "[0, 1, 4, 9]"
      ]
     },
     "execution_count": 211,
     "metadata": {},
     "output_type": "execute_result"
    }
   ],
   "source": [
    "result = [data**2 for data in ls]\n",
    "result"
   ]
  },
  {
   "cell_type": "code",
   "execution_count": 212,
   "id": "f96c9c65",
   "metadata": {},
   "outputs": [],
   "source": [
    "#리스트 컴프리핸션을 써서 홀수와 짝수를 리스트로 출력하는 코드\n",
    "# 삼항연산 사용\n",
    "ls = [0, 1, 2, 3]\n",
    "#result = [\"짝수\", \"홀수\",\"짝수\", \"홀수\"]"
   ]
  },
  {
   "cell_type": "code",
   "execution_count": 215,
   "id": "a0bd755f",
   "metadata": {},
   "outputs": [
    {
     "data": {
      "text/plain": [
       "['짝수', '홀수', '짝수', '홀수']"
      ]
     },
     "execution_count": 215,
     "metadata": {},
     "output_type": "execute_result"
    }
   ],
   "source": [
    "result = [\"홀수\" if n%2 else \"짝수\" for n in ls]\n",
    "result"
   ]
  },
  {
   "cell_type": "code",
   "execution_count": 223,
   "id": "050e9a3a",
   "metadata": {},
   "outputs": [
    {
     "data": {
      "text/plain": [
       "[0, 2, 4, 6, 8]"
      ]
     },
     "execution_count": 223,
     "metadata": {},
     "output_type": "execute_result"
    }
   ],
   "source": [
    "# 리스트 컴프리핸션 조건문\n",
    "ls = range(10)\n",
    "\n",
    "[data for data in ls if not data % 2]\n"
   ]
  },
  {
   "cell_type": "code",
   "execution_count": 225,
   "id": "1218a383",
   "metadata": {},
   "outputs": [
    {
     "data": {
      "text/plain": [
       "[0, 3, 6, 9]"
      ]
     },
     "execution_count": 225,
     "metadata": {},
     "output_type": "execute_result"
    }
   ],
   "source": [
    "[data for data in range(10) if not data%3]"
   ]
  },
  {
   "cell_type": "code",
   "execution_count": 231,
   "id": "4c217bad",
   "metadata": {},
   "outputs": [
    {
     "data": {
      "text/plain": [
       "['짝수', '홀수', '짝수', '홀수', '짝수', '홀수', '짝수', '홀수', '짝수', '홀수']"
      ]
     },
     "execution_count": 231,
     "metadata": {},
     "output_type": "execute_result"
    }
   ],
   "source": [
    "ls = list(range(10))\n",
    "\n",
    "[\"짝수\" if not num % 2 else \"홀수\" for num in ls ]"
   ]
  },
  {
   "cell_type": "code",
   "execution_count": 239,
   "id": "f5bc8899",
   "metadata": {},
   "outputs": [
    {
     "data": {
      "text/plain": [
       "[0, 1, 2, 3, 4, 5, 6, 7, 8, 9]"
      ]
     },
     "execution_count": 239,
     "metadata": {},
     "output_type": "execute_result"
    }
   ],
   "source": [
    "[num for num in ls]"
   ]
  },
  {
   "cell_type": "code",
   "execution_count": 240,
   "id": "68e0e262",
   "metadata": {},
   "outputs": [],
   "source": [
    "ls = []"
   ]
  },
  {
   "cell_type": "code",
   "execution_count": 245,
   "id": "46f0f694",
   "metadata": {},
   "outputs": [
    {
     "name": "stdout",
     "output_type": "stream",
     "text": [
      "971 µs ± 44.1 µs per loop (mean ± std. dev. of 7 runs, 1000 loops each)\n"
     ]
    }
   ],
   "source": [
    "%%timeit\n",
    "ls = [num for num in range(1,10001) if num % 3 == 0]\n",
    "len(ls)"
   ]
  },
  {
   "cell_type": "code",
   "execution_count": 242,
   "id": "529b7325",
   "metadata": {},
   "outputs": [],
   "source": [
    "ls = []"
   ]
  },
  {
   "cell_type": "code",
   "execution_count": 246,
   "id": "81574a3a",
   "metadata": {},
   "outputs": [
    {
     "name": "stdout",
     "output_type": "stream",
     "text": [
      "1.24 ms ± 192 µs per loop (mean ± std. dev. of 7 runs, 1000 loops each)\n"
     ]
    }
   ],
   "source": [
    "%%timeit\n",
    "for num in range(1,10001):\n",
    "    if num % 3:\n",
    "        ls.append(num)"
   ]
  },
  {
   "cell_type": "code",
   "execution_count": 248,
   "id": "6be40a75",
   "metadata": {},
   "outputs": [
    {
     "data": {
      "text/plain": [
       "[1, 3, 5, 7, 9]"
      ]
     },
     "execution_count": 248,
     "metadata": {},
     "output_type": "execute_result"
    }
   ],
   "source": [
    "result = [data for data in range(10) if data % 2]\n",
    "result "
   ]
  },
  {
   "cell_type": "code",
   "execution_count": null,
   "id": "5df99e04",
   "metadata": {},
   "outputs": [],
   "source": []
  }
 ],
 "metadata": {
  "kernelspec": {
   "display_name": "Python 3",
   "language": "python",
   "name": "python3"
  },
  "language_info": {
   "codemirror_mode": {
    "name": "ipython",
    "version": 3
   },
   "file_extension": ".py",
   "mimetype": "text/x-python",
   "name": "python",
   "nbconvert_exporter": "python",
   "pygments_lexer": "ipython3",
   "version": "3.8.8"
  }
 },
 "nbformat": 4,
 "nbformat_minor": 5
}
