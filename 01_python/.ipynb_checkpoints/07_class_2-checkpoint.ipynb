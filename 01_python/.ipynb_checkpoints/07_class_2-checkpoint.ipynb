{
 "cells": [
  {
   "cell_type": "markdown",
   "id": "84a19c35",
   "metadata": {},
   "source": [
    "### summary\n",
    "- function\n",
    "    - docstring\n",
    "    - scope : 전역, 지역 : global\n",
    "    - inner function : 함수안에 함수를 선언\n",
    "    - lambda function : 간략한 함수를 한줄의 코드로 작성\n",
    "    - decorator : 특정 기능을 데코레이터 함수로 만들어 함수에 특정 기능을 적용하는 방법\n",
    "- class\n",
    "    - 변수와 함수들이 모여있는 집합\n",
    "        - 기본 클래스 사용법 : 클래스 선언 -> 객체로 만듦 -> 객체에 함수를 호출\n",
    "    - 생성자 함수\n",
    "        - 클래스가 객체로 만들어질때 객체에 선언되는 변수를 설정하는 방법"
   ]
  },
  {
   "cell_type": "code",
   "execution_count": 78,
   "id": "c05affca",
   "metadata": {},
   "outputs": [],
   "source": [
    "user_datas = [\n",
    "    {\"id\": \"test\", \"pw\" : \"1234\", \"count\" : 0},\n",
    "    {\"id\": \"python\", \"pw\" : \"5678\", \"count\" : 0}\n",
    "]"
   ]
  },
  {
   "cell_type": "code",
   "execution_count": 79,
   "id": "abd39e1a",
   "metadata": {},
   "outputs": [],
   "source": [
    "# user data 를 입력받아서 아이디와 패스워드를 체크하는 데코레이터 함수를 코드로 작성\n",
    "# 로그인 될 때마다 count 1씩 증가"
   ]
  },
  {
   "cell_type": "code",
   "execution_count": 122,
   "id": "5d0e90a1",
   "metadata": {},
   "outputs": [],
   "source": [
    "# 내가 작성\n",
    "def check_user(func) :\n",
    "    \n",
    "    def wrapper(*args, **kwagrs) :\n",
    "        input_id  = input(\"id : \")\n",
    "        input_pw = input(\"pw : \")\n",
    "        \n",
    "        result = False\n",
    "        for data in user_datas :  \n",
    "            if input_id == data.get(\"id\") :\n",
    "                # 패스워드 확인\n",
    "                if input_pw == data.get(\"pw\") :\n",
    "                    data[\"count\"] += 1\n",
    "                    result = True\n",
    "                    break\n",
    "                else :\n",
    "                    continue\n",
    "            else :\n",
    "                continue\n",
    "                \n",
    "        if result :\n",
    "            result = func(*args, **kwagrs)\n",
    "            return result\n",
    "        else :\n",
    "            return print(\"아이디, 비밀번호 불일치\")\n",
    "    return wrapper\n"
   ]
  },
  {
   "cell_type": "code",
   "execution_count": 143,
   "id": "59f00a36",
   "metadata": {},
   "outputs": [],
   "source": [
    "def check_user(func) :\n",
    "    def wrapper(*args, **kwagrs) :\n",
    "        # 아이디 패스워드 입력\n",
    "        user, pw = tuple(input(\"insert user pw : \").split(\" \"))\n",
    "        \n",
    "        # 존재하는 아이디인지 확인\n",
    "        # 존재하는 패스워드 확인 # 하나로 묶는게 좋다고한다.\n",
    "        # for idx, user_data in zip(range(len(user_datas)),user_datas):\n",
    "        for idx, user_data in enumerate(user_datas) :\n",
    "            if (user_data[\"id\"] == user) and (user_data[\"pw\"] == pw) :\n",
    "                \n",
    "                # count 데이터 추가\n",
    "                # user_data[\"count\"] += 1\n",
    "                user_data[idx][\"count\"] += 1\n",
    "                \n",
    "                # 함수 실행\n",
    "                return func(*args, **kwagrs)\n",
    "        return \"wrong login data!\"\n",
    "    \n",
    "        \n",
    "        \n",
    "        \n",
    "    return wrapper\n"
   ]
  },
  {
   "cell_type": "code",
   "execution_count": 142,
   "id": "1158ffe5",
   "metadata": {},
   "outputs": [
    {
     "data": {
      "text/plain": [
       "[(0, {'id': 'test', 'pw': '1234', 'count': 7}),\n",
       " (1, {'id': 'python', 'pw': '5678', 'count': 3})]"
      ]
     },
     "execution_count": 142,
     "metadata": {},
     "output_type": "execute_result"
    }
   ],
   "source": [
    "list(enumerate(user_datas))"
   ]
  },
  {
   "cell_type": "code",
   "execution_count": 129,
   "id": "2e546f53",
   "metadata": {},
   "outputs": [],
   "source": [
    "@check_user\n",
    "def plus(num1, num2) :\n",
    "    return num1 + num2"
   ]
  },
  {
   "cell_type": "code",
   "execution_count": 144,
   "id": "5e6ac2d3",
   "metadata": {},
   "outputs": [
    {
     "name": "stdout",
     "output_type": "stream",
     "text": [
      "insert user pw : test 1234\n"
     ]
    },
    {
     "data": {
      "text/plain": [
       "3"
      ]
     },
     "execution_count": 144,
     "metadata": {},
     "output_type": "execute_result"
    }
   ],
   "source": [
    "plus(1, 2)"
   ]
  },
  {
   "cell_type": "code",
   "execution_count": 147,
   "id": "ee850229",
   "metadata": {},
   "outputs": [
    {
     "data": {
      "text/plain": [
       "[{'id': 'test', 'pw': '1234', 'count': 9},\n",
       " {'id': 'python', 'pw': '5678', 'count': 3}]"
      ]
     },
     "execution_count": 147,
     "metadata": {},
     "output_type": "execute_result"
    }
   ],
   "source": [
    "user_datas"
   ]
  },
  {
   "cell_type": "code",
   "execution_count": 154,
   "id": "15d4377c",
   "metadata": {},
   "outputs": [],
   "source": [
    "# 스타크래프트의 마린을 클래스로 설계\n",
    "# 체력(health : 40), 공격력(attack_pow : 5), 공격(attack())\n",
    "# 마린 클래스로 마린 객체 2개를 생성해서 마린 1이 마린 2를 공격하는 코드를 작성\n",
    "# attack(self, unit)"
   ]
  },
  {
   "cell_type": "code",
   "execution_count": 271,
   "id": "cf4f5e92",
   "metadata": {},
   "outputs": [],
   "source": [
    "class Marine :\n",
    "    \n",
    "    def __init__(self, name, health = 40, attack_pow=5) :\n",
    "        self.name = name\n",
    "        self.health = health\n",
    "        self.attack_pow = attack_pow\n",
    "        \n",
    "    def attack(self, unit) :\n",
    "        print(\"{self}가 {unit} 을 공격했습니다.\".format(self = self.name, unit=unit.name))\n",
    "        unit.health -= self.attack_pow\n",
    "        if unit.health < 0 :\n",
    "            unit.health = 0\n",
    "            print(\"사망\")\n",
    "        print(\"{unit}의 남은 체력 : {health}\".format(unit=unit.name, health = unit.health))"
   ]
  },
  {
   "cell_type": "code",
   "execution_count": 254,
   "id": "8d5368e7",
   "metadata": {},
   "outputs": [],
   "source": [
    "marine_1 = Marine(\"마린1\")"
   ]
  },
  {
   "cell_type": "code",
   "execution_count": 255,
   "id": "49764507",
   "metadata": {},
   "outputs": [],
   "source": [
    "marine_2 = Marine(\"마린2\")"
   ]
  },
  {
   "cell_type": "code",
   "execution_count": 266,
   "id": "8374c4dc",
   "metadata": {},
   "outputs": [
    {
     "name": "stdout",
     "output_type": "stream",
     "text": [
      "마린1가 마린2 을 공격했습니다.\n",
      "마린2의 남은 체력 : 16\n"
     ]
    }
   ],
   "source": [
    "marine_1.attack(marine_2)"
   ]
  },
  {
   "cell_type": "code",
   "execution_count": 246,
   "id": "63c46d84",
   "metadata": {},
   "outputs": [
    {
     "data": {
      "text/plain": [
       "(40, 0)"
      ]
     },
     "execution_count": 246,
     "metadata": {},
     "output_type": "execute_result"
    }
   ],
   "source": [
    "marine_1.health, marine_2.health # 40, 35"
   ]
  },
  {
   "cell_type": "code",
   "execution_count": 249,
   "id": "789860ff",
   "metadata": {},
   "outputs": [],
   "source": [
    "# 메딕 : heal_pow, heal(unit)\n",
    "class Medic :\n",
    "    \n",
    "    def __init__(self, health=40, heal_pow=6) :\n",
    "        self.health = health\n",
    "        self.heal_pow = heal_pow\n",
    "    \n",
    "    def heal(self, unit) :\n",
    "        if unit.health > 0 :\n",
    "            unit.health += self.heal_pow\n",
    "            if unit.health >= 40 :\n",
    "                unit.health = 40\n",
    "        else :\n",
    "            print(\"이미 사망\")"
   ]
  },
  {
   "cell_type": "code",
   "execution_count": 252,
   "id": "1c52478c",
   "metadata": {},
   "outputs": [],
   "source": [
    "medic = Medic()"
   ]
  },
  {
   "cell_type": "code",
   "execution_count": 259,
   "id": "a4331b6f",
   "metadata": {},
   "outputs": [
    {
     "data": {
      "text/plain": [
       "(40, 30)"
      ]
     },
     "execution_count": 259,
     "metadata": {},
     "output_type": "execute_result"
    }
   ],
   "source": [
    "marine_1.health, marine_2.health "
   ]
  },
  {
   "cell_type": "code",
   "execution_count": 267,
   "id": "3d5d9ddf",
   "metadata": {},
   "outputs": [],
   "source": [
    "medic.heal(marine_2)"
   ]
  },
  {
   "cell_type": "code",
   "execution_count": 268,
   "id": "350a2d8d",
   "metadata": {},
   "outputs": [
    {
     "data": {
      "text/plain": [
       "(40, 22)"
      ]
     },
     "execution_count": 268,
     "metadata": {},
     "output_type": "execute_result"
    }
   ],
   "source": [
    "marine_1.health, marine_2.health "
   ]
  },
  {
   "cell_type": "code",
   "execution_count": 272,
   "id": "5493d3b8",
   "metadata": {},
   "outputs": [],
   "source": [
    "marine_3 = Marine(\"마린3\",attack_pow = 25)"
   ]
  },
  {
   "cell_type": "code",
   "execution_count": 273,
   "id": "bf26a262",
   "metadata": {},
   "outputs": [
    {
     "name": "stdout",
     "output_type": "stream",
     "text": [
      "마린3가 마린1 을 공격했습니다.\n",
      "마린1의 남은 체력 : 15\n"
     ]
    }
   ],
   "source": [
    "marine_3.attack(marine_1)"
   ]
  },
  {
   "cell_type": "markdown",
   "id": "5ec2f8b6",
   "metadata": {},
   "source": [
    "### 1. 상속\n",
    "- 클래스의 기능을 가져다가 기능을 수정하거나 추가할 때 사용하는 방법\n"
   ]
  },
  {
   "cell_type": "code",
   "execution_count": 276,
   "id": "40aa6fb5",
   "metadata": {},
   "outputs": [],
   "source": [
    "class Calculator:\n",
    "    def __init__(self, num1, num2) :\n",
    "        self.num1 = num1\n",
    "        self.num2 = num2 \n",
    "    \n",
    "    def plus(self) :\n",
    "        return self.num1 + self.num2"
   ]
  },
  {
   "cell_type": "code",
   "execution_count": 277,
   "id": "f01aeef9",
   "metadata": {},
   "outputs": [
    {
     "data": {
      "text/plain": [
       "3"
      ]
     },
     "execution_count": 277,
     "metadata": {},
     "output_type": "execute_result"
    }
   ],
   "source": [
    "calc = Calculator(1, 2)\n",
    "calc.plus()"
   ]
  },
  {
   "cell_type": "code",
   "execution_count": 278,
   "id": "b5bd8631",
   "metadata": {},
   "outputs": [],
   "source": [
    "# 마이너스 기능을 추가한 계산기"
   ]
  },
  {
   "cell_type": "code",
   "execution_count": 282,
   "id": "a65df6b0",
   "metadata": {},
   "outputs": [],
   "source": [
    "class Calculator2:\n",
    "    def __init__(self, num1, num2) :\n",
    "        self.num1 = num1\n",
    "        self.num2 = num2 \n",
    "    \n",
    "    def plus(self) :\n",
    "        return self.num1 + self.num2\n",
    "    \n",
    "    def minus(self) :\n",
    "        return self.num1 - self.num2"
   ]
  },
  {
   "cell_type": "code",
   "execution_count": 284,
   "id": "3442106a",
   "metadata": {},
   "outputs": [
    {
     "data": {
      "text/plain": [
       "(3, -1)"
      ]
     },
     "execution_count": 284,
     "metadata": {},
     "output_type": "execute_result"
    }
   ],
   "source": [
    "calc2 = Calculator2(1,2)\n",
    "calc2.plus(), calc2.minus()"
   ]
  },
  {
   "cell_type": "code",
   "execution_count": 285,
   "id": "6f270363",
   "metadata": {},
   "outputs": [],
   "source": [
    "# 상속을 사용하여 minus 함수 추가\n",
    "class Calculator3(Calculator) :\n",
    "    def minus(self) :\n",
    "        return self.num1 - self.num2"
   ]
  },
  {
   "cell_type": "code",
   "execution_count": 286,
   "id": "46185f7d",
   "metadata": {},
   "outputs": [],
   "source": [
    "calc3 = Calculator3(1, 2)"
   ]
  },
  {
   "cell_type": "code",
   "execution_count": 297,
   "id": "6e1a8a0f",
   "metadata": {},
   "outputs": [
    {
     "data": {
      "text/plain": [
       "(3, -1)"
      ]
     },
     "execution_count": 297,
     "metadata": {},
     "output_type": "execute_result"
    }
   ],
   "source": [
    "calc3.plus(), calc3.minus()"
   ]
  },
  {
   "cell_type": "code",
   "execution_count": 298,
   "id": "164715bf",
   "metadata": {},
   "outputs": [],
   "source": [
    "# 메서드 오버라이딩 (덮어 써짐)\n",
    "class Calculator4(Calculator3) :\n",
    "    def plus(self) :\n",
    "        return self.num1**2 + self.num2**2"
   ]
  },
  {
   "cell_type": "code",
   "execution_count": 299,
   "id": "f02f6528",
   "metadata": {},
   "outputs": [
    {
     "data": {
      "text/plain": [
       "5"
      ]
     },
     "execution_count": 299,
     "metadata": {},
     "output_type": "execute_result"
    }
   ],
   "source": [
    "calc4 = Calculator4(1, 2)\n",
    "calc4.plus()"
   ]
  },
  {
   "cell_type": "code",
   "execution_count": 300,
   "id": "729abdbc",
   "metadata": {},
   "outputs": [],
   "source": [
    "# 아이폰 1, 2, 3\n",
    "# 아이폰 1 : calling : print(\"calling\")\n",
    "# 아이폰 2 : + send msg \n",
    "# 아이폰 3 : + internet"
   ]
  },
  {
   "cell_type": "code",
   "execution_count": 334,
   "id": "da1762e1",
   "metadata": {},
   "outputs": [],
   "source": [
    "class Iphone1 :\n",
    "    def calling(self) :\n",
    "        print(\"calling!\") "
   ]
  },
  {
   "cell_type": "code",
   "execution_count": 335,
   "id": "bc2d943e",
   "metadata": {},
   "outputs": [],
   "source": [
    "class Iphone2(Iphone1) :\n",
    "    def send(self):\n",
    "        print(\"send msg!\")"
   ]
  },
  {
   "cell_type": "code",
   "execution_count": 340,
   "id": "2878d96b",
   "metadata": {},
   "outputs": [],
   "source": [
    "class Iphone3(Iphone2) :\n",
    "    def internet(self) :\n",
    "        print(\"connect internet!\")"
   ]
  },
  {
   "cell_type": "code",
   "execution_count": 343,
   "id": "1c6f0494",
   "metadata": {},
   "outputs": [],
   "source": [
    "iphone3 = Iphone3()"
   ]
  },
  {
   "cell_type": "code",
   "execution_count": 345,
   "id": "f6fcf7b1",
   "metadata": {},
   "outputs": [
    {
     "name": "stdout",
     "output_type": "stream",
     "text": [
      "calling!\n",
      "send msg!\n",
      "connect internet!\n"
     ]
    },
    {
     "data": {
      "text/plain": [
       "(None, None, None)"
      ]
     },
     "execution_count": 345,
     "metadata": {},
     "output_type": "execute_result"
    }
   ],
   "source": [
    "iphone3.calling(), iphone3.send(), iphone3.internet()"
   ]
  },
  {
   "cell_type": "markdown",
   "id": "5817e90f",
   "metadata": {},
   "source": [
    "### 다중상속"
   ]
  },
  {
   "cell_type": "code",
   "execution_count": 346,
   "id": "9d0737d9",
   "metadata": {},
   "outputs": [],
   "source": [
    "class Galuxy : \n",
    "    def show_img(self) :\n",
    "        print(\"show_img\")"
   ]
  },
  {
   "cell_type": "code",
   "execution_count": 347,
   "id": "808dce82",
   "metadata": {},
   "outputs": [],
   "source": [
    "class DssPhone(Iphone3, Galuxy) : \n",
    "    def camera(self) :\n",
    "        print(\"camera\")"
   ]
  },
  {
   "cell_type": "code",
   "execution_count": 348,
   "id": "3cf9932f",
   "metadata": {},
   "outputs": [],
   "source": [
    "dss_phone = DssPhone()"
   ]
  },
  {
   "cell_type": "code",
   "execution_count": 351,
   "id": "6159950a",
   "metadata": {},
   "outputs": [
    {
     "data": {
      "text/plain": [
       "['calling', 'camera', 'internet', 'send', 'show_img']"
      ]
     },
     "execution_count": 351,
     "metadata": {},
     "output_type": "execute_result"
    }
   ],
   "source": [
    "[func for func in dir(dss_phone) if func[:2] != \"__\"]"
   ]
  },
  {
   "cell_type": "code",
   "execution_count": null,
   "id": "fdf4c60a",
   "metadata": {},
   "outputs": [],
   "source": []
  }
 ],
 "metadata": {
  "kernelspec": {
   "display_name": "Python 3",
   "language": "python",
   "name": "python3"
  },
  "language_info": {
   "codemirror_mode": {
    "name": "ipython",
    "version": 3
   },
   "file_extension": ".py",
   "mimetype": "text/x-python",
   "name": "python",
   "nbconvert_exporter": "python",
   "pygments_lexer": "ipython3",
   "version": "3.8.8"
  }
 },
 "nbformat": 4,
 "nbformat_minor": 5
}
