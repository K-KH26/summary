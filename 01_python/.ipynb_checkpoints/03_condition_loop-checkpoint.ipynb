{
 "cells": [
  {
   "cell_type": "markdown",
   "id": "279b3857",
   "metadata": {},
   "source": [
    "#### summary\n",
    "- jupyter notebook\n",
    "    - mode : 명령모드 , 편집모드\n",
    "    - style : markdown , code\n",
    "    - 단축키 \n",
    "        - 실행 : shift + enter\n",
    "        - 자동완성 : tab\n",
    "        - docstring 보기 : shift + tab\n",
    "        - 주석설정 : crtl + /\n",
    "        - 셀 생성 : a , b\n",
    "    - python 기본 문법\n",
    "        - 변수 선언 : 램 저장 공간에 값을 할당하는 행위\n",
    "        - 식별자 규칙\n",
    "            - 대문자, 소문자, 숫자, ...\n",
    "            - 가장 앞글자 숫자사용불가\n",
    "            - 예약어 사용이 불가 def, class, try, ...\n",
    "            - snake_case(변수, 함수), CamelClass(클래스)\n",
    "            - pep8 문서\n",
    "    - 데이터 타입\n",
    "        - 각 데이터 타입별로 함수가 있다.\n",
    "        - 동적타이핑 : 자동으로 저장공간 데이터 타입 설정\n",
    "        - 기본 데이터 타입 :int, float, bool, str\n",
    "        - 컬렉션 데이터 타입 : list(interable), tupel(interable), dict\n",
    "        - offset index : 특정 위치의 데이터를 출력할 때 사용\n",
    "            - iterable 한 데이터 타입에서만 사용이 가능 = 순서가 있어야만 사용이 가능 strt, list, tuple, ...\n",
    "            - [] : mask, masking\n",
    "            - [idx] : idx 위치 데이터를 출력\n",
    "            - [start : end] : start 에서 end 까지 출력 (end는 포함되지 않는다)\n",
    "            - [start : end : stride] : stride 만큼 점프하여 출력\n",
    "                \n",
    "    - 형 변환\n",
    "        - 이미 변수에 설정된 데이터 타입을 변경하는 행위\n",
    "        - zip\n",
    "            - 여러개의 리스트를 같은 인덱스끼리 묶어주는 함수\n",
    "            - 두개의 리스트를 묶어서 dict 형변환\n",
    "    - 연산자\n",
    "         - 산술 : +, -, *, / , //, %, ** \n",
    "         - 할당 : A (산술) = (data)\n",
    "         - 비교 : < , > ,== , != , <= , >=\n",
    "         - 논리 : and, or, not\n",
    "         - 멤버 : in , not in             "
   ]
  },
  {
   "cell_type": "markdown",
   "id": "4630b1c4",
   "metadata": {},
   "source": [
    "### 1. 조건문\n",
    "- 특정 조건에 따라서 코드를 실행하고자 할 때 사용\n",
    "- if, else, elif"
   ]
  },
  {
   "cell_type": "code",
   "execution_count": 4,
   "id": "dc6047cf",
   "metadata": {},
   "outputs": [
    {
     "name": "stdout",
     "output_type": "stream",
     "text": [
      "done\n"
     ]
    }
   ],
   "source": [
    "# 조건부분 : boll 데이터 타입 이외의 데이터 타입이 오면 bool으로 형변환 되어 판단\n",
    "\n",
    "if False :\n",
    "    print(\"python\")\n",
    "\n",
    "print(\"done\")"
   ]
  },
  {
   "cell_type": "code",
   "execution_count": 5,
   "id": "444fea6d",
   "metadata": {},
   "outputs": [
    {
     "data": {
      "text/plain": [
       "(False, True, True, True)"
      ]
     },
     "execution_count": 5,
     "metadata": {},
     "output_type": "execute_result"
    }
   ],
   "source": [
    "# int : 0을 제외한 나머지 값은 True\n",
    "bool(0), bool(1), bool(-1), bool(100)"
   ]
  },
  {
   "cell_type": "code",
   "execution_count": 9,
   "id": "4843d0c2",
   "metadata": {},
   "outputs": [
    {
     "name": "stdout",
     "output_type": "stream",
     "text": [
      "python 2\n"
     ]
    }
   ],
   "source": [
    "num = 0\n",
    "if num :\n",
    "    print(\"python 1\")\n",
    "num = 1\n",
    "if num : \n",
    "    print(\"python 2\")"
   ]
  },
  {
   "cell_type": "code",
   "execution_count": 11,
   "id": "329da5ee",
   "metadata": {},
   "outputs": [
    {
     "name": "stdout",
     "output_type": "stream",
     "text": [
      "홀수\n"
     ]
    }
   ],
   "source": [
    "number =  7\n",
    "\n",
    "if number % 2 :\n",
    "    print(\"홀수\")"
   ]
  },
  {
   "cell_type": "code",
   "execution_count": 12,
   "id": "d3c3d137",
   "metadata": {},
   "outputs": [],
   "source": [
    "# float : 0.0을 제외한 나머지 실수는 True\n",
    "# str : \"\"를 제외한 나머지 문자열은 True\n",
    "# list, tuple, dict : [], (), {} 를 제외한 나머지는 True "
   ]
  },
  {
   "cell_type": "code",
   "execution_count": 13,
   "id": "b7d1364f",
   "metadata": {},
   "outputs": [],
   "source": [
    "# 지갑에 돈이 10000 이상 있으면 택시를 탄다.\n",
    "# 2000원 이상, 10000원 미만 있으면 버스를 탄다.\n",
    "#그렇지 않으면 걸어서 집에 간다.\n",
    " "
   ]
  },
  {
   "cell_type": "code",
   "execution_count": 18,
   "id": "4943e5c7",
   "metadata": {},
   "outputs": [
    {
     "name": "stdout",
     "output_type": "stream",
     "text": [
      "택시를 타고 간다\n"
     ]
    }
   ],
   "source": [
    "money = 12000\n",
    "\n",
    "if money >= 10000 :\n",
    "    print(\"택시를 타고 간다\")\n",
    "\n",
    "if money < 10000 :\n",
    "    print(\"걸어서 간다\")"
   ]
  },
  {
   "cell_type": "code",
   "execution_count": 25,
   "id": "af886799",
   "metadata": {},
   "outputs": [
    {
     "name": "stdout",
     "output_type": "stream",
     "text": [
      "일반 버스를 타고 집에 간다.\n"
     ]
    }
   ],
   "source": [
    "money = 3500\n",
    "\n",
    "if money >= 10000 :\n",
    "    print(\"택시를 타고 간다\")\n",
    "elif money >= 5000:\n",
    "    print(\"광역 버스를 타고 집에 간다.\")\n",
    "elif money >= 2000:\n",
    "    print(\"일반 버스를 타고 집에 간다.\")\n",
    "else : \n",
    "    print(\"걸어서 간다\")"
   ]
  },
  {
   "cell_type": "code",
   "execution_count": 33,
   "id": "48590162",
   "metadata": {},
   "outputs": [],
   "source": [
    "# 계좌에 10000원이 들어 있습니다.\n",
    "# 인출 금액을 입력 받습니다.\n",
    "# 인출 금액이 계좌에 있는 금액보다 크면 \"인출이 불가능합니다.\" 출력\n",
    "# 인출 금액이 계좌에 있는 금액보다 적으면 \"인출 되었습니다.\" 출력\n",
    "# 마지막에 현재 계좌의 잔액을 출력"
   ]
  },
  {
   "cell_type": "code",
   "execution_count": 29,
   "id": "68e88619",
   "metadata": {},
   "outputs": [
    {
     "name": "stdout",
     "output_type": "stream",
     "text": [
      "insert money : 5000\n"
     ]
    },
    {
     "data": {
      "text/plain": [
       "(int, 5000)"
      ]
     },
     "execution_count": 29,
     "metadata": {},
     "output_type": "execute_result"
    }
   ],
   "source": [
    "data = int(input(\"insert money : \"))\n",
    "type(data), data"
   ]
  },
  {
   "cell_type": "code",
   "execution_count": 35,
   "id": "a9b25a93",
   "metadata": {},
   "outputs": [
    {
     "name": "stdout",
     "output_type": "stream",
     "text": [
      "인출 할 금액을 입력하세요 : 2000\n",
      "인출 되었습니다.\n"
     ]
    },
    {
     "data": {
      "text/plain": [
       "8000"
      ]
     },
     "execution_count": 35,
     "metadata": {},
     "output_type": "execute_result"
    }
   ],
   "source": [
    "# 계좌에 10000원이 들어 있습니다.\n",
    "account = 10000\n",
    "\n",
    "# 인출 금액을 입력 받습니다.\n",
    "data = int(input(\"인출 할 금액을 입력하세요 : \"))\n",
    "\n",
    "# 인출 금액이 계좌에 있는 금액보다 크면 \"인출이 불가능합니다.\" 출력\n",
    "# 인출 금액이 계좌에 있는 금액보다 적으면 \"인출 되었습니다.\" 출력\n",
    "# 마지막에 현재 계좌의 잔액을 출력\n",
    "if data > account :\n",
    "    print(\"인출이 불가능 합니다\")\n",
    "else :\n",
    "    account -= data\n",
    "    print(\"인출 되었습니다.\")\n",
    "account"
   ]
  },
  {
   "cell_type": "code",
   "execution_count": 42,
   "id": "0d7f7ad5",
   "metadata": {},
   "outputs": [
    {
     "name": "stdout",
     "output_type": "stream",
     "text": [
      "현재 잔액은 8000원 입니다.\n",
      "현재 잔액은 8000원 입니다. 인출 금액은 2000입니다.\n",
      "현재 잔액은 8000원 입니다. 인출 금액은 2000입니다.\n"
     ]
    }
   ],
   "source": [
    "# string 데이터 타입의 format 함수\n",
    "print(\"현재 잔액은 \" + str(account) + \"원 입니다.\")\n",
    "print(\"현재 잔액은 {}원 입니다. 인출 금액은 {}입니다.\".format(account,data ))\n",
    "print(\"현재 잔액은 {data1}원 입니다. 인출 금액은 {data2}입니다.\".format(data1=account,data2=data))"
   ]
  },
  {
   "cell_type": "markdown",
   "id": "3e41a04c",
   "metadata": {},
   "source": [
    "#### 삼항 연산자\n",
    "- 간단한 if, else 구무능 한줄의 코드로 표현할 수 있는 방법\n",
    "- (True) if (condition) else (False)"
   ]
  },
  {
   "cell_type": "code",
   "execution_count": 44,
   "id": "246ddcfb",
   "metadata": {},
   "outputs": [
    {
     "name": "stdout",
     "output_type": "stream",
     "text": [
      "not zero\n"
     ]
    }
   ],
   "source": [
    "# data 변수에 0이면 \"zero\" 출력, 아니면 \"not zero\" 출력\n",
    "data = 1\n",
    "\n",
    "if data: \n",
    "    print(\"not zero\")\n",
    "else :\n",
    "    print(\"zero\")\n",
    "    "
   ]
  },
  {
   "cell_type": "code",
   "execution_count": 45,
   "id": "b2e0ee8b",
   "metadata": {},
   "outputs": [
    {
     "data": {
      "text/plain": [
       "'not zero'"
      ]
     },
     "execution_count": 45,
     "metadata": {},
     "output_type": "execute_result"
    }
   ],
   "source": [
    "data = 1\n",
    "\n",
    "result = \"not zero\" if data else \"zero\"\n",
    "result"
   ]
  },
  {
   "cell_type": "markdown",
   "id": "ce56c4f5",
   "metadata": {},
   "source": [
    "### 2. 반복문\n",
    "- 반복되는 코드를 실행할 때 사용\n",
    "- while , for, break, continue\n",
    "- list, comprehention"
   ]
  },
  {
   "cell_type": "code",
   "execution_count": 46,
   "id": "ef021535",
   "metadata": {},
   "outputs": [
    {
     "name": "stdout",
     "output_type": "stream",
     "text": [
      "3\n",
      "2\n",
      "1\n"
     ]
    }
   ],
   "source": [
    "# while\n",
    "data = 3\n",
    "\n",
    "while data : # 조건이 Fasle가 될때까지 구문의 코드를 실행\n",
    "    # 반복되는 코드\n",
    "    print(data)\n",
    "    data -= 1\n",
    "    "
   ]
  },
  {
   "cell_type": "code",
   "execution_count": 47,
   "id": "a4c2a747",
   "metadata": {},
   "outputs": [],
   "source": [
    "# 학생이 국어 : 80점, 영어 : 90점, 수학 100점 while문을 이용해서 총점과 평균을 출력\n",
    "# 학생의 점수는 list, dict 표현\n",
    "#len,dict.values(), list.pop()"
   ]
  },
  {
   "cell_type": "code",
   "execution_count": 4,
   "id": "2735284d",
   "metadata": {},
   "outputs": [
    {
     "name": "stdout",
     "output_type": "stream",
     "text": [
      "총점 : 270, 평균 : 90.0\n"
     ]
    }
   ],
   "source": [
    "student_dict = {\n",
    "    \"국어\" : 80,\n",
    "    \"영어\" : 90,\n",
    "    \"수학\" : 100,\n",
    "}\n",
    "\n",
    "# while v in student.values() :\n",
    "#     sum += v\n",
    "# average = sum/len(student)\n",
    "# print(\"총점 : {}, 평균 : {}\".format(sum, average))\n",
    "    \n",
    "student_points = [80,90,100]\n",
    "\n",
    "datas = student_points.copy()\n",
    "\n",
    "total = 0\n",
    "\n",
    "while datas :\n",
    "    total += datas.pop()\n",
    "average = total/len(student_points)\n",
    "print(\"총점 : {}, 평균 : {}\".format(total, average))\n"
   ]
  },
  {
   "cell_type": "code",
   "execution_count": 18,
   "id": "43049ebe",
   "metadata": {},
   "outputs": [],
   "source": [
    "datas = student_points.copy() # 깊은 복사 : 원본데이터 보존"
   ]
  },
  {
   "cell_type": "code",
   "execution_count": 19,
   "id": "b9b7a9d4",
   "metadata": {},
   "outputs": [
    {
     "data": {
      "text/plain": [
       "(270, 90.0)"
      ]
     },
     "execution_count": 19,
     "metadata": {},
     "output_type": "execute_result"
    }
   ],
   "source": [
    "# count = leng(datas)\n",
    "# while count :\n",
    "#     count -= 1\n",
    "total = 0\n",
    "while datas :\n",
    "    total += datas.pop()\n",
    "avg = total / len(student_points)\n",
    "total, avg"
   ]
  },
  {
   "cell_type": "code",
   "execution_count": 1,
   "id": "42c22dc3",
   "metadata": {},
   "outputs": [
    {
     "name": "stdout",
     "output_type": "stream",
     "text": [
      "10\n"
     ]
    }
   ],
   "source": [
    "# 무한 루프\n",
    "# break : 반복문을 중단 시킬때 사용되는 예약어\n",
    "\n",
    "result = 1\n",
    "while result :\n",
    "    if result >= 10:\n",
    "        break\n",
    "        \n",
    "    result += 1\n",
    "        \n",
    "print(result)"
   ]
  },
  {
   "cell_type": "markdown",
   "id": "4fed228c",
   "metadata": {},
   "source": [
    "### for\n",
    "- iterable 한 값을 하나씩 꺼내서 value에 대입시킨후 코드를 iterable 변수의 값 갯수 만큼 실행\n",
    "```\n",
    "for <variable> in <iterables> :\n",
    "    <code>\n",
    "```"
   ]
  },
  {
   "cell_type": "code",
   "execution_count": 6,
   "id": "16094d25",
   "metadata": {},
   "outputs": [
    {
     "name": "stdout",
     "output_type": "stream",
     "text": [
      "0 2 4 "
     ]
    }
   ],
   "source": [
    "# for : continue : 조건 부분으로 올라가서 코드가 실행\n",
    "ls = [0, 1, 2, 3 ,4]\n",
    "for data in ls :\n",
    "    if data % 2 : # 데이터가 홀수가 되면 continue 를 실행 \n",
    "        continue\n",
    "    # data가 짝수가 되면 print를 실행\n",
    "    print(data, end=\" \")"
   ]
  },
  {
   "cell_type": "code",
   "execution_count": 10,
   "id": "4ba1030f",
   "metadata": {},
   "outputs": [
    {
     "data": {
      "text/plain": [
       "4950"
      ]
     },
     "execution_count": 10,
     "metadata": {},
     "output_type": "execute_result"
    }
   ],
   "source": [
    "# for를 이용해서 코드를 100번 실행\n",
    "# range 함수\n",
    "list(range(100))\n",
    "result = 0\n",
    "for data in range(100):\n",
    "    result += data\n",
    "result"
   ]
  },
  {
   "cell_type": "code",
   "execution_count": 17,
   "id": "9cb1fcba",
   "metadata": {},
   "outputs": [
    {
     "data": {
      "text/plain": [
       "([0, 1, 2, 3, 4], [5, 6, 7, 8, 9], [10, 8, 6, 4, 2])"
      ]
     },
     "execution_count": 17,
     "metadata": {},
     "output_type": "execute_result"
    }
   ],
   "source": [
    "# offset index 개념과 비슷하게 사용\n",
    "list(range(5)), list(range(5, 10)), list(range(10, 0, -2))"
   ]
  },
  {
   "cell_type": "code",
   "execution_count": 19,
   "id": "053be280",
   "metadata": {},
   "outputs": [
    {
     "data": {
      "text/plain": [
       "30"
      ]
     },
     "execution_count": 19,
     "metadata": {},
     "output_type": "execute_result"
    }
   ],
   "source": [
    "# 0 ~ 10 까지 짝수를 더한 총합\n",
    "result = 0\n",
    "for number in range(0, 11, 2) :\n",
    "    result += number\n",
    "result"
   ]
  },
  {
   "cell_type": "code",
   "execution_count": 20,
   "id": "63adda0d",
   "metadata": {},
   "outputs": [],
   "source": [
    "student_dict = {\n",
    "    \"국어\" : 80,\n",
    "    \"영어\" : 90,\n",
    "    \"수학\" : 100,\n",
    "}"
   ]
  },
  {
   "cell_type": "code",
   "execution_count": 22,
   "id": "446da6e1",
   "metadata": {},
   "outputs": [
    {
     "data": {
      "text/plain": [
       "[('국어', 80), ('영어', 90), ('수학', 100)]"
      ]
     },
     "execution_count": 22,
     "metadata": {},
     "output_type": "execute_result"
    }
   ],
   "source": [
    "list(student_dict.items())"
   ]
  },
  {
   "cell_type": "code",
   "execution_count": 23,
   "id": "d7ca8e5c",
   "metadata": {},
   "outputs": [
    {
     "name": "stdout",
     "output_type": "stream",
     "text": [
      "국어 80\n",
      "영어 90\n",
      "수학 100\n"
     ]
    }
   ],
   "source": [
    "#for 문에서 iterable 데이터가 tupel로 나오면 여러개의 변수로 받을 수 있다.\n",
    "\n",
    "for subject, point in student_dict.items() :\n",
    "    print(subject,point)"
   ]
  },
  {
   "cell_type": "code",
   "execution_count": 25,
   "id": "3203911c",
   "metadata": {},
   "outputs": [
    {
     "data": {
      "text/plain": [
       "(1, 2)"
      ]
     },
     "execution_count": 25,
     "metadata": {},
     "output_type": "execute_result"
    }
   ],
   "source": [
    "# tuple\n",
    "a, b = (1, 2)\n",
    "a, b"
   ]
  },
  {
   "cell_type": "markdown",
   "id": "8028ed03",
   "metadata": {},
   "source": [
    "- 구구단 출력 (가로 출력)\n",
    "- hint : 이중 for문\n",
    "- print : end = \"\\t\"\n",
    "\n",
    "```\n",
    "2*1 = 2, 3*1= 3, ... 9*1 = 9\n",
    " ...\n",
    "\n",
    "2*9 = 18 3*9 = 27 ... 9*9 = 81\n",
    "```"
   ]
  },
  {
   "cell_type": "code",
   "execution_count": 59,
   "id": "a54b6032",
   "metadata": {
    "scrolled": true
   },
   "outputs": [
    {
     "name": "stdout",
     "output_type": "stream",
     "text": [
      "2*1=2\t3*1=3\t4*1=4\t5*1=5\t6*1=6\t7*1=7\t8*1=8\t9*1=9\t\n",
      "2*2=4\t3*2=6\t4*2=8\t5*2=10\t6*2=12\t7*2=14\t8*2=16\t9*2=18\t\n",
      "2*3=6\t3*3=9\t4*3=12\t5*3=15\t6*3=18\t7*3=21\t8*3=24\t9*3=27\t\n",
      "2*4=8\t3*4=12\t4*4=16\t5*4=20\t6*4=24\t7*4=28\t8*4=32\t9*4=36\t\n",
      "2*5=10\t3*5=15\t4*5=20\t5*5=25\t6*5=30\t7*5=35\t8*5=40\t9*5=45\t\n",
      "2*6=12\t3*6=18\t4*6=24\t5*6=30\t6*6=36\t7*6=42\t8*6=48\t9*6=54\t\n",
      "2*7=14\t3*7=21\t4*7=28\t5*7=35\t6*7=42\t7*7=49\t8*7=56\t9*7=63\t\n",
      "2*8=16\t3*8=24\t4*8=32\t5*8=40\t6*8=48\t7*8=56\t8*8=64\t9*8=72\t\n",
      "2*9=18\t3*9=27\t4*9=36\t5*9=45\t6*9=54\t7*9=63\t8*9=72\t9*9=81\t\n"
     ]
    }
   ],
   "source": [
    "for f in range(1, 10) :\n",
    "    for i in range(2, 10) :\n",
    "        print(\"{}*{}={}\".format(i, f, f*i) , end='\\t')\n",
    "    print()"
   ]
  },
  {
   "cell_type": "markdown",
   "id": "2a9ad11c",
   "metadata": {},
   "source": [
    "### 3. List  Comprehention\n",
    "- 리스트 데이터를 만들어 주는 방법\n",
    "- for문 보다 빠르게 동작한다 약 2/3 속도\n"
   ]
  },
  {
   "cell_type": "code",
   "execution_count": 63,
   "id": "9076e352",
   "metadata": {},
   "outputs": [
    {
     "data": {
      "text/plain": [
       "[0, 1, 4, 9]"
      ]
     },
     "execution_count": 63,
     "metadata": {},
     "output_type": "execute_result"
    }
   ],
   "source": [
    "# 각각 값에 제곱한 결과 출력\n",
    "ls = [0, 1, 2, 3]\n",
    "result = []\n",
    "\n",
    "for data in ls :\n",
    "    result.append(data**2)\n",
    "result"
   ]
  },
  {
   "cell_type": "code",
   "execution_count": 65,
   "id": "c4382d34",
   "metadata": {},
   "outputs": [
    {
     "data": {
      "text/plain": [
       "[0, 1, 4, 9]"
      ]
     },
     "execution_count": 65,
     "metadata": {},
     "output_type": "execute_result"
    }
   ],
   "source": [
    "result = [data**2 for data in ls]\n",
    "result"
   ]
  },
  {
   "cell_type": "code",
   "execution_count": 69,
   "id": "639dedfc",
   "metadata": {},
   "outputs": [
    {
     "data": {
      "text/plain": [
       "['짝수', '홀수', '짝수', '홀수']"
      ]
     },
     "execution_count": 69,
     "metadata": {},
     "output_type": "execute_result"
    }
   ],
   "source": [
    "#리스트 컴프리핸션을 써서 홀수와 짝수를 리스트로 출력하는 코드\n",
    "# 삼항연산 사용\n",
    "ls = [0, 1, 2, 3]\n",
    "#result = [\"짝수\", \"홀수\",\"작수\", \"홀수\"]\n",
    "\n",
    "result = [\n",
    "    \"홀수\" if num%2 else \"짝수\" \n",
    "    for num in ls \n",
    "]\n",
    "result"
   ]
  },
  {
   "cell_type": "code",
   "execution_count": 75,
   "id": "44e1cb7f",
   "metadata": {},
   "outputs": [
    {
     "data": {
      "text/plain": [
       "[1, 3, 5, 7, 9]"
      ]
     },
     "execution_count": 75,
     "metadata": {},
     "output_type": "execute_result"
    }
   ],
   "source": [
    "# 리스트 컴프리핸션 조건문\n",
    "ls = range(10)\n",
    "[ data for data in ls if data % 2 ] # 트루만 data로 넘어간다."
   ]
  },
  {
   "cell_type": "code",
   "execution_count": 80,
   "id": "417aa8ac",
   "metadata": {
    "scrolled": true
   },
   "outputs": [
    {
     "data": {
      "text/plain": [
       "['clear', 'copy', 'count']"
      ]
     },
     "execution_count": 80,
     "metadata": {},
     "output_type": "execute_result"
    }
   ],
   "source": [
    "# 리스트 컴프리핸션 조건문을 이용해 리스트 데이터 필터링을 할 수 있다.\n",
    "ls = [1, 2, 3]\n",
    "# dir(ls)\n",
    "[ func for func in dir(ls) if func[:2] != \"__\" and func[0] == \"c\"]"
   ]
  },
  {
   "cell_type": "code",
   "execution_count": 81,
   "id": "bfbe4eea",
   "metadata": {},
   "outputs": [],
   "source": [
    "# for 문과 list comprehention 성능 비교"
   ]
  },
  {
   "cell_type": "code",
   "execution_count": 91,
   "id": "b74fe661",
   "metadata": {},
   "outputs": [
    {
     "name": "stdout",
     "output_type": "stream",
     "text": [
      "921 µs ± 27.7 µs per loop (mean ± std. dev. of 7 runs, 1000 loops each)\n"
     ]
    }
   ],
   "source": [
    "%%timeit #코드 동작 시간 알려줌\n",
    "ls = []\n",
    "for num in range(1, 10001) :\n",
    "    if num % 3 == 0:\n",
    "        ls.append(num)\n",
    "len(ls)"
   ]
  },
  {
   "cell_type": "code",
   "execution_count": 92,
   "id": "d1ec9b64",
   "metadata": {},
   "outputs": [
    {
     "name": "stdout",
     "output_type": "stream",
     "text": [
      "790 µs ± 20 µs per loop (mean ± std. dev. of 7 runs, 1000 loops each)\n"
     ]
    }
   ],
   "source": [
    "%%timeit\n",
    "ls = [num for num in range(1, 10001) if num % 3 == 0]\n",
    "len(ls)"
   ]
  },
  {
   "cell_type": "code",
   "execution_count": null,
   "id": "d88637fd",
   "metadata": {},
   "outputs": [],
   "source": []
  },
  {
   "cell_type": "code",
   "execution_count": null,
   "id": "2610aa39",
   "metadata": {},
   "outputs": [],
   "source": []
  },
  {
   "cell_type": "code",
   "execution_count": null,
   "id": "bf731ef5",
   "metadata": {},
   "outputs": [],
   "source": []
  },
  {
   "cell_type": "code",
   "execution_count": null,
   "id": "e229396f",
   "metadata": {},
   "outputs": [],
   "source": []
  },
  {
   "cell_type": "code",
   "execution_count": null,
   "id": "2ca0f620",
   "metadata": {},
   "outputs": [],
   "source": []
  },
  {
   "cell_type": "code",
   "execution_count": null,
   "id": "fbfd45b7",
   "metadata": {},
   "outputs": [],
   "source": []
  }
 ],
 "metadata": {
  "kernelspec": {
   "display_name": "Python 3",
   "language": "python",
   "name": "python3"
  },
  "language_info": {
   "codemirror_mode": {
    "name": "ipython",
    "version": 3
   },
   "file_extension": ".py",
   "mimetype": "text/x-python",
   "name": "python",
   "nbconvert_exporter": "python",
   "pygments_lexer": "ipython3",
   "version": "3.8.8"
  }
 },
 "nbformat": 4,
 "nbformat_minor": 5
}
