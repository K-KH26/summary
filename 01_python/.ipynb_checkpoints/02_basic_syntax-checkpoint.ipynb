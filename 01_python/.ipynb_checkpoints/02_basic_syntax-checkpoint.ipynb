{
 "cells": [
  {
   "cell_type": "markdown",
   "id": "b6b44b83",
   "metadata": {},
   "source": [
    "### 파이썬의 기본 문법\n",
    "- 변수 선언, 식별자 , 자료형 , 형변환, 연산자 학습"
   ]
  },
  {
   "cell_type": "markdown",
   "id": "7e380ca2",
   "metadata": {},
   "source": [
    "#### 1. 주석(comment)과 출력(print) "
   ]
  },
  {
   "cell_type": "code",
   "execution_count": 1,
   "id": "620acc47",
   "metadata": {},
   "outputs": [
    {
     "name": "stdout",
     "output_type": "stream",
     "text": [
      "1\n",
      "3\n"
     ]
    }
   ],
   "source": [
    "# 주석 : 앞에 # 을 붙이면 코드로 실행이 안된다.\n",
    "# 코드에 대한 설명이나 중간에 코드를 실행시키고 싶지 않을 때 사용\n",
    "# 단축기 ctrl(cmd) + / \n",
    "# 블럭설정 : shift + 방향키\n",
    "\n",
    "# 1, 2, 3 을 출력하는 코드\n",
    "print(1)\n",
    "#print(2)\n",
    "print(3)\n"
   ]
  },
  {
   "cell_type": "code",
   "execution_count": 2,
   "id": "32e441ac",
   "metadata": {},
   "outputs": [],
   "source": [
    "# 출력 : print 함수\n",
    "# 코드 중간에 변수 안에 들어있는 값을 확인하고 싶을 때 사용"
   ]
  },
  {
   "cell_type": "code",
   "execution_count": 3,
   "id": "189e4861",
   "metadata": {},
   "outputs": [
    {
     "name": "stdout",
     "output_type": "stream",
     "text": [
      "2\n",
      "4\n"
     ]
    }
   ],
   "source": [
    "a = 1\n",
    "b = 2\n",
    "print(b)\n",
    "c = 3\n",
    "b = 4\n",
    "print(b)"
   ]
  },
  {
   "cell_type": "code",
   "execution_count": 4,
   "id": "b3b515b5",
   "metadata": {},
   "outputs": [
    {
     "name": "stdout",
     "output_type": "stream",
     "text": [
      "1-2\t3\n"
     ]
    }
   ],
   "source": [
    "#  print 함수의 옵션\n",
    "# docstring : 함수에 대한 설명 : 단축키(shift + tab)\n",
    "# 자동완성 : tab\n",
    "\n",
    "print(1, 2, sep='-',end='\\t')\n",
    "print(3)"
   ]
  },
  {
   "cell_type": "code",
   "execution_count": 5,
   "id": "6674e080",
   "metadata": {},
   "outputs": [],
   "source": [
    "python_data_scince = 1"
   ]
  },
  {
   "cell_type": "code",
   "execution_count": 6,
   "id": "3bed3eca",
   "metadata": {},
   "outputs": [
    {
     "name": "stdout",
     "output_type": "stream",
     "text": [
      "1\n"
     ]
    }
   ],
   "source": [
    "print(python_data_scince)"
   ]
  },
  {
   "cell_type": "markdown",
   "id": "e775eb84",
   "metadata": {},
   "source": [
    "#### 2. 변수 선언\n",
    "- RAM 저장공간에 값을 할당하는 행위"
   ]
  },
  {
   "cell_type": "code",
   "execution_count": 7,
   "id": "bf63812e",
   "metadata": {},
   "outputs": [
    {
     "data": {
      "text/plain": [
       "3"
      ]
     },
     "execution_count": 7,
     "metadata": {},
     "output_type": "execute_result"
    }
   ],
   "source": [
    "a = 1\n",
    "b = 2\n",
    "c = a + b\n",
    "c"
   ]
  },
  {
   "cell_type": "code",
   "execution_count": 8,
   "id": "747d00d4",
   "metadata": {},
   "outputs": [],
   "source": [
    "d, e = 3, 4\n",
    "f = g = 5"
   ]
  },
  {
   "cell_type": "markdown",
   "id": "1d7738dd",
   "metadata": {},
   "source": [
    "#### 3. 식별자\n",
    "- 변수, 함수, 클래스, 모듈 등의 이름을 식별자라고 합니다.\n",
    "- 식별자 규칙 \n",
    "    - 소문자, 대문자 , 숫자, 언더스코어(_) 를 사용합니다.\n",
    "    - 가장 앞에 숫자 사용 불가\n",
    "    - 예약어의 사용 불가 : def, class, try, except ....\n",
    "    - 컨벤션\n",
    "        - snake case : fast_campus : 변수 , 함수\n",
    "        - camel case : Fast_Campus, fastCampus : 클래스"
   ]
  },
  {
   "cell_type": "markdown",
   "id": "562dc05b",
   "metadata": {},
   "source": [
    "#### 4. 데이터 타입\n",
    "- RAM 저장공간을 효율적으로 사용하기 위해서 저장공간의 타입을 설정\n",
    "- 동적 타이핑\n",
    "    - 변수 선언시 저장되는 값에 따라서 자동으로 데이터 타입이 설정\n",
    "- 기본 데이터 타입 : int , float, bool, str\n",
    "- 컬렉션 데이터 타입 : list, tuple, dict"
   ]
  },
  {
   "cell_type": "code",
   "execution_count": 9,
   "id": "c2f3c13a",
   "metadata": {},
   "outputs": [
    {
     "data": {
      "text/plain": [
       "(int, str)"
      ]
     },
     "execution_count": 9,
     "metadata": {},
     "output_type": "execute_result"
    }
   ],
   "source": [
    "a = 1\n",
    "b = \"python\"\n",
    "type(a), type(b)"
   ]
  },
  {
   "cell_type": "code",
   "execution_count": 10,
   "id": "21327141",
   "metadata": {},
   "outputs": [
    {
     "data": {
      "text/plain": [
       "(int, float, bool, str)"
      ]
     },
     "execution_count": 10,
     "metadata": {},
     "output_type": "execute_result"
    }
   ],
   "source": [
    "# 기본 데이터 타입 int , float , bool, str\n",
    "a = 1\n",
    "b = 1.2\n",
    "c = True #False\n",
    "d = \"data\"\n",
    "\n",
    "type(a), type(b), type(c), type(d)"
   ]
  },
  {
   "cell_type": "code",
   "execution_count": 11,
   "id": "dfc568d5",
   "metadata": {},
   "outputs": [
    {
     "data": {
      "text/plain": [
       "2.2"
      ]
     },
     "execution_count": 11,
     "metadata": {},
     "output_type": "execute_result"
    }
   ],
   "source": [
    "a + b"
   ]
  },
  {
   "cell_type": "code",
   "execution_count": 12,
   "id": "495a5e69",
   "metadata": {},
   "outputs": [],
   "source": [
    "# a + d"
   ]
  },
  {
   "cell_type": "code",
   "execution_count": 13,
   "id": "4f3360e9",
   "metadata": {},
   "outputs": [],
   "source": [
    "# 데이터 타입에 함수 : 문자열\n",
    "# upper : 대문자로 변환\n",
    "e = d.upper()"
   ]
  },
  {
   "cell_type": "code",
   "execution_count": 14,
   "id": "5dfe5d71",
   "metadata": {},
   "outputs": [
    {
     "data": {
      "text/plain": [
       "('data', 'DATA')"
      ]
     },
     "execution_count": 14,
     "metadata": {},
     "output_type": "execute_result"
    }
   ],
   "source": [
    "d, e"
   ]
  },
  {
   "cell_type": "code",
   "execution_count": 15,
   "id": "fce8e8aa",
   "metadata": {},
   "outputs": [],
   "source": [
    "f = \" Fast campus \""
   ]
  },
  {
   "cell_type": "code",
   "execution_count": 16,
   "id": "5aaabb6c",
   "metadata": {},
   "outputs": [
    {
     "data": {
      "text/plain": [
       "' fast campus '"
      ]
     },
     "execution_count": 16,
     "metadata": {},
     "output_type": "execute_result"
    }
   ],
   "source": [
    "# lower : 소문자로 변환\n",
    "f.lower()"
   ]
  },
  {
   "cell_type": "code",
   "execution_count": 17,
   "id": "8ada2df7",
   "metadata": {},
   "outputs": [
    {
     "data": {
      "text/plain": [
       "'Fast campus'"
      ]
     },
     "execution_count": 17,
     "metadata": {},
     "output_type": "execute_result"
    }
   ],
   "source": [
    "# strip : 공백제거\n",
    "f.strip()"
   ]
  },
  {
   "cell_type": "code",
   "execution_count": 18,
   "id": "9fb5afde",
   "metadata": {},
   "outputs": [
    {
     "data": {
      "text/plain": [
       "' Slow campus '"
      ]
     },
     "execution_count": 18,
     "metadata": {},
     "output_type": "execute_result"
    }
   ],
   "source": [
    "# replace : 특정문자열 치환\n",
    "f.replace(\"Fast\", \"Slow\")"
   ]
  },
  {
   "cell_type": "code",
   "execution_count": 19,
   "id": "812e0e82",
   "metadata": {},
   "outputs": [
    {
     "data": {
      "text/plain": [
       "['__add__',\n",
       " '__class__',\n",
       " '__contains__',\n",
       " '__delattr__',\n",
       " '__dir__',\n",
       " '__doc__',\n",
       " '__eq__',\n",
       " '__format__',\n",
       " '__ge__',\n",
       " '__getattribute__',\n",
       " '__getitem__',\n",
       " '__getnewargs__',\n",
       " '__gt__',\n",
       " '__hash__',\n",
       " '__init__',\n",
       " '__init_subclass__',\n",
       " '__iter__',\n",
       " '__le__',\n",
       " '__len__',\n",
       " '__lt__',\n",
       " '__mod__',\n",
       " '__mul__',\n",
       " '__ne__',\n",
       " '__new__',\n",
       " '__reduce__',\n",
       " '__reduce_ex__',\n",
       " '__repr__',\n",
       " '__rmod__',\n",
       " '__rmul__',\n",
       " '__setattr__',\n",
       " '__sizeof__',\n",
       " '__str__',\n",
       " '__subclasshook__',\n",
       " 'capitalize',\n",
       " 'casefold',\n",
       " 'center',\n",
       " 'count',\n",
       " 'encode',\n",
       " 'endswith',\n",
       " 'expandtabs',\n",
       " 'find',\n",
       " 'format',\n",
       " 'format_map',\n",
       " 'index',\n",
       " 'isalnum',\n",
       " 'isalpha',\n",
       " 'isascii',\n",
       " 'isdecimal',\n",
       " 'isdigit',\n",
       " 'isidentifier',\n",
       " 'islower',\n",
       " 'isnumeric',\n",
       " 'isprintable',\n",
       " 'isspace',\n",
       " 'istitle',\n",
       " 'isupper',\n",
       " 'join',\n",
       " 'ljust',\n",
       " 'lower',\n",
       " 'lstrip',\n",
       " 'maketrans',\n",
       " 'partition',\n",
       " 'replace',\n",
       " 'rfind',\n",
       " 'rindex',\n",
       " 'rjust',\n",
       " 'rpartition',\n",
       " 'rsplit',\n",
       " 'rstrip',\n",
       " 'split',\n",
       " 'splitlines',\n",
       " 'startswith',\n",
       " 'strip',\n",
       " 'swapcase',\n",
       " 'title',\n",
       " 'translate',\n",
       " 'upper',\n",
       " 'zfill']"
      ]
     },
     "execution_count": 19,
     "metadata": {},
     "output_type": "execute_result"
    }
   ],
   "source": [
    "dir(f)"
   ]
  },
  {
   "cell_type": "code",
   "execution_count": 20,
   "id": "aa614d50",
   "metadata": {},
   "outputs": [],
   "source": [
    "# 오프셋 인덱스 : 마스크, 마스킹[]\n",
    "# 문자열은 순서가 있는 문자들의 집합"
   ]
  },
  {
   "cell_type": "code",
   "execution_count": 21,
   "id": "2b1236a8",
   "metadata": {},
   "outputs": [],
   "source": [
    "g = \"abcdefg\""
   ]
  },
  {
   "cell_type": "code",
   "execution_count": 22,
   "id": "2734607d",
   "metadata": {},
   "outputs": [
    {
     "data": {
      "text/plain": [
       "('c', 'f', 'cde', 'ab', 'defg', 'fg', 'gfedcba')"
      ]
     },
     "execution_count": 22,
     "metadata": {},
     "output_type": "execute_result"
    }
   ],
   "source": [
    "g[2], g[-2], g[2:5], g[:2], g[3:], g[-2:], g[::-1]"
   ]
  },
  {
   "cell_type": "code",
   "execution_count": 23,
   "id": "450b35ea",
   "metadata": {},
   "outputs": [],
   "source": [
    "numbers = \"123456789\" # 97531 출력"
   ]
  },
  {
   "cell_type": "code",
   "execution_count": 24,
   "id": "69ab70bc",
   "metadata": {},
   "outputs": [
    {
     "data": {
      "text/plain": [
       "'97531'"
      ]
     },
     "execution_count": 24,
     "metadata": {},
     "output_type": "execute_result"
    }
   ],
   "source": [
    "result = numbers[::2]\n",
    "result[::-1]"
   ]
  },
  {
   "cell_type": "code",
   "execution_count": 25,
   "id": "0b1ebff2",
   "metadata": {},
   "outputs": [
    {
     "data": {
      "text/plain": [
       "'97531'"
      ]
     },
     "execution_count": 25,
     "metadata": {},
     "output_type": "execute_result"
    }
   ],
   "source": [
    "numbers[::2][::-1]"
   ]
  },
  {
   "cell_type": "markdown",
   "id": "63992d5e",
   "metadata": {},
   "source": [
    "#### 컬렉션 데이터 타입 : list, tuple, dict\n",
    "- list [] : 순서가 있는 수정이 가능한 데이터 타입\n",
    "- tuple () : 순서가 있는 수정이 불가능한 데이터 타입\n",
    "- dict {} : 순서가 없고 키 : 값 으로 구성 되어 있는 데이터 타입"
   ]
  },
  {
   "cell_type": "code",
   "execution_count": 26,
   "id": "43fc5298",
   "metadata": {},
   "outputs": [
    {
     "data": {
      "text/plain": [
       "(list, [1, 2, 3, 'four', [5, 6], True, 1.2])"
      ]
     },
     "execution_count": 26,
     "metadata": {},
     "output_type": "execute_result"
    }
   ],
   "source": [
    "# list \n",
    "ls = [1, 2, 3, \"four\", [5,6], True, 1.2]\n",
    "type(ls), ls"
   ]
  },
  {
   "cell_type": "code",
   "execution_count": 27,
   "id": "d81a4866",
   "metadata": {},
   "outputs": [
    {
     "data": {
      "text/plain": [
       "('four', [2, 3], [1.2, True, [5, 6], 'four', 3, 2, 1])"
      ]
     },
     "execution_count": 27,
     "metadata": {},
     "output_type": "execute_result"
    }
   ],
   "source": [
    "# offset index 사용이 가능\n",
    "ls[3],ls[1:3], ls[::-1]"
   ]
  },
  {
   "cell_type": "code",
   "execution_count": 28,
   "id": "f3dfe77a",
   "metadata": {},
   "outputs": [],
   "source": [
    "# list 함수"
   ]
  },
  {
   "cell_type": "code",
   "execution_count": 29,
   "id": "bd3fcea8",
   "metadata": {},
   "outputs": [
    {
     "data": {
      "text/plain": [
       "[1, 5, 2, 4]"
      ]
     },
     "execution_count": 29,
     "metadata": {},
     "output_type": "execute_result"
    }
   ],
   "source": [
    "ls = [1, 5, 2, 4]\n",
    "ls"
   ]
  },
  {
   "cell_type": "code",
   "execution_count": 30,
   "id": "901b25a6",
   "metadata": {},
   "outputs": [
    {
     "data": {
      "text/plain": [
       "[1, 5, 2, 4, 3]"
      ]
     },
     "execution_count": 30,
     "metadata": {},
     "output_type": "execute_result"
    }
   ],
   "source": [
    "# append : 가장 뒤에 값을 추가\n",
    "ls.append(3)\n",
    "ls"
   ]
  },
  {
   "cell_type": "code",
   "execution_count": 31,
   "id": "6f19562a",
   "metadata": {},
   "outputs": [
    {
     "data": {
      "text/plain": [
       "[5, 4, 3, 2, 1]"
      ]
     },
     "execution_count": 31,
     "metadata": {},
     "output_type": "execute_result"
    }
   ],
   "source": [
    "# sort : 오름차순 정렬 #데이터를 내용물을 변경함. 출력의 역할만 X\n",
    "ls.sort()\n",
    "ls[::-1]"
   ]
  },
  {
   "cell_type": "code",
   "execution_count": 32,
   "id": "6875e203",
   "metadata": {},
   "outputs": [
    {
     "data": {
      "text/plain": [
       "(5, [1, 2, 3, 4])"
      ]
     },
     "execution_count": 32,
     "metadata": {},
     "output_type": "execute_result"
    }
   ],
   "source": [
    "# pop : 가장 마지막 데이터를 출력하고 출력한 데이터를 삭제\n",
    "# ctrl + enter : 현재 셀을 계속 실행\n",
    "num = ls.pop()\n",
    "num, ls"
   ]
  },
  {
   "cell_type": "code",
   "execution_count": 33,
   "id": "ac778d96",
   "metadata": {},
   "outputs": [],
   "source": [
    "# 리스트의 복사"
   ]
  },
  {
   "cell_type": "code",
   "execution_count": 34,
   "id": "d9017980",
   "metadata": {},
   "outputs": [
    {
     "data": {
      "text/plain": [
       "([1, 2, 3], [1, 2, 3])"
      ]
     },
     "execution_count": 34,
     "metadata": {},
     "output_type": "execute_result"
    }
   ],
   "source": [
    "ls1 = [1, 2, 3]\n",
    "ls2 = ls1 # 주소값 복사 :얕은 복사\n",
    "ls1, ls2"
   ]
  },
  {
   "cell_type": "code",
   "execution_count": 35,
   "id": "9b704c77",
   "metadata": {},
   "outputs": [],
   "source": [
    "ls1[2] = 5"
   ]
  },
  {
   "cell_type": "code",
   "execution_count": 36,
   "id": "53674c6c",
   "metadata": {},
   "outputs": [
    {
     "data": {
      "text/plain": [
       "([1, 2, 5], [1, 2, 5])"
      ]
     },
     "execution_count": 36,
     "metadata": {},
     "output_type": "execute_result"
    }
   ],
   "source": [
    "ls1, ls2"
   ]
  },
  {
   "cell_type": "code",
   "execution_count": 37,
   "id": "6e7abe7b",
   "metadata": {},
   "outputs": [
    {
     "data": {
      "text/plain": [
       "([1, 2, 5], [1, 2, 5])"
      ]
     },
     "execution_count": 37,
     "metadata": {},
     "output_type": "execute_result"
    }
   ],
   "source": [
    "ls3 = ls1.copy()\n",
    "ls1, ls3"
   ]
  },
  {
   "cell_type": "code",
   "execution_count": 38,
   "id": "897a307c",
   "metadata": {},
   "outputs": [],
   "source": [
    "ls1[2] = 10"
   ]
  },
  {
   "cell_type": "code",
   "execution_count": 39,
   "id": "ece2883a",
   "metadata": {},
   "outputs": [
    {
     "data": {
      "text/plain": [
       "([1, 2, 10], [1, 2, 5])"
      ]
     },
     "execution_count": 39,
     "metadata": {},
     "output_type": "execute_result"
    }
   ],
   "source": [
    "ls1, ls3"
   ]
  },
  {
   "cell_type": "markdown",
   "id": "8667939e",
   "metadata": {},
   "source": [
    "#### Tuple ()\n",
    "- 리스트와 같지만 수정이 불가능한 데이터 타입\n",
    "- 튜플은 리스트보다 같은 데이터를 가졌을때 공간을 적게 사용"
   ]
  },
  {
   "cell_type": "code",
   "execution_count": 40,
   "id": "4fd89a1d",
   "metadata": {},
   "outputs": [
    {
     "data": {
      "text/plain": [
       "(tuple, tuple, (1, 2, 3), (4, 5, 6))"
      ]
     },
     "execution_count": 40,
     "metadata": {},
     "output_type": "execute_result"
    }
   ],
   "source": [
    "tp1 = 1, 2, 3\n",
    "tp2 = (4, 5, 6)\n",
    "type(tp1), type(tp2), tp1, tp2"
   ]
  },
  {
   "cell_type": "code",
   "execution_count": 41,
   "id": "442eebc4",
   "metadata": {},
   "outputs": [
    {
     "data": {
      "text/plain": [
       "(6, 2)"
      ]
     },
     "execution_count": 41,
     "metadata": {},
     "output_type": "execute_result"
    }
   ],
   "source": [
    "a, b = 6, 2 # 튜플 선언\n",
    "a, b"
   ]
  },
  {
   "cell_type": "code",
   "execution_count": 42,
   "id": "d4cb9616",
   "metadata": {
    "scrolled": false
   },
   "outputs": [
    {
     "data": {
      "text/plain": [
       "(2, (3, 2, 1))"
      ]
     },
     "execution_count": 42,
     "metadata": {},
     "output_type": "execute_result"
    }
   ],
   "source": [
    "# offset index 사용\n",
    "tp1[1], tp1[::-1]"
   ]
  },
  {
   "cell_type": "code",
   "execution_count": 43,
   "id": "3488d471",
   "metadata": {},
   "outputs": [
    {
     "name": "stdout",
     "output_type": "stream",
     "text": [
      "80 64\n"
     ]
    }
   ],
   "source": [
    "# 리스트와 튜퓰의 저장공간 차이 비교\n",
    "import sys\n",
    "\n",
    "ls = [1, 2, 3]\n",
    "tp = (1, 2, 3)\n",
    "\n",
    "print(sys.getsizeof(ls), sys.getsizeof(tp))"
   ]
  },
  {
   "cell_type": "markdown",
   "id": "d0bb2d54",
   "metadata": {},
   "source": [
    "#### dict {}\n",
    "- 순서가 없고 {키:값} 으로 구성되어 있는 데이터 타입"
   ]
  },
  {
   "cell_type": "code",
   "execution_count": 44,
   "id": "67587599",
   "metadata": {},
   "outputs": [],
   "source": [
    "# 아래 데이터를 list 와 dict 로 선언하기\n",
    "# 도시 : 서울, 부산 , 대구\n",
    "# 인구 : 9700000, 3400000, 2400000"
   ]
  },
  {
   "cell_type": "code",
   "execution_count": 45,
   "id": "209e44b0",
   "metadata": {},
   "outputs": [],
   "source": [
    "#list\n",
    "city = [\"서울\", \"부산\", \"대구\"]\n",
    "population = [9700000, 3400000, 2400000]\n",
    "\n",
    "#dict\n",
    "data = {\n",
    "    \"서울\" : 9700000,\n",
    "    \"부산\" : 5200000,\n",
    "    \"대구\" : 3400000,\n",
    "}"
   ]
  },
  {
   "cell_type": "code",
   "execution_count": 46,
   "id": "6d79c356",
   "metadata": {},
   "outputs": [
    {
     "data": {
      "text/plain": [
       "(2400000, 3400000)"
      ]
     },
     "execution_count": 46,
     "metadata": {},
     "output_type": "execute_result"
    }
   ],
   "source": [
    "population[2], data[\"대구\"]"
   ]
  },
  {
   "cell_type": "code",
   "execution_count": 47,
   "id": "15908811",
   "metadata": {},
   "outputs": [
    {
     "data": {
      "text/plain": [
       "15500000"
      ]
     },
     "execution_count": 47,
     "metadata": {},
     "output_type": "execute_result"
    }
   ],
   "source": [
    "sum(population)"
   ]
  },
  {
   "cell_type": "code",
   "execution_count": 48,
   "id": "a9cf8863",
   "metadata": {},
   "outputs": [
    {
     "data": {
      "text/plain": [
       "18300000"
      ]
     },
     "execution_count": 48,
     "metadata": {},
     "output_type": "execute_result"
    }
   ],
   "source": [
    "sum(data.values())"
   ]
  },
  {
   "cell_type": "markdown",
   "id": "3699ee56",
   "metadata": {},
   "source": [
    "#### 5. 형변환\n",
    "- 데이터 타입을 변환하는 방법\n",
    "- int float, bool, str, list, tuple, dict"
   ]
  },
  {
   "cell_type": "code",
   "execution_count": 49,
   "id": "bf5e8fd8",
   "metadata": {},
   "outputs": [
    {
     "data": {
      "text/plain": [
       "3"
      ]
     },
     "execution_count": 49,
     "metadata": {},
     "output_type": "execute_result"
    }
   ],
   "source": [
    "a = 1\n",
    "b = \"2\"\n",
    "a + int(b)"
   ]
  },
  {
   "cell_type": "code",
   "execution_count": 50,
   "id": "ae4d821d",
   "metadata": {},
   "outputs": [
    {
     "data": {
      "text/plain": [
       "[9700000, 5200000, 3400000]"
      ]
     },
     "execution_count": 50,
     "metadata": {},
     "output_type": "execute_result"
    }
   ],
   "source": [
    "list(data.values())"
   ]
  },
  {
   "cell_type": "code",
   "execution_count": 60,
   "id": "a059d9d2",
   "metadata": {},
   "outputs": [
    {
     "data": {
      "text/plain": [
       "{'서울': 9700000, '부산': 3400000, '대구': 2400000}"
      ]
     },
     "execution_count": 60,
     "metadata": {},
     "output_type": "execute_result"
    }
   ],
   "source": [
    "result = list(zip(city, population))\n",
    "dict(result)"
   ]
  },
  {
   "cell_type": "code",
   "execution_count": 51,
   "id": "98bc28ea",
   "metadata": {},
   "outputs": [
    {
     "data": {
      "text/plain": [
       "[('서울', 9700000), ('부산', 3400000), ('대구', 2400000)]"
      ]
     },
     "execution_count": 51,
     "metadata": {},
     "output_type": "execute_result"
    }
   ],
   "source": [
    "# zip : 같은 인덱스 데이터끼리 묶어주는 함수\n",
    "list(zip(city, population))"
   ]
  },
  {
   "cell_type": "code",
   "execution_count": 52,
   "id": "ff475ca0",
   "metadata": {},
   "outputs": [
    {
     "data": {
      "text/plain": [
       "{'서울': 9700000, '부산': 3400000, '대구': 2400000}"
      ]
     },
     "execution_count": 52,
     "metadata": {},
     "output_type": "execute_result"
    }
   ],
   "source": [
    "result = dict(list(zip(city, population)))\n",
    "result"
   ]
  },
  {
   "cell_type": "code",
   "execution_count": 53,
   "id": "9eaff4a0",
   "metadata": {},
   "outputs": [
    {
     "data": {
      "text/plain": [
       "(['서울', '부산', '대구'], [9700000, 3400000, 2400000])"
      ]
     },
     "execution_count": 53,
     "metadata": {},
     "output_type": "execute_result"
    }
   ],
   "source": [
    "data1 = list(result.keys())\n",
    "data2 = list(result.values())\n",
    "\n",
    "data1, data2"
   ]
  },
  {
   "cell_type": "markdown",
   "id": "cc0e0dd7",
   "metadata": {},
   "source": [
    "#### 6. 연산자\n",
    "- 산술 연산자 : +, -, *, /, //, %, **\n",
    "- 할당 연산자 : 변수에 누적시켜서 연산 : +=, //=, **=\n",
    "- 비교 연산자 : > , <, ==, !=, <=, >=, : 결과로 True , False로 출력\n",
    "- 논리 연산자 : or, and , not : True, False를 연산\n",
    "- 멤버 연산자 : 특정 데이터가 있는지 확인할 때 사용 : not in, in"
   ]
  },
  {
   "cell_type": "code",
   "execution_count": 61,
   "id": "b42bbb13",
   "metadata": {},
   "outputs": [
    {
     "data": {
      "text/plain": [
       "3"
      ]
     },
     "execution_count": 61,
     "metadata": {},
     "output_type": "execute_result"
    }
   ],
   "source": [
    "# 산술 연산\n",
    "a = 1 \n",
    "b = 2\n",
    "a + b"
   ]
  },
  {
   "cell_type": "code",
   "execution_count": 63,
   "id": "6a5aa4c4",
   "metadata": {},
   "outputs": [
    {
     "data": {
      "text/plain": [
       "2.0"
      ]
     },
     "execution_count": 63,
     "metadata": {},
     "output_type": "execute_result"
    }
   ],
   "source": [
    "1 + 4 / 2 ** 2 # 제곱이 우선순위가 제일 높음"
   ]
  },
  {
   "cell_type": "code",
   "execution_count": 66,
   "id": "d59f3dc2",
   "metadata": {},
   "outputs": [
    {
     "data": {
      "text/plain": [
       "40"
      ]
     },
     "execution_count": 66,
     "metadata": {},
     "output_type": "execute_result"
    }
   ],
   "source": [
    "# 할당 연산\n",
    "a = 10\n",
    "a = a + 10\n",
    "a = a + 10\n",
    "a+= 10\n",
    "a\n"
   ]
  },
  {
   "cell_type": "code",
   "execution_count": 68,
   "id": "7a4bf3cf",
   "metadata": {},
   "outputs": [
    {
     "name": "stdout",
     "output_type": "stream",
     "text": [
      "40 2\n"
     ]
    },
    {
     "data": {
      "text/plain": [
       "(False, False, True)"
      ]
     },
     "execution_count": 68,
     "metadata": {},
     "output_type": "execute_result"
    }
   ],
   "source": [
    "# 비교 연산\n",
    "print(a, b)\n",
    "a < b, a == b, a != b"
   ]
  },
  {
   "cell_type": "code",
   "execution_count": 69,
   "id": "8438dba1",
   "metadata": {},
   "outputs": [
    {
     "data": {
      "text/plain": [
       "(False, True, False)"
      ]
     },
     "execution_count": 69,
     "metadata": {},
     "output_type": "execute_result"
    }
   ],
   "source": [
    "# 논리 연산\n",
    "True and False, True or False, not True or False"
   ]
  },
  {
   "cell_type": "code",
   "execution_count": 70,
   "id": "e6699040",
   "metadata": {},
   "outputs": [],
   "source": [
    "# 멤버 연산\n",
    "ls = [\"jin\", \"andy\", \"jhon\"]"
   ]
  },
  {
   "cell_type": "code",
   "execution_count": 71,
   "id": "2b11e384",
   "metadata": {},
   "outputs": [
    {
     "data": {
      "text/plain": [
       "(True, False, False)"
      ]
     },
     "execution_count": 71,
     "metadata": {},
     "output_type": "execute_result"
    }
   ],
   "source": [
    "\"andy\" in ls, \"anchel\" in ls, \"jhon\" not in ls"
   ]
  },
  {
   "cell_type": "code",
   "execution_count": 73,
   "id": "a7d1c346",
   "metadata": {},
   "outputs": [
    {
     "data": {
      "text/plain": [
       "True"
      ]
     },
     "execution_count": 73,
     "metadata": {},
     "output_type": "execute_result"
    }
   ],
   "source": [
    "True or False and \"andy\" in ls"
   ]
  },
  {
   "cell_type": "code",
   "execution_count": 88,
   "id": "537973a1",
   "metadata": {},
   "outputs": [
    {
     "data": {
      "text/plain": [
       "2"
      ]
     },
     "execution_count": 88,
     "metadata": {},
     "output_type": "execute_result"
    }
   ],
   "source": [
    "### 랜덤 함수\n",
    "import random\n",
    "\n",
    "random.randint(1, 10)"
   ]
  },
  {
   "cell_type": "code",
   "execution_count": 89,
   "id": "04e31863",
   "metadata": {},
   "outputs": [
    {
     "name": "stdout",
     "output_type": "stream",
     "text": [
      "insert string: 안녕하세요\n"
     ]
    },
    {
     "data": {
      "text/plain": [
       "'안녕하세요'"
      ]
     },
     "execution_count": 89,
     "metadata": {},
     "output_type": "execute_result"
    }
   ],
   "source": [
    "# 입력 함수\n",
    "data = input(\"insert string: \")\n",
    "data"
   ]
  },
  {
   "cell_type": "code",
   "execution_count": 90,
   "id": "6c805a05",
   "metadata": {},
   "outputs": [],
   "source": [
    "# 해결의 책 : 질문을 하면 질문에 대한 답변을 해주는 책"
   ]
  },
  {
   "cell_type": "code",
   "execution_count": 91,
   "id": "9c5b52bb",
   "metadata": {},
   "outputs": [],
   "source": [
    "# 솔루션을 리스트로 작성\n",
    "# 질문 입력 받음\n",
    "# 솔루션의 갯수에 맞게 랜덤한 index 정수 값을 생성\n",
    "# index 해당하는 솔루션 리스트의 데이터를 출력"
   ]
  },
  {
   "cell_type": "code",
   "execution_count": 94,
   "id": "bdaaeedb",
   "metadata": {},
   "outputs": [
    {
     "name": "stdout",
     "output_type": "stream",
     "text": [
      "질문을 입력하세요 : 저는 육아지옥을 탈출 할수 있을까요?\n"
     ]
    },
    {
     "data": {
      "text/plain": [
       "'생각지도 않게 좋은 일이 생길 것이다.'"
      ]
     },
     "execution_count": 94,
     "metadata": {},
     "output_type": "execute_result"
    }
   ],
   "source": [
    "# 솔루션을 리스트로 작성\n",
    "solutions = [\n",
    "    \"무엇을 하던 잘 안될 것이다.\",\n",
    "    \"생각지도 않게 좋은 일이 생길 것이다.\", \n",
    "    \"무엇을 상상하던 그 이상이다.\",\n",
    "]\n",
    "\n",
    "# 질문 입력받음\n",
    "input(\"질문을 입력하세요 : \")\n",
    "\n",
    "# 솔루션의 갯수에 맞게 랜덤한 index 정수 값을 생성\n",
    "idx = random.randint(0, len(solutions)-1)\n",
    "\n",
    "# index 해당하는 솔루션 리스트의 데이터를 출력\n",
    "solutions[idx]"
   ]
  },
  {
   "cell_type": "code",
   "execution_count": null,
   "id": "c120dbba",
   "metadata": {},
   "outputs": [],
   "source": []
  }
 ],
 "metadata": {
  "kernelspec": {
   "display_name": "Python 3",
   "language": "python",
   "name": "python3"
  },
  "language_info": {
   "codemirror_mode": {
    "name": "ipython",
    "version": 3
   },
   "file_extension": ".py",
   "mimetype": "text/x-python",
   "name": "python",
   "nbconvert_exporter": "python",
   "pygments_lexer": "ipython3",
   "version": "3.8.8"
  }
 },
 "nbformat": 4,
 "nbformat_minor": 5
}
