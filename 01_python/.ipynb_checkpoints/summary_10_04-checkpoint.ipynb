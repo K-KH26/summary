{
 "cells": [
  {
   "cell_type": "markdown",
   "id": "54ec5083",
   "metadata": {},
   "source": [
    "### getter & setter\n",
    "- 객체의 내부 변수에 접근할 때 특정 로직을 거쳐서 접근시키는 방법\n",
    "- 객체의 내부 변수에 접근할 때 다이렉트 접근이 아니라 객체 내 getter, setter 함수를 이용해 변수를 우회적으로 수정, 호출한다.\n",
    "- 객체 지향 언어에서 거의 필수로 쓰이며, 자바에서 많이 보인다\n",
    "\n",
    "- setter : 객체 변수에 접근해 수정혹은 조건을 설정 하는 역할\n",
    "- getter : 객체 변수를 리턴해준다.\n",
    "- property(getter, setter) : 클래스 내 getter, setter 메서드에 접근하게 해준다\n",
    "\n",
    "### mangling (private)\n",
    "- `__`를 붙여서 사용\n"
   ]
  },
  {
   "cell_type": "code",
   "execution_count": 243,
   "id": "ec228b3d",
   "metadata": {},
   "outputs": [],
   "source": [
    "class Ctest :\n",
    "    \n",
    "    def __init__(self, num1, num3, *args , num2=1, **kwargs) :\n",
    "        self.__num1 = num1\n",
    "        self.__num2 = num2\n",
    "        self.__num3 = num3\n",
    "        self.__args = args\n",
    "        self.__kwargs = kwargs\n",
    "        \n",
    "        \n",
    "    def __repr__(self) :\n",
    "        return f\"num1:{self.__num1}, num2:{self.__num2}, num3:{self.__num3}, args:{self.__args}, kwargs:{self.__kwargs}\"\n",
    "\n",
    "    def get_num1(self) :\n",
    "        return self.__num1\n",
    "    \n",
    "    def set_num1(self, number):\n",
    "        if number < 10 :\n",
    "            self.__num1 = 1\n",
    "        else :\n",
    "            self.__num1 = number\n",
    "            \n",
    "    @property\n",
    "    def num2(self) :\n",
    "        return self.__num2\n",
    "    \n",
    "    @num2.setter    \n",
    "    def num2(self, number) :\n",
    "        self.__num2 = number\n",
    "  \n",
    "    num1 = property(get_num1, set_num1)\n",
    "  \n",
    "    def __plus(self) :\n",
    "        return self.__num1 + self.__num2\n",
    "\n",
    "    def show(self) :\n",
    "        result = self.__plus()\n",
    "        result *= 10\n",
    "        print(result)\n",
    "        \n",
    "    "
   ]
  },
  {
   "cell_type": "code",
   "execution_count": 244,
   "id": "07edd5af",
   "metadata": {},
   "outputs": [],
   "source": [
    "c = Ctest(8,1,1,2,3,4,5,num2=4)"
   ]
  },
  {
   "cell_type": "code",
   "execution_count": 245,
   "id": "ad2bfdf1",
   "metadata": {},
   "outputs": [
    {
     "data": {
      "text/plain": [
       "num1:8, num2:4, num3:1, args:(1, 2, 3, 4, 5), kwargs:{}"
      ]
     },
     "execution_count": 245,
     "metadata": {},
     "output_type": "execute_result"
    }
   ],
   "source": [
    "c"
   ]
  },
  {
   "cell_type": "code",
   "execution_count": 246,
   "id": "49989453",
   "metadata": {},
   "outputs": [],
   "source": [
    "c.number1 = 2"
   ]
  },
  {
   "cell_type": "code",
   "execution_count": 247,
   "id": "17a4a2db",
   "metadata": {},
   "outputs": [],
   "source": [
    "c.number2 = 10"
   ]
  },
  {
   "cell_type": "code",
   "execution_count": 248,
   "id": "3edb45b8",
   "metadata": {},
   "outputs": [
    {
     "data": {
      "text/plain": [
       "num1:8, num2:4, num3:1, args:(1, 2, 3, 4, 5), kwargs:{}"
      ]
     },
     "execution_count": 248,
     "metadata": {},
     "output_type": "execute_result"
    }
   ],
   "source": [
    "c"
   ]
  },
  {
   "cell_type": "code",
   "execution_count": 249,
   "id": "bac2eeda",
   "metadata": {},
   "outputs": [],
   "source": [
    "c.num1 = 3"
   ]
  },
  {
   "cell_type": "code",
   "execution_count": 250,
   "id": "d21d8a18",
   "metadata": {},
   "outputs": [
    {
     "data": {
      "text/plain": [
       "num1:1, num2:4, num3:1, args:(1, 2, 3, 4, 5), kwargs:{}"
      ]
     },
     "execution_count": 250,
     "metadata": {},
     "output_type": "execute_result"
    }
   ],
   "source": [
    "c"
   ]
  },
  {
   "cell_type": "code",
   "execution_count": 251,
   "id": "fe64bf13",
   "metadata": {},
   "outputs": [],
   "source": [
    "c.num1 = 12\n",
    "c.num2 = 5"
   ]
  },
  {
   "cell_type": "code",
   "execution_count": 252,
   "id": "9329f109",
   "metadata": {},
   "outputs": [
    {
     "data": {
      "text/plain": [
       "num1:12, num2:5, num3:1, args:(1, 2, 3, 4, 5), kwargs:{}"
      ]
     },
     "execution_count": 252,
     "metadata": {},
     "output_type": "execute_result"
    }
   ],
   "source": [
    "c"
   ]
  },
  {
   "cell_type": "code",
   "execution_count": 257,
   "id": "3a61836c",
   "metadata": {},
   "outputs": [],
   "source": [
    "# c.plus() # 에러! < 'Ctest' object has no attribute 'plus' >"
   ]
  },
  {
   "cell_type": "code",
   "execution_count": 258,
   "id": "06d4d524",
   "metadata": {},
   "outputs": [
    {
     "name": "stdout",
     "output_type": "stream",
     "text": [
      "170\n"
     ]
    }
   ],
   "source": [
    "c.show()"
   ]
  },
  {
   "cell_type": "code",
   "execution_count": null,
   "id": "7336b3cf",
   "metadata": {},
   "outputs": [],
   "source": []
  },
  {
   "cell_type": "code",
   "execution_count": null,
   "id": "141e564d",
   "metadata": {},
   "outputs": [],
   "source": []
  }
 ],
 "metadata": {
  "kernelspec": {
   "display_name": "Python 3",
   "language": "python",
   "name": "python3"
  },
  "language_info": {
   "codemirror_mode": {
    "name": "ipython",
    "version": 3
   },
   "file_extension": ".py",
   "mimetype": "text/x-python",
   "name": "python",
   "nbconvert_exporter": "python",
   "pygments_lexer": "ipython3",
   "version": "3.8.8"
  }
 },
 "nbformat": 4,
 "nbformat_minor": 5
}
