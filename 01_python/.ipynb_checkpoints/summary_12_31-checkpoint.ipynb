{
 "cells": [
  {
   "cell_type": "markdown",
   "id": "84730a5a",
   "metadata": {},
   "source": [
    "### 람다 함수\n",
    "- 파라미터를 간단한 계산으로 리턴되는 함수 : 삼항연산 "
   ]
  },
  {
   "cell_type": "code",
   "execution_count": 2,
   "id": "6e89daa1",
   "metadata": {},
   "outputs": [],
   "source": [
    "def plus(a, b) :\n",
    "    return a + b"
   ]
  },
  {
   "cell_type": "code",
   "execution_count": 3,
   "id": "c39a4413",
   "metadata": {},
   "outputs": [
    {
     "data": {
      "text/plain": [
       "3"
      ]
     },
     "execution_count": 3,
     "metadata": {},
     "output_type": "execute_result"
    }
   ],
   "source": [
    "plus(1, 2)"
   ]
  },
  {
   "cell_type": "code",
   "execution_count": 4,
   "id": "2841aaa2",
   "metadata": {},
   "outputs": [],
   "source": [
    "plus2 = lambda a, b : a + b"
   ]
  },
  {
   "cell_type": "code",
   "execution_count": 5,
   "id": "90d6e3f8",
   "metadata": {},
   "outputs": [
    {
     "data": {
      "text/plain": [
       "5"
      ]
     },
     "execution_count": 5,
     "metadata": {},
     "output_type": "execute_result"
    }
   ],
   "source": [
    "plus2(2,3)"
   ]
  },
  {
   "cell_type": "code",
   "execution_count": 6,
   "id": "9a0e493b",
   "metadata": {},
   "outputs": [],
   "source": [
    "def calc(func, a, b) :\n",
    "    # code..\n",
    "    a **= 2\n",
    "    b **= 2\n",
    "    return func(a,b)"
   ]
  },
  {
   "cell_type": "code",
   "execution_count": 8,
   "id": "1a6bcf72",
   "metadata": {},
   "outputs": [
    {
     "data": {
      "text/plain": [
       "144"
      ]
     },
     "execution_count": 8,
     "metadata": {},
     "output_type": "execute_result"
    }
   ],
   "source": [
    "calc(lambda a, b: a*b, 3, 4) # a = 3**2 = 9, b = 4**2 = 16 / return 9 * 16 "
   ]
  },
  {
   "cell_type": "markdown",
   "id": "8fa8bf20",
   "metadata": {},
   "source": [
    "### map, filter, reduce\n",
    "\n"
   ]
  },
  {
   "cell_type": "code",
   "execution_count": 11,
   "id": "6795541f",
   "metadata": {},
   "outputs": [
    {
     "data": {
      "text/plain": [
       "('odd', 'even')"
      ]
     },
     "execution_count": 11,
     "metadata": {},
     "output_type": "execute_result"
    }
   ],
   "source": [
    "ls = [1, 2, 3, 4 ]\n",
    "ls2 = [5, 6, 7, 8]\n",
    "def odd_even(num) :\n",
    "    return \"odd\" if num %2 else \"even\"\n",
    "\n",
    "odd_even(3), odd_even(4)"
   ]
  },
  {
   "cell_type": "code",
   "execution_count": 13,
   "id": "84c36cf1",
   "metadata": {},
   "outputs": [
    {
     "data": {
      "text/plain": [
       "['odd', 'even', 'odd', 'even']"
      ]
     },
     "execution_count": 13,
     "metadata": {},
     "output_type": "execute_result"
    }
   ],
   "source": [
    "# map\n",
    "# 순서가 있는 데이터 집합에서 모든 값에 함수를 적용시킨 결과를 출력\n",
    "list(map(odd_even, ls))"
   ]
  },
  {
   "cell_type": "code",
   "execution_count": 14,
   "id": "bc0b233d",
   "metadata": {},
   "outputs": [],
   "source": [
    "# input 함수로 구분자는 \" \" 으로 여러개의 숫자를 입력 받습니다.\n",
    "# str.split(\" \") 리스트로 만들고\n",
    "# 만들어진 리스트의 값들을 int 형변환"
   ]
  },
  {
   "cell_type": "code",
   "execution_count": 15,
   "id": "9e543786",
   "metadata": {},
   "outputs": [
    {
     "name": "stdout",
     "output_type": "stream",
     "text": [
      "insert numbers : 1 2 3 4 5\n"
     ]
    }
   ],
   "source": [
    "datas = input(\"insert numbers : \")"
   ]
  },
  {
   "cell_type": "code",
   "execution_count": 16,
   "id": "92bb75b7",
   "metadata": {},
   "outputs": [],
   "source": [
    "ls = datas.split(\" \")"
   ]
  },
  {
   "cell_type": "code",
   "execution_count": 17,
   "id": "9be10208",
   "metadata": {},
   "outputs": [
    {
     "name": "stdout",
     "output_type": "stream",
     "text": [
      "['1', '2', '3', '4', '5']\n"
     ]
    }
   ],
   "source": [
    "print(ls)"
   ]
  },
  {
   "cell_type": "code",
   "execution_count": 19,
   "id": "ae2c7429",
   "metadata": {},
   "outputs": [
    {
     "data": {
      "text/plain": [
       "[1, 2, 3, 4, 5]"
      ]
     },
     "execution_count": 19,
     "metadata": {},
     "output_type": "execute_result"
    }
   ],
   "source": [
    "result = map(int, ls)\n",
    "list(result)"
   ]
  },
  {
   "cell_type": "code",
   "execution_count": 21,
   "id": "39c27454",
   "metadata": {},
   "outputs": [],
   "source": [
    "# filter\n",
    "# 리스트 데이터에서 특정 조건에 맞는 value만 남기는 함수\n",
    "\n",
    "ls = range(10)"
   ]
  },
  {
   "cell_type": "code",
   "execution_count": 25,
   "id": "5b5fc178",
   "metadata": {},
   "outputs": [
    {
     "data": {
      "text/plain": [
       "[1, 3, 5, 7, 9]"
      ]
     },
     "execution_count": 25,
     "metadata": {},
     "output_type": "execute_result"
    }
   ],
   "source": [
    "# 홀수만 출력\n",
    "\n",
    "list(filter(lambda num :  True if num%2 else False , ls ))"
   ]
  },
  {
   "cell_type": "code",
   "execution_count": 26,
   "id": "77a8a422",
   "metadata": {},
   "outputs": [],
   "source": [
    "# reduce\n",
    "\n",
    "# 리스트 데이터를 처음부터 순서대로 특정 함수를 실행하여 결과를 누적시켜 주는 함수"
   ]
  },
  {
   "cell_type": "code",
   "execution_count": 27,
   "id": "084318c1",
   "metadata": {},
   "outputs": [],
   "source": [
    "from functools import reduce"
   ]
  },
  {
   "cell_type": "code",
   "execution_count": 28,
   "id": "88931503",
   "metadata": {},
   "outputs": [
    {
     "data": {
      "text/plain": [
       "21"
      ]
     },
     "execution_count": 28,
     "metadata": {},
     "output_type": "execute_result"
    }
   ],
   "source": [
    "ls = [1, 2, 3, 5,10]\n",
    "reduce(lambda x, y :  x+y , ls )"
   ]
  },
  {
   "cell_type": "code",
   "execution_count": null,
   "id": "c8c63057",
   "metadata": {},
   "outputs": [],
   "source": []
  }
 ],
 "metadata": {
  "kernelspec": {
   "display_name": "Python 3",
   "language": "python",
   "name": "python3"
  },
  "language_info": {
   "codemirror_mode": {
    "name": "ipython",
    "version": 3
   },
   "file_extension": ".py",
   "mimetype": "text/x-python",
   "name": "python",
   "nbconvert_exporter": "python",
   "pygments_lexer": "ipython3",
   "version": "3.8.8"
  }
 },
 "nbformat": 4,
 "nbformat_minor": 5
}
