{
 "cells": [
  {
   "cell_type": "markdown",
   "id": "dd0af9f8",
   "metadata": {},
   "source": [
    "## 복습할 내용\n",
    "### 배운 내용중 완벽하게 숙지 안된것 위주\n",
    "#### 함수\n",
    "- 파라미터와 아규먼트\n",
    "- `*args`, `**kwarg`\n",
    "- docstring\n",
    "- scope\n",
    "- lambda function\n",
    "- Map, Filter, Reduce,\n",
    "- Decorlater"
   ]
  },
  {
   "cell_type": "markdown",
   "id": "246aabd7",
   "metadata": {},
   "source": [
    "### 파라미터와 아규먼트\n",
    "- 파라미터는 함수를 선언할때 호출하는 부분에서 보내주는 데이터를 받는 변수\n",
    "- 아규먼트는 선언된 함수를 호출할때 보내주는 데이터"
   ]
  },
  {
   "cell_type": "code",
   "execution_count": 1,
   "id": "bc5d3ba8",
   "metadata": {},
   "outputs": [
    {
     "name": "stdout",
     "output_type": "stream",
     "text": [
      "6\n"
     ]
    }
   ],
   "source": [
    "def func(a, b, c=1) : # a, b, c 는 파라미터, c는 defalt parameter라고 한다\n",
    "    print(a + b + c)\n",
    "\n",
    "func(1, 2, 3) # 아규먼트"
   ]
  },
  {
   "cell_type": "markdown",
   "id": "dac59951",
   "metadata": {},
   "source": [
    "### `*args` , `**kwarg`\n",
    "- 함수를 호출 할 때 아규먼트나 키워드 아규먼트의 갯수를 특정지을 수 없을 때 사용"
   ]
  },
  {
   "cell_type": "code",
   "execution_count": 2,
   "id": "7ab279d4",
   "metadata": {},
   "outputs": [],
   "source": [
    "def plus(*args, **kwargs) :\n",
    "    print(type(args), args)\n",
    "    print(type(kwargs), kwargs)\n",
    "    return sum(args) + sum(kwargs.values()) "
   ]
  },
  {
   "cell_type": "code",
   "execution_count": 3,
   "id": "6b06ccf5",
   "metadata": {},
   "outputs": [
    {
     "name": "stdout",
     "output_type": "stream",
     "text": [
      "<class 'tuple'> (1, 2, 3)\n",
      "<class 'dict'> {'num1': 4, 'num2': 5}\n"
     ]
    },
    {
     "data": {
      "text/plain": [
       "15"
      ]
     },
     "execution_count": 3,
     "metadata": {},
     "output_type": "execute_result"
    }
   ],
   "source": [
    "plus(1, 2, 3, num1=4, num2=5) # *args 는 튜플형태로 들어가고 **kwargs 는 dict 형으로 들어간다."
   ]
  },
  {
   "cell_type": "code",
   "execution_count": 4,
   "id": "485131db",
   "metadata": {},
   "outputs": [],
   "source": [
    "def func(num1, num2=10, num3=20) :\n",
    "    return num1 + num2 + num3"
   ]
  },
  {
   "cell_type": "code",
   "execution_count": 5,
   "id": "02e899c4",
   "metadata": {},
   "outputs": [
    {
     "data": {
      "text/plain": [
       "6"
      ]
     },
     "execution_count": 5,
     "metadata": {},
     "output_type": "execute_result"
    }
   ],
   "source": [
    "data = [1, 2, 3]\n",
    "func(*data)"
   ]
  },
  {
   "cell_type": "code",
   "execution_count": 6,
   "id": "1cf306d9",
   "metadata": {},
   "outputs": [
    {
     "data": {
      "text/plain": [
       "11"
      ]
     },
     "execution_count": 6,
     "metadata": {},
     "output_type": "execute_result"
    }
   ],
   "source": [
    "data = {\n",
    "    \"num1\" : 5,\n",
    "    \"num2\" : 5,\n",
    "    \"num3\" : 1,\n",
    "}\n",
    "\n",
    "func(**data)"
   ]
  },
  {
   "cell_type": "code",
   "execution_count": 7,
   "id": "0a6ad872",
   "metadata": {},
   "outputs": [],
   "source": [
    "def t_func(*a, **b) :\n",
    "    print(type(a), a)\n",
    "    print(type(b), b)"
   ]
  },
  {
   "cell_type": "code",
   "execution_count": 8,
   "id": "48de89b3",
   "metadata": {},
   "outputs": [
    {
     "name": "stdout",
     "output_type": "stream",
     "text": [
      "<class 'tuple'> (1, 2, 3, 4, 5)\n",
      "<class 'dict'> {'a': 1, 'b': 2, 'c': 3}\n"
     ]
    }
   ],
   "source": [
    "t_func(1, 2, 3, 4, 5, a=1, b=2, c=3)"
   ]
  },
  {
   "cell_type": "markdown",
   "id": "c08b5183",
   "metadata": {},
   "source": [
    "#### Scope\n",
    "- inner, outer "
   ]
  },
  {
   "cell_type": "code",
   "execution_count": 9,
   "id": "c6045f31",
   "metadata": {},
   "outputs": [
    {
     "name": "stdout",
     "output_type": "stream",
     "text": [
      "1 2\n",
      "3 4\n"
     ]
    }
   ],
   "source": [
    "def outer(a, b) :\n",
    "    \n",
    "    def inner(c, d) :\n",
    "        print(a, b)\n",
    "        print(c, d)\n",
    "    \n",
    "    return inner\n",
    "\n",
    "outer(1, 2)(3, 4)\n"
   ]
  },
  {
   "cell_type": "code",
   "execution_count": 10,
   "id": "f52ea7f7",
   "metadata": {},
   "outputs": [
    {
     "name": "stdout",
     "output_type": "stream",
     "text": [
      "3 6\n",
      "4 5\n"
     ]
    }
   ],
   "source": [
    "def outer(a, b) :\n",
    "    \n",
    "    def inner(c, d) :\n",
    "        print(a*3, b*3)\n",
    "        print(c+1, d+1)\n",
    "    \n",
    "    return inner\n",
    "\n",
    "outer(1, 2)(3, 4)"
   ]
  },
  {
   "cell_type": "markdown",
   "id": "08cf5994",
   "metadata": {},
   "source": [
    "#### callback function \n",
    "- 함수를 아규먼트 파라미터로 설정해서 사용"
   ]
  },
  {
   "cell_type": "code",
   "execution_count": 11,
   "id": "3a77db28",
   "metadata": {},
   "outputs": [],
   "source": [
    "def calc(func, a, b) :\n",
    "    return func(a, b)"
   ]
  },
  {
   "cell_type": "code",
   "execution_count": 12,
   "id": "77f2a556",
   "metadata": {},
   "outputs": [],
   "source": [
    "def plus(num1, num2) :\n",
    "    return num1 + num2\n",
    "\n",
    "def minus(num1, num2):\n",
    "    return num1 - num2"
   ]
  },
  {
   "cell_type": "code",
   "execution_count": 13,
   "id": "555f5aa6",
   "metadata": {},
   "outputs": [
    {
     "data": {
      "text/plain": [
       "3"
      ]
     },
     "execution_count": 13,
     "metadata": {},
     "output_type": "execute_result"
    }
   ],
   "source": [
    "calc(plus, 1, 2)"
   ]
  },
  {
   "cell_type": "code",
   "execution_count": 14,
   "id": "d60d085a",
   "metadata": {},
   "outputs": [
    {
     "data": {
      "text/plain": [
       "-1"
      ]
     },
     "execution_count": 14,
     "metadata": {},
     "output_type": "execute_result"
    }
   ],
   "source": [
    "calc(minus, 1, 2)"
   ]
  },
  {
   "cell_type": "markdown",
   "id": "cf30e23b",
   "metadata": {},
   "source": [
    "#### lambda function\n",
    "- 파라미터가 간단한 계산으로 리턴되는 함수 : 삼항연산"
   ]
  },
  {
   "cell_type": "code",
   "execution_count": 15,
   "id": "bf6cd372",
   "metadata": {},
   "outputs": [],
   "source": [
    "def plus(a, b):\n",
    "    return a + b"
   ]
  },
  {
   "cell_type": "code",
   "execution_count": 16,
   "id": "9a39a67f",
   "metadata": {},
   "outputs": [
    {
     "data": {
      "text/plain": [
       "8"
      ]
     },
     "execution_count": 16,
     "metadata": {},
     "output_type": "execute_result"
    }
   ],
   "source": [
    "plus(3, 5)"
   ]
  },
  {
   "cell_type": "code",
   "execution_count": 17,
   "id": "948ebe2b",
   "metadata": {},
   "outputs": [],
   "source": [
    "#람다 사용\n",
    "\n",
    "mimi = lambda a, b : a * b"
   ]
  },
  {
   "cell_type": "code",
   "execution_count": 18,
   "id": "b69b3db0",
   "metadata": {},
   "outputs": [
    {
     "data": {
      "text/plain": [
       "30"
      ]
     },
     "execution_count": 18,
     "metadata": {},
     "output_type": "execute_result"
    }
   ],
   "source": [
    "mimi(5, 6)"
   ]
  },
  {
   "cell_type": "code",
   "execution_count": 19,
   "id": "23cbc2b7",
   "metadata": {},
   "outputs": [
    {
     "data": {
      "text/plain": [
       "35"
      ]
     },
     "execution_count": 19,
     "metadata": {},
     "output_type": "execute_result"
    }
   ],
   "source": [
    "# calc(func, 1, 2)\n",
    "calc(lambda a, b : a * b, 5, 7)"
   ]
  },
  {
   "cell_type": "markdown",
   "id": "232c5e8b",
   "metadata": {},
   "source": [
    "### callback + lambda "
   ]
  },
  {
   "cell_type": "code",
   "execution_count": 20,
   "id": "52f9e86f",
   "metadata": {},
   "outputs": [],
   "source": [
    "def calc(func,*args) :\n",
    "    return func(*args)"
   ]
  },
  {
   "cell_type": "code",
   "execution_count": 21,
   "id": "f95221e8",
   "metadata": {},
   "outputs": [],
   "source": [
    "def plus(a, b) :\n",
    "    return a + b"
   ]
  },
  {
   "cell_type": "code",
   "execution_count": 22,
   "id": "ec32835b",
   "metadata": {},
   "outputs": [
    {
     "data": {
      "text/plain": [
       "3"
      ]
     },
     "execution_count": 22,
     "metadata": {},
     "output_type": "execute_result"
    }
   ],
   "source": [
    "calc(plus, 1, 2)"
   ]
  },
  {
   "cell_type": "code",
   "execution_count": 23,
   "id": "a5729962",
   "metadata": {},
   "outputs": [
    {
     "data": {
      "text/plain": [
       "52"
      ]
     },
     "execution_count": 23,
     "metadata": {},
     "output_type": "execute_result"
    }
   ],
   "source": [
    "data = [3, 4, 5, 6, 7, 8, 9, 10]\n",
    "calc(lambda *args : sum(args), *data)"
   ]
  },
  {
   "cell_type": "markdown",
   "id": "013690d9",
   "metadata": {},
   "source": [
    "### map, filter, reduce"
   ]
  },
  {
   "cell_type": "markdown",
   "id": "c04c2ef2",
   "metadata": {},
   "source": [
    "### map\n",
    "- 순서가 있는 데이터 집합에서 모든 값에 함수를 적용시킨 결과를 출력"
   ]
  },
  {
   "cell_type": "code",
   "execution_count": 24,
   "id": "04ff9ab5",
   "metadata": {},
   "outputs": [],
   "source": [
    "data1 = [1, 2, 3, 4, 5]\n",
    "data2 = (5, 4, 3, 2, 1)"
   ]
  },
  {
   "cell_type": "code",
   "execution_count": 25,
   "id": "f5e69229",
   "metadata": {},
   "outputs": [],
   "source": [
    "def plus1(num):\n",
    "    return num + 1"
   ]
  },
  {
   "cell_type": "code",
   "execution_count": 26,
   "id": "29c61071",
   "metadata": {},
   "outputs": [
    {
     "data": {
      "text/plain": [
       "[2, 3, 4, 5, 6]"
      ]
     },
     "execution_count": 26,
     "metadata": {},
     "output_type": "execute_result"
    }
   ],
   "source": [
    "list(map(plus1, data1))"
   ]
  },
  {
   "cell_type": "code",
   "execution_count": 27,
   "id": "44a63a4d",
   "metadata": {},
   "outputs": [],
   "source": [
    "def odd_func(num) :\n",
    "    return \"odd\" if num%2 else \"even\""
   ]
  },
  {
   "cell_type": "code",
   "execution_count": 28,
   "id": "d7e196e9",
   "metadata": {},
   "outputs": [
    {
     "data": {
      "text/plain": [
       "['odd', 'even', 'odd', 'even', 'odd']"
      ]
     },
     "execution_count": 28,
     "metadata": {},
     "output_type": "execute_result"
    }
   ],
   "source": [
    "list(map(odd_func,data2))"
   ]
  },
  {
   "cell_type": "code",
   "execution_count": 29,
   "id": "e8656253",
   "metadata": {},
   "outputs": [],
   "source": [
    "# input 함수로 구분자는 \" \" 으로 여러개의 숫자를 입력 받습니다.\n",
    "# str.split(\" \") 리스트로 만들고\n",
    "# 만들어진 리스트의 값들을 int 형변환"
   ]
  },
  {
   "cell_type": "code",
   "execution_count": 30,
   "id": "263a32f7",
   "metadata": {
    "scrolled": true
   },
   "outputs": [
    {
     "name": "stdout",
     "output_type": "stream",
     "text": [
      "input number : 30 25 30\n",
      "['30', '25', '30']\n"
     ]
    },
    {
     "data": {
      "text/plain": [
       "[30, 25, 30]"
      ]
     },
     "execution_count": 30,
     "metadata": {},
     "output_type": "execute_result"
    }
   ],
   "source": [
    "data = input(\"input number : \")\n",
    "ls = list(data.split(\" \"))\n",
    "print(ls)\n",
    "list(map(int, ls))"
   ]
  },
  {
   "cell_type": "markdown",
   "id": "a387d32d",
   "metadata": {},
   "source": [
    "### filter\n",
    "- 리스트 데이터에서 특정 조건에 맞는 value 만 **남기는** 함수"
   ]
  },
  {
   "cell_type": "code",
   "execution_count": 31,
   "id": "57f63202",
   "metadata": {},
   "outputs": [],
   "source": [
    "ls = range(10)"
   ]
  },
  {
   "cell_type": "code",
   "execution_count": 32,
   "id": "d9273153",
   "metadata": {},
   "outputs": [
    {
     "data": {
      "text/plain": [
       "[1, 3, 5, 7, 9]"
      ]
     },
     "execution_count": 32,
     "metadata": {},
     "output_type": "execute_result"
    }
   ],
   "source": [
    "# 홀수만 출력\n",
    "list(filter(lambda data : True if data % 2 else False, ls)) # True가 되는 value 만 남아서 출력"
   ]
  },
  {
   "cell_type": "code",
   "execution_count": 33,
   "id": "64f0d737",
   "metadata": {},
   "outputs": [],
   "source": [
    "name = [\"andy\", \"bro\", \"copy\", \"atom\", \"cola\", \"tami\", \"zizi\", \"brandy\"]"
   ]
  },
  {
   "cell_type": "code",
   "execution_count": 34,
   "id": "ad7521f1",
   "metadata": {},
   "outputs": [
    {
     "data": {
      "text/plain": [
       "['andy', 'atom', 'brandy', 'bro']"
      ]
     },
     "execution_count": 34,
     "metadata": {},
     "output_type": "execute_result"
    }
   ],
   "source": [
    "result = list(filter(lambda data : True if data[0] == \"a\" or data[0] == \"b\" else False, name))\n",
    "result.sort()\n",
    "result"
   ]
  },
  {
   "cell_type": "code",
   "execution_count": 35,
   "id": "1db10211",
   "metadata": {},
   "outputs": [],
   "source": [
    "def c_or_t(string):\n",
    "    if string[0] == \"c\" or string[0] == \"t\" :\n",
    "        return True\n",
    "    else :\n",
    "        return False\n",
    "    "
   ]
  },
  {
   "cell_type": "code",
   "execution_count": 36,
   "id": "001ec57e",
   "metadata": {},
   "outputs": [
    {
     "data": {
      "text/plain": [
       "['copy', 'cola', 'tami']"
      ]
     },
     "execution_count": 36,
     "metadata": {},
     "output_type": "execute_result"
    }
   ],
   "source": [
    "list(filter(c_or_t, name))"
   ]
  },
  {
   "cell_type": "markdown",
   "id": "7594957e",
   "metadata": {},
   "source": [
    "### reduce\n",
    "- 리스트 데이터를 처음부터 순서대로 특정함수를 실행하여 결과를 \"누적\"시켜주는 함수\n",
    "- from functools import reduce 로 임포트 해야 사용가능"
   ]
  },
  {
   "cell_type": "code",
   "execution_count": 37,
   "id": "2ea7a328",
   "metadata": {},
   "outputs": [],
   "source": [
    "from functools import reduce"
   ]
  },
  {
   "cell_type": "code",
   "execution_count": 38,
   "id": "84017271",
   "metadata": {},
   "outputs": [
    {
     "data": {
      "text/plain": [
       "'abatititime'"
      ]
     },
     "execution_count": 38,
     "metadata": {},
     "output_type": "execute_result"
    }
   ],
   "source": [
    "reduce(lambda a, b : a + b , [\"a\", \"b\", \"atiti\", \"time\"]) #함수의 파라미터가 두개여야한다"
   ]
  },
  {
   "cell_type": "markdown",
   "id": "8498d133",
   "metadata": {},
   "source": [
    "#### decorator\n",
    "- 함수에서 코드를 바꾸지 않고, 기능을 추가하거나 수정하고 싶을 때 사용하는 문법"
   ]
  },
  {
   "cell_type": "code",
   "execution_count": 41,
   "id": "ac072903",
   "metadata": {},
   "outputs": [],
   "source": [
    "# a\n",
    "@disp\n",
    "def plus(a, b) :\n",
    "#     print(\"계산 시작\")\n",
    "#     result = a + b\n",
    "#     print(\"결과는 {} 입니다.\".format(result))\n",
    "    return a + b\n"
   ]
  },
  {
   "cell_type": "code",
   "execution_count": 42,
   "id": "2ec03e80",
   "metadata": {},
   "outputs": [],
   "source": [
    "# b\n",
    "@disp\n",
    "def minus(a, b) :\n",
    "    return a - b"
   ]
  },
  {
   "cell_type": "code",
   "execution_count": 40,
   "id": "753d4690",
   "metadata": {},
   "outputs": [],
   "source": [
    "# c\n",
    "def disp(func) :\n",
    "    \n",
    "    def wrapper(*args, **kwargs) :\n",
    "        print(\"계산 시작\")\n",
    "        result = func(*args, **kwargs)\n",
    "        print(\"결과는 {} 입니다.\".format(result))\n",
    "        return result\n",
    "    \n",
    "    return wrapper"
   ]
  },
  {
   "cell_type": "code",
   "execution_count": 43,
   "id": "5721c0e2",
   "metadata": {},
   "outputs": [
    {
     "name": "stdout",
     "output_type": "stream",
     "text": [
      "계산 시작\n",
      "결과는 -1 입니다.\n"
     ]
    },
    {
     "data": {
      "text/plain": [
       "-1"
      ]
     },
     "execution_count": 43,
     "metadata": {},
     "output_type": "execute_result"
    }
   ],
   "source": [
    "minus(1, 2)"
   ]
  },
  {
   "cell_type": "code",
   "execution_count": 44,
   "id": "7f344366",
   "metadata": {},
   "outputs": [
    {
     "name": "stdout",
     "output_type": "stream",
     "text": [
      "계산 시작\n",
      "결과는 -1 입니다.\n"
     ]
    },
    {
     "data": {
      "text/plain": [
       "-1"
      ]
     },
     "execution_count": 44,
     "metadata": {},
     "output_type": "execute_result"
    }
   ],
   "source": [
    "minus(1,2)"
   ]
  },
  {
   "cell_type": "code",
   "execution_count": 45,
   "id": "728c71df",
   "metadata": {},
   "outputs": [
    {
     "name": "stdout",
     "output_type": "stream",
     "text": [
      "계산 시작\n",
      "결과는 3 입니다.\n"
     ]
    },
    {
     "data": {
      "text/plain": [
       "3"
      ]
     },
     "execution_count": 45,
     "metadata": {},
     "output_type": "execute_result"
    }
   ],
   "source": [
    "plus(1, 2)"
   ]
  },
  {
   "cell_type": "code",
   "execution_count": 46,
   "id": "52696060",
   "metadata": {},
   "outputs": [],
   "source": [
    "# 함수의 실행시간을 출력하는 데코레이터 함수를 작성하세요."
   ]
  },
  {
   "cell_type": "code",
   "execution_count": 47,
   "id": "7ac16035",
   "metadata": {},
   "outputs": [],
   "source": [
    "import time"
   ]
  },
  {
   "cell_type": "code",
   "execution_count": 48,
   "id": "cfdecace",
   "metadata": {},
   "outputs": [],
   "source": [
    "def disp_timer(func):\n",
    "    \n",
    "    def wrapper(*args, **kwargs) :\n",
    "        start_time = time.time()\n",
    "        result = func(*args, **kwargs)\n",
    "        end_time = time.time()\n",
    "        print(\"수행에 걸린 시간 : {}\".format(end_time-start_time))\n",
    "        return result\n",
    "    \n",
    "    return wrapper    "
   ]
  },
  {
   "cell_type": "code",
   "execution_count": 49,
   "id": "6aea64bd",
   "metadata": {},
   "outputs": [],
   "source": [
    "@disp_timer\n",
    "def test1(num1, num2) :\n",
    "    result = sum(range(num1, num2))\n",
    "    return result"
   ]
  },
  {
   "cell_type": "code",
   "execution_count": 50,
   "id": "86f0ccd7",
   "metadata": {},
   "outputs": [],
   "source": [
    "@disp_timer\n",
    "def test2(num1, num2) :\n",
    "    result = 0\n",
    "    for num in range(num1, num2+1) :\n",
    "        result += num\n",
    "    return result"
   ]
  },
  {
   "cell_type": "code",
   "execution_count": 51,
   "id": "d52690ef",
   "metadata": {},
   "outputs": [
    {
     "name": "stdout",
     "output_type": "stream",
     "text": [
      "수행에 걸린 시간 : 0.30717945098876953\n"
     ]
    },
    {
     "data": {
      "text/plain": [
       "49999995000000"
      ]
     },
     "execution_count": 51,
     "metadata": {},
     "output_type": "execute_result"
    }
   ],
   "source": [
    "test1(1,10000000)"
   ]
  },
  {
   "cell_type": "code",
   "execution_count": 52,
   "id": "884044c2",
   "metadata": {
    "scrolled": false
   },
   "outputs": [
    {
     "name": "stdout",
     "output_type": "stream",
     "text": [
      "수행에 걸린 시간 : 0.6033511161804199\n"
     ]
    },
    {
     "data": {
      "text/plain": [
       "50000005000000"
      ]
     },
     "execution_count": 52,
     "metadata": {},
     "output_type": "execute_result"
    }
   ],
   "source": [
    "test2(1,10000000)"
   ]
  },
  {
   "cell_type": "code",
   "execution_count": 53,
   "id": "1edde5d3",
   "metadata": {},
   "outputs": [],
   "source": [
    "# 패스워드를 입력 받아야 함수가 실행되도록 하는 데코레이터 작성"
   ]
  },
  {
   "cell_type": "code",
   "execution_count": 54,
   "id": "fdbf2fcb",
   "metadata": {},
   "outputs": [],
   "source": [
    "def check_password(func) :\n",
    "    def wrapper(*args, **kwags) :\n",
    "        pwd = \"kim111\"\n",
    "        input_pwd = input(\"input password : \")\n",
    "        if input_pwd == pwd :\n",
    "            result = func(*args, **kwags)\n",
    "        else :\n",
    "            result = \"not correct passwrd\"\n",
    "        return result\n",
    "    return wrapper"
   ]
  },
  {
   "cell_type": "code",
   "execution_count": 55,
   "id": "85694745",
   "metadata": {},
   "outputs": [],
   "source": [
    "import random\n",
    "\n",
    "@check_password\n",
    "def lotto_func():\n",
    "    lotto = []\n",
    "    while True :\n",
    "        number = random.randint(1, 45)\n",
    "        if number not in lotto :\n",
    "            lotto.append(number)\n",
    "\n",
    "        if len(lotto) >= 6 :\n",
    "            lotto.sort()\n",
    "            break\n",
    "    return lotto"
   ]
  },
  {
   "cell_type": "code",
   "execution_count": 56,
   "id": "59083226",
   "metadata": {},
   "outputs": [
    {
     "name": "stdout",
     "output_type": "stream",
     "text": [
      "input password : kim111\n"
     ]
    },
    {
     "data": {
      "text/plain": [
       "[4, 5, 16, 23, 28, 45]"
      ]
     },
     "execution_count": 56,
     "metadata": {},
     "output_type": "execute_result"
    }
   ],
   "source": [
    "lotto_func()"
   ]
  },
  {
   "cell_type": "code",
   "execution_count": null,
   "id": "4ea51b18",
   "metadata": {},
   "outputs": [],
   "source": [
    "lotto_func()"
   ]
  },
  {
   "cell_type": "code",
   "execution_count": null,
   "id": "7f34398d",
   "metadata": {},
   "outputs": [],
   "source": []
  }
 ],
 "metadata": {
  "kernelspec": {
   "display_name": "Python 3",
   "language": "python",
   "name": "python3"
  },
  "language_info": {
   "codemirror_mode": {
    "name": "ipython",
    "version": 3
   },
   "file_extension": ".py",
   "mimetype": "text/x-python",
   "name": "python",
   "nbconvert_exporter": "python",
   "pygments_lexer": "ipython3",
   "version": "3.8.8"
  }
 },
 "nbformat": 4,
 "nbformat_minor": 5
}
