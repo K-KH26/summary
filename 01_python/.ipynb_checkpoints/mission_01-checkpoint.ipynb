{
 "cells": [
  {
   "cell_type": "markdown",
   "id": "a7d030bf",
   "metadata": {},
   "source": [
    "### 1.(Python1_11) 아래 요구사항에 맞게 코드를 작성해주세요. (30점)\n",
    "1,2,3월 수입의 총합을 구하려합니다.\n",
    "- 매달 수입은 다음과 같습니다. \\\n",
    "    1월 : 300, 2월 : 370, 3월 : 280\n",
    "- 변수 선언 시 다중 할당 해주세요. (10점)\n",
    "- print()문은 수정하지 말아주세요.\n",
    "- print문 내의 `f`는 formatted string 문법입니다.\n",
    "\n",
    "**결과 예시**\n",
    "```\n",
    "# 결과\n",
    "Total income : 950\n",
    "```"
   ]
  },
  {
   "cell_type": "code",
   "execution_count": 109,
   "id": "e821ca79",
   "metadata": {},
   "outputs": [],
   "source": [
    "# 코드 작성\n",
    "\n",
    "#print(f'Total income : {sum_income}') # 수정하지 마세요"
   ]
  },
  {
   "cell_type": "code",
   "execution_count": 8,
   "id": "3e5edef5",
   "metadata": {},
   "outputs": [
    {
     "data": {
      "text/plain": [
       "[300, 370, 280]"
      ]
     },
     "execution_count": 8,
     "metadata": {},
     "output_type": "execute_result"
    }
   ],
   "source": [
    "january, february, march = 300, 370, 280\n",
    "income = [january, february, march]\n",
    "income"
   ]
  },
  {
   "cell_type": "markdown",
   "id": "a739c639",
   "metadata": {},
   "source": [
    "### 2. (Python1_28) 아래 요구사항에 맞게 함수를 완성해주세요. (30점)\n",
    "사용자의 대여 시간이 들어간 raw_data에서 잘못된 데이터를 수정하려 합니다.\n",
    "- 리스트에 포함된 수가 24 보다 크면 `None`으로 바꿔주세요\n",
    "- 함수의 return 값은 수정된 리스트입니다\n",
    "- 함수 내에서 `None`의 갯수를 print 해주세요\n",
    "- list comprehension을 써주세요\n",
    "- 파이썬은 list에서 특정 값을 가진 아이템들의 개수를 세는 함수가 있습니다.\n",
    "\n",
    "**결과 예시**\n",
    "```python\n",
    "\n",
    "# 데이터\n",
    "raw_data = {'rental_time': \n",
    "                [5, 34, 21, 6, 0, 3, 18, 20, 25, 8, 11, 10, 28, 3, 12, 14, 19, 18, 24]\n",
    "            }\n",
    "\n",
    "# 결과\n",
    "Wrong datas : 3\n",
    "```"
   ]
  },
  {
   "cell_type": "code",
   "execution_count": 114,
   "id": "2fb6ea47",
   "metadata": {},
   "outputs": [],
   "source": [
    "raw_data = {'rental_time' : \n",
    "                [5, 34, 21, 6, 0, 3, 18, 20, 25, 8, 11, 10, 28, 3, 12, 14, 19, 18, 24]\n",
    "            }\n",
    "\n",
    "def ppc_wrong_data(data):\n",
    "    #코드 작성..\n",
    "    pass\n",
    "\n",
    "data_ppc = ppc_wrong_data(raw_data) # 수정하지 마세요"
   ]
  },
  {
   "cell_type": "code",
   "execution_count": 113,
   "id": "322eefa9",
   "metadata": {},
   "outputs": [
    {
     "name": "stdout",
     "output_type": "stream",
     "text": [
      "3\n"
     ]
    }
   ],
   "source": [
    "raw_data = {'rental_time' : \n",
    "                [5, 34, 21, 6, 0, 3, 18, 20, 25, 8, 11, 10, 28, 3, 12, 14, 19, 18, 24]\n",
    "            }\n",
    "\n",
    "def ppc_wrong_data(data):\n",
    "    before_ls = data['rental_time']\n",
    "    after_ls = [None if num > 24 else num for num in before_ls]\n",
    "    count = after_ls.count(None)\n",
    "    print(count)\n",
    "    return after_ls\n",
    "data_ppc = ppc_wrong_data(raw_data) # 수정하지 마세요"
   ]
  },
  {
   "cell_type": "markdown",
   "id": "04044218",
   "metadata": {},
   "source": [
    "### 3. (Python1_47) 아래 요구사항에 맞게 함수를 완성해주세요. (40점)\n",
    "선언된 두 함수에 사용할 decorator함수를 만들려 합니다. decorator함수를 완성하고, 사용해주세요.\n",
    "- 모든 아규먼트의 타입이 int일 경우에만 test함수가 실행되게 해주세요 \\\n",
    "    -> **테스트 코드** 실행 시 일부 함수가 실행되지 않을 순 있지만, 셀에서 오류는 나지 않아야 합니다\n",
    "- 아규먼트가 모두 int면 'Success', 아니면 'Fail'을 출력합니다.\n",
    "- 성공하면 실행하는 함수의 이름과 아규먼트 값과 결과도 출력합니다\n",
    "- decorator 함수 완성 후 아래의 **테스트 코드**를 실행해주세요.\n",
    "\n",
    "- 변수가 특정 타입이면 True를 리턴하는 함수가 있습니다. \\\n",
    "    'how to check if a variable is a certain type in python' 라고 검색해보세요.\n",
    "- 모든 요소가 True면 True를 리턴하는 함수가 있습니다.\n",
    "- 함수의 이름을 볼 수 있는 기본 메소드가 있습니다. `dir(<함수이름>)`로 확인 가능합니다.\n",
    "\n",
    "**결과 예시**\n",
    "\n",
    "```\n",
    "# 결과\n",
    "Fail\n",
    "Fail\n",
    "Success, summation_for, args : (35, 6374, 324, 23), return value : 6756\n",
    "Fail\n",
    "===TEST DONE===\n",
    "```"
   ]
  },
  {
   "cell_type": "code",
   "execution_count": 123,
   "id": "03eac5bd",
   "metadata": {},
   "outputs": [],
   "source": [
    "def int_checker(func):\n",
    "    pass\n",
    "\n",
    "def summation(*args):\n",
    "    return sum(args)\n",
    "\n",
    "def summation_for(*args):\n",
    "    result = 0\n",
    "    for num in args:\n",
    "        result += num\n",
    "    return result"
   ]
  },
  {
   "cell_type": "code",
   "execution_count": 122,
   "id": "ae29c067",
   "metadata": {},
   "outputs": [
    {
     "name": "stdout",
     "output_type": "stream",
     "text": [
      "Fail\n",
      "Fail\n",
      "Success, summation_for, args : (35, 6374, 324, 23), return value : 6756\n",
      "Fail\n",
      "===TEST DONE===\n"
     ]
    }
   ],
   "source": [
    "# 테스트 코드. 수정하지 마세요.\n",
    "summation(1, 2275, 2.4, 7203)\n",
    "summation('string', 2352, 4334345)\n",
    "summation_for(35, 6374, 324, 23)\n",
    "summation_for(4, 52, 77.2, 342)\n",
    "print(\"===TEST DONE===\")"
   ]
  },
  {
   "cell_type": "code",
   "execution_count": 35,
   "id": "0218e30e",
   "metadata": {},
   "outputs": [],
   "source": [
    "# 코드를 작성해주세요.\n",
    "# 모든 아규먼트의 타입이 int일 경우에만 test함수가 실행되게 해주세요\n",
    "# -> 테스트 코드 실행 시 일부 함수가 실행되지 않을 순 있지만, 셀에서 오류는 나지 않아야 합니다\n",
    "\n",
    "# 아규먼트가 모두 int면 'Success', 아니면 'Fail'을 출력합니다. \n",
    "\n",
    "# 성공하면 실행하는 함수의 이름과 아규먼트 값과 결과도 출력합니다 \n",
    "\n",
    "# decorator 함수 완성 후 아래의 테스트 코드를 실행해주세요.\n",
    "\n",
    "# 변수가 특정 타입이면 True를 리턴하는 함수가 있습니다.\n",
    "# 'how to check if a variable is a certain type in python' 라고 검색해보세요.\n",
    "\n",
    "\n",
    "# 모든 요소가 True면 True를 리턴하는 함수가 있습니다.\n",
    "\n",
    "# 함수의 이름을 볼 수 있는 기본 메소드가 있습니다. dir(<함수이름>)로 확인 가능합니다."
   ]
  },
  {
   "cell_type": "code",
   "execution_count": 115,
   "id": "e02a822c",
   "metadata": {},
   "outputs": [],
   "source": [
    "def int_checker(func):\n",
    "    \n",
    "    def wrapper(*args, **kwargs) :\n",
    "        ls = list(args)\n",
    "#         check_int_all = True\n",
    "#         for check in ls :\n",
    "#             if not isinstance(check, int) : # int 확인, false면 break \n",
    "#                 check_int_all = False\n",
    "#                 break\n",
    "        check_int_type = [True if isinstance(data, int) else False for data in ls]\n",
    "        if all(check_int_type) :\n",
    "            result = func(*args, **kwargs)\n",
    "            print(\"Success, {}, args : {}, return value : {}\".format(func.__name__,args, result))\n",
    "            \n",
    "            return result\n",
    "        else :\n",
    "            print(\"Fail\")\n",
    "\n",
    "    return wrapper"
   ]
  },
  {
   "cell_type": "code",
   "execution_count": 116,
   "id": "7f678a4f",
   "metadata": {},
   "outputs": [],
   "source": [
    "@int_checker\n",
    "def summation(*args):\n",
    "    return sum(args)\n",
    "\n",
    "@int_checker\n",
    "def summation_for(*args):\n",
    "    result = 0\n",
    "    for num in args:\n",
    "        result += num\n",
    "    return result"
   ]
  },
  {
   "cell_type": "code",
   "execution_count": 121,
   "id": "17bce455",
   "metadata": {},
   "outputs": [
    {
     "name": "stdout",
     "output_type": "stream",
     "text": [
      "Fail\n",
      "Fail\n",
      "Fail\n",
      "Success, summation_for, args : (35, 6374, 324, 23), return value : 6756\n",
      "Fail\n",
      "Fail\n",
      "Fail\n",
      "===TEST DONE===\n"
     ]
    }
   ],
   "source": [
    "summation(1, 2275, 2.4, 7203)\n",
    "summation('string', 2352, 4334345)\n",
    "summation(12,4,23,4,5,2,3213213,23421,32,133,2352,[1,2,3])\n",
    "summation_for(35, 6374, 324, 23)\n",
    "summation_for(4, 52, 77.2, 342)\n",
    "summation_for(4, 52,[1, 2, 3] , 342)\n",
    "summation_for(4, 52,\"sti\" , 342)\n",
    "\n",
    "print(\"===TEST DONE===\")"
   ]
  },
  {
   "cell_type": "code",
   "execution_count": null,
   "id": "6ec7a535",
   "metadata": {},
   "outputs": [],
   "source": []
  }
 ],
 "metadata": {
  "kernelspec": {
   "display_name": "Python 3",
   "language": "python",
   "name": "python3"
  },
  "language_info": {
   "codemirror_mode": {
    "name": "ipython",
    "version": 3
   },
   "file_extension": ".py",
   "mimetype": "text/x-python",
   "name": "python",
   "nbconvert_exporter": "python",
   "pygments_lexer": "ipython3",
   "version": "3.8.8"
  }
 },
 "nbformat": 4,
 "nbformat_minor": 5
}
