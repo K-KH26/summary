{
 "cells": [
  {
   "cell_type": "markdown",
   "id": "e65fb6b7",
   "metadata": {},
   "source": [
    "### 일단 폰트변경했다. \n",
    "- 폰트는 Consolas\n",
    "- 참고 사이트 https://codestocker.tistory.com/91\n",
    "- 굉장히 만족스러움"
   ]
  },
  {
   "cell_type": "code",
   "execution_count": 42,
   "id": "d090b75d",
   "metadata": {
    "scrolled": true
   },
   "outputs": [
    {
     "name": "stdout",
     "output_type": "stream",
     "text": [
      "금액을 입력해 주세요 : 5000\n",
      "[13, 23, 31, 32, 42, 44]\n",
      "[6, 11, 21, 22, 27, 33]\n",
      "[10, 19, 22, 31, 37, 42]\n",
      "[15, 19, 23, 25, 30, 33]\n",
      "[15, 16, 21, 25, 28, 34]\n",
      "남은 잔액은 0입니다.\n"
     ]
    }
   ],
   "source": [
    "# 어이없게 빙빙 돌아서 오래걸렸던 중복X 로또 번호 추첨기\n",
    "\n",
    "# 추가 해보기 => 금액에 맞게 로또를 추첨\n",
    "# 천원에 로또 한줄 추첨\n",
    "# 남은 금액은 반환\n",
    "# 부족한 금액은 실행 X\n",
    "\n",
    "\n",
    "import random\n",
    "\n",
    "def lotto() :\n",
    "    \"\"\"\n",
    "    return random number list\n",
    "    \n",
    "    parm : empty\n",
    "    \n",
    "    return lotto : list : size = 6\n",
    "    \"\"\"\n",
    "    lotto = []\n",
    "\n",
    "    while True : \n",
    "        number = random.randint(1, 45) # 랜덤번호 추출\n",
    "\n",
    "        # 리스트 안에 같은 숫자가 없으면 저장.\n",
    "        if number not in lotto :\n",
    "            lotto.append(number) #random넘버 리스트에 저장\n",
    "\n",
    "        if len(lotto) >= 6 :\n",
    "            lotto.sort() # 정렬\n",
    "            break\n",
    "            \n",
    "    return lotto\n",
    "\n",
    "input_money = int(input(\"금액을 입력해 주세요 : \"))\n",
    "\n",
    "if input_money < 1000 :\n",
    "    print(\"금액이 부족합니다.\")\n",
    "    print(\"남은 잔액은 {}입니다.\".format(input_money))\n",
    "else :\n",
    "    for count in range(input_money//1000) :\n",
    "        print(lotto())\n",
    "    change = input_money - 1000*(input_money//1000)\n",
    "    print(\"남은 잔액은 {}입니다.\".format(change))\n"
   ]
  },
  {
   "cell_type": "code",
   "execution_count": 53,
   "id": "fcf105e6",
   "metadata": {
    "scrolled": false
   },
   "outputs": [
    {
     "name": "stdout",
     "output_type": "stream",
     "text": [
      "Help on function lotto in module __main__:\n",
      "\n",
      "lotto()\n",
      "    random number explane function\n",
      "    \n",
      "    parm : empty\n",
      "    args : empty\n",
      "    \n",
      "    return lotto / list / size = 6\n",
      "\n"
     ]
    }
   ],
   "source": [
    "help(lotto)"
   ]
  }
 ],
 "metadata": {
  "kernelspec": {
   "display_name": "Python 3",
   "language": "python",
   "name": "python3"
  },
  "language_info": {
   "codemirror_mode": {
    "name": "ipython",
    "version": 3
   },
   "file_extension": ".py",
   "mimetype": "text/x-python",
   "name": "python",
   "nbconvert_exporter": "python",
   "pygments_lexer": "ipython3",
   "version": "3.8.8"
  }
 },
 "nbformat": 4,
 "nbformat_minor": 5
}
