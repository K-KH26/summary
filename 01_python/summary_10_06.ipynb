{
 "cells": [
  {
   "cell_type": "markdown",
   "id": "405fe639",
   "metadata": {},
   "source": [
    "### summary \n",
    "\n",
    "#### 모듈, 패키지\n",
    "- 모듈 : 함수, class, 등 변수로 불리는 것들이 담긴 .py라는 확장자를 가진 파일\n",
    "- 패키지 : 모듈들을 기능별로 디렉토리로 정리해둔 개념\n",
    "\n",
    "\n",
    "### 모듈\n",
    "\n",
    "- 모듈 생성\n",
    "- 모듈 호출\n",
    "- 모듈 삭제\n",
    "\n",
    "- 모듈은 import 로 불러온다"
   ]
  },
  {
   "cell_type": "code",
   "execution_count": 1,
   "id": "2a24159a",
   "metadata": {},
   "outputs": [
    {
     "name": "stdout",
     "output_type": "stream",
     "text": [
      "01_jupyter_notebook.ipynb\n",
      "02_basic_syntax.ipynb\n",
      "03_condition_loop.ipynb\n",
      "04_function.ipynb\n",
      "05_function_2.ipynb\n",
      "06_class_1.ipynb\n",
      "07_class_2.ipynb\n",
      "08_module_package.ipynb\n",
      "09_try_except.ipynb\n",
      "__pycache__\n",
      "mission_01.ipynb\n",
      "school\n",
      "summary_09_29.ipynb\n",
      "summary_09_30.ipynb\n",
      "summary_10_04.ipynb\n",
      "summary_10_06.ipynb\n"
     ]
    }
   ],
   "source": [
    "!ls"
   ]
  },
  {
   "cell_type": "code",
   "execution_count": 4,
   "id": "e839f070",
   "metadata": {},
   "outputs": [
    {
     "name": "stdout",
     "output_type": "stream",
     "text": [
      "Writing domino.py\n"
     ]
    }
   ],
   "source": [
    "%%writefile domino.py\n",
    "\n",
    "num = 15\n",
    "\n",
    "class Dodo :\n",
    "    \n",
    "    def __init__(self, list) :\n",
    "        self.list = list\n",
    "        \n",
    "    def domino(self) :\n",
    "        return sum(self.list)"
   ]
  },
  {
   "cell_type": "code",
   "execution_count": 10,
   "id": "32f8bd21",
   "metadata": {},
   "outputs": [
    {
     "name": "stdout",
     "output_type": "stream",
     "text": [
      "01_jupyter_notebook.ipynb\n",
      "02_basic_syntax.ipynb\n",
      "03_condition_loop.ipynb\n",
      "04_function.ipynb\n",
      "05_function_2.ipynb\n",
      "06_class_1.ipynb\n",
      "07_class_2.ipynb\n",
      "08_module_package.ipynb\n",
      "09_try_except.ipynb\n",
      "__pycache__\n",
      "domino.py\n",
      "mission_01.ipynb\n",
      "playgound\n",
      "school\n",
      "summary_09_29.ipynb\n",
      "summary_09_30.ipynb\n",
      "summary_10_04.ipynb\n",
      "summary_10_06.ipynb\n"
     ]
    }
   ],
   "source": [
    "!ls"
   ]
  },
  {
   "cell_type": "code",
   "execution_count": 16,
   "id": "a19f8284",
   "metadata": {},
   "outputs": [],
   "source": [
    "import domino as do"
   ]
  },
  {
   "cell_type": "code",
   "execution_count": 18,
   "id": "4c992d31",
   "metadata": {},
   "outputs": [
    {
     "name": "stdout",
     "output_type": "stream",
     "text": [
      "Variable   Type      Data/Info\n",
      "------------------------------\n",
      "do         module    <module 'domino' from 'C:<...>e\\\\01_python\\\\domino.py'>\n"
     ]
    }
   ],
   "source": [
    "%whos"
   ]
  },
  {
   "cell_type": "code",
   "execution_count": 21,
   "id": "51715188",
   "metadata": {},
   "outputs": [],
   "source": [
    "im = do.Dodo([1,2,3])"
   ]
  },
  {
   "cell_type": "code",
   "execution_count": 22,
   "id": "cd951112",
   "metadata": {},
   "outputs": [
    {
     "name": "stdout",
     "output_type": "stream",
     "text": [
      "Variable   Type      Data/Info\n",
      "------------------------------\n",
      "do         module    <module 'domino' from 'C:<...>e\\\\01_python\\\\domino.py'>\n",
      "im         Dodo      <domino.Dodo object at 0x0000023E4A2C30A0>\n"
     ]
    }
   ],
   "source": [
    "%whos"
   ]
  },
  {
   "cell_type": "code",
   "execution_count": 25,
   "id": "2052b195",
   "metadata": {},
   "outputs": [
    {
     "data": {
      "text/plain": [
       "6"
      ]
     },
     "execution_count": 25,
     "metadata": {},
     "output_type": "execute_result"
    }
   ],
   "source": [
    "im.domino()"
   ]
  },
  {
   "cell_type": "code",
   "execution_count": 31,
   "id": "a13e3685",
   "metadata": {},
   "outputs": [],
   "source": [
    "# 특정 변수 불러오기\n",
    "from domino import num"
   ]
  },
  {
   "cell_type": "code",
   "execution_count": 27,
   "id": "edf78e07",
   "metadata": {},
   "outputs": [
    {
     "data": {
      "text/plain": [
       "15"
      ]
     },
     "execution_count": 27,
     "metadata": {},
     "output_type": "execute_result"
    }
   ],
   "source": [
    "num"
   ]
  },
  {
   "cell_type": "code",
   "execution_count": 28,
   "id": "29622558",
   "metadata": {},
   "outputs": [
    {
     "name": "stdout",
     "output_type": "stream",
     "text": [
      "Once deleted, variables cannot be recovered. Proceed (y/[n])? y\n"
     ]
    }
   ],
   "source": [
    "%reset"
   ]
  },
  {
   "cell_type": "code",
   "execution_count": 29,
   "id": "4d9b90fd",
   "metadata": {},
   "outputs": [],
   "source": [
    "!rm domino.py"
   ]
  },
  {
   "cell_type": "code",
   "execution_count": 30,
   "id": "cb3ab4e5",
   "metadata": {},
   "outputs": [
    {
     "name": "stdout",
     "output_type": "stream",
     "text": [
      "01_jupyter_notebook.ipynb\n",
      "02_basic_syntax.ipynb\n",
      "03_condition_loop.ipynb\n",
      "04_function.ipynb\n",
      "05_function_2.ipynb\n",
      "06_class_1.ipynb\n",
      "07_class_2.ipynb\n",
      "08_module_package.ipynb\n",
      "09_try_except.ipynb\n",
      "__pycache__\n",
      "mission_01.ipynb\n",
      "playgound\n",
      "school\n",
      "summary_09_29.ipynb\n",
      "summary_09_30.ipynb\n",
      "summary_10_04.ipynb\n",
      "summary_10_06.ipynb\n"
     ]
    }
   ],
   "source": [
    "!ls"
   ]
  },
  {
   "cell_type": "markdown",
   "id": "14fb3175",
   "metadata": {},
   "source": [
    "### 패키지\n",
    "\n",
    "- 패키지 생성\n",
    "- 패키지 호출\n",
    "- 패키지 삭제\n",
    "\n",
    "#### 순서, 필수항목\n",
    "- 모듈이 담긴 디렉토리별로 `__init__.py` 파일 생성 (python3.3이상버젼에선 상관없지만 호환을 위해 생성)\n",
    "- setup.py 패키지 설치 파일 만들기"
   ]
  },
  {
   "cell_type": "code",
   "execution_count": 34,
   "id": "b5f702b6",
   "metadata": {},
   "outputs": [
    {
     "name": "stdout",
     "output_type": "stream",
     "text": [
      "Folder PATH listing\n",
      "Volume serial number is EAAE-42F3\n",
      "C:\\CODE\\01_PYTHON\\PLAYGROUND\n",
      "├───cal\n",
      "└───web\n"
     ]
    }
   ],
   "source": [
    "!tree playground /f"
   ]
  },
  {
   "cell_type": "code",
   "execution_count": 35,
   "id": "a9605119",
   "metadata": {},
   "outputs": [],
   "source": [
    "!touch playground/cal/__init__.py\n",
    "!touch playground/web/__init__.py"
   ]
  },
  {
   "cell_type": "code",
   "execution_count": 36,
   "id": "51e1306e",
   "metadata": {},
   "outputs": [
    {
     "name": "stdout",
     "output_type": "stream",
     "text": [
      "Folder PATH listing\n",
      "Volume serial number is 00000057 EAAE:42F3\n",
      "C:\\CODE\\01_PYTHON\\PLAYGROUND\n",
      "├───cal\n",
      "│       __init__.py\n",
      "│       \n",
      "└───web\n",
      "        __init__.py\n",
      "        \n"
     ]
    }
   ],
   "source": [
    "!tree playground /f"
   ]
  },
  {
   "cell_type": "code",
   "execution_count": 39,
   "id": "ce800a90",
   "metadata": {},
   "outputs": [
    {
     "name": "stdout",
     "output_type": "stream",
     "text": [
      "Overwriting playground/cal/plus.py\n"
     ]
    }
   ],
   "source": [
    "%%writefile playground/cal/plus.py\n",
    "\n",
    "def plus(*args):\n",
    "    return sum(args)\n"
   ]
  },
  {
   "cell_type": "code",
   "execution_count": 47,
   "id": "13fd5b55",
   "metadata": {},
   "outputs": [],
   "source": [
    "def minus(*args):\n",
    "    return -sum(args)"
   ]
  },
  {
   "cell_type": "code",
   "execution_count": 49,
   "id": "3bcd841d",
   "metadata": {},
   "outputs": [
    {
     "data": {
      "text/plain": [
       "-15"
      ]
     },
     "execution_count": 49,
     "metadata": {},
     "output_type": "execute_result"
    }
   ],
   "source": [
    "minus(1,2,3,4,5)"
   ]
  },
  {
   "cell_type": "code",
   "execution_count": 50,
   "id": "7ca5f1c4",
   "metadata": {},
   "outputs": [
    {
     "name": "stdout",
     "output_type": "stream",
     "text": [
      "Writing playground/cal/minus.py\n"
     ]
    }
   ],
   "source": [
    "%%writefile playground/cal/minus.py\n",
    "\n",
    "def minus(*args):\n",
    "    return -sum(args)"
   ]
  },
  {
   "cell_type": "code",
   "execution_count": 67,
   "id": "95ceea01",
   "metadata": {},
   "outputs": [
    {
     "name": "stdout",
     "output_type": "stream",
     "text": [
      "Overwriting playground/web/make.py\n"
     ]
    }
   ],
   "source": [
    "%%writefile playground/web/make.py\n",
    "\n",
    "def make(str):\n",
    "    return str if str[:8] == \"https://\" else \"https://\" + str\n"
   ]
  },
  {
   "cell_type": "code",
   "execution_count": 54,
   "id": "abc3ba13",
   "metadata": {
    "scrolled": true
   },
   "outputs": [
    {
     "name": "stdout",
     "output_type": "stream",
     "text": [
      "Folder PATH listing\n",
      "Volume serial number is EAAE-42F3\n",
      "C:\\CODE\\01_PYTHON\\PLAYGROUND\n",
      "├───cal\n",
      "│       minus.py\n",
      "│       plus.py\n",
      "│       __init__.py\n",
      "│       \n",
      "└───web\n",
      "        make.py\n",
      "        __init__.py\n",
      "        \n"
     ]
    }
   ],
   "source": [
    "!tree playground /f"
   ]
  },
  {
   "cell_type": "code",
   "execution_count": 68,
   "id": "d25281ee",
   "metadata": {},
   "outputs": [
    {
     "name": "stdout",
     "output_type": "stream",
     "text": [
      "Once deleted, variables cannot be recovered. Proceed (y/[n])? y\n"
     ]
    }
   ],
   "source": [
    "%reset"
   ]
  },
  {
   "cell_type": "code",
   "execution_count": 76,
   "id": "e84866ca",
   "metadata": {},
   "outputs": [
    {
     "data": {
      "text/plain": [
       "<module 'playground.web.make' from 'C:\\\\Code\\\\01_python\\\\playground\\\\web\\\\make.py'>"
      ]
     },
     "execution_count": 76,
     "metadata": {},
     "output_type": "execute_result"
    }
   ],
   "source": [
    "from playground.web import make\n",
    "import importlib\n",
    "importlib.reload(make)"
   ]
  },
  {
   "cell_type": "code",
   "execution_count": 77,
   "id": "82a2da91",
   "metadata": {},
   "outputs": [
    {
     "name": "stdout",
     "output_type": "stream",
     "text": [
      "Variable    Type      Data/Info\n",
      "-------------------------------\n",
      "importlib   module    <module 'importlib' from <...>\\importlib\\\\__init__.py'>\n",
      "make        module    <module 'playground.web.m<...>layground\\\\web\\\\make.py'>\n"
     ]
    }
   ],
   "source": [
    "%whos"
   ]
  },
  {
   "cell_type": "code",
   "execution_count": 78,
   "id": "2470f518",
   "metadata": {
    "scrolled": true
   },
   "outputs": [
    {
     "data": {
      "text/plain": [
       "'https://google.com'"
      ]
     },
     "execution_count": 78,
     "metadata": {},
     "output_type": "execute_result"
    }
   ],
   "source": [
    "make.make(\"google.com\")"
   ]
  },
  {
   "cell_type": "code",
   "execution_count": 79,
   "id": "60d6fb43",
   "metadata": {},
   "outputs": [
    {
     "data": {
      "text/plain": [
       "'https://naver.com'"
      ]
     },
     "execution_count": 79,
     "metadata": {},
     "output_type": "execute_result"
    }
   ],
   "source": [
    "make.make(\"https://naver.com\")"
   ]
  },
  {
   "cell_type": "code",
   "execution_count": 80,
   "id": "7078a70b",
   "metadata": {},
   "outputs": [
    {
     "name": "stdout",
     "output_type": "stream",
     "text": [
      "Once deleted, variables cannot be recovered. Proceed (y/[n])? y\n"
     ]
    }
   ],
   "source": [
    "%reset"
   ]
  },
  {
   "cell_type": "code",
   "execution_count": 81,
   "id": "0739bbc1",
   "metadata": {},
   "outputs": [
    {
     "name": "stdout",
     "output_type": "stream",
     "text": [
      "Folder PATH listing\n",
      "Volume serial number is EAAE-42F3\n",
      "C:\\CODE\\01_PYTHON\\PLAYGROUND\n",
      "├───cal\n",
      "│   │   minus.py\n",
      "│   │   plus.py\n",
      "│   │   __init__.py\n",
      "│   │   \n",
      "│   └───__pycache__\n",
      "│           minus.cpython-38.pyc\n",
      "│           plus.cpython-38.pyc\n",
      "│           __init__.cpython-38.pyc\n",
      "│           \n",
      "└───web\n",
      "    │   make.py\n",
      "    │   __init__.py\n",
      "    │   \n",
      "    └───__pycache__\n",
      "            make.cpython-38.pyc\n",
      "            __init__.cpython-38.pyc\n",
      "            \n"
     ]
    }
   ],
   "source": [
    "!tree playground /f"
   ]
  },
  {
   "cell_type": "code",
   "execution_count": 83,
   "id": "f2f8eff7",
   "metadata": {},
   "outputs": [],
   "source": [
    "# 패키지 파일 셋업"
   ]
  },
  {
   "cell_type": "code",
   "execution_count": 2,
   "id": "1ac935d8",
   "metadata": {},
   "outputs": [
    {
     "name": "stdout",
     "output_type": "stream",
     "text": [
      "Overwriting playground/cal/__init__.py\n"
     ]
    }
   ],
   "source": [
    "%%writefile playground/cal/__init__.py\n",
    "\n",
    "__all__ = [\"minus\", \"plus\"]"
   ]
  },
  {
   "cell_type": "code",
   "execution_count": 3,
   "id": "959de0ff",
   "metadata": {},
   "outputs": [
    {
     "name": "stdout",
     "output_type": "stream",
     "text": [
      "Overwriting playground/web/__init__.py\n"
     ]
    }
   ],
   "source": [
    "%%writefile playground/web/__init__.py\n",
    "\n",
    "__all__ = [\"make\"]"
   ]
  },
  {
   "cell_type": "code",
   "execution_count": 89,
   "id": "f90e8334",
   "metadata": {},
   "outputs": [
    {
     "name": "stdout",
     "output_type": "stream",
     "text": [
      "Writing playground/setup.py\n"
     ]
    }
   ],
   "source": [
    "%%writefile playground/setup.py\n",
    "\n",
    "from setuptools import setup, find_packages\n",
    "\n",
    "setup(\n",
    "    name=\"play\",\n",
    "    packages=find_packages(),\n",
    "    include_package_data = True,\n",
    "    version=\"0.0.1\",\n",
    "    author_email = \"kimkh1517@gmail.com\",\n",
    "    zip_safe=False\n",
    ")\n"
   ]
  },
  {
   "cell_type": "code",
   "execution_count": 90,
   "id": "ef8d08ea",
   "metadata": {},
   "outputs": [
    {
     "name": "stdout",
     "output_type": "stream",
     "text": [
      "Folder PATH listing\n",
      "Volume serial number is 000000E7 EAAE:42F3\n",
      "C:\\CODE\\01_PYTHON\\PLAYGROUND\n",
      "│   setup.py\n",
      "│   \n",
      "├───cal\n",
      "│   │   minus.py\n",
      "│   │   plus.py\n",
      "│   │   __init__.py\n",
      "│   │   \n",
      "│   └───__pycache__\n",
      "│           minus.cpython-38.pyc\n",
      "│           plus.cpython-38.pyc\n",
      "│           __init__.cpython-38.pyc\n",
      "│           \n",
      "└───web\n",
      "    │   make.py\n",
      "    │   __init__.py\n",
      "    │   \n",
      "    └───__pycache__\n",
      "            make.cpython-38.pyc\n",
      "            __init__.cpython-38.pyc\n",
      "            \n"
     ]
    }
   ],
   "source": [
    "!tree playground /f"
   ]
  },
  {
   "cell_type": "code",
   "execution_count": 3,
   "id": "aff5b053",
   "metadata": {},
   "outputs": [
    {
     "name": "stdout",
     "output_type": "stream",
     "text": [
      "play                               0.0.1               c:\\code\\01_python\\playground\n"
     ]
    }
   ],
   "source": [
    "!pip list | grep play"
   ]
  },
  {
   "cell_type": "code",
   "execution_count": 101,
   "id": "fe9d417b",
   "metadata": {},
   "outputs": [],
   "source": [
    "# 터미널에서 setup.py 파일 설치\n",
    "# playground 파일에 이동후 명령어 $ python setup.py develop\n",
    "# 정상 설치후 pip list 확인\n",
    "# 커널 재시작"
   ]
  },
  {
   "cell_type": "code",
   "execution_count": 2,
   "id": "4cb35469",
   "metadata": {},
   "outputs": [
    {
     "name": "stdout",
     "output_type": "stream",
     "text": [
      "play                               0.0.1               c:\\code\\01_python\\playground\n"
     ]
    }
   ],
   "source": [
    "!pip list | grep play"
   ]
  },
  {
   "cell_type": "code",
   "execution_count": 1,
   "id": "7677b235",
   "metadata": {},
   "outputs": [],
   "source": [
    "from cal import *"
   ]
  },
  {
   "cell_type": "code",
   "execution_count": 4,
   "id": "b9c4fa37",
   "metadata": {},
   "outputs": [],
   "source": [
    "import web"
   ]
  },
  {
   "cell_type": "code",
   "execution_count": 5,
   "id": "5b491875",
   "metadata": {},
   "outputs": [
    {
     "name": "stdout",
     "output_type": "stream",
     "text": [
      "Variable   Type      Data/Info\n",
      "------------------------------\n",
      "minus      module    <module 'cal.minus' from <...>ayground\\\\cal\\\\minus.py'>\n",
      "plus       module    <module 'cal.plus' from '<...>layground\\\\cal\\\\plus.py'>\n",
      "web        module    <module 'web' from 'c:\\\\c<...>round\\\\web\\\\__init__.py'>\n"
     ]
    }
   ],
   "source": [
    "%whos"
   ]
  },
  {
   "cell_type": "code",
   "execution_count": 14,
   "id": "0d80a94a",
   "metadata": {},
   "outputs": [
    {
     "data": {
      "text/plain": [
       "6"
      ]
     },
     "execution_count": 14,
     "metadata": {},
     "output_type": "execute_result"
    }
   ],
   "source": [
    "a = plus.plus(1, 2, 3)\n",
    "a"
   ]
  },
  {
   "cell_type": "code",
   "execution_count": 1,
   "id": "420b707a",
   "metadata": {
    "scrolled": true
   },
   "outputs": [
    {
     "ename": "ModuleNotFoundError",
     "evalue": "No module named 'web'",
     "output_type": "error",
     "traceback": [
      "\u001b[1;31m---------------------------------------------------------------------------\u001b[0m",
      "\u001b[1;31mModuleNotFoundError\u001b[0m                       Traceback (most recent call last)",
      "\u001b[1;32m<ipython-input-1-036e0674c66e>\u001b[0m in \u001b[0;36m<module>\u001b[1;34m\u001b[0m\n\u001b[1;32m----> 1\u001b[1;33m \u001b[1;32mfrom\u001b[0m \u001b[0mweb\u001b[0m \u001b[1;32mimport\u001b[0m \u001b[0mmake\u001b[0m \u001b[1;32mas\u001b[0m \u001b[0mm\u001b[0m\u001b[1;33m\u001b[0m\u001b[1;33m\u001b[0m\u001b[0m\n\u001b[0m",
      "\u001b[1;31mModuleNotFoundError\u001b[0m: No module named 'web'"
     ]
    }
   ],
   "source": [
    "from web import make as m"
   ]
  },
  {
   "cell_type": "code",
   "execution_count": 18,
   "id": "5ec5ef02",
   "metadata": {
    "scrolled": true
   },
   "outputs": [
    {
     "name": "stdout",
     "output_type": "stream",
     "text": [
      "Variable   Type      Data/Info\n",
      "------------------------------\n",
      "a          int       6\n",
      "m          module    <module 'web.make' from '<...>layground\\\\web\\\\make.py'>\n",
      "make       module    <module 'web.make' from '<...>layground\\\\web\\\\make.py'>\n",
      "minus      module    <module 'cal.minus' from <...>ayground\\\\cal\\\\minus.py'>\n",
      "plus       module    <module 'cal.plus' from '<...>layground\\\\cal\\\\plus.py'>\n",
      "web        module    <module 'web' from 'c:\\\\c<...>round\\\\web\\\\__init__.py'>\n"
     ]
    }
   ],
   "source": [
    "%whos"
   ]
  },
  {
   "cell_type": "code",
   "execution_count": 21,
   "id": "99166fd1",
   "metadata": {},
   "outputs": [
    {
     "data": {
      "text/plain": [
       "'https://hi.com'"
      ]
     },
     "execution_count": 21,
     "metadata": {},
     "output_type": "execute_result"
    }
   ],
   "source": [
    "www = m.make(\"hi.com\")\n",
    "www"
   ]
  },
  {
   "cell_type": "code",
   "execution_count": 22,
   "id": "f163860a",
   "metadata": {},
   "outputs": [],
   "source": [
    "# uninstall \n",
    "# pip uninstall play < 터미널 입력."
   ]
  },
  {
   "cell_type": "code",
   "execution_count": 2,
   "id": "1993afbf",
   "metadata": {},
   "outputs": [],
   "source": [
    "#from web import make as m"
   ]
  },
  {
   "cell_type": "code",
   "execution_count": 3,
   "id": "3e4ab343",
   "metadata": {},
   "outputs": [
    {
     "data": {
      "application/javascript": [
       "IPython.notebook.set_autosave_interval(120000)"
      ]
     },
     "metadata": {},
     "output_type": "display_data"
    },
    {
     "name": "stdout",
     "output_type": "stream",
     "text": [
      "Autosaving every 120 seconds\n"
     ]
    }
   ],
   "source": [
    "%autosave 120"
   ]
  },
  {
   "cell_type": "code",
   "execution_count": null,
   "id": "e15f0ed1",
   "metadata": {},
   "outputs": [],
   "source": []
  }
 ],
 "metadata": {
  "kernelspec": {
   "display_name": "Python 3",
   "language": "python",
   "name": "python3"
  },
  "language_info": {
   "codemirror_mode": {
    "name": "ipython",
    "version": 3
   },
   "file_extension": ".py",
   "mimetype": "text/x-python",
   "name": "python",
   "nbconvert_exporter": "python",
   "pygments_lexer": "ipython3",
   "version": "3.8.8"
  }
 },
 "nbformat": 4,
 "nbformat_minor": 5
}
