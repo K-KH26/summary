{
 "cells": [
  {
   "cell_type": "markdown",
   "id": "904bec34",
   "metadata": {},
   "source": [
    "### summary\n",
    "- 프리미어리그 상관계수\n",
    "- 02_numpy_2 ~ 03_pandas_1"
   ]
  },
  {
   "cell_type": "code",
   "execution_count": 26,
   "id": "9706b60c",
   "metadata": {},
   "outputs": [
    {
     "data": {
      "text/html": [
       "<div>\n",
       "<style scoped>\n",
       "    .dataframe tbody tr th:only-of-type {\n",
       "        vertical-align: middle;\n",
       "    }\n",
       "\n",
       "    .dataframe tbody tr th {\n",
       "        vertical-align: top;\n",
       "    }\n",
       "\n",
       "    .dataframe thead th {\n",
       "        text-align: right;\n",
       "    }\n",
       "</style>\n",
       "<table border=\"1\" class=\"dataframe\">\n",
       "  <thead>\n",
       "    <tr style=\"text-align: right;\">\n",
       "      <th></th>\n",
       "      <th>name</th>\n",
       "      <th>gf</th>\n",
       "      <th>ga</th>\n",
       "      <th>points</th>\n",
       "    </tr>\n",
       "  </thead>\n",
       "  <tbody>\n",
       "    <tr>\n",
       "      <th>15</th>\n",
       "      <td>Huddersfield Town</td>\n",
       "      <td>28</td>\n",
       "      <td>58</td>\n",
       "      <td>37</td>\n",
       "    </tr>\n",
       "    <tr>\n",
       "      <th>16</th>\n",
       "      <td>Southampton</td>\n",
       "      <td>37</td>\n",
       "      <td>56</td>\n",
       "      <td>36</td>\n",
       "    </tr>\n",
       "    <tr>\n",
       "      <th>17</th>\n",
       "      <td>Swansea City</td>\n",
       "      <td>28</td>\n",
       "      <td>56</td>\n",
       "      <td>33</td>\n",
       "    </tr>\n",
       "    <tr>\n",
       "      <th>18</th>\n",
       "      <td>Stoke City</td>\n",
       "      <td>35</td>\n",
       "      <td>68</td>\n",
       "      <td>33</td>\n",
       "    </tr>\n",
       "    <tr>\n",
       "      <th>19</th>\n",
       "      <td>West Bromwich Albion</td>\n",
       "      <td>31</td>\n",
       "      <td>56</td>\n",
       "      <td>31</td>\n",
       "    </tr>\n",
       "  </tbody>\n",
       "</table>\n",
       "</div>"
      ],
      "text/plain": [
       "                    name  gf  ga  points\n",
       "15     Huddersfield Town  28  58      37\n",
       "16           Southampton  37  56      36\n",
       "17          Swansea City  28  56      33\n",
       "18            Stoke City  35  68      33\n",
       "19  West Bromwich Albion  31  56      31"
      ]
     },
     "execution_count": 26,
     "metadata": {},
     "output_type": "execute_result"
    }
   ],
   "source": [
    "# csv 파일 읽기\n",
    "\n",
    "df = pd.read_csv(\"datas/premierleague.csv\")\n",
    "df.tail()"
   ]
  },
  {
   "cell_type": "code",
   "execution_count": 29,
   "id": "2816d828",
   "metadata": {},
   "outputs": [],
   "source": [
    "# 데이터 리스트 추출\n",
    "gf = np.array(df[\"gf\"])\n",
    "ga = np.array(df[\"ga\"])\n",
    "points = np.array(df[\"points\"])"
   ]
  },
  {
   "cell_type": "code",
   "execution_count": 30,
   "id": "6b41112a",
   "metadata": {},
   "outputs": [],
   "source": [
    "# 공분산 ** 2 : 상관계수\n",
    "gf_points = np.corrcoef(gf, points)[0][1] ** 2\n",
    "ga_points = np.corrcoef(ga, points)[0][1] ** 2"
   ]
  },
  {
   "cell_type": "code",
   "execution_count": 31,
   "id": "3344e5d8",
   "metadata": {},
   "outputs": [
    {
     "data": {
      "text/plain": [
       "(0.87, 0.76)"
      ]
     },
     "execution_count": 31,
     "metadata": {},
     "output_type": "execute_result"
    }
   ],
   "source": [
    "round(gf_points, 2), round(ga_points, 2)  # 득점이 포인트와 상관계수가 더 높음"
   ]
  },
  {
   "cell_type": "markdown",
   "id": "cc8f3787",
   "metadata": {},
   "source": [
    "### quiz\n",
    "- 100 ~ 130 까지 랜덤한 숫자를 가지는 8*8 행렬을 만들고,\n",
    "- 3의 배수는 fiz, 5의 배수는 buz, 3과 5의 배수는 fbz 문자로 변환\n",
    "- 위의 조건에 맞지 않는 데이터는 랜덤하게 생성된 정수로 출력\n",
    "- 랜덤한 행렬 데이터\n",
    "```\n",
    "datas = np.random.randint(100, 130, size=(8,8))\n",
    "```\n",
    "- 데이터 타입이 정수 -> 문자열 : ndarray.astype()"
   ]
  },
  {
   "cell_type": "code",
   "execution_count": 1,
   "id": "0f3e6b85",
   "metadata": {},
   "outputs": [
    {
     "data": {
      "text/plain": [
       "array([[104, 103, 117, 127, 104, 113, 114, 111],\n",
       "       [111, 102, 104, 108, 126, 118, 124, 115],\n",
       "       [101, 102, 110, 118, 121, 124, 106, 126],\n",
       "       [120, 115, 107, 111, 105, 126, 120, 107],\n",
       "       [107, 124, 106, 129, 102, 117, 123, 121],\n",
       "       [110, 106, 127, 112, 120, 124, 116, 103],\n",
       "       [105, 108, 117, 125, 128, 111, 106, 125],\n",
       "       [111, 116, 120, 119, 121, 112, 124, 124]])"
      ]
     },
     "execution_count": 1,
     "metadata": {},
     "output_type": "execute_result"
    }
   ],
   "source": [
    "datas = np.random.randint(100, 130, (8, 8))\n",
    "datas"
   ]
  },
  {
   "cell_type": "code",
   "execution_count": 3,
   "id": "18cabc97",
   "metadata": {},
   "outputs": [],
   "source": [
    "index_3 = datas % 3 == 0\n",
    "index_5 = datas % 5 == 0\n",
    "index_15 = datas % 15 == 0"
   ]
  },
  {
   "cell_type": "code",
   "execution_count": 7,
   "id": "2bfbff1c",
   "metadata": {},
   "outputs": [
    {
     "data": {
      "text/plain": [
       "array([['104', '103', 'fiz', '127', '104', '113', 'fiz', 'fiz'],\n",
       "       ['fiz', 'fiz', '104', 'fiz', 'fiz', '118', '124', 'buz'],\n",
       "       ['101', 'fiz', 'buz', '118', '121', '124', '106', 'fiz'],\n",
       "       ['fbz', 'buz', '107', 'fiz', 'fbz', 'fiz', 'fbz', '107'],\n",
       "       ['107', '124', '106', 'fiz', 'fiz', 'fiz', 'fiz', '121'],\n",
       "       ['buz', '106', '127', '112', 'fbz', '124', '116', '103'],\n",
       "       ['fbz', 'fiz', 'fiz', 'buz', '128', 'fiz', '106', 'buz'],\n",
       "       ['fiz', '116', 'fbz', '119', '121', '112', '124', '124']],\n",
       "      dtype='<U11')"
      ]
     },
     "execution_count": 7,
     "metadata": {},
     "output_type": "execute_result"
    }
   ],
   "source": [
    "result = datas.astype(str)\n",
    "\n",
    "result[index_3] = \"fiz\"\n",
    "result[index_5] = \"buz\"\n",
    "result[index_15] = \"fbz\"\n",
    "\n",
    "result"
   ]
  },
  {
   "cell_type": "markdown",
   "id": "ad43d8c1",
   "metadata": {},
   "source": [
    "### Quiz2\n",
    "- 1 ~ 20 까지 랜덤한 숫자를 가지는 5*5 행렬 생성\n",
    "- 최댓값에는 MAX, 최소값에는 MIN 문자열이 들어가도록 치환하는 코드\n",
    "- 최대값과 최소값 함수\n",
    "```\n",
    "np.min(ndarray), np.max(ndarray)\n",
    "```"
   ]
  },
  {
   "cell_type": "code",
   "execution_count": 47,
   "id": "65694127",
   "metadata": {},
   "outputs": [
    {
     "data": {
      "text/plain": [
       "array([[ 9, 14,  7, 16, 11],\n",
       "       [ 8, 10,  9,  3,  3],\n",
       "       [15,  4,  9,  6,  8],\n",
       "       [19,  8, 11, 17,  7],\n",
       "       [19,  3, 18,  7,  6]])"
      ]
     },
     "execution_count": 47,
     "metadata": {},
     "output_type": "execute_result"
    }
   ],
   "source": [
    "datas = np.random.randint(1, 20, (5, 5))\n",
    "datas"
   ]
  },
  {
   "cell_type": "code",
   "execution_count": 52,
   "id": "2d6a9101",
   "metadata": {},
   "outputs": [
    {
     "data": {
      "text/plain": [
       "(3, 19)"
      ]
     },
     "execution_count": 52,
     "metadata": {},
     "output_type": "execute_result"
    }
   ],
   "source": [
    "#최솟값, 최댓값\n",
    "min = np.min(datas)\n",
    "max = np.max(datas)\n",
    "\n",
    "min, max"
   ]
  },
  {
   "cell_type": "code",
   "execution_count": 53,
   "id": "ab90e33c",
   "metadata": {},
   "outputs": [
    {
     "data": {
      "text/plain": [
       "(array([[False, False, False, False, False],\n",
       "        [False, False, False,  True,  True],\n",
       "        [False, False, False, False, False],\n",
       "        [False, False, False, False, False],\n",
       "        [False,  True, False, False, False]]),\n",
       " array([[False, False, False, False, False],\n",
       "        [False, False, False, False, False],\n",
       "        [False, False, False, False, False],\n",
       "        [ True, False, False, False, False],\n",
       "        [ True, False, False, False, False]]))"
      ]
     },
     "execution_count": 53,
     "metadata": {},
     "output_type": "execute_result"
    }
   ],
   "source": [
    "min_m = datas == min\n",
    "max_m = datas == max\n",
    "\n",
    "min_m, max_m"
   ]
  },
  {
   "cell_type": "code",
   "execution_count": 54,
   "id": "9ce6677a",
   "metadata": {},
   "outputs": [
    {
     "data": {
      "text/plain": [
       "array([['9', '14', '7', '16', '11'],\n",
       "       ['8', '10', '9', '3', '3'],\n",
       "       ['15', '4', '9', '6', '8'],\n",
       "       ['19', '8', '11', '17', '7'],\n",
       "       ['19', '3', '18', '7', '6']], dtype='<U11')"
      ]
     },
     "execution_count": 54,
     "metadata": {},
     "output_type": "execute_result"
    }
   ],
   "source": [
    "str_datas = datas.astype(str)\n",
    "str_datas"
   ]
  },
  {
   "cell_type": "code",
   "execution_count": 55,
   "id": "27f5118c",
   "metadata": {},
   "outputs": [
    {
     "data": {
      "text/plain": [
       "array([['9', '14', '7', '16', '11'],\n",
       "       ['8', '10', '9', 'MIN', 'MIN'],\n",
       "       ['15', '4', '9', '6', '8'],\n",
       "       ['MAX', '8', '11', '17', '7'],\n",
       "       ['MAX', 'MIN', '18', '7', '6']], dtype='<U11')"
      ]
     },
     "execution_count": 55,
     "metadata": {},
     "output_type": "execute_result"
    }
   ],
   "source": [
    "str_datas[min_m] = \"MIN\"\n",
    "str_datas[max_m] = \"MAX\"\n",
    "\n",
    "str_datas"
   ]
  },
  {
   "cell_type": "markdown",
   "id": "383fe343",
   "metadata": {},
   "source": [
    "## Pandas \n",
    "\n",
    "1. Series : index와 value로 이루어진 데이터 타입\n",
    "1. DataFrame : index, column, value로 이루어진 데이터 타입"
   ]
  },
  {
   "cell_type": "code",
   "execution_count": 57,
   "id": "9a9ff702",
   "metadata": {},
   "outputs": [
    {
     "data": {
      "text/plain": [
       "0    8\n",
       "1    4\n",
       "2    6\n",
       "3    7\n",
       "4    3\n",
       "dtype: int32"
      ]
     },
     "execution_count": 57,
     "metadata": {},
     "output_type": "execute_result"
    }
   ],
   "source": [
    "data = pd.Series(np.random.randint(10, size=5))\n",
    "data"
   ]
  },
  {
   "cell_type": "code",
   "execution_count": 61,
   "id": "54796842",
   "metadata": {},
   "outputs": [
    {
     "data": {
      "text/plain": [
       "A    5\n",
       "B    6\n",
       "C    0\n",
       "D    1\n",
       "E    6\n",
       "dtype: int32"
      ]
     },
     "execution_count": 61,
     "metadata": {},
     "output_type": "execute_result"
    }
   ],
   "source": [
    "# index 설정\n",
    "data = pd.Series(np.random.randint(10, size=5), index=list(\"ABCDE\"))\n",
    "data = pd.Series(np.random.randint(10, size=5), index=list(\"ABCDE\"))\n",
    "\n",
    "data"
   ]
  },
  {
   "cell_type": "code",
   "execution_count": 63,
   "id": "7592d199",
   "metadata": {},
   "outputs": [
    {
     "data": {
      "text/plain": [
       "(Index(['A', 'B', 'C', 'D', 'E'], dtype='object'), array([5, 6, 0, 1, 6]))"
      ]
     },
     "execution_count": 63,
     "metadata": {},
     "output_type": "execute_result"
    }
   ],
   "source": [
    "data.index, data.values"
   ]
  },
  {
   "cell_type": "code",
   "execution_count": 67,
   "id": "b9997a6c",
   "metadata": {},
   "outputs": [
    {
     "data": {
      "text/plain": [
       "(6, 6)"
      ]
     },
     "execution_count": 67,
     "metadata": {},
     "output_type": "execute_result"
    }
   ],
   "source": [
    "data[\"B\"], data.B"
   ]
  },
  {
   "cell_type": "code",
   "execution_count": 69,
   "id": "3bce5e6a",
   "metadata": {},
   "outputs": [
    {
     "data": {
      "text/plain": [
       "A     5\n",
       "B    10\n",
       "C     0\n",
       "D     1\n",
       "E     6\n",
       "dtype: int32"
      ]
     },
     "execution_count": 69,
     "metadata": {},
     "output_type": "execute_result"
    }
   ],
   "source": [
    "data.B = 10\n",
    "data"
   ]
  },
  {
   "cell_type": "code",
   "execution_count": 70,
   "id": "e6d60424",
   "metadata": {},
   "outputs": [
    {
     "data": {
      "text/plain": [
       "A     50\n",
       "B    100\n",
       "C      0\n",
       "D     10\n",
       "E     60\n",
       "dtype: int32"
      ]
     },
     "execution_count": 70,
     "metadata": {},
     "output_type": "execute_result"
    }
   ],
   "source": [
    "data * 10"
   ]
  },
  {
   "cell_type": "code",
   "execution_count": 74,
   "id": "fcc2afd2",
   "metadata": {},
   "outputs": [
    {
     "data": {
      "text/plain": [
       "(B    10\n",
       " E     6\n",
       " dtype: int32,\n",
       " B    10\n",
       " E     6\n",
       " dtype: int32)"
      ]
     },
     "execution_count": 74,
     "metadata": {},
     "output_type": "execute_result"
    }
   ],
   "source": [
    "data[list(\"BE\")], data[[\"B\",\"E\"]]"
   ]
  },
  {
   "cell_type": "code",
   "execution_count": 76,
   "id": "ec221f94",
   "metadata": {},
   "outputs": [
    {
     "data": {
      "text/plain": [
       "(A     5\n",
       " B    10\n",
       " dtype: int32,\n",
       " E     6\n",
       " D     1\n",
       " C     0\n",
       " B    10\n",
       " A     5\n",
       " dtype: int32)"
      ]
     },
     "execution_count": 76,
     "metadata": {},
     "output_type": "execute_result"
    }
   ],
   "source": [
    "data[:2], data[::-1]"
   ]
  },
  {
   "cell_type": "code",
   "execution_count": 89,
   "id": "e4e4e53c",
   "metadata": {},
   "outputs": [
    {
     "data": {
      "text/plain": [
       "A     5\n",
       "B    10\n",
       "C     0\n",
       "D     1\n",
       "E     6\n",
       "dtype: int32"
      ]
     },
     "execution_count": 89,
     "metadata": {},
     "output_type": "execute_result"
    }
   ],
   "source": [
    "data"
   ]
  },
  {
   "cell_type": "code",
   "execution_count": 90,
   "id": "f383b904",
   "metadata": {},
   "outputs": [
    {
     "data": {
      "text/plain": [
       "D    3\n",
       "E    5\n",
       "F    6\n",
       "dtype: int64"
      ]
     },
     "execution_count": 90,
     "metadata": {},
     "output_type": "execute_result"
    }
   ],
   "source": [
    "data2 = pd.Series({\"D\" : 3, \"E\" : 5, \"F\": 6})\n",
    "data2"
   ]
  },
  {
   "cell_type": "code",
   "execution_count": 91,
   "id": "699251cb",
   "metadata": {},
   "outputs": [
    {
     "data": {
      "text/plain": [
       "A     NaN\n",
       "B     NaN\n",
       "C     NaN\n",
       "D     4.0\n",
       "E    11.0\n",
       "F     NaN\n",
       "dtype: float64"
      ]
     },
     "execution_count": 91,
     "metadata": {},
     "output_type": "execute_result"
    }
   ],
   "source": [
    "result = data + data2 # 같은 인덱스끼리만 연산이 된다.\n",
    "result"
   ]
  },
  {
   "cell_type": "code",
   "execution_count": 93,
   "id": "277ff8f2",
   "metadata": {},
   "outputs": [
    {
     "data": {
      "text/plain": [
       "A     NaN\n",
       "B     NaN\n",
       "C     NaN\n",
       "D     3.0\n",
       "E    11.0\n",
       "F     NaN\n",
       "dtype: float64"
      ]
     },
     "execution_count": 93,
     "metadata": {},
     "output_type": "execute_result"
    }
   ],
   "source": [
    "result[result == 4] = 3\n",
    "result"
   ]
  },
  {
   "cell_type": "code",
   "execution_count": 94,
   "id": "aa310365",
   "metadata": {},
   "outputs": [
    {
     "data": {
      "text/plain": [
       "A     5.0\n",
       "B    10.0\n",
       "C     0.0\n",
       "D     3.0\n",
       "E    11.0\n",
       "F     NaN\n",
       "dtype: float64"
      ]
     },
     "execution_count": 94,
     "metadata": {},
     "output_type": "execute_result"
    }
   ],
   "source": [
    "result[result.isnull()] = data\n",
    "result"
   ]
  },
  {
   "cell_type": "code",
   "execution_count": 95,
   "id": "77ad5d1b",
   "metadata": {},
   "outputs": [
    {
     "data": {
      "text/plain": [
       "A     5.0\n",
       "B    10.0\n",
       "C     0.0\n",
       "D     3.0\n",
       "E    11.0\n",
       "F     6.0\n",
       "dtype: float64"
      ]
     },
     "execution_count": 95,
     "metadata": {},
     "output_type": "execute_result"
    }
   ],
   "source": [
    "result[result.isnull()] = data2\n",
    "result"
   ]
  },
  {
   "cell_type": "markdown",
   "id": "767859bf",
   "metadata": {},
   "source": [
    "### 2. DataFrame\n",
    "- 데이터 프레임은 여러개의 Series로 구성\n",
    "- 같은 컬럼에 있는 value값은 같은 데이터 타입만 갖는다."
   ]
  },
  {
   "cell_type": "code",
   "execution_count": null,
   "id": "f881a21b",
   "metadata": {},
   "outputs": [],
   "source": [
    "# 데이터 프레임 생성 1 : 딕셔너리의 리스트"
   ]
  },
  {
   "cell_type": "code",
   "execution_count": 99,
   "id": "7985bb67",
   "metadata": {},
   "outputs": [
    {
     "data": {
      "text/html": [
       "<div>\n",
       "<style scoped>\n",
       "    .dataframe tbody tr th:only-of-type {\n",
       "        vertical-align: middle;\n",
       "    }\n",
       "\n",
       "    .dataframe tbody tr th {\n",
       "        vertical-align: top;\n",
       "    }\n",
       "\n",
       "    .dataframe thead th {\n",
       "        text-align: right;\n",
       "    }\n",
       "</style>\n",
       "<table border=\"1\" class=\"dataframe\">\n",
       "  <thead>\n",
       "    <tr style=\"text-align: right;\">\n",
       "      <th></th>\n",
       "      <th>name</th>\n",
       "      <th>email</th>\n",
       "    </tr>\n",
       "  </thead>\n",
       "  <tbody>\n",
       "    <tr>\n",
       "      <th>0</th>\n",
       "      <td>kim</td>\n",
       "      <td>kim@gmail.com</td>\n",
       "    </tr>\n",
       "    <tr>\n",
       "      <th>1</th>\n",
       "      <td>young</td>\n",
       "      <td>young@naver.com</td>\n",
       "    </tr>\n",
       "  </tbody>\n",
       "</table>\n",
       "</div>"
      ],
      "text/plain": [
       "    name            email\n",
       "0    kim    kim@gmail.com\n",
       "1  young  young@naver.com"
      ]
     },
     "execution_count": 99,
     "metadata": {},
     "output_type": "execute_result"
    }
   ],
   "source": [
    "# 칼럼형식으로 데이터가 추가됨.\n",
    "datas = {\n",
    "    \"name\" : [\"kim\", \"young\"],\n",
    "    \"email\" : [\"kim@gmail.com\", \"young@naver.com\"]\n",
    "}\n",
    "df = pd.DataFrame(datas)\n",
    "df"
   ]
  },
  {
   "cell_type": "code",
   "execution_count": null,
   "id": "ae26f816",
   "metadata": {},
   "outputs": [],
   "source": [
    "# 데이터 프레임 생성 2 : 리스트의 딕셔너리"
   ]
  },
  {
   "cell_type": "code",
   "execution_count": 101,
   "id": "af52c140",
   "metadata": {},
   "outputs": [
    {
     "data": {
      "text/html": [
       "<div>\n",
       "<style scoped>\n",
       "    .dataframe tbody tr th:only-of-type {\n",
       "        vertical-align: middle;\n",
       "    }\n",
       "\n",
       "    .dataframe tbody tr th {\n",
       "        vertical-align: top;\n",
       "    }\n",
       "\n",
       "    .dataframe thead th {\n",
       "        text-align: right;\n",
       "    }\n",
       "</style>\n",
       "<table border=\"1\" class=\"dataframe\">\n",
       "  <thead>\n",
       "    <tr style=\"text-align: right;\">\n",
       "      <th></th>\n",
       "      <th>name</th>\n",
       "      <th>email</th>\n",
       "    </tr>\n",
       "  </thead>\n",
       "  <tbody>\n",
       "    <tr>\n",
       "      <th>0</th>\n",
       "      <td>kim</td>\n",
       "      <td>kim@gmail.com</td>\n",
       "    </tr>\n",
       "    <tr>\n",
       "      <th>1</th>\n",
       "      <td>young</td>\n",
       "      <td>young@gmail.com</td>\n",
       "    </tr>\n",
       "  </tbody>\n",
       "</table>\n",
       "</div>"
      ],
      "text/plain": [
       "    name            email\n",
       "0    kim    kim@gmail.com\n",
       "1  young  young@gmail.com"
      ]
     },
     "execution_count": 101,
     "metadata": {},
     "output_type": "execute_result"
    }
   ],
   "source": [
    "datas = [\n",
    "    {\"name\" : \"kim\", \"email\" : \"kim@gmail.com\"},\n",
    "    {\"name\" : \"young\", \"email\" : \"young@gmail.com\"},\n",
    "]\n",
    "df = pd.DataFrame(datas)\n",
    "df"
   ]
  },
  {
   "cell_type": "code",
   "execution_count": 102,
   "id": "22ae45dd",
   "metadata": {},
   "outputs": [
    {
     "data": {
      "text/html": [
       "<div>\n",
       "<style scoped>\n",
       "    .dataframe tbody tr th:only-of-type {\n",
       "        vertical-align: middle;\n",
       "    }\n",
       "\n",
       "    .dataframe tbody tr th {\n",
       "        vertical-align: top;\n",
       "    }\n",
       "\n",
       "    .dataframe thead th {\n",
       "        text-align: right;\n",
       "    }\n",
       "</style>\n",
       "<table border=\"1\" class=\"dataframe\">\n",
       "  <thead>\n",
       "    <tr style=\"text-align: right;\">\n",
       "      <th></th>\n",
       "      <th>name</th>\n",
       "      <th>email</th>\n",
       "    </tr>\n",
       "  </thead>\n",
       "  <tbody>\n",
       "    <tr>\n",
       "      <th>one</th>\n",
       "      <td>kim</td>\n",
       "      <td>kim@gmail.com</td>\n",
       "    </tr>\n",
       "    <tr>\n",
       "      <th>two</th>\n",
       "      <td>young</td>\n",
       "      <td>young@gmail.com</td>\n",
       "    </tr>\n",
       "  </tbody>\n",
       "</table>\n",
       "</div>"
      ],
      "text/plain": [
       "      name            email\n",
       "one    kim    kim@gmail.com\n",
       "two  young  young@gmail.com"
      ]
     },
     "execution_count": 102,
     "metadata": {},
     "output_type": "execute_result"
    }
   ],
   "source": [
    "# 인덱스를 추가하는 방법\n",
    "df = pd.DataFrame(datas, index=[\"one\", \"two\"])\n",
    "df"
   ]
  },
  {
   "cell_type": "code",
   "execution_count": 114,
   "id": "d6763ed1",
   "metadata": {},
   "outputs": [
    {
     "data": {
      "text/html": [
       "<div>\n",
       "<style scoped>\n",
       "    .dataframe tbody tr th:only-of-type {\n",
       "        vertical-align: middle;\n",
       "    }\n",
       "\n",
       "    .dataframe tbody tr th {\n",
       "        vertical-align: top;\n",
       "    }\n",
       "\n",
       "    .dataframe thead th {\n",
       "        text-align: right;\n",
       "    }\n",
       "</style>\n",
       "<table border=\"1\" class=\"dataframe\">\n",
       "  <thead>\n",
       "    <tr style=\"text-align: right;\">\n",
       "      <th></th>\n",
       "      <th>name</th>\n",
       "      <th>email</th>\n",
       "    </tr>\n",
       "  </thead>\n",
       "  <tbody>\n",
       "    <tr>\n",
       "      <th>1</th>\n",
       "      <td>kim</td>\n",
       "      <td>kim@gmail.com</td>\n",
       "    </tr>\n",
       "    <tr>\n",
       "      <th>2</th>\n",
       "      <td>young</td>\n",
       "      <td>young@gmail.com</td>\n",
       "    </tr>\n",
       "  </tbody>\n",
       "</table>\n",
       "</div>"
      ],
      "text/plain": [
       "    name            email\n",
       "1    kim    kim@gmail.com\n",
       "2  young  young@gmail.com"
      ]
     },
     "execution_count": 114,
     "metadata": {},
     "output_type": "execute_result"
    }
   ],
   "source": [
    "df.index = [1, 2]\n",
    "df"
   ]
  },
  {
   "cell_type": "code",
   "execution_count": null,
   "id": "aeead3e0",
   "metadata": {},
   "outputs": [],
   "source": [
    "# 데이터 프레임에서 데이터의 선택 : row, column, (row, column)"
   ]
  },
  {
   "cell_type": "code",
   "execution_count": 132,
   "id": "64ecd6e6",
   "metadata": {},
   "outputs": [
    {
     "data": {
      "text/html": [
       "<div>\n",
       "<style scoped>\n",
       "    .dataframe tbody tr th:only-of-type {\n",
       "        vertical-align: middle;\n",
       "    }\n",
       "\n",
       "    .dataframe tbody tr th {\n",
       "        vertical-align: top;\n",
       "    }\n",
       "\n",
       "    .dataframe thead th {\n",
       "        text-align: right;\n",
       "    }\n",
       "</style>\n",
       "<table border=\"1\" class=\"dataframe\">\n",
       "  <thead>\n",
       "    <tr style=\"text-align: right;\">\n",
       "      <th></th>\n",
       "      <th>name</th>\n",
       "      <th>email</th>\n",
       "    </tr>\n",
       "  </thead>\n",
       "  <tbody>\n",
       "    <tr>\n",
       "      <th>0</th>\n",
       "      <td>kim</td>\n",
       "      <td>kim@gmail.com</td>\n",
       "    </tr>\n",
       "    <tr>\n",
       "      <th>1</th>\n",
       "      <td>young</td>\n",
       "      <td>young@gmail.com</td>\n",
       "    </tr>\n",
       "  </tbody>\n",
       "</table>\n",
       "</div>"
      ],
      "text/plain": [
       "    name            email\n",
       "0    kim    kim@gmail.com\n",
       "1  young  young@gmail.com"
      ]
     },
     "execution_count": 132,
     "metadata": {},
     "output_type": "execute_result"
    }
   ],
   "source": [
    "df = pd.DataFrame(datas)\n",
    "df"
   ]
  },
  {
   "cell_type": "code",
   "execution_count": 134,
   "id": "0bb81de4",
   "metadata": {},
   "outputs": [
    {
     "data": {
      "text/plain": [
       "'young'"
      ]
     },
     "execution_count": 134,
     "metadata": {},
     "output_type": "execute_result"
    }
   ],
   "source": [
    "# row선택\n",
    "df.loc[1][\"name\"]"
   ]
  },
  {
   "cell_type": "code",
   "execution_count": null,
   "id": "61de2b4d",
   "metadata": {},
   "outputs": [],
   "source": [
    "# index가 있으면 수정, 없으면 추가"
   ]
  },
  {
   "cell_type": "code",
   "execution_count": 136,
   "id": "9fb2757c",
   "metadata": {},
   "outputs": [
    {
     "data": {
      "text/html": [
       "<div>\n",
       "<style scoped>\n",
       "    .dataframe tbody tr th:only-of-type {\n",
       "        vertical-align: middle;\n",
       "    }\n",
       "\n",
       "    .dataframe tbody tr th {\n",
       "        vertical-align: top;\n",
       "    }\n",
       "\n",
       "    .dataframe thead th {\n",
       "        text-align: right;\n",
       "    }\n",
       "</style>\n",
       "<table border=\"1\" class=\"dataframe\">\n",
       "  <thead>\n",
       "    <tr style=\"text-align: right;\">\n",
       "      <th></th>\n",
       "      <th>name</th>\n",
       "      <th>email</th>\n",
       "    </tr>\n",
       "  </thead>\n",
       "  <tbody>\n",
       "    <tr>\n",
       "      <th>0</th>\n",
       "      <td>kim</td>\n",
       "      <td>kim@gmail.com</td>\n",
       "    </tr>\n",
       "    <tr>\n",
       "      <th>1</th>\n",
       "      <td>young</td>\n",
       "      <td>young@daum.com</td>\n",
       "    </tr>\n",
       "    <tr>\n",
       "      <th>2</th>\n",
       "      <td>andy</td>\n",
       "      <td>andy@naver.com</td>\n",
       "    </tr>\n",
       "  </tbody>\n",
       "</table>\n",
       "</div>"
      ],
      "text/plain": [
       "    name           email\n",
       "0    kim   kim@gmail.com\n",
       "1  young  young@daum.com\n",
       "2   andy  andy@naver.com"
      ]
     },
     "execution_count": 136,
     "metadata": {},
     "output_type": "execute_result"
    }
   ],
   "source": [
    "df.loc[1][1] = \"young@daum.com\"\n",
    "df.loc[2] = {\"name\" : \"andy\", \"email\" : \"andy@naver.com\"}\n",
    "df"
   ]
  },
  {
   "cell_type": "code",
   "execution_count": 149,
   "id": "6bb11c1d",
   "metadata": {},
   "outputs": [
    {
     "data": {
      "text/plain": [
       "0     kim@gmail.com\n",
       "1    young@daum.com\n",
       "2    andy@naver.com\n",
       "Name: email, dtype: object"
      ]
     },
     "execution_count": 149,
     "metadata": {},
     "output_type": "execute_result"
    }
   ],
   "source": [
    "#칼럼 선택\n",
    "email = df[\"email\"]\n",
    "email"
   ]
  },
  {
   "cell_type": "code",
   "execution_count": 150,
   "id": "ecd6e32d",
   "metadata": {},
   "outputs": [
    {
     "data": {
      "text/html": [
       "<div>\n",
       "<style scoped>\n",
       "    .dataframe tbody tr th:only-of-type {\n",
       "        vertical-align: middle;\n",
       "    }\n",
       "\n",
       "    .dataframe tbody tr th {\n",
       "        vertical-align: top;\n",
       "    }\n",
       "\n",
       "    .dataframe thead th {\n",
       "        text-align: right;\n",
       "    }\n",
       "</style>\n",
       "<table border=\"1\" class=\"dataframe\">\n",
       "  <thead>\n",
       "    <tr style=\"text-align: right;\">\n",
       "      <th></th>\n",
       "      <th>name</th>\n",
       "      <th>email</th>\n",
       "      <th>id</th>\n",
       "    </tr>\n",
       "  </thead>\n",
       "  <tbody>\n",
       "    <tr>\n",
       "      <th>0</th>\n",
       "      <td>kim</td>\n",
       "      <td>kim@gmail.com</td>\n",
       "      <td></td>\n",
       "    </tr>\n",
       "    <tr>\n",
       "      <th>1</th>\n",
       "      <td>young</td>\n",
       "      <td>young@daum.com</td>\n",
       "      <td></td>\n",
       "    </tr>\n",
       "    <tr>\n",
       "      <th>2</th>\n",
       "      <td>andy</td>\n",
       "      <td>andy@naver.com</td>\n",
       "      <td></td>\n",
       "    </tr>\n",
       "  </tbody>\n",
       "</table>\n",
       "</div>"
      ],
      "text/plain": [
       "    name           email id\n",
       "0    kim   kim@gmail.com   \n",
       "1  young  young@daum.com   \n",
       "2   andy  andy@naver.com   "
      ]
     },
     "execution_count": 150,
     "metadata": {},
     "output_type": "execute_result"
    }
   ],
   "source": [
    "df[\"id\"] = \"\"\n",
    "df"
   ]
  },
  {
   "cell_type": "code",
   "execution_count": 151,
   "id": "4ca7dee7",
   "metadata": {},
   "outputs": [
    {
     "data": {
      "text/html": [
       "<div>\n",
       "<style scoped>\n",
       "    .dataframe tbody tr th:only-of-type {\n",
       "        vertical-align: middle;\n",
       "    }\n",
       "\n",
       "    .dataframe tbody tr th {\n",
       "        vertical-align: top;\n",
       "    }\n",
       "\n",
       "    .dataframe thead th {\n",
       "        text-align: right;\n",
       "    }\n",
       "</style>\n",
       "<table border=\"1\" class=\"dataframe\">\n",
       "  <thead>\n",
       "    <tr style=\"text-align: right;\">\n",
       "      <th></th>\n",
       "      <th>name</th>\n",
       "      <th>email</th>\n",
       "      <th>id</th>\n",
       "    </tr>\n",
       "  </thead>\n",
       "  <tbody>\n",
       "    <tr>\n",
       "      <th>0</th>\n",
       "      <td>kim</td>\n",
       "      <td>kim@gmail.com</td>\n",
       "      <td>1</td>\n",
       "    </tr>\n",
       "    <tr>\n",
       "      <th>1</th>\n",
       "      <td>young</td>\n",
       "      <td>young@daum.com</td>\n",
       "      <td>2</td>\n",
       "    </tr>\n",
       "    <tr>\n",
       "      <th>2</th>\n",
       "      <td>andy</td>\n",
       "      <td>andy@naver.com</td>\n",
       "      <td>3</td>\n",
       "    </tr>\n",
       "  </tbody>\n",
       "</table>\n",
       "</div>"
      ],
      "text/plain": [
       "    name           email  id\n",
       "0    kim   kim@gmail.com   1\n",
       "1  young  young@daum.com   2\n",
       "2   andy  andy@naver.com   3"
      ]
     },
     "execution_count": 151,
     "metadata": {},
     "output_type": "execute_result"
    }
   ],
   "source": [
    "df[\"id\"] = range(1,4)\n",
    "df"
   ]
  },
  {
   "cell_type": "code",
   "execution_count": 152,
   "id": "c0f0450f",
   "metadata": {},
   "outputs": [
    {
     "data": {
      "text/plain": [
       "name     object\n",
       "email    object\n",
       "id        int32\n",
       "dtype: object"
      ]
     },
     "execution_count": 152,
     "metadata": {},
     "output_type": "execute_result"
    }
   ],
   "source": [
    "df.dtypes"
   ]
  },
  {
   "cell_type": "code",
   "execution_count": 153,
   "id": "1199f26b",
   "metadata": {},
   "outputs": [
    {
     "data": {
      "text/html": [
       "<div>\n",
       "<style scoped>\n",
       "    .dataframe tbody tr th:only-of-type {\n",
       "        vertical-align: middle;\n",
       "    }\n",
       "\n",
       "    .dataframe tbody tr th {\n",
       "        vertical-align: top;\n",
       "    }\n",
       "\n",
       "    .dataframe thead th {\n",
       "        text-align: right;\n",
       "    }\n",
       "</style>\n",
       "<table border=\"1\" class=\"dataframe\">\n",
       "  <thead>\n",
       "    <tr style=\"text-align: right;\">\n",
       "      <th></th>\n",
       "      <th>id</th>\n",
       "      <th>name</th>\n",
       "    </tr>\n",
       "  </thead>\n",
       "  <tbody>\n",
       "    <tr>\n",
       "      <th>0</th>\n",
       "      <td>1</td>\n",
       "      <td>kim</td>\n",
       "    </tr>\n",
       "    <tr>\n",
       "      <th>2</th>\n",
       "      <td>3</td>\n",
       "      <td>andy</td>\n",
       "    </tr>\n",
       "  </tbody>\n",
       "</table>\n",
       "</div>"
      ],
      "text/plain": [
       "   id  name\n",
       "0   1   kim\n",
       "2   3  andy"
      ]
     },
     "execution_count": 153,
     "metadata": {},
     "output_type": "execute_result"
    }
   ],
   "source": [
    "# 로우, 칼럼 선택 리스트 추출\n",
    "\n",
    "df.loc[[0, 2],[\"id\", \"name\"]]"
   ]
  },
  {
   "cell_type": "code",
   "execution_count": 208,
   "id": "cd497729",
   "metadata": {},
   "outputs": [
    {
     "data": {
      "text/html": [
       "<div>\n",
       "<style scoped>\n",
       "    .dataframe tbody tr th:only-of-type {\n",
       "        vertical-align: middle;\n",
       "    }\n",
       "\n",
       "    .dataframe tbody tr th {\n",
       "        vertical-align: top;\n",
       "    }\n",
       "\n",
       "    .dataframe thead th {\n",
       "        text-align: right;\n",
       "    }\n",
       "</style>\n",
       "<table border=\"1\" class=\"dataframe\">\n",
       "  <thead>\n",
       "    <tr style=\"text-align: right;\">\n",
       "      <th></th>\n",
       "      <th>name</th>\n",
       "      <th>email</th>\n",
       "      <th>id</th>\n",
       "    </tr>\n",
       "  </thead>\n",
       "  <tbody>\n",
       "    <tr>\n",
       "      <th>0</th>\n",
       "      <td>kim</td>\n",
       "      <td>kim@gmail.com</td>\n",
       "      <td>1</td>\n",
       "    </tr>\n",
       "    <tr>\n",
       "      <th>1</th>\n",
       "      <td>young</td>\n",
       "      <td>young@daum.com</td>\n",
       "      <td>2</td>\n",
       "    </tr>\n",
       "  </tbody>\n",
       "</table>\n",
       "</div>"
      ],
      "text/plain": [
       "    name           email  id\n",
       "0    kim   kim@gmail.com   1\n",
       "1  young  young@daum.com   2"
      ]
     },
     "execution_count": 208,
     "metadata": {},
     "output_type": "execute_result"
    }
   ],
   "source": [
    "df.iloc[:2]"
   ]
  },
  {
   "cell_type": "code",
   "execution_count": 161,
   "id": "0f8900da",
   "metadata": {},
   "outputs": [
    {
     "data": {
      "text/html": [
       "<div>\n",
       "<style scoped>\n",
       "    .dataframe tbody tr th:only-of-type {\n",
       "        vertical-align: middle;\n",
       "    }\n",
       "\n",
       "    .dataframe tbody tr th {\n",
       "        vertical-align: top;\n",
       "    }\n",
       "\n",
       "    .dataframe thead th {\n",
       "        text-align: right;\n",
       "    }\n",
       "</style>\n",
       "<table border=\"1\" class=\"dataframe\">\n",
       "  <thead>\n",
       "    <tr style=\"text-align: right;\">\n",
       "      <th></th>\n",
       "      <th>id</th>\n",
       "      <th>name</th>\n",
       "      <th>email</th>\n",
       "    </tr>\n",
       "  </thead>\n",
       "  <tbody>\n",
       "    <tr>\n",
       "      <th>0</th>\n",
       "      <td>1</td>\n",
       "      <td>kim</td>\n",
       "      <td>kim@gmail.com</td>\n",
       "    </tr>\n",
       "    <tr>\n",
       "      <th>1</th>\n",
       "      <td>2</td>\n",
       "      <td>young</td>\n",
       "      <td>young@daum.com</td>\n",
       "    </tr>\n",
       "    <tr>\n",
       "      <th>2</th>\n",
       "      <td>3</td>\n",
       "      <td>andy</td>\n",
       "      <td>andy@naver.com</td>\n",
       "    </tr>\n",
       "  </tbody>\n",
       "</table>\n",
       "</div>"
      ],
      "text/plain": [
       "   id   name           email\n",
       "0   1    kim   kim@gmail.com\n",
       "1   2  young  young@daum.com\n",
       "2   3   andy  andy@naver.com"
      ]
     },
     "execution_count": 161,
     "metadata": {},
     "output_type": "execute_result"
    }
   ],
   "source": [
    "#DtaFrame[ [칼럼명 순서] ] 재배치\n",
    "dt = df[[\"id\", \"name\",\"email\"]]\n",
    "dt"
   ]
  },
  {
   "cell_type": "code",
   "execution_count": 162,
   "id": "bfcd2e5f",
   "metadata": {},
   "outputs": [
    {
     "data": {
      "text/html": [
       "<div>\n",
       "<style scoped>\n",
       "    .dataframe tbody tr th:only-of-type {\n",
       "        vertical-align: middle;\n",
       "    }\n",
       "\n",
       "    .dataframe tbody tr th {\n",
       "        vertical-align: top;\n",
       "    }\n",
       "\n",
       "    .dataframe thead th {\n",
       "        text-align: right;\n",
       "    }\n",
       "</style>\n",
       "<table border=\"1\" class=\"dataframe\">\n",
       "  <thead>\n",
       "    <tr style=\"text-align: right;\">\n",
       "      <th></th>\n",
       "      <th>name</th>\n",
       "      <th>email</th>\n",
       "      <th>id</th>\n",
       "    </tr>\n",
       "  </thead>\n",
       "  <tbody>\n",
       "    <tr>\n",
       "      <th>0</th>\n",
       "      <td>kim</td>\n",
       "      <td>kim@gmail.com</td>\n",
       "      <td>1</td>\n",
       "    </tr>\n",
       "    <tr>\n",
       "      <th>1</th>\n",
       "      <td>young</td>\n",
       "      <td>young@daum.com</td>\n",
       "      <td>2</td>\n",
       "    </tr>\n",
       "    <tr>\n",
       "      <th>2</th>\n",
       "      <td>andy</td>\n",
       "      <td>andy@naver.com</td>\n",
       "      <td>3</td>\n",
       "    </tr>\n",
       "  </tbody>\n",
       "</table>\n",
       "</div>"
      ],
      "text/plain": [
       "    name           email  id\n",
       "0    kim   kim@gmail.com   1\n",
       "1  young  young@daum.com   2\n",
       "2   andy  andy@naver.com   3"
      ]
     },
     "execution_count": 162,
     "metadata": {},
     "output_type": "execute_result"
    }
   ],
   "source": [
    "df"
   ]
  },
  {
   "cell_type": "code",
   "execution_count": 171,
   "id": "c72bf468",
   "metadata": {},
   "outputs": [
    {
     "name": "stdout",
     "output_type": "stream",
     "text": [
      "<class 'numpy.ndarray'>\n"
     ]
    }
   ],
   "source": [
    "arr = np.array([1, 2, 3])\n",
    "print(type(arr))"
   ]
  },
  {
   "cell_type": "code",
   "execution_count": 179,
   "id": "3e016313",
   "metadata": {},
   "outputs": [
    {
     "data": {
      "text/plain": [
       "array([[12,  5, 13],\n",
       "       [11, 10,  9],\n",
       "       [13,  6,  6]])"
      ]
     },
     "execution_count": 179,
     "metadata": {},
     "output_type": "execute_result"
    }
   ],
   "source": [
    "arr2 = np.random.randint(4, 14, size=(3, 3))\n",
    "arr2"
   ]
  },
  {
   "cell_type": "code",
   "execution_count": 184,
   "id": "c9cb00e5",
   "metadata": {},
   "outputs": [
    {
     "data": {
      "text/plain": [
       "array([12, 13, 11, 10,  9, 13])"
      ]
     },
     "execution_count": 184,
     "metadata": {},
     "output_type": "execute_result"
    }
   ],
   "source": [
    "arr2[arr2 > 7]"
   ]
  },
  {
   "cell_type": "code",
   "execution_count": 206,
   "id": "ed78233a",
   "metadata": {},
   "outputs": [
    {
     "data": {
      "text/plain": [
       "array([[0.0346786 , 0.16099664, 0.6332257 ],\n",
       "       [0.0482832 , 0.89344077, 0.34983952]])"
      ]
     },
     "execution_count": 206,
     "metadata": {},
     "output_type": "execute_result"
    }
   ],
   "source": [
    "np.random.rand(2, 3)"
   ]
  },
  {
   "cell_type": "code",
   "execution_count": null,
   "id": "fb6c3922",
   "metadata": {},
   "outputs": [],
   "source": []
  }
 ],
 "metadata": {
  "kernelspec": {
   "display_name": "Python 3",
   "language": "python",
   "name": "python3"
  },
  "language_info": {
   "codemirror_mode": {
    "name": "ipython",
    "version": 3
   },
   "file_extension": ".py",
   "mimetype": "text/x-python",
   "name": "python",
   "nbconvert_exporter": "python",
   "pygments_lexer": "ipython3",
   "version": "3.8.8"
  }
 },
 "nbformat": 4,
 "nbformat_minor": 5
}
