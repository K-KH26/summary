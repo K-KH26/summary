{
 "cells": [
  {
   "cell_type": "markdown",
   "id": "bb93c5a5",
   "metadata": {},
   "source": [
    "### summary\n",
    "- numpy : 선형대수를 빠르게 연산해주는 패키지\n",
    "- 행렬의 생성 1. : ndarray, np.array(iterable)\n",
    "- 행렬의 생성 2. : ones, zeros\n",
    "- 행렬 데이터 선택 : array[x, y, z]\n",
    "- 행렬 데이터 수정 : \n",
    "    - 행렬 데이터를 선택\n",
    "    - =, > (값(scala, vector, matrix))\n",
    "    - 브로드 캐스팅 개념\n",
    "- arange : list 에서 쓰는 range : 결과가 ndarray 타입으로 출력\n"
   ]
  },
  {
   "cell_type": "markdown",
   "id": "93fd6afb",
   "metadata": {},
   "source": [
    "### quiz\n",
    "- 100 ~ 130 까지 랜덤한 숫자를 가지는 8*8 행렬을 만들고,\n",
    "- 3의 배수는 fiz, 5의 배수는 buz, 3과 5의 배수는 fbz 문자로 변환\\\n",
    "- 위의 조건에 맞지 않는 데이터는 랜덤하게 생성된 정수로 출력\n",
    "- 랜덤한 행렬 데이터\n",
    "```\n",
    "datas = np.random.randint(100, 130, size=(8,8))\n",
    "```\n",
    "- 데이터 타입이 정수 -> 문자열 : ndarray.astype()"
   ]
  },
  {
   "cell_type": "code",
   "execution_count": 3,
   "id": "bb301ed9",
   "metadata": {},
   "outputs": [],
   "source": [
    "import numpy as np"
   ]
  },
  {
   "cell_type": "code",
   "execution_count": 5,
   "id": "684474d6",
   "metadata": {},
   "outputs": [
    {
     "data": {
      "text/plain": [
       "array([[109, 119, 120, 109, 128, 121, 126, 103],\n",
       "       [104, 105, 120, 119, 107, 111, 107, 117],\n",
       "       [115, 101, 103, 118, 124, 108, 123, 107],\n",
       "       [104, 109, 103, 100, 101, 105, 118, 116],\n",
       "       [107, 126, 119, 103, 101, 117, 124, 124],\n",
       "       [105, 116, 122, 122, 113, 103, 118, 103],\n",
       "       [127, 102, 109, 125, 129, 126, 121, 125],\n",
       "       [112, 106, 128, 104, 106, 126, 103, 115]])"
      ]
     },
     "execution_count": 5,
     "metadata": {},
     "output_type": "execute_result"
    }
   ],
   "source": [
    "datas = np.random.randint(100, 130, size=(8, 8))\n",
    "datas"
   ]
  },
  {
   "cell_type": "code",
   "execution_count": 52,
   "id": "777816e1",
   "metadata": {},
   "outputs": [
    {
     "data": {
      "text/plain": [
       "array([['109', '119', 'fbz', '109', '128', '121', 'fiz', '103'],\n",
       "       ['104', 'fbz', 'fbz', '119', '107', 'fiz', '107', 'fiz'],\n",
       "       ['buz', '101', '103', '118', '124', 'fiz', 'fiz', '107'],\n",
       "       ['104', '109', '103', 'buz', '101', 'fbz', '118', '116'],\n",
       "       ['107', 'fiz', '119', '103', '101', 'fiz', '124', '124'],\n",
       "       ['fbz', '116', '122', '122', '113', '103', '118', '103'],\n",
       "       ['127', 'fiz', '109', 'buz', 'fiz', 'fiz', '121', 'buz'],\n",
       "       ['112', '106', '128', '104', '106', 'fiz', '103', 'buz']],\n",
       "      dtype='<U11')"
      ]
     },
     "execution_count": 52,
     "metadata": {},
     "output_type": "execute_result"
    }
   ],
   "source": [
    "three = datas % 3 == 0\n",
    "five = datas % 5 == 0\n",
    "three_five = datas % (3*5) == 0\n",
    "\n",
    "str_dats = datas.astype(str)\n",
    "str_dats[three] = \"fiz\"\n",
    "str_dats[five] = \"buz\"\n",
    "str_dats[three_five] = \"fbz\"\n",
    "\n",
    "str_dats"
   ]
  },
  {
   "cell_type": "code",
   "execution_count": 54,
   "id": "c43e856e",
   "metadata": {},
   "outputs": [],
   "source": [
    "# 3의 배수, 5의 배수 , 15의 배수 위치값에 대한 T,F 매트릭스 생성\n",
    "idx_3 = datas % 3 == 0\n",
    "idx_5 = datas % 5 == 0\n",
    "idx_15 = datas % 15 == 0"
   ]
  },
  {
   "cell_type": "code",
   "execution_count": 56,
   "id": "1981bc9f",
   "metadata": {},
   "outputs": [
    {
     "data": {
      "text/plain": [
       "array([['109', '119', '120', '109', '128', '121', '126', '103'],\n",
       "       ['104', '105', '120', '119', '107', '111', '107', '117'],\n",
       "       ['115', '101', '103', '118', '124', '108', '123', '107'],\n",
       "       ['104', '109', '103', '100', '101', '105', '118', '116'],\n",
       "       ['107', '126', '119', '103', '101', '117', '124', '124'],\n",
       "       ['105', '116', '122', '122', '113', '103', '118', '103'],\n",
       "       ['127', '102', '109', '125', '129', '126', '121', '125'],\n",
       "       ['112', '106', '128', '104', '106', '126', '103', '115']],\n",
       "      dtype='<U11')"
      ]
     },
     "execution_count": 56,
     "metadata": {},
     "output_type": "execute_result"
    }
   ],
   "source": [
    "# 데이터의 타입을 str로 변환\n",
    "result = datas.astype(\"str\")\n",
    "result"
   ]
  },
  {
   "cell_type": "code",
   "execution_count": 57,
   "id": "17c17c96",
   "metadata": {},
   "outputs": [],
   "source": [
    "# T,F 매트릭스를 이용하여 특정조건의 데이터를 선택 후 브로드캐스팅하게 값을 대입\n",
    "result[idx_3] = \"fiz\"\n",
    "result[idx_5] = \"buz\"\n",
    "result[idx_15] = \"fbz\""
   ]
  },
  {
   "cell_type": "code",
   "execution_count": 58,
   "id": "8d5e0fec",
   "metadata": {},
   "outputs": [
    {
     "data": {
      "text/plain": [
       "array([['109', '119', 'fbz', '109', '128', '121', 'fiz', '103'],\n",
       "       ['104', 'fbz', 'fbz', '119', '107', 'fiz', '107', 'fiz'],\n",
       "       ['buz', '101', '103', '118', '124', 'fiz', 'fiz', '107'],\n",
       "       ['104', '109', '103', 'buz', '101', 'fbz', '118', '116'],\n",
       "       ['107', 'fiz', '119', '103', '101', 'fiz', '124', '124'],\n",
       "       ['fbz', '116', '122', '122', '113', '103', '118', '103'],\n",
       "       ['127', 'fiz', '109', 'buz', 'fiz', 'fiz', '121', 'buz'],\n",
       "       ['112', '106', '128', '104', '106', 'fiz', '103', 'buz']],\n",
       "      dtype='<U11')"
      ]
     },
     "execution_count": 58,
     "metadata": {},
     "output_type": "execute_result"
    }
   ],
   "source": [
    "result"
   ]
  },
  {
   "cell_type": "markdown",
   "id": "98383eb6",
   "metadata": {},
   "source": [
    "### Quiz2\n",
    "- 1 ~ 20 까지 랜덤한 숫자를 가지는 5*5 행렬 생성\n",
    "- 최댓값에는 MAX, 최소값에는 MIN 문자열이 들어가도록 치환하는 코드\n",
    "- 최대값과 최소값 함수\n",
    "```\n",
    "np.min(ndarray), np.max(ndarray)\n",
    "```"
   ]
  },
  {
   "cell_type": "code",
   "execution_count": 61,
   "id": "68cb6904",
   "metadata": {},
   "outputs": [
    {
     "data": {
      "text/plain": [
       "array([[ 5,  5, 13, 15, 14],\n",
       "       [ 3,  1,  4, 14,  7],\n",
       "       [ 3, 13, 12,  9,  8],\n",
       "       [ 4, 19,  1, 18,  1],\n",
       "       [15,  1,  2,  7, 12]])"
      ]
     },
     "execution_count": 61,
     "metadata": {},
     "output_type": "execute_result"
    }
   ],
   "source": [
    "datas = np.random.randint(1, 20, size=(5, 5))\n",
    "datas"
   ]
  },
  {
   "cell_type": "code",
   "execution_count": 64,
   "id": "3eb0c9b2",
   "metadata": {},
   "outputs": [
    {
     "data": {
      "text/plain": [
       "array([['5', '5', '13', '15', '14'],\n",
       "       ['3', '1', '4', '14', '7'],\n",
       "       ['3', '13', '12', '9', '8'],\n",
       "       ['4', '19', '1', '18', '1'],\n",
       "       ['15', '1', '2', '7', '12']], dtype='<U11')"
      ]
     },
     "execution_count": 64,
     "metadata": {},
     "output_type": "execute_result"
    }
   ],
   "source": [
    "result = datas.astype(str)\n",
    "result"
   ]
  },
  {
   "cell_type": "code",
   "execution_count": 70,
   "id": "46e93bf8",
   "metadata": {},
   "outputs": [],
   "source": [
    "# 최솟값, 최댓값 T,F 매트릭스 생성\n",
    "min = datas == np.min(datas)\n",
    "max = datas == np.max(datas)"
   ]
  },
  {
   "cell_type": "code",
   "execution_count": 72,
   "id": "9e899a2a",
   "metadata": {},
   "outputs": [
    {
     "data": {
      "text/plain": [
       "array([['5', '5', '13', '15', '14'],\n",
       "       ['3', 'MIN', '4', '14', '7'],\n",
       "       ['3', '13', '12', '9', '8'],\n",
       "       ['4', 'MAX', 'MIN', '18', 'MIN'],\n",
       "       ['15', 'MIN', '2', '7', '12']], dtype='<U11')"
      ]
     },
     "execution_count": 72,
     "metadata": {},
     "output_type": "execute_result"
    }
   ],
   "source": [
    "result[min] = \"MIN\"\n",
    "result[max] = \"MAX\"\n",
    "result"
   ]
  },
  {
   "cell_type": "markdown",
   "id": "f13afe73",
   "metadata": {},
   "source": [
    "### 1. linspace, logspace 함수\n",
    "- linspace : 설정한 범위에서 선형적으로 분할한 위치의 값을 출력\n",
    "- logspace : 설정한 범위에서 로그로 분할한 위치의 값을 출력"
   ]
  },
  {
   "cell_type": "code",
   "execution_count": 74,
   "id": "6aec062d",
   "metadata": {},
   "outputs": [
    {
     "data": {
      "text/plain": [
       "array([  0.,  25.,  50.,  75., 100.])"
      ]
     },
     "execution_count": 74,
     "metadata": {},
     "output_type": "execute_result"
    }
   ],
   "source": [
    "# linspace(start, end, div)\n",
    "np.linspace(0, 100, 5)"
   ]
  },
  {
   "cell_type": "code",
   "execution_count": 75,
   "id": "55fc8cb8",
   "metadata": {},
   "outputs": [
    {
     "data": {
      "text/plain": [
       "array([  100.,  1000., 10000.])"
      ]
     },
     "execution_count": 75,
     "metadata": {},
     "output_type": "execute_result"
    }
   ],
   "source": [
    "# logspace(start, end, div)\n",
    "# log10(x1)=2, log10(x2)=3, log10(x3)=4\n",
    "np.logspace(2, 4, 3)"
   ]
  },
  {
   "cell_type": "code",
   "execution_count": 76,
   "id": "c3dbe94f",
   "metadata": {},
   "outputs": [],
   "source": [
    "# 30세에 연봉이 $100000 이고, 60세의 연봉이 $1000000 일때\n",
    "# 연봉이 선형으로 증가, 지수함수로 증가하는 두 경우에서의 40세, 50세의 연봉을 출력"
   ]
  },
  {
   "cell_type": "code",
   "execution_count": 77,
   "id": "862d7063",
   "metadata": {},
   "outputs": [],
   "source": [
    "age_30 = 100000\n",
    "age_60 = 1000000"
   ]
  },
  {
   "cell_type": "code",
   "execution_count": 78,
   "id": "db7e94c2",
   "metadata": {},
   "outputs": [
    {
     "data": {
      "text/plain": [
       "array([ 100000.,  400000.,  700000., 1000000.])"
      ]
     },
     "execution_count": 78,
     "metadata": {},
     "output_type": "execute_result"
    }
   ],
   "source": [
    "np.linspace(age_30, age_60, 4)  # 30, 40,50, 60 4등분"
   ]
  },
  {
   "cell_type": "code",
   "execution_count": 83,
   "id": "d183ab48",
   "metadata": {},
   "outputs": [
    {
     "data": {
      "text/plain": [
       "array([ 100000.        ,  215443.46900319,  464158.88336128,\n",
       "       1000000.        ])"
      ]
     },
     "execution_count": 83,
     "metadata": {},
     "output_type": "execute_result"
    }
   ],
   "source": [
    "np.logspace(np.log10(age_30), np.log10(age_60), 4)"
   ]
  },
  {
   "cell_type": "markdown",
   "id": "ceb57884",
   "metadata": {},
   "source": [
    "###  2.  numpy random\n",
    "- seed : 랜덤값의 설정값\n",
    "- rand : 균등분포로 난수를 발생\n",
    "- randn : 정규분포로 난수를 발생 (**정규분포를 더 많이 씀**)\n",
    "- randint : 균등분포로 정수값을 발생\n",
    "- suffle : 행렬 데이터를 섞어 준다.\n",
    "- choice : 특정 확률로 데이터를 선택"
   ]
  },
  {
   "cell_type": "code",
   "execution_count": 85,
   "id": "2bce84ac",
   "metadata": {},
   "outputs": [
    {
     "data": {
      "text/plain": [
       "(array([47, 22, 82, 19, 85, 15, 89, 74, 26, 11]),\n",
       " array([47, 22, 82, 19, 85, 15, 89, 74, 26, 11]),\n",
       " array([50, 25, 82, 32, 53, 92, 85, 17, 44, 59]))"
      ]
     },
     "execution_count": 85,
     "metadata": {},
     "output_type": "execute_result"
    }
   ],
   "source": [
    "# seed # 객체를 바꿔주는 느낌\n",
    "np.random.seed(1)\n",
    "result1 = np.random.randint(10, 100, 10)\n",
    "\n",
    "np.random.seed(1)\n",
    "result2 = np.random.randint(10, 100, 10)\n",
    "\n",
    "np.random.seed(2)\n",
    "result3 = np.random.randint(10, 100, 10)\n",
    "\n",
    "result1, result2, result3"
   ]
  },
  {
   "cell_type": "code",
   "execution_count": 4,
   "id": "6e394217",
   "metadata": {},
   "outputs": [
    {
     "data": {
      "text/plain": [
       "array([38, 13, 73, 10, 76,  6, 80, 65, 17,  2])"
      ]
     },
     "execution_count": 4,
     "metadata": {},
     "output_type": "execute_result"
    }
   ],
   "source": [
    "ra = np.random\n",
    "ra.seed(1)\n",
    "result = ra.randint(1, 100, 10)\n",
    "result"
   ]
  },
  {
   "cell_type": "code",
   "execution_count": 104,
   "id": "af165de7",
   "metadata": {},
   "outputs": [
    {
     "data": {
      "text/plain": [
       "array([0.57027421, 0.91671461, 0.70226424, 0.50121645, 0.50608683,\n",
       "       0.21882079, 0.00466352, 0.41783624, 0.56337611, 0.87656187])"
      ]
     },
     "execution_count": 104,
     "metadata": {},
     "output_type": "execute_result"
    }
   ],
   "source": [
    "# rand 0~1균등분포\n",
    "np.random.rand(10)"
   ]
  },
  {
   "cell_type": "code",
   "execution_count": 20,
   "id": "1c349ff1",
   "metadata": {},
   "outputs": [
    {
     "data": {
      "text/plain": [
       "array([ 0.86888616,  0.75041164,  0.52946532,  0.13770121,  0.07782113,\n",
       "        0.61838026,  0.23249456,  0.68255141, -0.31011677, -2.43483776,\n",
       "        1.0388246 ,  2.18697965,  0.44136444, -0.10015523, -0.13644474,\n",
       "       -0.11905419,  0.01740941, -1.12201873, -0.51709446, -0.99702683,\n",
       "        0.24879916, -0.29664115,  0.49521132, -0.17470316,  0.98633519,\n",
       "        0.2135339 ,  2.19069973, -1.89636092, -0.64691669,  0.90148689])"
      ]
     },
     "execution_count": 20,
     "metadata": {},
     "output_type": "execute_result"
    }
   ],
   "source": [
    "# randn 0과 가깝게 정규분포로 출력\n",
    "np.random.randn(30)"
   ]
  },
  {
   "cell_type": "code",
   "execution_count": 21,
   "id": "fed56a6c",
   "metadata": {},
   "outputs": [
    {
     "data": {
      "text/plain": [
       "array([[7, 5, 8, 7],\n",
       "       [3, 6, 9, 7],\n",
       "       [5, 3, 5, 1]])"
      ]
     },
     "execution_count": 21,
     "metadata": {},
     "output_type": "execute_result"
    }
   ],
   "source": [
    "# shuffle # 행렬의 순서만 바꿈\n",
    "r = np.random.randint(1, 10, (3, 4))\n",
    "r"
   ]
  },
  {
   "cell_type": "code",
   "execution_count": 22,
   "id": "f941dddf",
   "metadata": {},
   "outputs": [
    {
     "data": {
      "text/plain": [
       "array([[3, 6, 9, 7],\n",
       "       [5, 3, 5, 1],\n",
       "       [7, 5, 8, 7]])"
      ]
     },
     "execution_count": 22,
     "metadata": {},
     "output_type": "execute_result"
    }
   ],
   "source": [
    "# 값을 다 바꾸는게 아니라 리스트 순서를 바꿈\n",
    "np.random.shuffle(r)\n",
    "r"
   ]
  },
  {
   "cell_type": "code",
   "execution_count": 44,
   "id": "105239d0",
   "metadata": {},
   "outputs": [
    {
     "data": {
      "text/plain": [
       "array([[5, 1, 7, 6],\n",
       "       [3, 7, 5, 8],\n",
       "       [7, 3, 9, 5]])"
      ]
     },
     "execution_count": 44,
     "metadata": {},
     "output_type": "execute_result"
    }
   ],
   "source": [
    "# 리스트를 한줄로 변경한뒤 셔플 후 다시 리스트 리쉐이프로 변경\n",
    "r = r.reshape(12,1)\n",
    "np.random.shuffle(r)\n",
    "r = r.reshape(3,4)\n",
    "r"
   ]
  },
  {
   "cell_type": "code",
   "execution_count": 46,
   "id": "9c92f10a",
   "metadata": {},
   "outputs": [
    {
     "data": {
      "text/plain": [
       "array([3, 3, 4, 2, 4, 4, 2, 2, 4, 3, 2, 2, 2, 2, 3, 4, 2, 4, 2, 4, 2, 2,\n",
       "       2, 0, 2, 3, 4, 4, 2, 4])"
      ]
     },
     "execution_count": 46,
     "metadata": {},
     "output_type": "execute_result"
    }
   ],
   "source": [
    "# choice # p 합은 1이 되야함 p는 확률\n",
    "# choice(0~range, size, p)\n",
    "np.random.choice(5, 30, p=[0.1, 0, 0.4, 0.2, 0.3])"
   ]
  },
  {
   "cell_type": "code",
   "execution_count": 47,
   "id": "36facb73",
   "metadata": {},
   "outputs": [
    {
     "data": {
      "text/plain": [
       "array([1, 3, 5, 6, 7, 8, 9])"
      ]
     },
     "execution_count": 47,
     "metadata": {},
     "output_type": "execute_result"
    }
   ],
   "source": [
    "# unique 유일한 값들을 뽑아줌\n",
    "np.unique(r)"
   ]
  },
  {
   "cell_type": "code",
   "execution_count": 53,
   "id": "a028e915",
   "metadata": {},
   "outputs": [
    {
     "name": "stdout",
     "output_type": "stream",
     "text": [
      "[1 3 5 6 7 8 9]\n",
      "[1 2 3 1 3 1 1]\n"
     ]
    }
   ],
   "source": [
    "# unique 옵션 사용\n",
    "\n",
    "numbers, counts = np.unique(r, return_counts=True)\n",
    "print(numbers)\n",
    "print(counts)"
   ]
  },
  {
   "cell_type": "markdown",
   "id": "70f98374",
   "metadata": {},
   "source": [
    "### 3. 행렬 데이터의 결합\n",
    "- concatenate"
   ]
  },
  {
   "cell_type": "code",
   "execution_count": 55,
   "id": "feda3085",
   "metadata": {},
   "outputs": [],
   "source": [
    "na1 = np.random.randint(10, size=(2, 3))\n",
    "na2 = np.random.randint(10, size=(3, 2))\n",
    "na3 = np.random.randint(10, size=(3, 3))"
   ]
  },
  {
   "cell_type": "code",
   "execution_count": 160,
   "id": "337c1e87",
   "metadata": {},
   "outputs": [
    {
     "data": {
      "text/plain": [
       "(array([[4, 8, 6],\n",
       "        [8, 6, 4]]),\n",
       " array([[0, 2, 3],\n",
       "        [0, 1, 1],\n",
       "        [9, 6, 2]]))"
      ]
     },
     "execution_count": 160,
     "metadata": {},
     "output_type": "execute_result"
    }
   ],
   "source": [
    "# 세로 결합 size = ( a * b) b의 갯수 같아야 세로 결합 가능\n",
    "na1, na3"
   ]
  },
  {
   "cell_type": "code",
   "execution_count": 161,
   "id": "823d3c00",
   "metadata": {},
   "outputs": [
    {
     "data": {
      "text/plain": [
       "array([[4, 8, 6],\n",
       "       [8, 6, 4],\n",
       "       [0, 2, 3],\n",
       "       [0, 1, 1],\n",
       "       [9, 6, 2]])"
      ]
     },
     "execution_count": 161,
     "metadata": {},
     "output_type": "execute_result"
    }
   ],
   "source": [
    "np.concatenate((na1, na3))"
   ]
  },
  {
   "cell_type": "code",
   "execution_count": 57,
   "id": "eca57ae5",
   "metadata": {},
   "outputs": [
    {
     "data": {
      "text/plain": [
       "(array([[1, 3],\n",
       "        [2, 6],\n",
       "        [3, 6]]),\n",
       " array([[7, 2, 8],\n",
       "        [0, 1, 8],\n",
       "        [6, 0, 0]]))"
      ]
     },
     "execution_count": 57,
     "metadata": {},
     "output_type": "execute_result"
    }
   ],
   "source": [
    "na2, na3"
   ]
  },
  {
   "cell_type": "code",
   "execution_count": 58,
   "id": "e8b6bdd6",
   "metadata": {},
   "outputs": [
    {
     "data": {
      "text/plain": [
       "array([[1, 3, 7, 2, 8],\n",
       "       [2, 6, 0, 1, 8],\n",
       "       [3, 6, 6, 0, 0]])"
      ]
     },
     "execution_count": 58,
     "metadata": {},
     "output_type": "execute_result"
    }
   ],
   "source": [
    "# 가로 결합 axis : 축, size = (a * b) a값이 같아야 결합 가능\n",
    "np.concatenate((na2, na3), axis=1)"
   ]
  },
  {
   "cell_type": "code",
   "execution_count": 165,
   "id": "5c77cba5",
   "metadata": {},
   "outputs": [
    {
     "data": {
      "text/plain": [
       "array([[1, 4],\n",
       "       [2, 5],\n",
       "       [3, 6]])"
      ]
     },
     "execution_count": 165,
     "metadata": {},
     "output_type": "execute_result"
    }
   ],
   "source": [
    "# c_, r_\n",
    "np.c_[np.array([1, 2, 3]), np.array([4, 5, 6])]"
   ]
  },
  {
   "cell_type": "code",
   "execution_count": 166,
   "id": "0eb51e80",
   "metadata": {},
   "outputs": [
    {
     "data": {
      "text/plain": [
       "array([1, 2, 3, 4, 5, 6])"
      ]
     },
     "execution_count": 166,
     "metadata": {},
     "output_type": "execute_result"
    }
   ],
   "source": [
    "np.r_[np.array([1, 2, 3]), np.array([4, 5, 6])]"
   ]
  },
  {
   "cell_type": "code",
   "execution_count": 167,
   "id": "ba85626a",
   "metadata": {},
   "outputs": [],
   "source": [
    "# split, var, std, mean ..."
   ]
  },
  {
   "cell_type": "code",
   "execution_count": null,
   "id": "b38c48d0",
   "metadata": {},
   "outputs": [],
   "source": []
  }
 ],
 "metadata": {
  "kernelspec": {
   "display_name": "Python 3",
   "language": "python",
   "name": "python3"
  },
  "language_info": {
   "codemirror_mode": {
    "name": "ipython",
    "version": 3
   },
   "file_extension": ".py",
   "mimetype": "text/x-python",
   "name": "python",
   "nbconvert_exporter": "python",
   "pygments_lexer": "ipython3",
   "version": "3.8.8"
  }
 },
 "nbformat": 4,
 "nbformat_minor": 5
}
